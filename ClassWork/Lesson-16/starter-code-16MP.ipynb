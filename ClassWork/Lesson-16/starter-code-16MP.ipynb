{
 "cells": [
  {
   "cell_type": "code",
   "execution_count": 127,
   "metadata": {
    "collapsed": true
   },
   "outputs": [],
   "source": [
    "import pandas as pd\n",
    "import numpy as np\n",
    "import matplotlib.pyplot as plt\n",
    "\n",
    "%matplotlib inline"
   ]
  },
  {
   "cell_type": "markdown",
   "metadata": {},
   "source": [
    "### Walmart Sales Data\n",
    "\n",
    "For the independent practice, we will analyze the weekly sales data from Walmart over a two year period from 2010 to 2012.\n",
    "\n",
    "The data is again separated by store and by department, but we will focus on analyzing one store for simplicity.\n",
    "\n",
    "The data includes:\n",
    "\n",
    "- Store - the store number\n",
    "- Dept - the department number\n",
    "- Date - the week\n",
    "- Weekly_Sales -  sales for the given department in the given store\n",
    "- IsHoliday - whether the week is a special holiday week\n"
   ]
  },
  {
   "cell_type": "markdown",
   "metadata": {},
   "source": [
    "#### Loading the data and setting the DateTimeIndex"
   ]
  },
  {
   "cell_type": "code",
   "execution_count": 128,
   "metadata": {
    "collapsed": false
   },
   "outputs": [
    {
     "data": {
      "text/html": [
       "<div>\n",
       "<table border=\"1\" class=\"dataframe\">\n",
       "  <thead>\n",
       "    <tr style=\"text-align: right;\">\n",
       "      <th></th>\n",
       "      <th>Store</th>\n",
       "      <th>Dept</th>\n",
       "      <th>Weekly_Sales</th>\n",
       "      <th>IsHoliday</th>\n",
       "    </tr>\n",
       "    <tr>\n",
       "      <th>Date</th>\n",
       "      <th></th>\n",
       "      <th></th>\n",
       "      <th></th>\n",
       "      <th></th>\n",
       "    </tr>\n",
       "  </thead>\n",
       "  <tbody>\n",
       "    <tr>\n",
       "      <th>2010-02-05</th>\n",
       "      <td>1</td>\n",
       "      <td>1</td>\n",
       "      <td>24924.50</td>\n",
       "      <td>False</td>\n",
       "    </tr>\n",
       "    <tr>\n",
       "      <th>2010-02-12</th>\n",
       "      <td>1</td>\n",
       "      <td>1</td>\n",
       "      <td>46039.49</td>\n",
       "      <td>True</td>\n",
       "    </tr>\n",
       "    <tr>\n",
       "      <th>2010-02-19</th>\n",
       "      <td>1</td>\n",
       "      <td>1</td>\n",
       "      <td>41595.55</td>\n",
       "      <td>False</td>\n",
       "    </tr>\n",
       "    <tr>\n",
       "      <th>2010-02-26</th>\n",
       "      <td>1</td>\n",
       "      <td>1</td>\n",
       "      <td>19403.54</td>\n",
       "      <td>False</td>\n",
       "    </tr>\n",
       "    <tr>\n",
       "      <th>2010-03-05</th>\n",
       "      <td>1</td>\n",
       "      <td>1</td>\n",
       "      <td>21827.90</td>\n",
       "      <td>False</td>\n",
       "    </tr>\n",
       "  </tbody>\n",
       "</table>\n",
       "</div>"
      ],
      "text/plain": [
       "            Store  Dept  Weekly_Sales IsHoliday\n",
       "Date                                           \n",
       "2010-02-05      1     1      24924.50     False\n",
       "2010-02-12      1     1      46039.49      True\n",
       "2010-02-19      1     1      41595.55     False\n",
       "2010-02-26      1     1      19403.54     False\n",
       "2010-03-05      1     1      21827.90     False"
      ]
     },
     "execution_count": 128,
     "metadata": {},
     "output_type": "execute_result"
    }
   ],
   "source": [
    "data = pd.read_csv('dataset/train.csv')\n",
    "data['Date'] = pd.to_datetime(data['Date'])\n",
    "data.set_index('Date', inplace=True)\n",
    "data.head()"
   ]
  },
  {
   "cell_type": "markdown",
   "metadata": {},
   "source": [
    "#### Filter the dataframe to Store 1 sales and aggregate over departments to compute the total sales per store."
   ]
  },
  {
   "cell_type": "code",
   "execution_count": 129,
   "metadata": {
    "collapsed": false
   },
   "outputs": [
    {
     "data": {
      "text/html": [
       "<div>\n",
       "<table border=\"1\" class=\"dataframe\">\n",
       "  <thead>\n",
       "    <tr style=\"text-align: right;\">\n",
       "      <th></th>\n",
       "      <th>Weekly_Sales</th>\n",
       "    </tr>\n",
       "    <tr>\n",
       "      <th>Date</th>\n",
       "      <th></th>\n",
       "    </tr>\n",
       "  </thead>\n",
       "  <tbody>\n",
       "    <tr>\n",
       "      <th>2010-02-07</th>\n",
       "      <td>1643690.90</td>\n",
       "    </tr>\n",
       "    <tr>\n",
       "      <th>2010-02-14</th>\n",
       "      <td>1641957.44</td>\n",
       "    </tr>\n",
       "    <tr>\n",
       "      <th>2010-02-21</th>\n",
       "      <td>1611968.17</td>\n",
       "    </tr>\n",
       "    <tr>\n",
       "      <th>2010-02-28</th>\n",
       "      <td>1409727.59</td>\n",
       "    </tr>\n",
       "    <tr>\n",
       "      <th>2010-03-07</th>\n",
       "      <td>1554806.68</td>\n",
       "    </tr>\n",
       "    <tr>\n",
       "      <th>2010-03-14</th>\n",
       "      <td>1439541.59</td>\n",
       "    </tr>\n",
       "    <tr>\n",
       "      <th>2010-03-21</th>\n",
       "      <td>1472515.79</td>\n",
       "    </tr>\n",
       "    <tr>\n",
       "      <th>2010-03-28</th>\n",
       "      <td>1404429.92</td>\n",
       "    </tr>\n",
       "    <tr>\n",
       "      <th>2010-04-04</th>\n",
       "      <td>1594968.28</td>\n",
       "    </tr>\n",
       "    <tr>\n",
       "      <th>2010-04-11</th>\n",
       "      <td>1545418.53</td>\n",
       "    </tr>\n",
       "    <tr>\n",
       "      <th>2010-04-18</th>\n",
       "      <td>1466058.28</td>\n",
       "    </tr>\n",
       "    <tr>\n",
       "      <th>2010-04-25</th>\n",
       "      <td>1391256.12</td>\n",
       "    </tr>\n",
       "    <tr>\n",
       "      <th>2010-05-02</th>\n",
       "      <td>1425100.71</td>\n",
       "    </tr>\n",
       "    <tr>\n",
       "      <th>2010-05-09</th>\n",
       "      <td>1603955.12</td>\n",
       "    </tr>\n",
       "    <tr>\n",
       "      <th>2010-05-16</th>\n",
       "      <td>1494251.50</td>\n",
       "    </tr>\n",
       "    <tr>\n",
       "      <th>2010-05-23</th>\n",
       "      <td>1399662.07</td>\n",
       "    </tr>\n",
       "    <tr>\n",
       "      <th>2010-05-30</th>\n",
       "      <td>1432069.95</td>\n",
       "    </tr>\n",
       "    <tr>\n",
       "      <th>2010-06-06</th>\n",
       "      <td>1615524.71</td>\n",
       "    </tr>\n",
       "    <tr>\n",
       "      <th>2010-06-13</th>\n",
       "      <td>1542561.09</td>\n",
       "    </tr>\n",
       "    <tr>\n",
       "      <th>2010-06-20</th>\n",
       "      <td>1503284.06</td>\n",
       "    </tr>\n",
       "    <tr>\n",
       "      <th>2010-06-27</th>\n",
       "      <td>1422711.60</td>\n",
       "    </tr>\n",
       "    <tr>\n",
       "      <th>2010-07-04</th>\n",
       "      <td>1492418.14</td>\n",
       "    </tr>\n",
       "    <tr>\n",
       "      <th>2010-07-11</th>\n",
       "      <td>1546074.18</td>\n",
       "    </tr>\n",
       "    <tr>\n",
       "      <th>2010-07-18</th>\n",
       "      <td>1448938.92</td>\n",
       "    </tr>\n",
       "    <tr>\n",
       "      <th>2010-07-25</th>\n",
       "      <td>1385065.20</td>\n",
       "    </tr>\n",
       "    <tr>\n",
       "      <th>2010-08-01</th>\n",
       "      <td>1371986.60</td>\n",
       "    </tr>\n",
       "    <tr>\n",
       "      <th>2010-08-08</th>\n",
       "      <td>1605491.78</td>\n",
       "    </tr>\n",
       "    <tr>\n",
       "      <th>2010-08-15</th>\n",
       "      <td>1508237.76</td>\n",
       "    </tr>\n",
       "    <tr>\n",
       "      <th>2010-08-22</th>\n",
       "      <td>1513080.49</td>\n",
       "    </tr>\n",
       "    <tr>\n",
       "      <th>2010-08-29</th>\n",
       "      <td>1449142.92</td>\n",
       "    </tr>\n",
       "    <tr>\n",
       "      <th>...</th>\n",
       "      <td>...</td>\n",
       "    </tr>\n",
       "    <tr>\n",
       "      <th>2012-04-08</th>\n",
       "      <td>1899676.88</td>\n",
       "    </tr>\n",
       "    <tr>\n",
       "      <th>2012-04-15</th>\n",
       "      <td>1621031.70</td>\n",
       "    </tr>\n",
       "    <tr>\n",
       "      <th>2012-04-22</th>\n",
       "      <td>1521577.87</td>\n",
       "    </tr>\n",
       "    <tr>\n",
       "      <th>2012-04-29</th>\n",
       "      <td>1468928.37</td>\n",
       "    </tr>\n",
       "    <tr>\n",
       "      <th>2012-05-06</th>\n",
       "      <td>1684519.99</td>\n",
       "    </tr>\n",
       "    <tr>\n",
       "      <th>2012-05-13</th>\n",
       "      <td>1611096.05</td>\n",
       "    </tr>\n",
       "    <tr>\n",
       "      <th>2012-05-20</th>\n",
       "      <td>1595901.87</td>\n",
       "    </tr>\n",
       "    <tr>\n",
       "      <th>2012-05-27</th>\n",
       "      <td>1555444.55</td>\n",
       "    </tr>\n",
       "    <tr>\n",
       "      <th>2012-06-03</th>\n",
       "      <td>1624477.58</td>\n",
       "    </tr>\n",
       "    <tr>\n",
       "      <th>2012-06-10</th>\n",
       "      <td>1697230.96</td>\n",
       "    </tr>\n",
       "    <tr>\n",
       "      <th>2012-06-17</th>\n",
       "      <td>1630607.00</td>\n",
       "    </tr>\n",
       "    <tr>\n",
       "      <th>2012-06-24</th>\n",
       "      <td>1527845.81</td>\n",
       "    </tr>\n",
       "    <tr>\n",
       "      <th>2012-07-01</th>\n",
       "      <td>1540421.49</td>\n",
       "    </tr>\n",
       "    <tr>\n",
       "      <th>2012-07-08</th>\n",
       "      <td>1769854.16</td>\n",
       "    </tr>\n",
       "    <tr>\n",
       "      <th>2012-07-15</th>\n",
       "      <td>1527014.04</td>\n",
       "    </tr>\n",
       "    <tr>\n",
       "      <th>2012-07-22</th>\n",
       "      <td>1497954.76</td>\n",
       "    </tr>\n",
       "    <tr>\n",
       "      <th>2012-07-29</th>\n",
       "      <td>1439123.71</td>\n",
       "    </tr>\n",
       "    <tr>\n",
       "      <th>2012-08-05</th>\n",
       "      <td>1631135.79</td>\n",
       "    </tr>\n",
       "    <tr>\n",
       "      <th>2012-08-12</th>\n",
       "      <td>1592409.97</td>\n",
       "    </tr>\n",
       "    <tr>\n",
       "      <th>2012-08-19</th>\n",
       "      <td>1597868.05</td>\n",
       "    </tr>\n",
       "    <tr>\n",
       "      <th>2012-08-26</th>\n",
       "      <td>1494122.38</td>\n",
       "    </tr>\n",
       "    <tr>\n",
       "      <th>2012-09-02</th>\n",
       "      <td>1582083.40</td>\n",
       "    </tr>\n",
       "    <tr>\n",
       "      <th>2012-09-09</th>\n",
       "      <td>1661767.33</td>\n",
       "    </tr>\n",
       "    <tr>\n",
       "      <th>2012-09-16</th>\n",
       "      <td>1517428.87</td>\n",
       "    </tr>\n",
       "    <tr>\n",
       "      <th>2012-09-23</th>\n",
       "      <td>1506126.06</td>\n",
       "    </tr>\n",
       "    <tr>\n",
       "      <th>2012-09-30</th>\n",
       "      <td>1437059.26</td>\n",
       "    </tr>\n",
       "    <tr>\n",
       "      <th>2012-10-07</th>\n",
       "      <td>1670785.97</td>\n",
       "    </tr>\n",
       "    <tr>\n",
       "      <th>2012-10-14</th>\n",
       "      <td>1573072.81</td>\n",
       "    </tr>\n",
       "    <tr>\n",
       "      <th>2012-10-21</th>\n",
       "      <td>1508068.77</td>\n",
       "    </tr>\n",
       "    <tr>\n",
       "      <th>2012-10-28</th>\n",
       "      <td>1493659.74</td>\n",
       "    </tr>\n",
       "  </tbody>\n",
       "</table>\n",
       "<p>143 rows × 1 columns</p>\n",
       "</div>"
      ],
      "text/plain": [
       "            Weekly_Sales\n",
       "Date                    \n",
       "2010-02-07    1643690.90\n",
       "2010-02-14    1641957.44\n",
       "2010-02-21    1611968.17\n",
       "2010-02-28    1409727.59\n",
       "2010-03-07    1554806.68\n",
       "2010-03-14    1439541.59\n",
       "2010-03-21    1472515.79\n",
       "2010-03-28    1404429.92\n",
       "2010-04-04    1594968.28\n",
       "2010-04-11    1545418.53\n",
       "2010-04-18    1466058.28\n",
       "2010-04-25    1391256.12\n",
       "2010-05-02    1425100.71\n",
       "2010-05-09    1603955.12\n",
       "2010-05-16    1494251.50\n",
       "2010-05-23    1399662.07\n",
       "2010-05-30    1432069.95\n",
       "2010-06-06    1615524.71\n",
       "2010-06-13    1542561.09\n",
       "2010-06-20    1503284.06\n",
       "2010-06-27    1422711.60\n",
       "2010-07-04    1492418.14\n",
       "2010-07-11    1546074.18\n",
       "2010-07-18    1448938.92\n",
       "2010-07-25    1385065.20\n",
       "2010-08-01    1371986.60\n",
       "2010-08-08    1605491.78\n",
       "2010-08-15    1508237.76\n",
       "2010-08-22    1513080.49\n",
       "2010-08-29    1449142.92\n",
       "...                  ...\n",
       "2012-04-08    1899676.88\n",
       "2012-04-15    1621031.70\n",
       "2012-04-22    1521577.87\n",
       "2012-04-29    1468928.37\n",
       "2012-05-06    1684519.99\n",
       "2012-05-13    1611096.05\n",
       "2012-05-20    1595901.87\n",
       "2012-05-27    1555444.55\n",
       "2012-06-03    1624477.58\n",
       "2012-06-10    1697230.96\n",
       "2012-06-17    1630607.00\n",
       "2012-06-24    1527845.81\n",
       "2012-07-01    1540421.49\n",
       "2012-07-08    1769854.16\n",
       "2012-07-15    1527014.04\n",
       "2012-07-22    1497954.76\n",
       "2012-07-29    1439123.71\n",
       "2012-08-05    1631135.79\n",
       "2012-08-12    1592409.97\n",
       "2012-08-19    1597868.05\n",
       "2012-08-26    1494122.38\n",
       "2012-09-02    1582083.40\n",
       "2012-09-09    1661767.33\n",
       "2012-09-16    1517428.87\n",
       "2012-09-23    1506126.06\n",
       "2012-09-30    1437059.26\n",
       "2012-10-07    1670785.97\n",
       "2012-10-14    1573072.81\n",
       "2012-10-21    1508068.77\n",
       "2012-10-28    1493659.74\n",
       "\n",
       "[143 rows x 1 columns]"
      ]
     },
     "execution_count": 129,
     "metadata": {},
     "output_type": "execute_result"
    }
   ],
   "source": [
    "store1 = data[data.Store == 1]\n",
    "store1_weekly = pd.DataFrame(store1.Weekly_Sales.resample(\"W\",\"sum\"))\n",
    "store1_weekly"
   ]
  },
  {
   "cell_type": "markdown",
   "metadata": {},
   "source": [
    "#### Plot the rolling_mean for `Weekly_Sales`. What general trends do you observe?"
   ]
  },
  {
   "cell_type": "code",
   "execution_count": 130,
   "metadata": {
    "collapsed": false
   },
   "outputs": [],
   "source": [
    "store1_weekly[\"30dayavg\"] = pd.rolling_mean(store1_weekly[\"Weekly_Sales\"],30)\n",
    "store1_weekly[\"15dayavg\"] = pd.rolling_mean(store1_weekly[\"Weekly_Sales\"],15)"
   ]
  },
  {
   "cell_type": "code",
   "execution_count": 131,
   "metadata": {
    "collapsed": false
   },
   "outputs": [
    {
     "data": {
      "text/plain": [
       "[<matplotlib.lines.Line2D at 0x112d05650>]"
      ]
     },
     "execution_count": 131,
     "metadata": {},
     "output_type": "execute_result"
    },
    {
     "data": {
      "image/png": "[encoded data removed]",
      "text/plain": [
       "<matplotlib.figure.Figure at 0x120f63450>"
      ]
     },
     "metadata": {},
     "output_type": "display_data"
    }
   ],
   "source": [
    "fig1, (ax1,ax2) = plt.subplots(nrows=1,ncols=2,figsize=(16,6))\n",
    "ax1.plot(store1_weekly[\"30dayavg\"])\n",
    "ax2.plot(store1_weekly[\"15dayavg\"])"
   ]
  },
  {
   "cell_type": "markdown",
   "metadata": {},
   "source": [
    "<font color=\"red\">Sales are increasing and they tend to increase in the summer.</font>"
   ]
  },
  {
   "cell_type": "markdown",
   "metadata": {
    "collapsed": true
   },
   "source": [
    "#### Compute the 1, 2, 52 autocorrelations for `Weekly_Sales` and/or create an autocorrelation plot."
   ]
  },
  {
   "cell_type": "code",
   "execution_count": 132,
   "metadata": {
    "collapsed": false
   },
   "outputs": [
    {
     "name": "stdout",
     "output_type": "stream",
     "text": [
      "The autocorrelation for 1 days is 0.302158\n",
      "The autocorrelation for 2 days is 0.127413\n",
      "The autocorrelation for 7 days is 0.043880\n",
      "The autocorrelation for 52 days is 0.895376\n"
     ]
    }
   ],
   "source": [
    "auto_corr = [1,2,7,52]\n",
    "for j in auto_corr:\n",
    "    acorr = store1_weekly[\"Weekly_Sales\"].autocorr(j)\n",
    "    print(\"The autocorrelation for %i days is %f\" % (j,acorr))"
   ]
  },
  {
   "cell_type": "code",
   "execution_count": 133,
   "metadata": {
    "collapsed": false
   },
   "outputs": [
    {
     "data": {
      "text/plain": [
       "<matplotlib.axes._subplots.AxesSubplot at 0x120ff1d10>"
      ]
     },
     "execution_count": 133,
     "metadata": {},
     "output_type": "execute_result"
    },
    {
     "data": {
      "image/png": "[encoded data removed]",
      "text/plain": [
       "<matplotlib.figure.Figure at 0x114cbc0d0>"
      ]
     },
     "metadata": {},
     "output_type": "display_data"
    }
   ],
   "source": [
    "from pandas.tools.plotting import autocorrelation_plot\n",
    "\n",
    "autocorrelation_plot(store1_weekly['Weekly_Sales'])"
   ]
  },
  {
   "cell_type": "code",
   "execution_count": 134,
   "metadata": {
    "collapsed": false
   },
   "outputs": [
    {
     "data": {
      "image/png": "[encoded data removed]",
      "text/plain": [
       "<matplotlib.figure.Figure at 0x120f63950>"
      ]
     },
     "metadata": {},
     "output_type": "display_data"
    }
   ],
   "source": [
    "plt.acorr(\"Weekly_Sales\",data=store1_weekly)\n",
    "plt.show()"
   ]
  },
  {
   "cell_type": "markdown",
   "metadata": {},
   "source": [
    "#### Split the weekly sales data in a training and test set - using 75% of the data for training"
   ]
  },
  {
   "cell_type": "code",
   "execution_count": 135,
   "metadata": {
    "collapsed": false
   },
   "outputs": [
    {
     "name": "stdout",
     "output_type": "stream",
     "text": [
      "Weekly_Sales    1643690.9\n",
      "30dayavg              NaN\n",
      "15dayavg              NaN\n",
      "Name: 2010-02-07 00:00:00, dtype: float64\n",
      "Weekly_Sales    1539387.830000\n",
      "30dayavg        1600539.626333\n",
      "15dayavg        1675144.300000\n",
      "Name: 2012-02-26 00:00:00, dtype: float64\n"
     ]
    }
   ],
   "source": [
    "train_num = round(len(store1_weekly)*.75,0)\n",
    "train_weekly = store1_weekly[0:108]\n",
    "test_weekly = store1_weekly[109:]\n",
    "print train_weekly.ix[0]\n",
    "print train_weekly.ix[107]"
   ]
  },
  {
   "cell_type": "markdown",
   "metadata": {},
   "source": [
    "#### Create an AR(1) model on the training data and compute the mean absolute error of the predictions."
   ]
  },
  {
   "cell_type": "code",
   "execution_count": 136,
   "metadata": {
    "collapsed": true
   },
   "outputs": [],
   "source": [
    "import statsmodels.api as sm\n",
    "from sklearn.metrics import mean_absolute_error"
   ]
  },
  {
   "cell_type": "code",
   "execution_count": 137,
   "metadata": {
    "collapsed": false
   },
   "outputs": [],
   "source": [
    "#We can use ARIMA and just model it without using d and q\n",
    "train_model = sm.tsa.ARIMA(train_weekly[\"Weekly_Sales\"],(1,0,0)).fit()"
   ]
  },
  {
   "cell_type": "code",
   "execution_count": 138,
   "metadata": {
    "collapsed": false
   },
   "outputs": [],
   "source": [
    "train_results = train_model.predict(\"2010-02-07\",\"2012-02-26\",dynamic=False)"
   ]
  },
  {
   "cell_type": "code",
   "execution_count": 139,
   "metadata": {
    "collapsed": false
   },
   "outputs": [
    {
     "name": "stdout",
     "output_type": "stream",
     "text": [
      "Our mean absolute error is:  110475.388966\n"
     ]
    }
   ],
   "source": [
    "print \"Our mean absolute error is: \",mean_absolute_error(train_weekly[\"Weekly_Sales\"],train_results)"
   ]
  },
  {
   "cell_type": "code",
   "execution_count": 140,
   "metadata": {
    "collapsed": false
   },
   "outputs": [
    {
     "data": {
      "text/html": [
       "<table class=\"simpletable\">\n",
       "<caption>ARMA Model Results</caption>\n",
       "<tr>\n",
       "  <th>Dep. Variable:</th>   <td>Weekly_Sales</td>   <th>  No. Observations:  </th>     <td>108</td>   \n",
       "</tr>\n",
       "<tr>\n",
       "  <th>Model:</th>            <td>ARMA(1, 0)</td>    <th>  Log Likelihood     </th>  <td>-1447.727</td>\n",
       "</tr>\n",
       "<tr>\n",
       "  <th>Method:</th>             <td>css-mle</td>     <th>  S.D. of innovations</th> <td>160409.075</td>\n",
       "</tr>\n",
       "<tr>\n",
       "  <th>Date:</th>          <td>Thu, 10 Mar 2016</td> <th>  AIC                </th>  <td>2901.454</td> \n",
       "</tr>\n",
       "<tr>\n",
       "  <th>Time:</th>              <td>21:35:07</td>     <th>  BIC                </th>  <td>2909.500</td> \n",
       "</tr>\n",
       "<tr>\n",
       "  <th>Sample:</th>           <td>02-07-2010</td>    <th>  HQIC               </th>  <td>2904.716</td> \n",
       "</tr>\n",
       "<tr>\n",
       "  <th></th>                 <td>- 02-26-2012</td>   <th>                     </th>      <td> </td>    \n",
       "</tr>\n",
       "</table>\n",
       "<table class=\"simpletable\">\n",
       "<tr>\n",
       "           <td></td>             <th>coef</th>     <th>std err</th>      <th>z</th>      <th>P>|z|</th> <th>[95.0% Conf. Int.]</th> \n",
       "</tr>\n",
       "<tr>\n",
       "  <th>const</th>              <td> 1.544e+06</td> <td> 2.22e+04</td> <td>   69.636</td> <td> 0.000</td> <td>  1.5e+06  1.59e+06</td>\n",
       "</tr>\n",
       "<tr>\n",
       "  <th>ar.L1.Weekly_Sales</th> <td>    0.3066</td> <td>    0.091</td> <td>    3.363</td> <td> 0.001</td> <td>    0.128     0.485</td>\n",
       "</tr>\n",
       "</table>\n",
       "<table class=\"simpletable\">\n",
       "<caption>Roots</caption>\n",
       "<tr>\n",
       "    <td></td>   <th>           Real</th> <th>         Imaginary</th> <th>         Modulus</th> <th>        Frequency</th>\n",
       "</tr>\n",
       "<tr>\n",
       "  <th>AR.1</th>               3.2621                    +0.0000j                    3.2621                    0.0000     \n",
       "</tr>\n",
       "</table>"
      ],
      "text/plain": [
       "<class 'statsmodels.iolib.summary.Summary'>\n",
       "\"\"\"\n",
       "                              ARMA Model Results                              \n",
       "==============================================================================\n",
       "Dep. Variable:           Weekly_Sales   No. Observations:                  108\n",
       "Model:                     ARMA(1, 0)   Log Likelihood               -1447.727\n",
       "Method:                       css-mle   S.D. of innovations         160409.075\n",
       "Date:                Thu, 10 Mar 2016   AIC                           2901.454\n",
       "Time:                        21:35:07   BIC                           2909.500\n",
       "Sample:                    02-07-2010   HQIC                          2904.716\n",
       "                         - 02-26-2012                                         \n",
       "======================================================================================\n",
       "                         coef    std err          z      P>|z|      [95.0% Conf. Int.]\n",
       "--------------------------------------------------------------------------------------\n",
       "const               1.544e+06   2.22e+04     69.636      0.000       1.5e+06  1.59e+06\n",
       "ar.L1.Weekly_Sales     0.3066      0.091      3.363      0.001         0.128     0.485\n",
       "                                    Roots                                    \n",
       "=============================================================================\n",
       "                 Real           Imaginary           Modulus         Frequency\n",
       "-----------------------------------------------------------------------------\n",
       "AR.1            3.2621           +0.0000j            3.2621            0.0000\n",
       "-----------------------------------------------------------------------------\n",
       "\"\"\""
      ]
     },
     "execution_count": 140,
     "metadata": {},
     "output_type": "execute_result"
    }
   ],
   "source": [
    "train_model.summary()"
   ]
  },
  {
   "cell_type": "markdown",
   "metadata": {},
   "source": [
    "#### Plot the residuals - where are their significant errors."
   ]
  },
  {
   "cell_type": "code",
   "execution_count": 141,
   "metadata": {
    "collapsed": false
   },
   "outputs": [
    {
     "data": {
      "text/plain": [
       "<matplotlib.axes._subplots.AxesSubplot at 0x1191a8f10>"
      ]
     },
     "execution_count": 141,
     "metadata": {},
     "output_type": "execute_result"
    },
    {
     "data": {
      "image/png": "[encoded data removed]",
      "text/plain": [
       "<matplotlib.figure.Figure at 0x11ba687d0>"
      ]
     },
     "metadata": {},
     "output_type": "display_data"
    }
   ],
   "source": [
    "train_model.resid.plot()"
   ]
  },
  {
   "cell_type": "markdown",
   "metadata": {},
   "source": [
    "#### Compute and AR(2) model and an ARMA(2, 2) model - does this improve your mean absolute error on the held out set."
   ]
  },
  {
   "cell_type": "code",
   "execution_count": 142,
   "metadata": {
    "collapsed": false
   },
   "outputs": [
    {
     "name": "stderr",
     "output_type": "stream",
     "text": [
      "/Users/MP/anaconda/lib/python2.7/site-packages/statsmodels/base/model.py:466: ConvergenceWarning: Maximum Likelihood optimization failed to converge. Check mle_retvals\n",
      "  \"Check mle_retvals\", ConvergenceWarning)\n"
     ]
    },
    {
     "ename": "ValueError",
     "evalue": "The start index -1 of the original series has been differenced away",
     "output_type": "error",
     "traceback": [
      "\u001b[0;31m---------------------------------------------------------------------------\u001b[0m",
      "\u001b[0;31mValueError\u001b[0m                                Traceback (most recent call last)",
      "\u001b[0;32m<ipython-input-142-909b3417e9e4>\u001b[0m in \u001b[0;36m<module>\u001b[0;34m()\u001b[0m\n\u001b[1;32m      1\u001b[0m \u001b[0mtrain_model2\u001b[0m \u001b[0;34m=\u001b[0m \u001b[0msm\u001b[0m\u001b[0;34m.\u001b[0m\u001b[0mtsa\u001b[0m\u001b[0;34m.\u001b[0m\u001b[0mARIMA\u001b[0m\u001b[0;34m(\u001b[0m\u001b[0mtrain_weekly\u001b[0m\u001b[0;34m[\u001b[0m\u001b[0;34m\"Weekly_Sales\"\u001b[0m\u001b[0;34m]\u001b[0m\u001b[0;34m,\u001b[0m\u001b[0;34m(\u001b[0m\u001b[0;36m3\u001b[0m\u001b[0;34m,\u001b[0m\u001b[0;36m1\u001b[0m\u001b[0;34m,\u001b[0m\u001b[0;36m3\u001b[0m\u001b[0;34m)\u001b[0m\u001b[0;34m)\u001b[0m\u001b[0;34m.\u001b[0m\u001b[0mfit\u001b[0m\u001b[0;34m(\u001b[0m\u001b[0;34m)\u001b[0m\u001b[0;34m\u001b[0m\u001b[0m\n\u001b[0;32m----> 2\u001b[0;31m \u001b[0mtrain_results2\u001b[0m \u001b[0;34m=\u001b[0m \u001b[0mtrain_model2\u001b[0m\u001b[0;34m.\u001b[0m\u001b[0mpredict\u001b[0m\u001b[0;34m(\u001b[0m\u001b[0;34m\"2010-02-07\"\u001b[0m\u001b[0;34m,\u001b[0m\u001b[0;34m\"2012-02-26\"\u001b[0m\u001b[0;34m,\u001b[0m\u001b[0mdynamic\u001b[0m\u001b[0;34m=\u001b[0m\u001b[0mFalse\u001b[0m\u001b[0;34m)\u001b[0m\u001b[0;34m\u001b[0m\u001b[0m\n\u001b[0m\u001b[1;32m      3\u001b[0m \u001b[0;32mprint\u001b[0m \u001b[0;34m\"Our mean absolute error is: \"\u001b[0m\u001b[0;34m,\u001b[0m\u001b[0mmean_absolute_error\u001b[0m\u001b[0;34m(\u001b[0m\u001b[0mtrain_weekly\u001b[0m\u001b[0;34m[\u001b[0m\u001b[0;34m\"Weekly_Sales\"\u001b[0m\u001b[0;34m]\u001b[0m\u001b[0;34m,\u001b[0m\u001b[0mtrain_results2\u001b[0m\u001b[0;34m)\u001b[0m\u001b[0;34m\u001b[0m\u001b[0m\n\u001b[1;32m      4\u001b[0m \u001b[0mtrain_model2\u001b[0m\u001b[0;34m.\u001b[0m\u001b[0msummary\u001b[0m\u001b[0;34m(\u001b[0m\u001b[0;34m)\u001b[0m\u001b[0;34m\u001b[0m\u001b[0m\n",
      "\u001b[0;32m/Users/MP/anaconda/lib/python2.7/site-packages/statsmodels/base/wrapper.pyc\u001b[0m in \u001b[0;36mwrapper\u001b[0;34m(self, *args, **kwargs)\u001b[0m\n\u001b[1;32m     90\u001b[0m         \u001b[0mresults\u001b[0m \u001b[0;34m=\u001b[0m \u001b[0mobject\u001b[0m\u001b[0;34m.\u001b[0m\u001b[0m__getattribute__\u001b[0m\u001b[0;34m(\u001b[0m\u001b[0mself\u001b[0m\u001b[0;34m,\u001b[0m \u001b[0;34m'_results'\u001b[0m\u001b[0;34m)\u001b[0m\u001b[0;34m\u001b[0m\u001b[0m\n\u001b[1;32m     91\u001b[0m         \u001b[0mdata\u001b[0m \u001b[0;34m=\u001b[0m \u001b[0mresults\u001b[0m\u001b[0;34m.\u001b[0m\u001b[0mmodel\u001b[0m\u001b[0;34m.\u001b[0m\u001b[0mdata\u001b[0m\u001b[0;34m\u001b[0m\u001b[0m\n\u001b[0;32m---> 92\u001b[0;31m         \u001b[0;32mreturn\u001b[0m \u001b[0mdata\u001b[0m\u001b[0;34m.\u001b[0m\u001b[0mwrap_output\u001b[0m\u001b[0;34m(\u001b[0m\u001b[0mfunc\u001b[0m\u001b[0;34m(\u001b[0m\u001b[0mresults\u001b[0m\u001b[0;34m,\u001b[0m \u001b[0;34m*\u001b[0m\u001b[0margs\u001b[0m\u001b[0;34m,\u001b[0m \u001b[0;34m**\u001b[0m\u001b[0mkwargs\u001b[0m\u001b[0;34m)\u001b[0m\u001b[0;34m,\u001b[0m \u001b[0mhow\u001b[0m\u001b[0;34m)\u001b[0m\u001b[0;34m\u001b[0m\u001b[0m\n\u001b[0m\u001b[1;32m     93\u001b[0m \u001b[0;34m\u001b[0m\u001b[0m\n\u001b[1;32m     94\u001b[0m     \u001b[0margspec\u001b[0m \u001b[0;34m=\u001b[0m \u001b[0minspect\u001b[0m\u001b[0;34m.\u001b[0m\u001b[0mgetargspec\u001b[0m\u001b[0;34m(\u001b[0m\u001b[0mfunc\u001b[0m\u001b[0;34m)\u001b[0m\u001b[0;34m\u001b[0m\u001b[0m\n",
      "\u001b[0;32m/Users/MP/anaconda/lib/python2.7/site-packages/statsmodels/tsa/arima_model.pyc\u001b[0m in \u001b[0;36mpredict\u001b[0;34m(self, start, end, exog, typ, dynamic)\u001b[0m\n\u001b[1;32m   1756\u001b[0m     def predict(self, start=None, end=None, exog=None, typ='linear',\n\u001b[1;32m   1757\u001b[0m                 dynamic=False):\n\u001b[0;32m-> 1758\u001b[0;31m         \u001b[0;32mreturn\u001b[0m \u001b[0mself\u001b[0m\u001b[0;34m.\u001b[0m\u001b[0mmodel\u001b[0m\u001b[0;34m.\u001b[0m\u001b[0mpredict\u001b[0m\u001b[0;34m(\u001b[0m\u001b[0mself\u001b[0m\u001b[0;34m.\u001b[0m\u001b[0mparams\u001b[0m\u001b[0;34m,\u001b[0m \u001b[0mstart\u001b[0m\u001b[0;34m,\u001b[0m \u001b[0mend\u001b[0m\u001b[0;34m,\u001b[0m \u001b[0mexog\u001b[0m\u001b[0;34m,\u001b[0m \u001b[0mtyp\u001b[0m\u001b[0;34m,\u001b[0m \u001b[0mdynamic\u001b[0m\u001b[0;34m)\u001b[0m\u001b[0;34m\u001b[0m\u001b[0m\n\u001b[0m\u001b[1;32m   1759\u001b[0m     \u001b[0mpredict\u001b[0m\u001b[0;34m.\u001b[0m\u001b[0m__doc__\u001b[0m \u001b[0;34m=\u001b[0m \u001b[0m_arima_results_predict\u001b[0m\u001b[0;34m\u001b[0m\u001b[0m\n\u001b[1;32m   1760\u001b[0m \u001b[0;34m\u001b[0m\u001b[0m\n",
      "\u001b[0;32m/Users/MP/anaconda/lib/python2.7/site-packages/statsmodels/tsa/arima_model.pyc\u001b[0m in \u001b[0;36mpredict\u001b[0;34m(self, params, start, end, exog, typ, dynamic)\u001b[0m\n\u001b[1;32m   1118\u001b[0m                                start is not None):\n\u001b[1;32m   1119\u001b[0m                 return super(ARIMA, self).predict(params, start, end, exog,\n\u001b[0;32m-> 1120\u001b[0;31m                                                   dynamic)\n\u001b[0m\u001b[1;32m   1121\u001b[0m             \u001b[0;32melse\u001b[0m\u001b[0;34m:\u001b[0m\u001b[0;34m\u001b[0m\u001b[0m\n\u001b[1;32m   1122\u001b[0m                 \u001b[0;31m# need to assume pre-sample residuals are zero\u001b[0m\u001b[0;34m\u001b[0m\u001b[0;34m\u001b[0m\u001b[0m\n",
      "\u001b[0;32m/Users/MP/anaconda/lib/python2.7/site-packages/statsmodels/tsa/arima_model.pyc\u001b[0m in \u001b[0;36mpredict\u001b[0;34m(self, params, start, end, exog, dynamic)\u001b[0m\n\u001b[1;32m    709\u001b[0m \u001b[0;34m\u001b[0m\u001b[0m\n\u001b[1;32m    710\u001b[0m         \u001b[0;31m# will return an index of a date\u001b[0m\u001b[0;34m\u001b[0m\u001b[0;34m\u001b[0m\u001b[0m\n\u001b[0;32m--> 711\u001b[0;31m         \u001b[0mstart\u001b[0m \u001b[0;34m=\u001b[0m \u001b[0mself\u001b[0m\u001b[0;34m.\u001b[0m\u001b[0m_get_predict_start\u001b[0m\u001b[0;34m(\u001b[0m\u001b[0mstart\u001b[0m\u001b[0;34m,\u001b[0m \u001b[0mdynamic\u001b[0m\u001b[0;34m)\u001b[0m\u001b[0;34m\u001b[0m\u001b[0m\n\u001b[0m\u001b[1;32m    712\u001b[0m         \u001b[0mend\u001b[0m\u001b[0;34m,\u001b[0m \u001b[0mout_of_sample\u001b[0m \u001b[0;34m=\u001b[0m \u001b[0mself\u001b[0m\u001b[0;34m.\u001b[0m\u001b[0m_get_predict_end\u001b[0m\u001b[0;34m(\u001b[0m\u001b[0mend\u001b[0m\u001b[0;34m,\u001b[0m \u001b[0mdynamic\u001b[0m\u001b[0;34m)\u001b[0m\u001b[0;34m\u001b[0m\u001b[0m\n\u001b[1;32m    713\u001b[0m         \u001b[0;32mif\u001b[0m \u001b[0mout_of_sample\u001b[0m \u001b[0;32mand\u001b[0m \u001b[0;34m(\u001b[0m\u001b[0mexog\u001b[0m \u001b[0;32mis\u001b[0m \u001b[0mNone\u001b[0m \u001b[0;32mand\u001b[0m \u001b[0mself\u001b[0m\u001b[0;34m.\u001b[0m\u001b[0mk_exog\u001b[0m \u001b[0;34m>\u001b[0m \u001b[0;36m0\u001b[0m\u001b[0;34m)\u001b[0m\u001b[0;34m:\u001b[0m\u001b[0;34m\u001b[0m\u001b[0m\n",
      "\u001b[0;32m/Users/MP/anaconda/lib/python2.7/site-packages/statsmodels/tsa/arima_model.pyc\u001b[0m in \u001b[0;36m_get_predict_start\u001b[0;34m(self, start, dynamic)\u001b[0m\n\u001b[1;32m   1005\u001b[0m                 \u001b[0;32mtry\u001b[0m\u001b[0;34m:\u001b[0m  \u001b[0;31m# catch when given an integer outside of dates index\u001b[0m\u001b[0;34m\u001b[0m\u001b[0m\n\u001b[1;32m   1006\u001b[0m                     start = super(ARIMA, self)._get_predict_start(start,\n\u001b[0;32m-> 1007\u001b[0;31m                                                                   dynamic)\n\u001b[0m\u001b[1;32m   1008\u001b[0m                 \u001b[0;32mexcept\u001b[0m \u001b[0mIndexError\u001b[0m\u001b[0;34m:\u001b[0m\u001b[0;34m\u001b[0m\u001b[0m\n\u001b[1;32m   1009\u001b[0m                     raise ValueError(\"start must be in series. \"\n",
      "\u001b[0;32m/Users/MP/anaconda/lib/python2.7/site-packages/statsmodels/tsa/arima_model.pyc\u001b[0m in \u001b[0;36m_get_predict_start\u001b[0;34m(self, start, dynamic)\u001b[0m\n\u001b[1;32m    646\u001b[0m                               method)\n\u001b[1;32m    647\u001b[0m             \u001b[0mstart\u001b[0m \u001b[0;34m=\u001b[0m \u001b[0msuper\u001b[0m\u001b[0;34m(\u001b[0m\u001b[0mARMA\u001b[0m\u001b[0;34m,\u001b[0m \u001b[0mself\u001b[0m\u001b[0;34m)\u001b[0m\u001b[0;34m.\u001b[0m\u001b[0m_get_predict_start\u001b[0m\u001b[0;34m(\u001b[0m\u001b[0mstart\u001b[0m\u001b[0;34m)\u001b[0m\u001b[0;34m\u001b[0m\u001b[0m\n\u001b[0;32m--> 648\u001b[0;31m         \u001b[0m_check_arima_start\u001b[0m\u001b[0;34m(\u001b[0m\u001b[0mstart\u001b[0m\u001b[0;34m,\u001b[0m \u001b[0mk_ar\u001b[0m\u001b[0;34m,\u001b[0m \u001b[0mk_diff\u001b[0m\u001b[0;34m,\u001b[0m \u001b[0mmethod\u001b[0m\u001b[0;34m,\u001b[0m \u001b[0mdynamic\u001b[0m\u001b[0;34m)\u001b[0m\u001b[0;34m\u001b[0m\u001b[0m\n\u001b[0m\u001b[1;32m    649\u001b[0m         \u001b[0;32mreturn\u001b[0m \u001b[0mstart\u001b[0m\u001b[0;34m\u001b[0m\u001b[0m\n\u001b[1;32m    650\u001b[0m \u001b[0;34m\u001b[0m\u001b[0m\n",
      "\u001b[0;32m/Users/MP/anaconda/lib/python2.7/site-packages/statsmodels/tsa/arima_model.pyc\u001b[0m in \u001b[0;36m_check_arima_start\u001b[0;34m(start, k_ar, k_diff, method, dynamic)\u001b[0m\n\u001b[1;32m    252\u001b[0m     \u001b[0;32mif\u001b[0m \u001b[0mstart\u001b[0m \u001b[0;34m<\u001b[0m \u001b[0;36m0\u001b[0m\u001b[0;34m:\u001b[0m\u001b[0;34m\u001b[0m\u001b[0m\n\u001b[1;32m    253\u001b[0m         raise ValueError(\"The start index %d of the original series \"\n\u001b[0;32m--> 254\u001b[0;31m                          \"has been differenced away\" % start)\n\u001b[0m\u001b[1;32m    255\u001b[0m     \u001b[0;32melif\u001b[0m \u001b[0;34m(\u001b[0m\u001b[0mdynamic\u001b[0m \u001b[0;32mor\u001b[0m \u001b[0;34m'mle'\u001b[0m \u001b[0;32mnot\u001b[0m \u001b[0;32min\u001b[0m \u001b[0mmethod\u001b[0m\u001b[0;34m)\u001b[0m \u001b[0;32mand\u001b[0m \u001b[0mstart\u001b[0m \u001b[0;34m<\u001b[0m \u001b[0mk_ar\u001b[0m\u001b[0;34m:\u001b[0m\u001b[0;34m\u001b[0m\u001b[0m\n\u001b[1;32m    256\u001b[0m         raise ValueError(\"Start must be >= k_ar for conditional MLE \"\n",
      "\u001b[0;31mValueError\u001b[0m: The start index -1 of the original series has been differenced away"
     ]
    }
   ],
   "source": [
    "train_model2 = sm.tsa.ARIMA(train_weekly[\"Weekly_Sales\"],(3,1,3)).fit()\n",
    "train_results2 = train_model2.predict(\"2010-02-07\",\"2012-02-26\",dynamic=False)\n",
    "print \"Our mean absolute error is: \",mean_absolute_error(train_weekly[\"Weekly_Sales\"],train_results2)\n",
    "train_model2.summary()"
   ]
  },
  {
   "cell_type": "code",
   "execution_count": null,
   "metadata": {
    "collapsed": false
   },
   "outputs": [],
   "source": [
    "train_model2.resid.plot()"
   ]
  },
  {
   "cell_type": "markdown",
   "metadata": {},
   "source": [
    "#### Finally, compute an ARIMA model to improve your prediction error - iterate on the p, q, and parameters comparing the model's performance."
   ]
  },
  {
   "cell_type": "code",
   "execution_count": null,
   "metadata": {
    "collapsed": false
   },
   "outputs": [],
   "source": [
    "plist = dlist = qlist = [1,2,3,4,5]"
   ]
  },
  {
   "cell_type": "code",
   "execution_count": null,
   "metadata": {
    "collapsed": true
   },
   "outputs": [],
   "source": [
    "def arima(p,d,q):\n",
    "    train_modelprog = sm.tsa.ARIMA(train_weekly[\"Weekly_Sales\"],(p,d,q)).fit()\n",
    "    train_resultsprog = train_modelprog.predict(\"2010-02-07\",\"2012-02-26\",dynamic=False)\n",
    "    a = mean_absolute_error(train_weekly[\"Weekly_Sales\"],train_resultsprog)\n",
    "    return a"
   ]
  },
  {
   "cell_type": "code",
   "execution_count": null,
   "metadata": {
    "collapsed": false
   },
   "outputs": [],
   "source": [
    "scores = []\n",
    "for p in plist:\n",
    "    for d in dlist:\n",
    "        for q in qlist:\n",
    "            score = arima(p,d,q)\n",
    "            result = [p,d,q,score]\n",
    "            scores.append(result)\n",
    "print scores"
   ]
  }
 ],
 "metadata": {
  "kernelspec": {
   "display_name": "Python 2",
   "language": "python",
   "name": "python2"
  },
  "language_info": {
   "codemirror_mode": {
    "name": "ipython",
    "version": 2
   },
   "file_extension": ".py",
   "mimetype": "text/x-python",
   "name": "python",
   "nbconvert_exporter": "python",
   "pygments_lexer": "ipython2",
   "version": "2.7.11"
  }
 },
 "nbformat": 4,
 "nbformat_minor": 0
}
