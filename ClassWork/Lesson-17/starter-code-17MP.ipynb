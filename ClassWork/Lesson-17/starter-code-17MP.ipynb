{
 "cells": [
  {
   "cell_type": "code",
   "execution_count": null,
   "metadata": {
    "collapsed": true
   },
   "outputs": [],
   "source": [
    "import pandas as pd\n",
    "from pandas.io import sql\n",
    "import seaborn as sb\n",
    "import numpy as np\n",
    "import matplotlib.pyplot as plt\n",
    "%matplotlib inline"
   ]
  },
  {
   "cell_type": "markdown",
   "metadata": {},
   "source": [
    "Pandas can be used to connect to most relational databases. In this demonstration, we will create and connect to a SQLite database. SQLite creates portable SQL databases saved in a single file. These databases are stored in a very efficient manner and allow fast querying, making them ideal for small databases or databases that need to be moved across machines.\n",
    "\n",
    "If you are looking to start using a database without the setup of `mysql` or `postgres`, SQLite is a good start."
   ]
  },
  {
   "cell_type": "code",
   "execution_count": null,
   "metadata": {
    "collapsed": false
   },
   "outputs": [],
   "source": [
    "import sqlite3"
   ]
  },
  {
   "cell_type": "code",
   "execution_count": null,
   "metadata": {
    "collapsed": false
   },
   "outputs": [],
   "source": [
    "#This creates a database that we are connected to, but we have no data, at the moment this is empty.\n",
    "conn = sqlite3.connect('dat-test.db')"
   ]
  },
  {
   "cell_type": "markdown",
   "metadata": {},
   "source": [
    "Let's return to the Rossmann sales data and load that into the database.\n",
    "\n",
    "Data is moved to the database through the `to_sql` command, similar to the `to_csv` command.\n",
    "\n",
    "`to_sql` takes as arugments:\n",
    "    - `name`, the table name to create\n",
    "    - `con`, a connection to a database\n",
    "    - `index`, whether to input the index column\n",
    "    - `schema`, if we want to write a custom schema for the new table\n",
    "    - `if_exists`, what to do if the table already exists. We can overwrite it, add to it, or fail"
   ]
  },
  {
   "cell_type": "code",
   "execution_count": null,
   "metadata": {
    "collapsed": false
   },
   "outputs": [],
   "source": [
    "#We read in the data from CSV\n",
    "data = pd.read_csv('dataset/rossmann_sales.csv', low_memory=False)\n",
    "data.head()"
   ]
  },
  {
   "cell_type": "code",
   "execution_count": null,
   "metadata": {
    "collapsed": false
   },
   "outputs": [],
   "source": [
    "#This links the dataframe to our SQLlite database\n",
    "data.to_sql('rossmann_sales',\n",
    "            con=conn,\n",
    "            if_exists='replace',\n",
    "            index=False)"
   ]
  },
  {
   "cell_type": "code",
   "execution_count": null,
   "metadata": {
    "collapsed": false
   },
   "outputs": [],
   "source": [
    "sql.read_sql(\"select * from rossmann_sales where customers > 500 limit 10\", con=conn)"
   ]
  },
  {
   "cell_type": "markdown",
   "metadata": {},
   "source": [
    "> #### CHECK: Load the Rossmann Store metadata in `rossmann-stores.csv` and create a table into the database from it"
   ]
  },
  {
   "cell_type": "code",
   "execution_count": null,
   "metadata": {
    "collapsed": true
   },
   "outputs": [],
   "source": [
    "new_data = pd.read_csv('dataset/rossmann_sales.csv', low_memory=False)\n",
    "new_data.to_sql(\"new_table\", con=conn, if_exists='replace', index=False)"
   ]
  },
  {
   "cell_type": "markdown",
   "metadata": {},
   "source": [
    "> #### CHECK: (SELECT) Have the students write a query that returns the `Store`, `Date` and `Customers`"
   ]
  },
  {
   "cell_type": "code",
   "execution_count": null,
   "metadata": {
    "collapsed": false
   },
   "outputs": [],
   "source": [
    "sql.read_sql(\"select store, date, customers from new_table limit 10\", con=conn)"
   ]
  },
  {
   "cell_type": "code",
   "execution_count": null,
   "metadata": {
    "collapsed": false
   },
   "outputs": [],
   "source": [
    "sql.read_sql(\"select store, date, sales, customers from new_table where sales > 0 group by date limit 25\", con=conn)"
   ]
  },
  {
   "cell_type": "markdown",
   "metadata": {},
   "source": [
    "> #### CHECK: (WHERE) Have the students write a query that returns the `Store`, `Date` and `Customers` for when the stores were open and running a promotion"
   ]
  },
  {
   "cell_type": "code",
   "execution_count": null,
   "metadata": {
    "collapsed": false
   },
   "outputs": [],
   "source": [
    "sql.read_sql(\"select store, date, customers from new_table where open = 1 and promo = 1 group by store\", con=conn)"
   ]
  },
  {
   "cell_type": "markdown",
   "metadata": {},
   "source": [
    "> #### CHECK: (GROUP BY) Have the students write a query that returns the total sales on promotion days."
   ]
  },
  {
   "cell_type": "code",
   "execution_count": null,
   "metadata": {
    "collapsed": false
   },
   "outputs": [],
   "source": [
    "sql.read_sql(\"select sum(sales) from new_table where promo = 1\", con=conn)"
   ]
  },
  {
   "cell_type": "markdown",
   "metadata": {},
   "source": [
    "#### Exercises\n",
    "\n",
    "1. Load the Walmart sales and store features data\n",
    "1. Create a table for each of those datasets\n",
    "1. Select the store, date and fuel price on days it was over 90 degrees\n",
    "1. Select the store, date and weekly sales and temperature\n",
    "1. What were average sales on holiday vs. non-holiday sales\n",
    "1. What were average sales on holiday vs. non-holiday sales when the temperature was below 32 degrees"
   ]
  },
  {
   "cell_type": "code",
   "execution_count": null,
   "metadata": {
    "collapsed": false
   },
   "outputs": [],
   "source": [
    "#Loading the data\n",
    "wal_conn = sqlite3.connect('wal-mart.db')\n",
    "walmart = pd.read_csv('dataset/walmart-sales.csv', low_memory=False)\n",
    "#Table for data\n",
    "walmart.to_sql('waldata',\n",
    "            con=wal_conn,\n",
    "            if_exists='replace',\n",
    "            index=False)\n",
    "#Table for features\n",
    "walfeatures = pd.read_csv('dataset/features.csv', low_memory=False)\n",
    "walfeatures.to_sql('walfeatures',\n",
    "            con=wal_conn,\n",
    "            if_exists='replace',\n",
    "            index=False)"
   ]
  },
  {
   "cell_type": "code",
   "execution_count": null,
   "metadata": {
    "collapsed": false
   },
   "outputs": [],
   "source": [
    "sql.read_sql(\"select * from walfeatures limit 5\", con=wal_conn)"
   ]
  },
  {
   "cell_type": "code",
   "execution_count": null,
   "metadata": {
    "collapsed": false
   },
   "outputs": [],
   "source": [
    "sql.read_sql(\"select * from waldata limit 5\", con=wal_conn)"
   ]
  },
  {
   "cell_type": "code",
   "execution_count": null,
   "metadata": {
    "collapsed": false
   },
   "outputs": [],
   "source": [
    "#Select the store, date and fuel price on days it was over 90 degrees\n",
    "sql.read_sql(\"select s.store, s.date, f.fuel_price from waldata as s join walfeatures as f on s.store = f.store \"\\\n",
    "             \"and s.date = f.date where temperature>90 limit 10\", con=wal_conn)"
   ]
  },
  {
   "cell_type": "code",
   "execution_count": null,
   "metadata": {
    "collapsed": false
   },
   "outputs": [],
   "source": [
    "#Select the store, date and weekly sales and temperature\n",
    "sql.read_sql(\"select s.store, s.date, s.weekly_sales, f.temperature from waldata as s join walfeatures as f \"\\\n",
    "             \"on s.store = f.store and s.date = f.date limit 10\",con=wal_conn)"
   ]
  },
  {
   "cell_type": "code",
   "execution_count": null,
   "metadata": {
    "collapsed": false
   },
   "outputs": [],
   "source": [
    "#What were average sales on holiday vs. non-holiday sales\n",
    "sql.read_sql(\"select isholiday, avg(weekly_sales) from waldata group by IsHoliday\",con=wal_conn)"
   ]
  },
  {
   "cell_type": "code",
   "execution_count": null,
   "metadata": {
    "collapsed": false
   },
   "outputs": [],
   "source": [
    "#What were average sales on holiday vs. non-holiday sales when the temperature was below 32 degrees\n",
    "sql.read_sql(\"select s.isholiday, avg(s.weekly_sales) from waldata as s join walfeatures as f \"\\\n",
    "             \"on s.date = f.date and s.store = f.store where f.temperature<32 group by s.IsHoliday\",con=wal_conn)"
   ]
  },
  {
   "cell_type": "code",
   "execution_count": null,
   "metadata": {
    "collapsed": false
   },
   "outputs": [],
   "source": [
    "#Unemployment\n",
    "unemp = sql.read_sql(\"select s.date, s.weekly_sales, f.CPI, f.unemployment from waldata as s join walfeatures as f \"\\\n",
    "             \"on s.date = f.date and s.store = f.store group by s.date limit 100\",con=wal_conn)\n",
    "unemp = pd.DataFrame(unemp)"
   ]
  },
  {
   "cell_type": "code",
   "execution_count": null,
   "metadata": {
    "collapsed": false
   },
   "outputs": [],
   "source": [
    "unemp.head()"
   ]
  },
  {
   "cell_type": "code",
   "execution_count": null,
   "metadata": {
    "collapsed": false
   },
   "outputs": [],
   "source": [
    "unemp.plot.scatter(x=\"Weekly_Sales\",y=\"Unemployment\", s=1.5**unemp[\"CPI\"])"
   ]
  }
 ],
 "metadata": {
  "kernelspec": {
   "display_name": "Python 2",
   "language": "python",
   "name": "python2"
  },
  "language_info": {
   "codemirror_mode": {
    "name": "ipython",
    "version": 2
   },
   "file_extension": ".py",
   "mimetype": "text/x-python",
   "name": "python",
   "nbconvert_exporter": "python",
   "pygments_lexer": "ipython2",
   "version": "2.7.11"
  }
 },
 "nbformat": 4,
 "nbformat_minor": 0
}
