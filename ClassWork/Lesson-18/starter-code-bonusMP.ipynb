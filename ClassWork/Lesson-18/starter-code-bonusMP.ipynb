{
 "cells": [
  {
   "cell_type": "code",
   "execution_count": 1,
   "metadata": {
    "collapsed": true
   },
   "outputs": [],
   "source": [
    "import numpy as np\n",
    "import pandas as pd\n",
    "\n",
    "#tools to help with JSON\n",
    "import json\n",
    "from pandas.io.json import json_normalize\n",
    "#pprint - pretty print - preserves formatting\n",
    "from pprint import pprint\n",
    "\n",
    "#urllib / requests - used commonly for apis\n",
    "import requests\n",
    "import urllib2\n"
   ]
  },
  {
   "cell_type": "markdown",
   "metadata": {},
   "source": [
    "# APIs\n",
    "- https://www.yelp.com/developers/documentation\n",
    "- http://www.reddit.com/dev/api\n",
    "- http://www.publicapis.com\n",
    "- https://apps.twitter.com (OAUTH nightmares)\n",
    "- http://developer.rottentomatoes.com/docs\n",
    "- http://developer.nytimes.com/"
   ]
  },
  {
   "cell_type": "markdown",
   "metadata": {},
   "source": [
    "### Wikipedia "
   ]
  },
  {
   "cell_type": "markdown",
   "metadata": {},
   "source": [
    "- https://en.wikipedia.org/w/api.php?action=help&modules=main (API documentation)\n",
    "- https://en.wikipedia.org/w/api.php?action=help&modules=query (more documentation)\n",
    "- https://en.wikipedia.org/w/api.php?action=help&modules=query%2Bextracts (Returns plain-text or limited HTML extracts of the given pages)"
   ]
  },
  {
   "cell_type": "markdown",
   "metadata": {},
   "source": [
    "#Example: NY Times contributions example"
   ]
  },
  {
   "cell_type": "markdown",
   "metadata": {},
   "source": [
    "## Using a web api\n",
    "- Everything after the '?' is called the query string, '&' denotes variables\n",
    "- API-Key is provided by the api owner and should not be shared (typically)\n",
    "\n",
    "http://api.nytimes.com/svc/elections/us/v3/finances/2012/contributions/candidate/P80003338.json?api-key=a135ff57e67e72c98171ea7a99d92d5b%3A8%3A72904630\""
   ]
  },
  {
   "cell_type": "markdown",
   "metadata": {},
   "source": [
    "### API Call"
   ]
  },
  {
   "cell_type": "markdown",
   "metadata": {},
   "source": [
    "### Let's build our call\n",
    "NY Times api has a handy query builder that can help us get started using their api. \n",
    "http://developer.nytimes.com/io-docs\n"
   ]
  },
  {
   "cell_type": "code",
   "execution_count": 5,
   "metadata": {
    "collapsed": false
   },
   "outputs": [
    {
     "data": {
      "text/plain": [
       "{'Content-Length': '17291', 'X-Powered-By': 'PHP/5.3.27', 'Vary': 'Accept-Encoding', 'Server': 'nginx/1.4.1', 'Access-Control-Allow-Credentials': 'true', 'Date': 'Tue, 22 Mar 2016 23:05:00 GMT', 'X-Mashery-Responder': 'prod-j-worker-atl-01.mashery.com', 'X-Cached': 'MISS', 'Content-Type': 'application/json; charset=UTF-8', 'Access-Control-Allow-Origin': '*'}"
      ]
     },
     "execution_count": 5,
     "metadata": {},
     "output_type": "execute_result"
    }
   ],
   "source": [
    "api_call = \"http://api.nytimes.com/svc/search/v2/articlesearch.json?q=%22F-22%22&\"\\\n",
    "                       \"begin_date=19900101&end_date=19981231&sort=oldest&api-\"\\\n",
    "                       \"key=52576efae1e6ae68fa52aa793d823f24%3A13%3A60973557\"\n",
    "website = requests.get(api_call)\n",
    "website.headers"
   ]
  },
  {
   "cell_type": "markdown",
   "metadata": {},
   "source": [
    "Info on website status can be found here: http://www.w3.org/Protocols/rfc2616/rfc2616-sec10.html"
   ]
  },
  {
   "cell_type": "markdown",
   "metadata": {},
   "source": [
    "## JSON"
   ]
  },
  {
   "cell_type": "markdown",
   "metadata": {},
   "source": [
    "- javascript object notation\n",
    "- comporable to xml\n",
    "- structured information"
   ]
  },
  {
   "cell_type": "code",
   "execution_count": 228,
   "metadata": {
    "collapsed": false
   },
   "outputs": [
    {
     "ename": "TypeError",
     "evalue": "unhashable type",
     "output_type": "error",
     "traceback": [
      "\u001b[0;31m---------------------------------------------------------------------------\u001b[0m",
      "\u001b[0;31mTypeError\u001b[0m                                 Traceback (most recent call last)",
      "\u001b[0;32m<ipython-input-228-c60a05a169c6>\u001b[0m in \u001b[0;36m<module>\u001b[0;34m()\u001b[0m\n\u001b[0;32m----> 1\u001b[0;31m \u001b[0mwebsite\u001b[0m\u001b[0;34m.\u001b[0m\u001b[0mjson\u001b[0m\u001b[0;34m(\u001b[0m\u001b[0;34m)\u001b[0m\u001b[0;34m[\u001b[0m\u001b[0;36m0\u001b[0m\u001b[0;34m:\u001b[0m\u001b[0;36m100\u001b[0m\u001b[0;34m]\u001b[0m\u001b[0;34m\u001b[0m\u001b[0m\n\u001b[0m",
      "\u001b[0;31mTypeError\u001b[0m: unhashable type"
     ]
    }
   ],
   "source": [
    "website.json()"
   ]
  },
  {
   "cell_type": "markdown",
   "metadata": {},
   "source": [
    "### Using the urllib2 to convert to a dataframe"
   ]
  },
  {
   "cell_type": "markdown",
   "metadata": {},
   "source": [
    "#### There are other ways that can bring these things to a dataframe. But we use URLLIB"
   ]
  },
  {
   "cell_type": "code",
   "execution_count": 28,
   "metadata": {
    "collapsed": false
   },
   "outputs": [
    {
     "name": "stdout",
     "output_type": "stream",
     "text": [
      "<type 'dict'>\n",
      "{u'docs': [{u'type_of_material': u'News', u'blog': [], u'news_desk': None, u'lead_paragraph': u'A friend recently returned from a photography safari in Africa and last week brought out her album to show me the color pictures she and her husband had taken. Zebras, lions, elephants, rhinoceroses -- I was amazed at the number and variety of wild species that had willingly sat still for their portraits. Having grown up on National Geographic pictures of wildlife, I always thought that capturing fleet and dangerous denizens of jungle and savannah was a task to which only intrepid professionals were equal. The National Geographic helped make it seem that way by recounting the difficult months it took for the photographers to bring home the bacon.', u'headline': {u'main': u'Camera'}, u'abstract': None, u'print_page': u'79', u'word_count': 815, u'_id': u'4fd1a5148eb7c8105d6bd812', u'snippet': u'A friend recently returned from a photography safari in Africa and last week brought out her album to show me the color pictures she and her husband had taken. Zebras, lions, elephants, rhinoceroses -- I was amazed at the number and variety of wild...', u'source': u'The New York Times', u'slideshow_credits': None, u'web_url': u'http://www.nytimes.com/1990/11/18/news/camera.html', u'multimedia': [], u'subsection_name': None, u'keywords': [{u'name': u'subject', u'value': u'TERMS NOT AVAILABLE'}], u'byline': {u'person': [{u'organization': u'', u'role': u'reported', u'rank': 1, u'firstname': u'Andy', u'lastname': u'Grundberg'}], u'original': u'By Andy Grundberg'}, u'document_type': u'article', u'pub_date': u'1990-11-18T00:00:00Z', u'section_name': None}, {u'type_of_material': u'News', u'blog': [], u'news_desk': u'Financial Desk', u'lead_paragraph': u\"Ending an intense five-year competition for what may be the largest contract yet in the weapons business, the Air Force today selected a team led by the Lockheed Corporation to build a new generation of agile, radar-evading fighter planes. The new plane, to be known as the F-22, will replace the F-15 Eagle, the Air Force's primary fighter, and is scheduled to come into service by the late 1990's. Assuming that Congress is willing to back the program, the Air Force plans to buy 650 of the new planes at a cost that could reach $95 billion, a price tag that would exceed even the $70 billion the Pentagon wants to spend on the B-2 Stealth bomber, the most expensive weapons system now in production. Pain for the Losers The selection is a big blow to the losing team, the Northrop Corporation and the McDonnell Douglas Corporation. And it could reshape the arms industry in a way few other contracts have, allowing the winners to survive and even thrive during a sharp downturn in Pentagon spending while forcing the losers and hundreds of their subcontractors to reassess their ability to stay in the fighter-plane business, the largest and most lucrative segment of military contracting.\", u'headline': {u'main': u\"AIR FORCE CHOOSES LOCKHEED'S DESIGN FOR FIGHTER PLANE\"}, u'abstract': None, u'print_page': u'1', u'word_count': 1250, u'_id': u'4fd1a9188eb7c8105d6c5763', u'snippet': u'Ending an intense five-year competition for what may be the largest contract yet in the weapons business, the Air Force today selected a team led by the Lockheed Corporation to build a new generation of agile, radar-evading fighter planes.    The new...', u'source': u'The New York Times', u'slideshow_credits': None, u'web_url': u'http://www.nytimes.com/1991/04/24/business/air-force-chooses-lockheed-s-design-for-fighter-plane.html', u'multimedia': [], u'subsection_name': None, u'keywords': [{u'name': u'organizations', u'value': u'LOCKHEED CORP'}, {u'name': u'organizations', u'value': u'NORTHROP CORP'}, {u'name': u'organizations', u'value': u'MCDONNELL DOUGLAS CORP'}, {u'name': u'subject', u'value': u'DEFENSE CONTRACTS'}, {u'name': u'subject', u'value': u'AIRLINES AND AIRPLANES'}, {u'name': u'subject', u'value': u'F-22 AIRPLANE'}, {u'name': u'subject', u'value': u'F-15 AIRPLANE'}, {u'name': u'subject', u'value': u'MILITARY AIRCRAFT'}, {u'name': u'subject', u'value': u'AIR FORCES'}], u'byline': {u'person': [{u'firstname': u'Richard', u'middlename': u'W.', u'lastname': u'STEVENSON', u'rank': 1, u'role': u'reported', u'organization': u''}], u'original': u'By RICHARD W. STEVENSON'}, u'document_type': u'article', u'pub_date': u'1991-04-24T00:00:00Z', u'section_name': u'Front Page; Business'}, {u'type_of_material': u'Summary', u'blog': [], u'news_desk': u'Financial Desk', u'lead_paragraph': u\"COMPANIES Lockheed's Side Gets a Big Boost From the Air Force\", u'headline': {u'main': u'Business Diary: April 21-26'}, u'abstract': None, u'print_page': u'2', u'word_count': 1663, u'_id': u'4fd1a82f8eb7c8105d6c38fa', u'snippet': u\"COMPANIES Lockheed's Side Gets a Big Boost From the Air Force\", u'source': u'The New York Times', u'slideshow_credits': None, u'web_url': u'http://www.nytimes.com/1991/04/28/business/business-diary-april-21-26.html', u'multimedia': [], u'subsection_name': None, u'keywords': [{u'name': u'subject', u'value': u'UNITED STATES ECONOMY'}], u'byline': {u'person': [{u'organization': u'', u'role': u'reported', u'rank': 1, u'firstname': u'Joel', u'lastname': u'Kurtzman'}], u'original': u'By Joel Kurtzman'}, u'document_type': u'article', u'pub_date': u'1991-04-28T00:00:00Z', u'section_name': u'Business'}, {u'type_of_material': u'News', u'blog': [], u'news_desk': u'Financial Desk', u'lead_paragraph': u\"A year ago, Daniel M. Tellep, the chairman and chief executive of the Lockheed Corporation, was a man under siege. Lockheed's earnings were being battered by losses on weapons development programs and Harold Simmons, the Dallas investor, was waging a bitter proxy fight to unseat the board. But now Mr. Tellep is on a roll. Lockheed's earnings have rebounded. Mr. Simmons has given up his attempts to gain control. And last week a team led by Lockheed won the biggest prize of the decade in the weapons business, the contract to build the F-22, a new generation of Air Force fighter plane. (Forum, page 11.)\", u'headline': {u'main': u'Making a Difference; A Turnaround for Mr. Tellep'}, u'abstract': None, u'print_page': u'7', u'word_count': 250, u'_id': u'4fd1c9dc8eb7c8105d6fd803', u'snippet': u\"A year ago, Daniel M. Tellep, the chairman and chief executive of the Lockheed Corporation, was a man under siege. Lockheed's earnings were being battered by losses on weapons development programs and Harold Simmons, the Dallas investor, was waging a...\", u'source': u'The New York Times', u'slideshow_credits': None, u'web_url': u'http://www.nytimes.com/1991/04/28/business/making-a-difference-a-turnaround-for-mr-tellep.html', u'multimedia': [], u'subsection_name': None, u'keywords': [{u'name': u'persons', u'value': u'TELLEP, DANIEL M'}, {u'name': u'organizations', u'value': u'LOCKHEED CORP'}, {u'name': u'subject', u'value': u'FINANCES'}], u'byline': {u'person': [{u'firstname': u'Richard', u'middlename': u'W.', u'lastname': u'STEVENSON', u'rank': 1, u'role': u'reported', u'organization': u''}], u'original': u'By RICHARD W. STEVENSON'}, u'document_type': u'article', u'pub_date': u'1991-04-28T00:00:00Z', u'section_name': u'Business'}, {u'type_of_material': u'Summary', u'blog': [], u'news_desk': u'Metropolitan Desk', u'lead_paragraph': u'International A3-9 United Nations officials in Iraq met with American military officers in a step toward assuming responsibility for the Kurdish refugee camp. The military hopes to turn over the camp and to withdraw its troops. Page A1', u'headline': {u'main': u'NEWS SUMMARY'}, u'abstract': None, u'print_page': u'2', u'word_count': 1180, u'_id': u'4fd1a91c8eb7c8105d6c5aba', u'snippet': u'International A3-9    United Nations officials in Iraq met with American military officers in a step toward assuming responsibility for the Kurdish refugee camp. The military hopes to turn over the camp and to withdraw its troops. Page A1', u'source': u'The New York Times', u'slideshow_credits': None, u'web_url': u'http://www.nytimes.com/1991/04/29/nyregion/news-summary-294091.html', u'multimedia': [], u'subsection_name': None, u'keywords': [{u'name': u'subject', u'value': u'NO INDEX TERMS'}], u'byline': None, u'document_type': u'article', u'pub_date': u'1991-04-29T00:00:00Z', u'section_name': u'New York and Region'}, {u'type_of_material': u'Editorial', u'blog': [], u'news_desk': u'Editorial Desk', u'lead_paragraph': u\"Peace dividend? The Air Force is acting as if it were about to cash in a war dividend. Last year the Pentagon and Congress ruled out taking advantage of a receding Soviet threat to reap sizable savings from defense. Instead, they agreed to hold the defense budget at current levels for three years. Now the Air Force roars in with plans to procure an advanced tactical fighter, the F-22, in huge quantities. That $95 billion program would bust defense budgets wide open once the three-year hold-down ended. As the Congressional Budget Office just concluded, the Air Force can't afford to build enough of the new stealth fighters at nearly $79 million per copy and also buy new B-2 stealth bombers and C-17 cargo planes.\", u'headline': {u'main': u'This Fighter Will Bust the Budget'}, u'abstract': None, u'print_page': u'16', u'word_count': 614, u'_id': u'4fd198cb8eb7c8105d6a870a', u'snippet': u'Peace dividend? The Air Force is acting as if it were about to cash in a war dividend. Last year the Pentagon and Congress ruled out taking advantage of a receding Soviet threat to reap sizable savings from defense. Instead, they agreed to hold the...', u'source': u'The New York Times', u'slideshow_credits': None, u'web_url': u'http://www.nytimes.com/1991/04/29/opinion/this-fighter-will-bust-the-budget.html', u'multimedia': [], u'subsection_name': None, u'keywords': [{u'name': u'glocations', u'value': u'UNITED STATES'}, {u'name': u'subject', u'value': u'AIRLINES AND AIRPLANES'}, {u'name': u'subject', u'value': u'F-22 AIRPLANE'}, {u'name': u'subject', u'value': u'MILITARY AIRCRAFT'}, {u'name': u'subject', u'value': u'EDITORIALS'}, {u'name': u'subject', u'value': u'FINANCES'}, {u'name': u'subject', u'value': u'BUDGETS AND BUDGETING'}, {u'name': u'subject', u'value': u'UNITED STATES ARMAMENT AND DEFENSE'}], u'byline': None, u'document_type': u'article', u'pub_date': u'1991-04-29T00:00:00Z', u'section_name': u'Opinion'}, {u'type_of_material': u'News', u'blog': [], u'news_desk': u'Science Desk', u'lead_paragraph': u'THE Air Force\\'s award last month of a huge contract to build \"advanced technology fighters\" marks a new era, experts say, in which virtually all new warplanes will incorporate the stealth technologies that make a plane hard to detect by its radar reflections or heat emissions. Rival teams led by the Northrop Corporation and the Lockheed Corporation competed in a fly-off last month that was the final round of a 54-month effort to win a contract that could be worth $100 billion. The Air Force preferred the entry from Lockhheed, which will now build up to 648 of its F-22 fighters.', u'headline': {u'main': u'2 Rival Designers Led the Way To Stealthy Warplanes'}, u'abstract': None, u'print_page': u'1', u'word_count': 2251, u'_id': u'4fd1c9e28eb7c8105d6fdc75', u'snippet': u'THE Air Force\\'s award last month of a huge contract to build \"advanced technology fighters\" marks a new era, experts say, in which virtually all new warplanes will incorporate the stealth technologies that make a plane hard to detect by its radar...', u'source': u'The New York Times', u'slideshow_credits': None, u'web_url': u'http://www.nytimes.com/1991/05/14/science/2-rival-designers-led-the-way-to-stealthy-warplanes.html', u'multimedia': [], u'subsection_name': None, u'keywords': [{u'name': u'persons', u'value': u'CASHEN, JOHN F'}, {u'name': u'persons', u'value': u'RICH, BEN R'}, {u'name': u'organizations', u'value': u'LOCKHEED CORP'}, {u'name': u'organizations', u'value': u'NORTHROP CORP'}, {u'name': u'subject', u'value': u'AIRLINES AND AIRPLANES'}, {u'name': u'subject', u'value': u'MILITARY AIRCRAFT'}, {u'name': u'subject', u'value': u'B-2 AIRPLANE'}, {u'name': u'subject', u'value': u'F-117A AIRPLANE'}, {u'name': u'subject', u'value': u'DESIGN'}, {u'name': u'subject', u'value': u'RADAR'}, {u'name': u'subject', u'value': u'NEW MODELS, DESIGN AND PRODUCTS'}, {u'name': u'subject', u'value': u'UNITED STATES ARMAMENT AND DEFENSE'}, {u'name': u'subject', u'value': u'STEALTH AIRCRAFT'}], u'byline': {u'person': [{u'firstname': u'Malcolm', u'middlename': u'W.', u'lastname': u'BROWNE', u'rank': 1, u'role': u'reported', u'organization': u''}], u'original': u'By MALCOLM W. BROWNE'}, u'document_type': u'article', u'pub_date': u'1991-05-14T00:00:00Z', u'section_name': u'Science; Health'}, {u'type_of_material': u'News', u'blog': [], u'news_desk': u'Magazine Desk', u'lead_paragraph': u'ON AUG. 2, 1990, the very day that Iraqi forces swept into Kuwait, Congressional negotiators and the Pentagon agreed to a \"peace dividend\" budget that would, among other things, slash troop levels by 25 percent over the next five years, do away with six active Army divisions, cut back the Navy to 451 warships from 545, and transfer nine active-duty Air Force tactical fighter wings to reserve status. The cutbacks continued even as units of the Army, Navy, Air Force and Marine Corps were ordered into battle positions in the Persian Gulf, complicating what was already a difficult deployment and compromising battle readiness. Although two of its three armored brigades went to the gulf, for example, the Second Armored Division itself was being disbanded; one brigade of the First Infantry Division was being deactivated even as the rest of the division moved into combat.', u'headline': {u'main': u\"How to Be the World's Policeman\"}, u'abstract': None, u'print_page': u'40', u'word_count': 3211, u'_id': u'4fd19c048eb7c8105d6ad3a3', u'snippet': u'ON AUG. 2, 1990, the very day that Iraqi forces swept into Kuwait, Congressional negotiators and the Pentagon agreed to a \"peace dividend\" budget that would, among other things, slash troop levels by 25 percent over the next five years, do away with...', u'source': u'The New York Times', u'slideshow_credits': None, u'web_url': u'http://www.nytimes.com/1991/05/19/magazine/how-to-be-the-world-s-policeman.html', u'multimedia': [], u'subsection_name': None, u'keywords': [{u'name': u'subject', u'value': u'UNITED STATES INTERNATIONAL RELATIONS'}, {u'name': u'subject', u'value': u'UNITED STATES ARMAMENT AND DEFENSE'}], u'byline': {u'person': [{u'organization': u'', u'role': u'reported', u'rank': 1}], u'original': u'By COL. HARRY G. SUMMERS JR.;'}, u'document_type': u'article', u'pub_date': u'1991-05-19T00:00:00Z', u'section_name': u'Magazine; Washington'}, {u'type_of_material': u'Letter', u'blog': [], u'news_desk': u'Financial Desk', u'lead_paragraph': u'To the Editor: \"Behind the Choosing of the F-22,\" by Senator Jeff Bingaman (Forum, April 28), displays worrisome misconceptions; doubly worrisome coming from a member of the Senate Armed Services Committee. Business literature is full of the failed attempts of mainly defense companies to enter commercial ventures. Citing Boeing as the paradigm of success in both defense and commercial business is interesting, given the $400 million-plus losses in its defense business in each of the last two years. Any company that integrated its defense and commercial business, unless it enjoyed a monopoly, would doubtless lose its shirt in its commercial business.', u'headline': {u'main': u'Why Mixing Defense and Commercial Ventures Fails'}, u'abstract': None, u'print_page': u'11', u'word_count': 202, u'_id': u'4fd1c19b8eb7c8105d6f0f82', u'snippet': u'To the Editor:   \"Behind the Choosing of the F-22,\" by Senator Jeff Bingaman (Forum, April 28), displays worrisome misconceptions; doubly worrisome coming from a member of the Senate Armed Services Committee. Business literature is full of the failed...', u'source': u'The New York Times', u'slideshow_credits': None, u'web_url': u'http://www.nytimes.com/1991/05/19/business/l-why-mixing-defense-and-commercial-ventures-fails-409491.html', u'multimedia': [], u'subsection_name': None, u'keywords': [{u'name': u'persons', u'value': u'BINGAMAN, JEFF'}, {u'name': u'subject', u'value': u'AIRLINES AND AIRPLANES'}, {u'name': u'subject', u'value': u'F-22 AIRPLANE'}, {u'name': u'subject', u'value': u'MILITARY AIRCRAFT'}, {u'name': u'subject', u'value': u'UNITED STATES ARMAMENT AND DEFENSE'}], u'byline': None, u'document_type': u'article', u'pub_date': u'1991-05-19T00:00:00Z', u'section_name': u'Business; Opinion'}, {u'type_of_material': u'Letter', u'blog': [], u'news_desk': u'Editorial Desk', u'lead_paragraph': u'To the Editor: The Times has an outstanding history of accurate reporting on issues of national interest, but your April 29 editorial \"This Fighter Will Bust the Budget\" missed the mark. You questioned the need for the F-22 and suggested that the Air Force is unlikely to forfeit any supremacy in the next century -- that our F-15 and F-16 fighters are superior to anything potential adversaries have produced or will produce.', u'headline': {u'main': u\"The F-22's Crucial Mission in the 21st Century\"}, u'abstract': None, u'print_page': u'20', u'word_count': 734, u'_id': u'4fd1a3318eb7c8105d6ba69b', u'snippet': u'To the Editor:   The Times has an outstanding history of accurate reporting on issues of national interest, but your April 29 editorial \"This Fighter Will Bust the Budget\" missed the mark. You questioned the need for the F-22 and suggested that the...', u'source': u'The New York Times', u'slideshow_credits': None, u'web_url': u'http://www.nytimes.com/1991/05/21/opinion/l-the-f-22-s-crucial-mission-in-the-21st-century-111391.html', u'multimedia': [], u'subsection_name': None, u'keywords': [{u'name': u'persons', u'value': u'RICE, DONALD B'}, {u'name': u'subject', u'value': u'AIRLINES AND AIRPLANES'}, {u'name': u'subject', u'value': u'F-22 AIRPLANE'}, {u'name': u'subject', u'value': u'MILITARY AIRCRAFT'}, {u'name': u'subject', u'value': u'NEW MODELS, DESIGN AND PRODUCTS'}, {u'name': u'subject', u'value': u'UNITED STATES ARMAMENT AND DEFENSE'}], u'byline': None, u'document_type': u'article', u'pub_date': u'1991-05-21T00:00:00Z', u'section_name': u'Opinion'}], u'meta': {u'hits': 109, u'offset': 0, u'time': 226}}\n"
     ]
    }
   ],
   "source": [
    "request=urllib2.Request(api_call)\n",
    "response = urllib2.urlopen(request)\n",
    "elevations = response.read()\n",
    "data1 = json.loads(elevations)\n",
    "print type(data1)\n",
    "data= data1['response']\n",
    "print data"
   ]
  },
  {
   "cell_type": "code",
   "execution_count": 15,
   "metadata": {
    "collapsed": true
   },
   "outputs": [
    {
     "data": {
      "text/plain": [
       "<bound method DataFrame.describe of                         _id abstract blog  byline  \\\n",
       "0  4fd1a5148eb7c8105d6bd812     None   []     NaN   \n",
       "1  4fd1a9188eb7c8105d6c5763     None   []     NaN   \n",
       "2  4fd1a82f8eb7c8105d6c38fa     None   []     NaN   \n",
       "3  4fd1c9dc8eb7c8105d6fd803     None   []     NaN   \n",
       "4  4fd1a91c8eb7c8105d6c5aba     None   []     NaN   \n",
       "5  4fd198cb8eb7c8105d6a870a     None   []     NaN   \n",
       "6  4fd1c9e28eb7c8105d6fdc75     None   []     NaN   \n",
       "7  4fd19c048eb7c8105d6ad3a3     None   []     NaN   \n",
       "8  4fd1c19b8eb7c8105d6f0f82     None   []     NaN   \n",
       "9  4fd1a3318eb7c8105d6ba69b     None   []     NaN   \n",
       "\n",
       "                 byline.original  \\\n",
       "0              By Andy Grundberg   \n",
       "1        By RICHARD W. STEVENSON   \n",
       "2               By Joel Kurtzman   \n",
       "3        By RICHARD W. STEVENSON   \n",
       "4                            NaN   \n",
       "5                            NaN   \n",
       "6           By MALCOLM W. BROWNE   \n",
       "7  By COL. HARRY G. SUMMERS JR.;   \n",
       "8                            NaN   \n",
       "9                            NaN   \n",
       "\n",
       "                                       byline.person document_type  \\\n",
       "0  [{u'organization': u'', u'role': u'reported', ...       article   \n",
       "1  [{u'firstname': u'Richard', u'middlename': u'W...       article   \n",
       "2  [{u'organization': u'', u'role': u'reported', ...       article   \n",
       "3  [{u'firstname': u'Richard', u'middlename': u'W...       article   \n",
       "4                                                NaN       article   \n",
       "5                                                NaN       article   \n",
       "6  [{u'firstname': u'Malcolm', u'middlename': u'W...       article   \n",
       "7  [{u'organization': u'', u'role': u'reported', ...       article   \n",
       "8                                                NaN       article   \n",
       "9                                                NaN       article   \n",
       "\n",
       "                                       headline.main  \\\n",
       "0                                             Camera   \n",
       "1  AIR FORCE CHOOSES LOCKHEED'S DESIGN FOR FIGHTE...   \n",
       "2                        Business Diary: April 21-26   \n",
       "3   Making a Difference; A Turnaround for Mr. Tellep   \n",
       "4                                       NEWS SUMMARY   \n",
       "5                  This Fighter Will Bust the Budget   \n",
       "6  2 Rival Designers Led the Way To Stealthy Warp...   \n",
       "7                    How to Be the World's Policeman   \n",
       "8   Why Mixing Defense and Commercial Ventures Fails   \n",
       "9     The F-22's Crucial Mission in the 21st Century   \n",
       "\n",
       "                                            keywords  \\\n",
       "0  [{u'name': u'subject', u'value': u'TERMS NOT A...   \n",
       "1  [{u'name': u'organizations', u'value': u'LOCKH...   \n",
       "2  [{u'name': u'subject', u'value': u'UNITED STAT...   \n",
       "3  [{u'name': u'persons', u'value': u'TELLEP, DAN...   \n",
       "4  [{u'name': u'subject', u'value': u'NO INDEX TE...   \n",
       "5  [{u'name': u'glocations', u'value': u'UNITED S...   \n",
       "6  [{u'name': u'persons', u'value': u'CASHEN, JOH...   \n",
       "7  [{u'name': u'subject', u'value': u'UNITED STAT...   \n",
       "8  [{u'name': u'persons', u'value': u'BINGAMAN, J...   \n",
       "9  [{u'name': u'persons', u'value': u'RICE, DONAL...   \n",
       "\n",
       "                                      lead_paragraph    ...     print_page  \\\n",
       "0  A friend recently returned from a photography ...    ...             79   \n",
       "1  Ending an intense five-year competition for wh...    ...              1   \n",
       "2  COMPANIES Lockheed's Side Gets a Big Boost Fro...    ...              2   \n",
       "3  A year ago, Daniel M. Tellep, the chairman and...    ...              7   \n",
       "4  International A3-9 United Nations officials in...    ...              2   \n",
       "5  Peace dividend? The Air Force is acting as if ...    ...             16   \n",
       "6  THE Air Force's award last month of a huge con...    ...              1   \n",
       "7  ON AUG. 2, 1990, the very day that Iraqi force...    ...             40   \n",
       "8  To the Editor: \"Behind the Choosing of the F-2...    ...             11   \n",
       "9  To the Editor: The Times has an outstanding hi...    ...             20   \n",
       "\n",
       "               pub_date          section_name slideshow_credits  \\\n",
       "0  1990-11-18T00:00:00Z                  None              None   \n",
       "1  1991-04-24T00:00:00Z  Front Page; Business              None   \n",
       "2  1991-04-28T00:00:00Z              Business              None   \n",
       "3  1991-04-28T00:00:00Z              Business              None   \n",
       "4  1991-04-29T00:00:00Z   New York and Region              None   \n",
       "5  1991-04-29T00:00:00Z               Opinion              None   \n",
       "6  1991-05-14T00:00:00Z       Science; Health              None   \n",
       "7  1991-05-19T00:00:00Z  Magazine; Washington              None   \n",
       "8  1991-05-19T00:00:00Z     Business; Opinion              None   \n",
       "9  1991-05-21T00:00:00Z               Opinion              None   \n",
       "\n",
       "                                             snippet              source  \\\n",
       "0  A friend recently returned from a photography ...  The New York Times   \n",
       "1  Ending an intense five-year competition for wh...  The New York Times   \n",
       "2  COMPANIES Lockheed's Side Gets a Big Boost Fro...  The New York Times   \n",
       "3  A year ago, Daniel M. Tellep, the chairman and...  The New York Times   \n",
       "4  International A3-9    United Nations officials...  The New York Times   \n",
       "5  Peace dividend? The Air Force is acting as if ...  The New York Times   \n",
       "6  THE Air Force's award last month of a huge con...  The New York Times   \n",
       "7  ON AUG. 2, 1990, the very day that Iraqi force...  The New York Times   \n",
       "8  To the Editor:   \"Behind the Choosing of the F...  The New York Times   \n",
       "9  To the Editor:   The Times has an outstanding ...  The New York Times   \n",
       "\n",
       "  subsection_name type_of_material  \\\n",
       "0            None             News   \n",
       "1            None             News   \n",
       "2            None          Summary   \n",
       "3            None             News   \n",
       "4            None          Summary   \n",
       "5            None        Editorial   \n",
       "6            None             News   \n",
       "7            None             News   \n",
       "8            None           Letter   \n",
       "9            None           Letter   \n",
       "\n",
       "                                             web_url word_count  \n",
       "0  http://www.nytimes.com/1990/11/18/news/camera....        815  \n",
       "1  http://www.nytimes.com/1991/04/24/business/air...       1250  \n",
       "2  http://www.nytimes.com/1991/04/28/business/bus...       1663  \n",
       "3  http://www.nytimes.com/1991/04/28/business/mak...        250  \n",
       "4  http://www.nytimes.com/1991/04/29/nyregion/new...       1180  \n",
       "5  http://www.nytimes.com/1991/04/29/opinion/this...        614  \n",
       "6  http://www.nytimes.com/1991/05/14/science/2-ri...       2251  \n",
       "7  http://www.nytimes.com/1991/05/19/magazine/how...       3211  \n",
       "8  http://www.nytimes.com/1991/05/19/business/l-w...        202  \n",
       "9  http://www.nytimes.com/1991/05/21/opinion/l-th...        734  \n",
       "\n",
       "[10 rows x 22 columns]>"
      ]
     },
     "execution_count": 15,
     "metadata": {},
     "output_type": "execute_result"
    }
   ],
   "source": [
    "pres_df = json_normalize(data['docs'])\n",
    "pres_df.head()\n",
    "pres_df.describe"
   ]
  },
  {
   "cell_type": "code",
   "execution_count": 16,
   "metadata": {
    "collapsed": true
   },
   "outputs": [
    {
     "data": {
      "text/html": [
       "<div>\n",
       "<table border=\"1\" class=\"dataframe\">\n",
       "  <thead>\n",
       "    <tr style=\"text-align: right;\">\n",
       "      <th></th>\n",
       "      <th>snippet</th>\n",
       "      <th>byline.original</th>\n",
       "      <th>type_of_material</th>\n",
       "    </tr>\n",
       "  </thead>\n",
       "  <tbody>\n",
       "    <tr>\n",
       "      <th>0</th>\n",
       "      <td>A friend recently returned from a photography ...</td>\n",
       "      <td>By Andy Grundberg</td>\n",
       "      <td>News</td>\n",
       "    </tr>\n",
       "    <tr>\n",
       "      <th>1</th>\n",
       "      <td>Ending an intense five-year competition for wh...</td>\n",
       "      <td>By RICHARD W. STEVENSON</td>\n",
       "      <td>News</td>\n",
       "    </tr>\n",
       "    <tr>\n",
       "      <th>2</th>\n",
       "      <td>COMPANIES Lockheed's Side Gets a Big Boost Fro...</td>\n",
       "      <td>By Joel Kurtzman</td>\n",
       "      <td>Summary</td>\n",
       "    </tr>\n",
       "    <tr>\n",
       "      <th>3</th>\n",
       "      <td>A year ago, Daniel M. Tellep, the chairman and...</td>\n",
       "      <td>By RICHARD W. STEVENSON</td>\n",
       "      <td>News</td>\n",
       "    </tr>\n",
       "    <tr>\n",
       "      <th>4</th>\n",
       "      <td>International A3-9    United Nations officials...</td>\n",
       "      <td>NaN</td>\n",
       "      <td>Summary</td>\n",
       "    </tr>\n",
       "    <tr>\n",
       "      <th>5</th>\n",
       "      <td>Peace dividend? The Air Force is acting as if ...</td>\n",
       "      <td>NaN</td>\n",
       "      <td>Editorial</td>\n",
       "    </tr>\n",
       "    <tr>\n",
       "      <th>6</th>\n",
       "      <td>THE Air Force's award last month of a huge con...</td>\n",
       "      <td>By MALCOLM W. BROWNE</td>\n",
       "      <td>News</td>\n",
       "    </tr>\n",
       "    <tr>\n",
       "      <th>7</th>\n",
       "      <td>ON AUG. 2, 1990, the very day that Iraqi force...</td>\n",
       "      <td>By COL. HARRY G. SUMMERS JR.;</td>\n",
       "      <td>News</td>\n",
       "    </tr>\n",
       "    <tr>\n",
       "      <th>8</th>\n",
       "      <td>To the Editor:   \"Behind the Choosing of the F...</td>\n",
       "      <td>NaN</td>\n",
       "      <td>Letter</td>\n",
       "    </tr>\n",
       "    <tr>\n",
       "      <th>9</th>\n",
       "      <td>To the Editor:   The Times has an outstanding ...</td>\n",
       "      <td>NaN</td>\n",
       "      <td>Letter</td>\n",
       "    </tr>\n",
       "  </tbody>\n",
       "</table>\n",
       "</div>"
      ],
      "text/plain": [
       "                                             snippet  \\\n",
       "0  A friend recently returned from a photography ...   \n",
       "1  Ending an intense five-year competition for wh...   \n",
       "2  COMPANIES Lockheed's Side Gets a Big Boost Fro...   \n",
       "3  A year ago, Daniel M. Tellep, the chairman and...   \n",
       "4  International A3-9    United Nations officials...   \n",
       "5  Peace dividend? The Air Force is acting as if ...   \n",
       "6  THE Air Force's award last month of a huge con...   \n",
       "7  ON AUG. 2, 1990, the very day that Iraqi force...   \n",
       "8  To the Editor:   \"Behind the Choosing of the F...   \n",
       "9  To the Editor:   The Times has an outstanding ...   \n",
       "\n",
       "                 byline.original type_of_material  \n",
       "0              By Andy Grundberg             News  \n",
       "1        By RICHARD W. STEVENSON             News  \n",
       "2               By Joel Kurtzman          Summary  \n",
       "3        By RICHARD W. STEVENSON             News  \n",
       "4                            NaN          Summary  \n",
       "5                            NaN        Editorial  \n",
       "6           By MALCOLM W. BROWNE             News  \n",
       "7  By COL. HARRY G. SUMMERS JR.;             News  \n",
       "8                            NaN           Letter  \n",
       "9                            NaN           Letter  "
      ]
     },
     "execution_count": 16,
     "metadata": {},
     "output_type": "execute_result"
    }
   ],
   "source": [
    "pres_df[['snippet', 'byline.original', 'type_of_material']]"
   ]
  },
  {
   "cell_type": "code",
   "execution_count": 17,
   "metadata": {
    "collapsed": false
   },
   "outputs": [],
   "source": [
    "# We can then write to a .CSV"
   ]
  },
  {
   "cell_type": "markdown",
   "metadata": {},
   "source": [
    "# Exercise: NY Times movies"
   ]
  },
  {
   "cell_type": "code",
   "execution_count": 29,
   "metadata": {
    "collapsed": false
   },
   "outputs": [
    {
     "data": {
      "text/plain": [
       "{'Content-Length': '17291', 'X-Powered-By': 'PHP/5.3.27', 'Vary': 'Accept-Encoding', 'Server': 'nginx/1.4.1', 'Access-Control-Allow-Credentials': 'true', 'Date': 'Tue, 22 Mar 2016 23:05:00 GMT', 'X-Mashery-Responder': 'prod-j-worker-atl-03.mashery.com', 'X-Cached': 'MISS', 'Content-Type': 'application/json; charset=UTF-8', 'Access-Control-Allow-Origin': '*'}"
      ]
     },
     "execution_count": 29,
     "metadata": {},
     "output_type": "execute_result"
    }
   ],
   "source": [
    "movie_call = \"http://api.nytimes.com/svc/movies/v2/reviews/search.json?\"\\\n",
    "             \"query=aviation&publication-date=2000-01-01%3B2010-12-31&\"\\\n",
    "             \"api-key=4576d4d652318480057e0157ebccc429%3A14%3A60973557\"\n",
    "website = requests.get(api_call)\n",
    "## take a look at the headers\n",
    "website.headers"
   ]
  },
  {
   "cell_type": "code",
   "execution_count": 55,
   "metadata": {
    "collapsed": false
   },
   "outputs": [
    {
     "data": {
      "text/plain": [
       "Index([                    u'byline',             u'capsule_review',\n",
       "                     u'critics_pick',               u'date_updated',\n",
       "                    u'display_title',           u'dvd_release_date',\n",
       "                         u'headline',   u'link.suggested_link_text',\n",
       "                        u'link.type',                   u'link.url',\n",
       "                      u'mpaa_rating', u'multimedia.resource.height',\n",
       "          u'multimedia.resource.src',   u'multimedia.resource.type',\n",
       "        u'multimedia.resource.width',               u'nyt_movie_id',\n",
       "                     u'opening_date',           u'publication_date',\n",
       "                     u'related_urls',                   u'seo_name',\n",
       "                        u'sort_name',              u'summary_short',\n",
       "                    u'thousand_best'],\n",
       "      dtype='object')"
      ]
     },
     "execution_count": 55,
     "metadata": {},
     "output_type": "execute_result"
    }
   ],
   "source": [
    "## rerun the api request with urllib2 andtransform the data to pandas dataframe \n",
    "request=urllib2.Request(movie_call)\n",
    "response = urllib2.urlopen(request)\n",
    "elevations = response.read()\n",
    "data = json.loads(elevations)\n",
    "movies = json_normalize(data[\"results\"])\n",
    "movies.columns"
   ]
  },
  {
   "cell_type": "code",
   "execution_count": 148,
   "metadata": {
    "collapsed": false
   },
   "outputs": [
    {
     "data": {
      "text/html": [
       "<div>\n",
       "<table border=\"1\" class=\"dataframe\">\n",
       "  <thead>\n",
       "    <tr style=\"text-align: right;\">\n",
       "      <th></th>\n",
       "      <th>display_title</th>\n",
       "      <th>headline</th>\n",
       "      <th>nyt_movie_id</th>\n",
       "      <th>critics_pick</th>\n",
       "      <th>summary_short</th>\n",
       "    </tr>\n",
       "  </thead>\n",
       "  <tbody>\n",
       "    <tr>\n",
       "      <th>0</th>\n",
       "      <td>The Girl Who Played with Fire</td>\n",
       "      <td>Even in the Rising Heat, She Stays Pretty Cool</td>\n",
       "      <td>454107</td>\n",
       "      <td>0</td>\n",
       "      <td>Noomi Rapace brings an intense rightness to th...</td>\n",
       "    </tr>\n",
       "    <tr>\n",
       "      <th>1</th>\n",
       "      <td>The Girl Who Kicked the Hornet's Nest</td>\n",
       "      <td>In Trilogy’s Finale, Tough Girl Rages Against ...</td>\n",
       "      <td>457606</td>\n",
       "      <td>0</td>\n",
       "      <td>&amp;ldquo;The Girl Who Kicked the Hornet&amp;rsquo;s ...</td>\n",
       "    </tr>\n",
       "    <tr>\n",
       "      <th>2</th>\n",
       "      <td>Agora</td>\n",
       "      <td>Love Amid the Togas and the Intolerant</td>\n",
       "      <td>453107</td>\n",
       "      <td>1</td>\n",
       "      <td>“Agora” is a rousing, toga drama from the Chil...</td>\n",
       "    </tr>\n",
       "    <tr>\n",
       "      <th>3</th>\n",
       "      <td>The Life Before Her Eyes</td>\n",
       "      <td>Robbed of Youth, and Saddled With Guilt</td>\n",
       "      <td>352387</td>\n",
       "      <td>0</td>\n",
       "      <td>“The Life Before Her Eyes” plays an irritating...</td>\n",
       "    </tr>\n",
       "    <tr>\n",
       "      <th>4</th>\n",
       "      <td>Body of Lies</td>\n",
       "      <td>Big Stars Wielding an Array of Accents, Fighti...</td>\n",
       "      <td>393933</td>\n",
       "      <td>0</td>\n",
       "      <td>Ridley Scott’s new movie, “Body of Lies,” rais...</td>\n",
       "    </tr>\n",
       "    <tr>\n",
       "      <th>5</th>\n",
       "      <td>The Nativity Story</td>\n",
       "      <td>The Virgin Mary as a Teenager With Worries</td>\n",
       "      <td>347448</td>\n",
       "      <td>0</td>\n",
       "      <td>Nothing earth-shaking, but a fine performance ...</td>\n",
       "    </tr>\n",
       "    <tr>\n",
       "      <th>6</th>\n",
       "      <td>Don't Tell</td>\n",
       "      <td>One Woman's Happiness and Hysteria</td>\n",
       "      <td>332972</td>\n",
       "      <td>0</td>\n",
       "      <td>This rambling high-end soap opera about a woma...</td>\n",
       "    </tr>\n",
       "    <tr>\n",
       "      <th>7</th>\n",
       "      <td>The Legend of Zorro</td>\n",
       "      <td>Off to Save America With Cape and Mask</td>\n",
       "      <td>291163</td>\n",
       "      <td>0</td>\n",
       "      <td>Like most sequels, this successor to \"The Mask...</td>\n",
       "    </tr>\n",
       "    <tr>\n",
       "      <th>8</th>\n",
       "      <td>Proof</td>\n",
       "      <td>Solving for X: Is She Crazy or a Math Mastermind?</td>\n",
       "      <td>299131</td>\n",
       "      <td>0</td>\n",
       "      <td>A terribly serious adaptation of David Auburn'...</td>\n",
       "    </tr>\n",
       "    <tr>\n",
       "      <th>9</th>\n",
       "      <td>Robots</td>\n",
       "      <td>Machines That Rage Against Other Machines</td>\n",
       "      <td>289664</td>\n",
       "      <td>0</td>\n",
       "      <td>This computer-animated film's setting, a world...</td>\n",
       "    </tr>\n",
       "    <tr>\n",
       "      <th>10</th>\n",
       "      <td>Campfire</td>\n",
       "      <td>A Time of Tangled Transition in Israel, and in...</td>\n",
       "      <td>327001</td>\n",
       "      <td>0</td>\n",
       "      <td>The Israeli movie set in 1981 in the early day...</td>\n",
       "    </tr>\n",
       "    <tr>\n",
       "      <th>11</th>\n",
       "      <td>Up and Down</td>\n",
       "      <td>Czechs So Divided That Bad News Is Rarely All Bad</td>\n",
       "      <td>310999</td>\n",
       "      <td>0</td>\n",
       "      <td>This engaging, unruly mix of comedy and melodr...</td>\n",
       "    </tr>\n",
       "    <tr>\n",
       "      <th>12</th>\n",
       "      <td>Tell Them Who You Are</td>\n",
       "      <td>A Moviemaker Seen Through the Lens of His Son</td>\n",
       "      <td>313738</td>\n",
       "      <td>1</td>\n",
       "      <td>This intimate portrait of the legendary octoge...</td>\n",
       "    </tr>\n",
       "    <tr>\n",
       "      <th>13</th>\n",
       "      <td>Bridget Jones: The Edge of Reason</td>\n",
       "      <td>Bulking Up for Bridget, Then Diving Into a Pigsty</td>\n",
       "      <td>299522</td>\n",
       "      <td>0</td>\n",
       "      <td>Packing the weight back on, Renée Zellweger ag...</td>\n",
       "    </tr>\n",
       "    <tr>\n",
       "      <th>14</th>\n",
       "      <td>The Animation Show</td>\n",
       "      <td>A Festival of Cartoons, Not Made for Children</td>\n",
       "      <td>293965</td>\n",
       "      <td>0</td>\n",
       "      <td></td>\n",
       "    </tr>\n",
       "    <tr>\n",
       "      <th>15</th>\n",
       "      <td>Lost In Translation</td>\n",
       "      <td>An American in Japan, Making a Connection</td>\n",
       "      <td>283628</td>\n",
       "      <td>1</td>\n",
       "      <td>Sofia Coppola's comic melodrama thoroughly and...</td>\n",
       "    </tr>\n",
       "    <tr>\n",
       "      <th>16</th>\n",
       "      <td>Out of Time</td>\n",
       "      <td>Everyone's on His Case (Especially His Wife)</td>\n",
       "      <td>280231</td>\n",
       "      <td>0</td>\n",
       "      <td>After grueling workouts in \"Training Day\" — fo...</td>\n",
       "    </tr>\n",
       "    <tr>\n",
       "      <th>17</th>\n",
       "      <td>The Green Butchers</td>\n",
       "      <td>Food for Thought, or Why You Might Skip That S...</td>\n",
       "      <td>295933</td>\n",
       "      <td>0</td>\n",
       "      <td>Neither high flying enough for the art house n...</td>\n",
       "    </tr>\n",
       "    <tr>\n",
       "      <th>18</th>\n",
       "      <td>And Now Ladies and Gentlemen</td>\n",
       "      <td>A Lelouch Jet-Set Fantasy</td>\n",
       "      <td>265817</td>\n",
       "      <td>0</td>\n",
       "      <td>Claude Lelouch (\"A Man and a Woman\") is the di...</td>\n",
       "    </tr>\n",
       "    <tr>\n",
       "      <th>19</th>\n",
       "      <td>Assassination Tango</td>\n",
       "      <td></td>\n",
       "      <td>260403</td>\n",
       "      <td>0</td>\n",
       "      <td></td>\n",
       "    </tr>\n",
       "  </tbody>\n",
       "</table>\n",
       "</div>"
      ],
      "text/plain": [
       "                            display_title  \\\n",
       "0           The Girl Who Played with Fire   \n",
       "1   The Girl Who Kicked the Hornet's Nest   \n",
       "2                                   Agora   \n",
       "3                The Life Before Her Eyes   \n",
       "4                            Body of Lies   \n",
       "5                      The Nativity Story   \n",
       "6                              Don't Tell   \n",
       "7                     The Legend of Zorro   \n",
       "8                                   Proof   \n",
       "9                                  Robots   \n",
       "10                               Campfire   \n",
       "11                            Up and Down   \n",
       "12                  Tell Them Who You Are   \n",
       "13      Bridget Jones: The Edge of Reason   \n",
       "14                     The Animation Show   \n",
       "15                    Lost In Translation   \n",
       "16                            Out of Time   \n",
       "17                     The Green Butchers   \n",
       "18           And Now Ladies and Gentlemen   \n",
       "19                    Assassination Tango   \n",
       "\n",
       "                                             headline  nyt_movie_id  \\\n",
       "0      Even in the Rising Heat, She Stays Pretty Cool        454107   \n",
       "1   In Trilogy’s Finale, Tough Girl Rages Against ...        457606   \n",
       "2              Love Amid the Togas and the Intolerant        453107   \n",
       "3             Robbed of Youth, and Saddled With Guilt        352387   \n",
       "4   Big Stars Wielding an Array of Accents, Fighti...        393933   \n",
       "5          The Virgin Mary as a Teenager With Worries        347448   \n",
       "6                  One Woman's Happiness and Hysteria        332972   \n",
       "7              Off to Save America With Cape and Mask        291163   \n",
       "8   Solving for X: Is She Crazy or a Math Mastermind?        299131   \n",
       "9           Machines That Rage Against Other Machines        289664   \n",
       "10  A Time of Tangled Transition in Israel, and in...        327001   \n",
       "11  Czechs So Divided That Bad News Is Rarely All Bad        310999   \n",
       "12      A Moviemaker Seen Through the Lens of His Son        313738   \n",
       "13  Bulking Up for Bridget, Then Diving Into a Pigsty        299522   \n",
       "14      A Festival of Cartoons, Not Made for Children        293965   \n",
       "15          An American in Japan, Making a Connection        283628   \n",
       "16       Everyone's on His Case (Especially His Wife)        280231   \n",
       "17  Food for Thought, or Why You Might Skip That S...        295933   \n",
       "18                          A Lelouch Jet-Set Fantasy        265817   \n",
       "19                                                           260403   \n",
       "\n",
       "    critics_pick                                      summary_short  \n",
       "0              0  Noomi Rapace brings an intense rightness to th...  \n",
       "1              0  &ldquo;The Girl Who Kicked the Hornet&rsquo;s ...  \n",
       "2              1  “Agora” is a rousing, toga drama from the Chil...  \n",
       "3              0  “The Life Before Her Eyes” plays an irritating...  \n",
       "4              0  Ridley Scott’s new movie, “Body of Lies,” rais...  \n",
       "5              0  Nothing earth-shaking, but a fine performance ...  \n",
       "6              0  This rambling high-end soap opera about a woma...  \n",
       "7              0  Like most sequels, this successor to \"The Mask...  \n",
       "8              0  A terribly serious adaptation of David Auburn'...  \n",
       "9              0  This computer-animated film's setting, a world...  \n",
       "10             0  The Israeli movie set in 1981 in the early day...  \n",
       "11             0  This engaging, unruly mix of comedy and melodr...  \n",
       "12             1  This intimate portrait of the legendary octoge...  \n",
       "13             0  Packing the weight back on, Renée Zellweger ag...  \n",
       "14             0                                                     \n",
       "15             1  Sofia Coppola's comic melodrama thoroughly and...  \n",
       "16             0  After grueling workouts in \"Training Day\" — fo...  \n",
       "17             0  Neither high flying enough for the art house n...  \n",
       "18             0  Claude Lelouch (\"A Man and a Woman\") is the di...  \n",
       "19             0                                                     "
      ]
     },
     "execution_count": 148,
     "metadata": {},
     "output_type": "execute_result"
    }
   ],
   "source": [
    "## print a data frame with just the title, movie id and critics pick status\n",
    "movies_df = movies[[\"display_title\",\"headline\",\"nyt_movie_id\",\"critics_pick\",'summary_short']]\n",
    "movies_df"
   ]
  },
  {
   "cell_type": "markdown",
   "metadata": {},
   "source": [
    "## Bonus: \n",
    "#### Use this data to do NLP pre-processing then model it to predict critics picks based on the text in the review."
   ]
  },
  {
   "cell_type": "code",
   "execution_count": 149,
   "metadata": {
    "collapsed": false
   },
   "outputs": [],
   "source": [
    "movies_df.to_csv(\"Oscars.csv\",encoding='utf-8')"
   ]
  },
  {
   "cell_type": "code",
   "execution_count": 150,
   "metadata": {
    "collapsed": false
   },
   "outputs": [],
   "source": [
    "from spacy.en import English\n",
    "nlp_toolkit = English()"
   ]
  },
  {
   "cell_type": "code",
   "execution_count": 156,
   "metadata": {
    "collapsed": false
   },
   "outputs": [],
   "source": [
    "nlp_work = pd.read_csv(\"Oscars.csv\")\n",
    "nlp_df = pd.DataFrame(nlp_work)\n",
    "nlp_df = nlp_df.drop(\"Unnamed: 0\",axis=1)\n",
    "nlp_df[\"headline\"] = nlp_df[\"headline\"].fillna(\"\")\n",
    "nlp_df[\"summary_short\"] = nlp_df[\"summary_short\"].fillna(\"\")"
   ]
  },
  {
   "cell_type": "code",
   "execution_count": 157,
   "metadata": {
    "collapsed": true
   },
   "outputs": [],
   "source": [
    "def award_in_title(title):\n",
    "    print title\n",
    "    titleU = title.decode('utf-8')\n",
    "    parsed = nlp_toolkit(titleU)\n",
    "    if any([word.lemma_ in [\"oscar\",\"academy\",\"award\"] for word in parsed]):\n",
    "        return 1\n",
    "    else:\n",
    "        return 0"
   ]
  },
  {
   "cell_type": "code",
   "execution_count": 159,
   "metadata": {
    "collapsed": false
   },
   "outputs": [
    {
     "name": "stdout",
     "output_type": "stream",
     "text": [
      "Even in the Rising Heat, She Stays Pretty Cool\n",
      "In Trilogy’s Finale, Tough Girl Rages Against Villains of Society\n",
      "Love Amid the Togas and the Intolerant\n",
      "Robbed of Youth, and Saddled With Guilt\n",
      "Big Stars Wielding an Array of Accents, Fighting the War on Terrorism\n",
      "The Virgin Mary as a Teenager With Worries\n",
      "One Woman's Happiness and Hysteria\n",
      "Off to Save America With Cape and Mask\n",
      "Solving for X: Is She Crazy or a Math Mastermind?\n",
      "Machines That Rage Against Other Machines\n",
      "A Time of Tangled Transition in Israel, and in a Family\n",
      "Czechs So Divided That Bad News Is Rarely All Bad\n",
      "A Moviemaker Seen Through the Lens of His Son\n",
      "Bulking Up for Bridget, Then Diving Into a Pigsty\n",
      "A Festival of Cartoons, Not Made for Children\n",
      "An American in Japan, Making a Connection\n",
      "Everyone's on His Case (Especially His Wife)\n",
      "Food for Thought, or Why You Might Skip That Steak\n",
      "A Lelouch Jet-Set Fantasy\n",
      "\n",
      "Noomi Rapace brings an intense rightness to the role of Lisbeth Salander in “The Girl Who Played With Fire.”\n",
      "&ldquo;The Girl Who Kicked the Hornet&rsquo;s Nest” feels like the concluding chapter it is, with neatly tied loose ends and closing remarks, though it unfolds as something of a secular passion play.\n",
      "“Agora” is a rousing, toga drama from the Chilean-born director Alejandro Amenábar about the culture wars in ancient Egypt.\n",
      "“The Life Before Her Eyes” plays an irritating game of narrative hide-and-seek, continually doubling back on itself to revisit the trauma from which all else evolves.\n",
      "Ridley Scott’s new movie, “Body of Lies,” raises a potentially disturbing question. If terrorism has become boring, does that mean the terrorists have won?\n",
      "Nothing earth-shaking, but a fine performance by Keisha Castle-Hughes as Mary offers a glimpse of an interesting movie tucked inside what is otherwise an unsurprising and tasteful Christmas pageant.  \n",
      "This rambling high-end soap opera about a woman’s repressed memories of incestuous child was unaccountably nominated for an Oscar for best foreign language film.\n",
      "Like most sequels, this successor to \"The Mask of Zorro\" feels obliged to outperform its forerunner by being bigger, faster and more spectacular. That translates into busier, sloppier, less coherent and more frantic.\n",
      "A terribly serious adaptation of David Auburn's prize-laden Broadway play starring Gwyneth Paltrow as the daughter of a dead mathematician struggling to come to terms with both her father's legacy and her own troubled mind.\n",
      "This computer-animated film's setting, a world made entirely for and by clanky mechanical gizmos, is rendered with impressive skill and imagination. Otherwise, it's the usual junkyard assemblage of celebrity voices, lame pop-cultural allusions and heartwarming lessons.\n",
      "The Israeli movie set in 1981 in the early days of the settler movement examines the conflicted desires of a widowed mother who applies for membership in a settlement and her two teenage daughters who are dead set against her joining.\n",
      "This engaging, unruly mix of comedy and melodrama, the Czech Republic’s nominee for the best foreign film Oscar, follows the mood swings suggested by its title. Tracing the generally unhappy doings of a dozen or so loosely connected people in contemporary Prague, it skips from buoyant satire to domestic melodrama, leaving behind a curious mix of emotions.\n",
      "This intimate portrait of the legendary octogenarian cinematographer Haskell Wexler, filmed by his son, is an artistic father-son power struggle for control of a movie being made. It is the richest documentary of its kind since Terry Zwigoff’s \"Crumb.\"\n",
      "Packing the weight back on, Renée Zellweger again incarnates the plucky heroine of Helen Fielding's chick lit classic, \"Bridget Jones's Diary.\" The new film begins four weeks after the last one left off, with Bridget discovering that her courtly suitor (Colin Firth) has the secret heart of a conservative. Suddenly, womanizing Hugh Grant starts to look a lot better.\n",
      "\n",
      "Sofia Coppola's comic melodrama thoroughly and touchingly bridges the yawning gap between three standards of yearning in movies: David Lean's \"Brief Encounter,\" Richard Linklater's \"Before Sunrise\" and Wong Kar-wai's \"In the Mood for Love.\"\n",
      "After grueling workouts in \"Training Day\" — for which he won his first Best Actor Oscar —  and his directorial debut with \"Antwon Fisher,\" Denzel Washington is on cruise-control for this noir film.\n",
      "Neither high flying enough for the art house nor low down enough for the cult-video shelf, \"The Green Butchers,\" a Danish film about the cannibal business, has pedigree if little else to recommend it.\n",
      "Claude Lelouch (\"A Man and a Woman\") is the director of this romantic thriller, which was the closing-night feature at the Cannes Film Festival last year.\n",
      "\n"
     ]
    },
    {
     "data": {
      "text/html": [
       "<div>\n",
       "<table border=\"1\" class=\"dataframe\">\n",
       "  <thead>\n",
       "    <tr style=\"text-align: right;\">\n",
       "      <th></th>\n",
       "      <th>nyt_movie_id</th>\n",
       "      <th>critics_pick</th>\n",
       "      <th>award_in_title</th>\n",
       "      <th>award_in_sum</th>\n",
       "    </tr>\n",
       "  </thead>\n",
       "  <tbody>\n",
       "    <tr>\n",
       "      <th>count</th>\n",
       "      <td>20.000000</td>\n",
       "      <td>20.000000</td>\n",
       "      <td>20</td>\n",
       "      <td>20.000000</td>\n",
       "    </tr>\n",
       "    <tr>\n",
       "      <th>mean</th>\n",
       "      <td>330137.750000</td>\n",
       "      <td>0.150000</td>\n",
       "      <td>0</td>\n",
       "      <td>0.150000</td>\n",
       "    </tr>\n",
       "    <tr>\n",
       "      <th>std</th>\n",
       "      <td>62172.872529</td>\n",
       "      <td>0.366348</td>\n",
       "      <td>0</td>\n",
       "      <td>0.366348</td>\n",
       "    </tr>\n",
       "    <tr>\n",
       "      <th>min</th>\n",
       "      <td>260403.000000</td>\n",
       "      <td>0.000000</td>\n",
       "      <td>0</td>\n",
       "      <td>0.000000</td>\n",
       "    </tr>\n",
       "    <tr>\n",
       "      <th>25%</th>\n",
       "      <td>290788.250000</td>\n",
       "      <td>0.000000</td>\n",
       "      <td>0</td>\n",
       "      <td>0.000000</td>\n",
       "    </tr>\n",
       "    <tr>\n",
       "      <th>50%</th>\n",
       "      <td>305260.500000</td>\n",
       "      <td>0.000000</td>\n",
       "      <td>0</td>\n",
       "      <td>0.000000</td>\n",
       "    </tr>\n",
       "    <tr>\n",
       "      <th>75%</th>\n",
       "      <td>348682.750000</td>\n",
       "      <td>0.000000</td>\n",
       "      <td>0</td>\n",
       "      <td>0.000000</td>\n",
       "    </tr>\n",
       "    <tr>\n",
       "      <th>max</th>\n",
       "      <td>457606.000000</td>\n",
       "      <td>1.000000</td>\n",
       "      <td>0</td>\n",
       "      <td>1.000000</td>\n",
       "    </tr>\n",
       "  </tbody>\n",
       "</table>\n",
       "</div>"
      ],
      "text/plain": [
       "        nyt_movie_id  critics_pick  award_in_title  award_in_sum\n",
       "count      20.000000     20.000000              20     20.000000\n",
       "mean   330137.750000      0.150000               0      0.150000\n",
       "std     62172.872529      0.366348               0      0.366348\n",
       "min    260403.000000      0.000000               0      0.000000\n",
       "25%    290788.250000      0.000000               0      0.000000\n",
       "50%    305260.500000      0.000000               0      0.000000\n",
       "75%    348682.750000      0.000000               0      0.000000\n",
       "max    457606.000000      1.000000               0      1.000000"
      ]
     },
     "execution_count": 159,
     "metadata": {},
     "output_type": "execute_result"
    }
   ],
   "source": [
    "nlp_df[\"award_in_title\"] = nlp_df[\"headline\"].map(award_in_title)\n",
    "nlp_df[\"award_in_sum\"] = nlp_df[\"summary_short\"].map(award_in_title)\n",
    "nlp_df.describe()"
   ]
  },
  {
   "cell_type": "code",
   "execution_count": 165,
   "metadata": {
    "collapsed": false
   },
   "outputs": [
    {
     "name": "stdout",
     "output_type": "stream",
     "text": [
      "returns singular error, so lets try a random forest\n"
     ]
    }
   ],
   "source": [
    "import statsmodels.api as sm\n",
    "critic_logit = sm.Logit(nlp_df[\"critics_pick\"],nlp_df[[\"award_in_title\",\"award_in_sum\"]])\n",
    "#critic_fit = critic_logit.fit(maxiter=10)\n",
    "print (\"returns singular error, so lets try a random forest\")"
   ]
  },
  {
   "cell_type": "markdown",
   "metadata": {},
   "source": [
    "#### Trying to make a random forest based off of words in the title, then will try with words from the summary"
   ]
  },
  {
   "cell_type": "code",
   "execution_count": 226,
   "metadata": {
    "collapsed": true
   },
   "outputs": [],
   "source": [
    "from sklearn.feature_extraction.text import CountVectorizer\n",
    "from sklearn import tree\n",
    "from sklearn.cross_validation import cross_val_score\n",
    "from sklearn.tree import export_graphviz\n",
    "from IPython.display import Image\n",
    "from os import system "
   ]
  },
  {
   "cell_type": "code",
   "execution_count": 221,
   "metadata": {
    "collapsed": false
   },
   "outputs": [
    {
     "data": {
      "text/plain": [
       "DecisionTreeClassifier(class_weight=None, criterion='gini', max_depth=5,\n",
       "            max_features=None, max_leaf_nodes=50, min_samples_leaf=1,\n",
       "            min_samples_split=3, min_weight_fraction_leaf=0.0,\n",
       "            presort=False, random_state=None, splitter='best')"
      ]
     },
     "execution_count": 221,
     "metadata": {},
     "output_type": "execute_result"
    }
   ],
   "source": [
    "vectorizer = CountVectorizer(max_features=1000,ngram_range=(0,3))\n",
    "summaries = nlp_df[\"summary_short\"]\n",
    "vectorizer.fit(summaries)\n",
    "X = vectorizer.transform(summaries)\n",
    "Y = nlp_df[\"critics_pick\"]\n",
    "classifier = tree.DecisionTreeClassifier(min_samples_split=3,max_leaf_nodes=50,max_depth=5)\n",
    "classifier.fit(X,Y)\n"
   ]
  },
  {
   "cell_type": "code",
   "execution_count": 222,
   "metadata": {
    "collapsed": false
   },
   "outputs": [],
   "source": [
    "columns_names = list(vectorizer.get_feature_names())"
   ]
  },
  {
   "cell_type": "code",
   "execution_count": 223,
   "metadata": {
    "collapsed": false
   },
   "outputs": [],
   "source": [
    "def make_visual(model):\n",
    "    dotfile = open(\"tree.dot\", 'w')\n",
    "    export_graphviz(classifier, out_file = dotfile, feature_names = columns_names)\n",
    "    dotfile.close()\n",
    "    system(\"dot -Tpng tree.dot -o tree.png\")\n",
    "make_visual(classifier)"
   ]
  },
  {
   "cell_type": "code",
   "execution_count": 225,
   "metadata": {
    "collapsed": false
   },
   "outputs": [
    {
     "data": {
      "image/png": "[encoded data removed]",
      "text/plain": [
       "<IPython.core.display.Image object>"
      ]
     },
     "execution_count": 225,
     "metadata": {},
     "output_type": "execute_result"
    }
   ],
   "source": [
    "Image(filename='tree.png')"
   ]
  },
  {
   "cell_type": "markdown",
   "metadata": {},
   "source": [
    "## Repeat this process with a new API"
   ]
  },
  {
   "cell_type": "code",
   "execution_count": null,
   "metadata": {
    "collapsed": false
   },
   "outputs": [],
   "source": []
  },
  {
   "cell_type": "markdown",
   "metadata": {},
   "source": [
    "## Extra credit: \n",
    "There are several ways to convert to a python data frame. Find another!"
   ]
  },
  {
   "cell_type": "code",
   "execution_count": null,
   "metadata": {
    "collapsed": false
   },
   "outputs": [],
   "source": []
  },
  {
   "cell_type": "markdown",
   "metadata": {},
   "source": [
    "## New to APIs? What to know more about RESTful APIs?\n",
    "Check out this great tutorial\n",
    "https://www.codecademy.com/courses/python-intermediate-en-6zbLp/3/5?curriculum_id=50ecbb00306689057a000188"
   ]
  }
 ],
 "metadata": {
  "kernelspec": {
   "display_name": "Python 2",
   "language": "python",
   "name": "python2"
  },
  "language_info": {
   "codemirror_mode": {
    "name": "ipython",
    "version": 2
   },
   "file_extension": ".py",
   "mimetype": "text/x-python",
   "name": "python",
   "nbconvert_exporter": "python",
   "pygments_lexer": "ipython2",
   "version": "2.7.11"
  }
 },
 "nbformat": 4,
 "nbformat_minor": 0
}
