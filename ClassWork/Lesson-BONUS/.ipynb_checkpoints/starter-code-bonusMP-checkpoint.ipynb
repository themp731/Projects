{
 "cells": [
  {
   "cell_type": "code",
   "execution_count": 1,
   "metadata": {
    "collapsed": true
   },
   "outputs": [],
   "source": [
    "import numpy as np\n",
    "import pandas as pd\n",
    "\n",
    "#tools to help with JSON\n",
    "import json\n",
    "from pandas.io.json import json_normalize\n",
    "#pprint - pretty print - preserves formatting\n",
    "from pprint import pprint\n",
    "\n",
    "#urllib / requests - used commonly for apis\n",
    "import requests\n",
    "import urllib2\n"
   ]
  },
  {
   "cell_type": "markdown",
   "metadata": {},
   "source": [
    "# APIs\n",
    "- https://www.yelp.com/developers/documentation\n",
    "- http://www.reddit.com/dev/api\n",
    "- http://www.publicapis.com\n",
    "- https://apps.twitter.com (OAUTH nightmares)\n",
    "- http://developer.rottentomatoes.com/docs\n",
    "- http://developer.nytimes.com/"
   ]
  },
  {
   "cell_type": "markdown",
   "metadata": {},
   "source": [
    "### Wikipedia "
   ]
  },
  {
   "cell_type": "markdown",
   "metadata": {},
   "source": [
    "- https://en.wikipedia.org/w/api.php?action=help&modules=main (API documentation)\n",
    "- https://en.wikipedia.org/w/api.php?action=help&modules=query (more documentation)\n",
    "- https://en.wikipedia.org/w/api.php?action=help&modules=query%2Bextracts (Returns plain-text or limited HTML extracts of the given pages)"
   ]
  },
  {
   "cell_type": "markdown",
   "metadata": {},
   "source": [
    "#Example: NY Times contributions example"
   ]
  },
  {
   "cell_type": "markdown",
   "metadata": {},
   "source": [
    "## Using a web api\n",
    "- Everything after the '?' is called the query string, '&' denotes variables\n",
    "- API-Key is provided by the api owner and should not be shared (typically)\n",
    "\n",
    "http://api.nytimes.com/svc/elections/us/v3/finances/2012/contributions/candidate/P80003338.json?api-key=a135ff57e67e72c98171ea7a99d92d5b%3A8%3A72904630\""
   ]
  },
  {
   "cell_type": "markdown",
   "metadata": {},
   "source": [
    "### API Call"
   ]
  },
  {
   "cell_type": "markdown",
   "metadata": {},
   "source": [
    "### Let's build our call\n",
    "NY Times api has a handy query builder that can help us get started using their api. \n",
    "http://developer.nytimes.com/io-docs\n"
   ]
  },
  {
   "cell_type": "code",
   "execution_count": 5,
   "metadata": {
    "collapsed": true
   },
   "outputs": [
    {
     "data": {
      "text/plain": [
       "{'Content-Length': '17291', 'X-Powered-By': 'PHP/5.3.27', 'Vary': 'Accept-Encoding', 'Server': 'nginx/1.4.1', 'Access-Control-Allow-Credentials': 'true', 'Date': 'Tue, 22 Mar 2016 23:05:00 GMT', 'X-Mashery-Responder': 'prod-j-worker-atl-01.mashery.com', 'X-Cached': 'MISS', 'Content-Type': 'application/json; charset=UTF-8', 'Access-Control-Allow-Origin': '*'}"
      ]
     },
     "execution_count": 5,
     "metadata": {},
     "output_type": "execute_result"
    }
   ],
   "source": [
    "api_call = \"http://api.nytimes.com/svc/search/v2/articlesearch.json?q=%22F-22%22&\"\\\n",
    "                       \"begin_date=19900101&end_date=19981231&sort=oldest&api-\"\\\n",
    "                       \"key=52576efae1e6ae68fa52aa793d823f24%3A13%3A60973557\"\n",
    "website = requests.get(api_call)\n",
    "website.headers"
   ]
  },
  {
   "cell_type": "markdown",
   "metadata": {},
   "source": [
    "Info on website status can be found here: http://www.w3.org/Protocols/rfc2616/rfc2616-sec10.html"
   ]
  },
  {
   "cell_type": "markdown",
   "metadata": {},
   "source": [
    "## JSON"
   ]
  },
  {
   "cell_type": "markdown",
   "metadata": {},
   "source": [
    "- javascript object notation\n",
    "- comporable to xml\n",
    "- structured information"
   ]
  },
  {
   "cell_type": "code",
   "execution_count": 4,
   "metadata": {
    "collapsed": true
   },
   "outputs": [
    {
     "data": {
      "text/plain": [
       "{u'copyright': u'Copyright (c) 2013 The New York Times Company.  All Rights Reserved.',\n",
       " u'response': {u'docs': [{u'_id': u'4fd1a5148eb7c8105d6bd812',\n",
       "    u'abstract': None,\n",
       "    u'blog': [],\n",
       "    u'byline': {u'original': u'By Andy Grundberg',\n",
       "     u'person': [{u'firstname': u'Andy',\n",
       "       u'lastname': u'Grundberg',\n",
       "       u'organization': u'',\n",
       "       u'rank': 1,\n",
       "       u'role': u'reported'}]},\n",
       "    u'document_type': u'article',\n",
       "    u'headline': {u'main': u'Camera'},\n",
       "    u'keywords': [{u'name': u'subject', u'value': u'TERMS NOT AVAILABLE'}],\n",
       "    u'lead_paragraph': u'A friend recently returned from a photography safari in Africa and last week brought out her album to show me the color pictures she and her husband had taken. Zebras, lions, elephants, rhinoceroses -- I was amazed at the number and variety of wild species that had willingly sat still for their portraits. Having grown up on National Geographic pictures of wildlife, I always thought that capturing fleet and dangerous denizens of jungle and savannah was a task to which only intrepid professionals were equal. The National Geographic helped make it seem that way by recounting the difficult months it took for the photographers to bring home the bacon.',\n",
       "    u'multimedia': [],\n",
       "    u'news_desk': None,\n",
       "    u'print_page': u'79',\n",
       "    u'pub_date': u'1990-11-18T00:00:00Z',\n",
       "    u'section_name': None,\n",
       "    u'slideshow_credits': None,\n",
       "    u'snippet': u'A friend recently returned from a photography safari in Africa and last week brought out her album to show me the color pictures she and her husband had taken. Zebras, lions, elephants, rhinoceroses -- I was amazed at the number and variety of wild...',\n",
       "    u'source': u'The New York Times',\n",
       "    u'subsection_name': None,\n",
       "    u'type_of_material': u'News',\n",
       "    u'web_url': u'http://www.nytimes.com/1990/11/18/news/camera.html',\n",
       "    u'word_count': 815},\n",
       "   {u'_id': u'4fd1a9188eb7c8105d6c5763',\n",
       "    u'abstract': None,\n",
       "    u'blog': [],\n",
       "    u'byline': {u'original': u'By RICHARD W. STEVENSON',\n",
       "     u'person': [{u'firstname': u'Richard',\n",
       "       u'lastname': u'STEVENSON',\n",
       "       u'middlename': u'W.',\n",
       "       u'organization': u'',\n",
       "       u'rank': 1,\n",
       "       u'role': u'reported'}]},\n",
       "    u'document_type': u'article',\n",
       "    u'headline': {u'main': u\"AIR FORCE CHOOSES LOCKHEED'S DESIGN FOR FIGHTER PLANE\"},\n",
       "    u'keywords': [{u'name': u'organizations', u'value': u'LOCKHEED CORP'},\n",
       "     {u'name': u'organizations', u'value': u'NORTHROP CORP'},\n",
       "     {u'name': u'organizations', u'value': u'MCDONNELL DOUGLAS CORP'},\n",
       "     {u'name': u'subject', u'value': u'DEFENSE CONTRACTS'},\n",
       "     {u'name': u'subject', u'value': u'AIRLINES AND AIRPLANES'},\n",
       "     {u'name': u'subject', u'value': u'F-22 AIRPLANE'},\n",
       "     {u'name': u'subject', u'value': u'F-15 AIRPLANE'},\n",
       "     {u'name': u'subject', u'value': u'MILITARY AIRCRAFT'},\n",
       "     {u'name': u'subject', u'value': u'AIR FORCES'}],\n",
       "    u'lead_paragraph': u\"Ending an intense five-year competition for what may be the largest contract yet in the weapons business, the Air Force today selected a team led by the Lockheed Corporation to build a new generation of agile, radar-evading fighter planes. The new plane, to be known as the F-22, will replace the F-15 Eagle, the Air Force's primary fighter, and is scheduled to come into service by the late 1990's. Assuming that Congress is willing to back the program, the Air Force plans to buy 650 of the new planes at a cost that could reach $95 billion, a price tag that would exceed even the $70 billion the Pentagon wants to spend on the B-2 Stealth bomber, the most expensive weapons system now in production. Pain for the Losers The selection is a big blow to the losing team, the Northrop Corporation and the McDonnell Douglas Corporation. And it could reshape the arms industry in a way few other contracts have, allowing the winners to survive and even thrive during a sharp downturn in Pentagon spending while forcing the losers and hundreds of their subcontractors to reassess their ability to stay in the fighter-plane business, the largest and most lucrative segment of military contracting.\",\n",
       "    u'multimedia': [],\n",
       "    u'news_desk': u'Financial Desk',\n",
       "    u'print_page': u'1',\n",
       "    u'pub_date': u'1991-04-24T00:00:00Z',\n",
       "    u'section_name': u'Front Page; Business',\n",
       "    u'slideshow_credits': None,\n",
       "    u'snippet': u'Ending an intense five-year competition for what may be the largest contract yet in the weapons business, the Air Force today selected a team led by the Lockheed Corporation to build a new generation of agile, radar-evading fighter planes.    The new...',\n",
       "    u'source': u'The New York Times',\n",
       "    u'subsection_name': None,\n",
       "    u'type_of_material': u'News',\n",
       "    u'web_url': u'http://www.nytimes.com/1991/04/24/business/air-force-chooses-lockheed-s-design-for-fighter-plane.html',\n",
       "    u'word_count': 1250},\n",
       "   {u'_id': u'4fd1a82f8eb7c8105d6c38fa',\n",
       "    u'abstract': None,\n",
       "    u'blog': [],\n",
       "    u'byline': {u'original': u'By Joel Kurtzman',\n",
       "     u'person': [{u'firstname': u'Joel',\n",
       "       u'lastname': u'Kurtzman',\n",
       "       u'organization': u'',\n",
       "       u'rank': 1,\n",
       "       u'role': u'reported'}]},\n",
       "    u'document_type': u'article',\n",
       "    u'headline': {u'main': u'Business Diary: April 21-26'},\n",
       "    u'keywords': [{u'name': u'subject', u'value': u'UNITED STATES ECONOMY'}],\n",
       "    u'lead_paragraph': u\"COMPANIES Lockheed's Side Gets a Big Boost From the Air Force\",\n",
       "    u'multimedia': [],\n",
       "    u'news_desk': u'Financial Desk',\n",
       "    u'print_page': u'2',\n",
       "    u'pub_date': u'1991-04-28T00:00:00Z',\n",
       "    u'section_name': u'Business',\n",
       "    u'slideshow_credits': None,\n",
       "    u'snippet': u\"COMPANIES Lockheed's Side Gets a Big Boost From the Air Force\",\n",
       "    u'source': u'The New York Times',\n",
       "    u'subsection_name': None,\n",
       "    u'type_of_material': u'Summary',\n",
       "    u'web_url': u'http://www.nytimes.com/1991/04/28/business/business-diary-april-21-26.html',\n",
       "    u'word_count': 1663},\n",
       "   {u'_id': u'4fd1c9dc8eb7c8105d6fd803',\n",
       "    u'abstract': None,\n",
       "    u'blog': [],\n",
       "    u'byline': {u'original': u'By RICHARD W. STEVENSON',\n",
       "     u'person': [{u'firstname': u'Richard',\n",
       "       u'lastname': u'STEVENSON',\n",
       "       u'middlename': u'W.',\n",
       "       u'organization': u'',\n",
       "       u'rank': 1,\n",
       "       u'role': u'reported'}]},\n",
       "    u'document_type': u'article',\n",
       "    u'headline': {u'main': u'Making a Difference; A Turnaround for Mr. Tellep'},\n",
       "    u'keywords': [{u'name': u'persons', u'value': u'TELLEP, DANIEL M'},\n",
       "     {u'name': u'organizations', u'value': u'LOCKHEED CORP'},\n",
       "     {u'name': u'subject', u'value': u'FINANCES'}],\n",
       "    u'lead_paragraph': u\"A year ago, Daniel M. Tellep, the chairman and chief executive of the Lockheed Corporation, was a man under siege. Lockheed's earnings were being battered by losses on weapons development programs and Harold Simmons, the Dallas investor, was waging a bitter proxy fight to unseat the board. But now Mr. Tellep is on a roll. Lockheed's earnings have rebounded. Mr. Simmons has given up his attempts to gain control. And last week a team led by Lockheed won the biggest prize of the decade in the weapons business, the contract to build the F-22, a new generation of Air Force fighter plane. (Forum, page 11.)\",\n",
       "    u'multimedia': [],\n",
       "    u'news_desk': u'Financial Desk',\n",
       "    u'print_page': u'7',\n",
       "    u'pub_date': u'1991-04-28T00:00:00Z',\n",
       "    u'section_name': u'Business',\n",
       "    u'slideshow_credits': None,\n",
       "    u'snippet': u\"A year ago, Daniel M. Tellep, the chairman and chief executive of the Lockheed Corporation, was a man under siege. Lockheed's earnings were being battered by losses on weapons development programs and Harold Simmons, the Dallas investor, was waging a...\",\n",
       "    u'source': u'The New York Times',\n",
       "    u'subsection_name': None,\n",
       "    u'type_of_material': u'News',\n",
       "    u'web_url': u'http://www.nytimes.com/1991/04/28/business/making-a-difference-a-turnaround-for-mr-tellep.html',\n",
       "    u'word_count': 250},\n",
       "   {u'_id': u'4fd1a91c8eb7c8105d6c5aba',\n",
       "    u'abstract': None,\n",
       "    u'blog': [],\n",
       "    u'byline': None,\n",
       "    u'document_type': u'article',\n",
       "    u'headline': {u'main': u'NEWS SUMMARY'},\n",
       "    u'keywords': [{u'name': u'subject', u'value': u'NO INDEX TERMS'}],\n",
       "    u'lead_paragraph': u'International A3-9 United Nations officials in Iraq met with American military officers in a step toward assuming responsibility for the Kurdish refugee camp. The military hopes to turn over the camp and to withdraw its troops. Page A1',\n",
       "    u'multimedia': [],\n",
       "    u'news_desk': u'Metropolitan Desk',\n",
       "    u'print_page': u'2',\n",
       "    u'pub_date': u'1991-04-29T00:00:00Z',\n",
       "    u'section_name': u'New York and Region',\n",
       "    u'slideshow_credits': None,\n",
       "    u'snippet': u'International A3-9    United Nations officials in Iraq met with American military officers in a step toward assuming responsibility for the Kurdish refugee camp. The military hopes to turn over the camp and to withdraw its troops. Page A1',\n",
       "    u'source': u'The New York Times',\n",
       "    u'subsection_name': None,\n",
       "    u'type_of_material': u'Summary',\n",
       "    u'web_url': u'http://www.nytimes.com/1991/04/29/nyregion/news-summary-294091.html',\n",
       "    u'word_count': 1180},\n",
       "   {u'_id': u'4fd198cb8eb7c8105d6a870a',\n",
       "    u'abstract': None,\n",
       "    u'blog': [],\n",
       "    u'byline': None,\n",
       "    u'document_type': u'article',\n",
       "    u'headline': {u'main': u'This Fighter Will Bust the Budget'},\n",
       "    u'keywords': [{u'name': u'glocations', u'value': u'UNITED STATES'},\n",
       "     {u'name': u'subject', u'value': u'AIRLINES AND AIRPLANES'},\n",
       "     {u'name': u'subject', u'value': u'F-22 AIRPLANE'},\n",
       "     {u'name': u'subject', u'value': u'MILITARY AIRCRAFT'},\n",
       "     {u'name': u'subject', u'value': u'EDITORIALS'},\n",
       "     {u'name': u'subject', u'value': u'FINANCES'},\n",
       "     {u'name': u'subject', u'value': u'BUDGETS AND BUDGETING'},\n",
       "     {u'name': u'subject', u'value': u'UNITED STATES ARMAMENT AND DEFENSE'}],\n",
       "    u'lead_paragraph': u\"Peace dividend? The Air Force is acting as if it were about to cash in a war dividend. Last year the Pentagon and Congress ruled out taking advantage of a receding Soviet threat to reap sizable savings from defense. Instead, they agreed to hold the defense budget at current levels for three years. Now the Air Force roars in with plans to procure an advanced tactical fighter, the F-22, in huge quantities. That $95 billion program would bust defense budgets wide open once the three-year hold-down ended. As the Congressional Budget Office just concluded, the Air Force can't afford to build enough of the new stealth fighters at nearly $79 million per copy and also buy new B-2 stealth bombers and C-17 cargo planes.\",\n",
       "    u'multimedia': [],\n",
       "    u'news_desk': u'Editorial Desk',\n",
       "    u'print_page': u'16',\n",
       "    u'pub_date': u'1991-04-29T00:00:00Z',\n",
       "    u'section_name': u'Opinion',\n",
       "    u'slideshow_credits': None,\n",
       "    u'snippet': u'Peace dividend? The Air Force is acting as if it were about to cash in a war dividend. Last year the Pentagon and Congress ruled out taking advantage of a receding Soviet threat to reap sizable savings from defense. Instead, they agreed to hold the...',\n",
       "    u'source': u'The New York Times',\n",
       "    u'subsection_name': None,\n",
       "    u'type_of_material': u'Editorial',\n",
       "    u'web_url': u'http://www.nytimes.com/1991/04/29/opinion/this-fighter-will-bust-the-budget.html',\n",
       "    u'word_count': 614},\n",
       "   {u'_id': u'4fd1c9e28eb7c8105d6fdc75',\n",
       "    u'abstract': None,\n",
       "    u'blog': [],\n",
       "    u'byline': {u'original': u'By MALCOLM W. BROWNE',\n",
       "     u'person': [{u'firstname': u'Malcolm',\n",
       "       u'lastname': u'BROWNE',\n",
       "       u'middlename': u'W.',\n",
       "       u'organization': u'',\n",
       "       u'rank': 1,\n",
       "       u'role': u'reported'}]},\n",
       "    u'document_type': u'article',\n",
       "    u'headline': {u'main': u'2 Rival Designers Led the Way To Stealthy Warplanes'},\n",
       "    u'keywords': [{u'name': u'persons', u'value': u'CASHEN, JOHN F'},\n",
       "     {u'name': u'persons', u'value': u'RICH, BEN R'},\n",
       "     {u'name': u'organizations', u'value': u'LOCKHEED CORP'},\n",
       "     {u'name': u'organizations', u'value': u'NORTHROP CORP'},\n",
       "     {u'name': u'subject', u'value': u'AIRLINES AND AIRPLANES'},\n",
       "     {u'name': u'subject', u'value': u'MILITARY AIRCRAFT'},\n",
       "     {u'name': u'subject', u'value': u'B-2 AIRPLANE'},\n",
       "     {u'name': u'subject', u'value': u'F-117A AIRPLANE'},\n",
       "     {u'name': u'subject', u'value': u'DESIGN'},\n",
       "     {u'name': u'subject', u'value': u'RADAR'},\n",
       "     {u'name': u'subject', u'value': u'NEW MODELS, DESIGN AND PRODUCTS'},\n",
       "     {u'name': u'subject', u'value': u'UNITED STATES ARMAMENT AND DEFENSE'},\n",
       "     {u'name': u'subject', u'value': u'STEALTH AIRCRAFT'}],\n",
       "    u'lead_paragraph': u'THE Air Force\\'s award last month of a huge contract to build \"advanced technology fighters\" marks a new era, experts say, in which virtually all new warplanes will incorporate the stealth technologies that make a plane hard to detect by its radar reflections or heat emissions. Rival teams led by the Northrop Corporation and the Lockheed Corporation competed in a fly-off last month that was the final round of a 54-month effort to win a contract that could be worth $100 billion. The Air Force preferred the entry from Lockhheed, which will now build up to 648 of its F-22 fighters.',\n",
       "    u'multimedia': [],\n",
       "    u'news_desk': u'Science Desk',\n",
       "    u'print_page': u'1',\n",
       "    u'pub_date': u'1991-05-14T00:00:00Z',\n",
       "    u'section_name': u'Science; Health',\n",
       "    u'slideshow_credits': None,\n",
       "    u'snippet': u'THE Air Force\\'s award last month of a huge contract to build \"advanced technology fighters\" marks a new era, experts say, in which virtually all new warplanes will incorporate the stealth technologies that make a plane hard to detect by its radar...',\n",
       "    u'source': u'The New York Times',\n",
       "    u'subsection_name': None,\n",
       "    u'type_of_material': u'News',\n",
       "    u'web_url': u'http://www.nytimes.com/1991/05/14/science/2-rival-designers-led-the-way-to-stealthy-warplanes.html',\n",
       "    u'word_count': 2251},\n",
       "   {u'_id': u'4fd19c048eb7c8105d6ad3a3',\n",
       "    u'abstract': None,\n",
       "    u'blog': [],\n",
       "    u'byline': {u'original': u'By COL. HARRY G. SUMMERS JR.;',\n",
       "     u'person': [{u'organization': u'', u'rank': 1, u'role': u'reported'}]},\n",
       "    u'document_type': u'article',\n",
       "    u'headline': {u'main': u\"How to Be the World's Policeman\"},\n",
       "    u'keywords': [{u'name': u'subject',\n",
       "      u'value': u'UNITED STATES INTERNATIONAL RELATIONS'},\n",
       "     {u'name': u'subject', u'value': u'UNITED STATES ARMAMENT AND DEFENSE'}],\n",
       "    u'lead_paragraph': u'ON AUG. 2, 1990, the very day that Iraqi forces swept into Kuwait, Congressional negotiators and the Pentagon agreed to a \"peace dividend\" budget that would, among other things, slash troop levels by 25 percent over the next five years, do away with six active Army divisions, cut back the Navy to 451 warships from 545, and transfer nine active-duty Air Force tactical fighter wings to reserve status. The cutbacks continued even as units of the Army, Navy, Air Force and Marine Corps were ordered into battle positions in the Persian Gulf, complicating what was already a difficult deployment and compromising battle readiness. Although two of its three armored brigades went to the gulf, for example, the Second Armored Division itself was being disbanded; one brigade of the First Infantry Division was being deactivated even as the rest of the division moved into combat.',\n",
       "    u'multimedia': [],\n",
       "    u'news_desk': u'Magazine Desk',\n",
       "    u'print_page': u'40',\n",
       "    u'pub_date': u'1991-05-19T00:00:00Z',\n",
       "    u'section_name': u'Magazine; Washington',\n",
       "    u'slideshow_credits': None,\n",
       "    u'snippet': u'ON AUG. 2, 1990, the very day that Iraqi forces swept into Kuwait, Congressional negotiators and the Pentagon agreed to a \"peace dividend\" budget that would, among other things, slash troop levels by 25 percent over the next five years, do away with...',\n",
       "    u'source': u'The New York Times',\n",
       "    u'subsection_name': None,\n",
       "    u'type_of_material': u'News',\n",
       "    u'web_url': u'http://www.nytimes.com/1991/05/19/magazine/how-to-be-the-world-s-policeman.html',\n",
       "    u'word_count': 3211},\n",
       "   {u'_id': u'4fd1c19b8eb7c8105d6f0f82',\n",
       "    u'abstract': None,\n",
       "    u'blog': [],\n",
       "    u'byline': None,\n",
       "    u'document_type': u'article',\n",
       "    u'headline': {u'main': u'Why Mixing Defense and Commercial Ventures Fails'},\n",
       "    u'keywords': [{u'name': u'persons', u'value': u'BINGAMAN, JEFF'},\n",
       "     {u'name': u'subject', u'value': u'AIRLINES AND AIRPLANES'},\n",
       "     {u'name': u'subject', u'value': u'F-22 AIRPLANE'},\n",
       "     {u'name': u'subject', u'value': u'MILITARY AIRCRAFT'},\n",
       "     {u'name': u'subject', u'value': u'UNITED STATES ARMAMENT AND DEFENSE'}],\n",
       "    u'lead_paragraph': u'To the Editor: \"Behind the Choosing of the F-22,\" by Senator Jeff Bingaman (Forum, April 28), displays worrisome misconceptions; doubly worrisome coming from a member of the Senate Armed Services Committee. Business literature is full of the failed attempts of mainly defense companies to enter commercial ventures. Citing Boeing as the paradigm of success in both defense and commercial business is interesting, given the $400 million-plus losses in its defense business in each of the last two years. Any company that integrated its defense and commercial business, unless it enjoyed a monopoly, would doubtless lose its shirt in its commercial business.',\n",
       "    u'multimedia': [],\n",
       "    u'news_desk': u'Financial Desk',\n",
       "    u'print_page': u'11',\n",
       "    u'pub_date': u'1991-05-19T00:00:00Z',\n",
       "    u'section_name': u'Business; Opinion',\n",
       "    u'slideshow_credits': None,\n",
       "    u'snippet': u'To the Editor:   \"Behind the Choosing of the F-22,\" by Senator Jeff Bingaman (Forum, April 28), displays worrisome misconceptions; doubly worrisome coming from a member of the Senate Armed Services Committee. Business literature is full of the failed...',\n",
       "    u'source': u'The New York Times',\n",
       "    u'subsection_name': None,\n",
       "    u'type_of_material': u'Letter',\n",
       "    u'web_url': u'http://www.nytimes.com/1991/05/19/business/l-why-mixing-defense-and-commercial-ventures-fails-409491.html',\n",
       "    u'word_count': 202},\n",
       "   {u'_id': u'4fd1a3318eb7c8105d6ba69b',\n",
       "    u'abstract': None,\n",
       "    u'blog': [],\n",
       "    u'byline': None,\n",
       "    u'document_type': u'article',\n",
       "    u'headline': {u'main': u\"The F-22's Crucial Mission in the 21st Century\"},\n",
       "    u'keywords': [{u'name': u'persons', u'value': u'RICE, DONALD B'},\n",
       "     {u'name': u'subject', u'value': u'AIRLINES AND AIRPLANES'},\n",
       "     {u'name': u'subject', u'value': u'F-22 AIRPLANE'},\n",
       "     {u'name': u'subject', u'value': u'MILITARY AIRCRAFT'},\n",
       "     {u'name': u'subject', u'value': u'NEW MODELS, DESIGN AND PRODUCTS'},\n",
       "     {u'name': u'subject', u'value': u'UNITED STATES ARMAMENT AND DEFENSE'}],\n",
       "    u'lead_paragraph': u'To the Editor: The Times has an outstanding history of accurate reporting on issues of national interest, but your April 29 editorial \"This Fighter Will Bust the Budget\" missed the mark. You questioned the need for the F-22 and suggested that the Air Force is unlikely to forfeit any supremacy in the next century -- that our F-15 and F-16 fighters are superior to anything potential adversaries have produced or will produce.',\n",
       "    u'multimedia': [],\n",
       "    u'news_desk': u'Editorial Desk',\n",
       "    u'print_page': u'20',\n",
       "    u'pub_date': u'1991-05-21T00:00:00Z',\n",
       "    u'section_name': u'Opinion',\n",
       "    u'slideshow_credits': None,\n",
       "    u'snippet': u'To the Editor:   The Times has an outstanding history of accurate reporting on issues of national interest, but your April 29 editorial \"This Fighter Will Bust the Budget\" missed the mark. You questioned the need for the F-22 and suggested that the...',\n",
       "    u'source': u'The New York Times',\n",
       "    u'subsection_name': None,\n",
       "    u'type_of_material': u'Letter',\n",
       "    u'web_url': u'http://www.nytimes.com/1991/05/21/opinion/l-the-f-22-s-crucial-mission-in-the-21st-century-111391.html',\n",
       "    u'word_count': 734}],\n",
       "  u'meta': {u'hits': 109, u'offset': 0, u'time': 226}},\n",
       " u'status': u'OK'}"
      ]
     },
     "execution_count": 4,
     "metadata": {},
     "output_type": "execute_result"
    }
   ],
   "source": [
    "website.json()"
   ]
  },
  {
   "cell_type": "markdown",
   "metadata": {},
   "source": [
    "### Using the urllib2 to convert to a dataframe"
   ]
  },
  {
   "cell_type": "markdown",
   "metadata": {},
   "source": [
    "#### There are other ways that can bring these things to a dataframe. But we use URLLIB"
   ]
  },
  {
   "cell_type": "code",
   "execution_count": 13,
   "metadata": {
    "collapsed": true
   },
   "outputs": [
    {
     "name": "stdout",
     "output_type": "stream",
     "text": [
      "<type 'dict'>\n",
      "{u'docs': [{u'type_of_material': u'News', u'blog': [], u'news_desk': None, u'lead_paragraph': u'A friend recently returned from a photography safari in Africa and last week brought out her album to show me the color pictures she and her husband had taken. Zebras, lions, elephants, rhinoceroses -- I was amazed at the number and variety of wild species that had willingly sat still for their portraits. Having grown up on National Geographic pictures of wildlife, I always thought that capturing fleet and dangerous denizens of jungle and savannah was a task to which only intrepid professionals were equal. The National Geographic helped make it seem that way by recounting the difficult months it took for the photographers to bring home the bacon.', u'headline': {u'main': u'Camera'}, u'abstract': None, u'print_page': u'79', u'word_count': 815, u'_id': u'4fd1a5148eb7c8105d6bd812', u'snippet': u'A friend recently returned from a photography safari in Africa and last week brought out her album to show me the color pictures she and her husband had taken. Zebras, lions, elephants, rhinoceroses -- I was amazed at the number and variety of wild...', u'source': u'The New York Times', u'slideshow_credits': None, u'web_url': u'http://www.nytimes.com/1990/11/18/news/camera.html', u'multimedia': [], u'subsection_name': None, u'keywords': [{u'name': u'subject', u'value': u'TERMS NOT AVAILABLE'}], u'byline': {u'person': [{u'organization': u'', u'role': u'reported', u'rank': 1, u'firstname': u'Andy', u'lastname': u'Grundberg'}], u'original': u'By Andy Grundberg'}, u'document_type': u'article', u'pub_date': u'1990-11-18T00:00:00Z', u'section_name': None}, {u'type_of_material': u'News', u'blog': [], u'news_desk': u'Financial Desk', u'lead_paragraph': u\"Ending an intense five-year competition for what may be the largest contract yet in the weapons business, the Air Force today selected a team led by the Lockheed Corporation to build a new generation of agile, radar-evading fighter planes. The new plane, to be known as the F-22, will replace the F-15 Eagle, the Air Force's primary fighter, and is scheduled to come into service by the late 1990's. Assuming that Congress is willing to back the program, the Air Force plans to buy 650 of the new planes at a cost that could reach $95 billion, a price tag that would exceed even the $70 billion the Pentagon wants to spend on the B-2 Stealth bomber, the most expensive weapons system now in production. Pain for the Losers The selection is a big blow to the losing team, the Northrop Corporation and the McDonnell Douglas Corporation. And it could reshape the arms industry in a way few other contracts have, allowing the winners to survive and even thrive during a sharp downturn in Pentagon spending while forcing the losers and hundreds of their subcontractors to reassess their ability to stay in the fighter-plane business, the largest and most lucrative segment of military contracting.\", u'headline': {u'main': u\"AIR FORCE CHOOSES LOCKHEED'S DESIGN FOR FIGHTER PLANE\"}, u'abstract': None, u'print_page': u'1', u'word_count': 1250, u'_id': u'4fd1a9188eb7c8105d6c5763', u'snippet': u'Ending an intense five-year competition for what may be the largest contract yet in the weapons business, the Air Force today selected a team led by the Lockheed Corporation to build a new generation of agile, radar-evading fighter planes.    The new...', u'source': u'The New York Times', u'slideshow_credits': None, u'web_url': u'http://www.nytimes.com/1991/04/24/business/air-force-chooses-lockheed-s-design-for-fighter-plane.html', u'multimedia': [], u'subsection_name': None, u'keywords': [{u'name': u'organizations', u'value': u'LOCKHEED CORP'}, {u'name': u'organizations', u'value': u'NORTHROP CORP'}, {u'name': u'organizations', u'value': u'MCDONNELL DOUGLAS CORP'}, {u'name': u'subject', u'value': u'DEFENSE CONTRACTS'}, {u'name': u'subject', u'value': u'AIRLINES AND AIRPLANES'}, {u'name': u'subject', u'value': u'F-22 AIRPLANE'}, {u'name': u'subject', u'value': u'F-15 AIRPLANE'}, {u'name': u'subject', u'value': u'MILITARY AIRCRAFT'}, {u'name': u'subject', u'value': u'AIR FORCES'}], u'byline': {u'person': [{u'firstname': u'Richard', u'middlename': u'W.', u'lastname': u'STEVENSON', u'rank': 1, u'role': u'reported', u'organization': u''}], u'original': u'By RICHARD W. STEVENSON'}, u'document_type': u'article', u'pub_date': u'1991-04-24T00:00:00Z', u'section_name': u'Front Page; Business'}, {u'type_of_material': u'Summary', u'blog': [], u'news_desk': u'Financial Desk', u'lead_paragraph': u\"COMPANIES Lockheed's Side Gets a Big Boost From the Air Force\", u'headline': {u'main': u'Business Diary: April 21-26'}, u'abstract': None, u'print_page': u'2', u'word_count': 1663, u'_id': u'4fd1a82f8eb7c8105d6c38fa', u'snippet': u\"COMPANIES Lockheed's Side Gets a Big Boost From the Air Force\", u'source': u'The New York Times', u'slideshow_credits': None, u'web_url': u'http://www.nytimes.com/1991/04/28/business/business-diary-april-21-26.html', u'multimedia': [], u'subsection_name': None, u'keywords': [{u'name': u'subject', u'value': u'UNITED STATES ECONOMY'}], u'byline': {u'person': [{u'organization': u'', u'role': u'reported', u'rank': 1, u'firstname': u'Joel', u'lastname': u'Kurtzman'}], u'original': u'By Joel Kurtzman'}, u'document_type': u'article', u'pub_date': u'1991-04-28T00:00:00Z', u'section_name': u'Business'}, {u'type_of_material': u'News', u'blog': [], u'news_desk': u'Financial Desk', u'lead_paragraph': u\"A year ago, Daniel M. Tellep, the chairman and chief executive of the Lockheed Corporation, was a man under siege. Lockheed's earnings were being battered by losses on weapons development programs and Harold Simmons, the Dallas investor, was waging a bitter proxy fight to unseat the board. But now Mr. Tellep is on a roll. Lockheed's earnings have rebounded. Mr. Simmons has given up his attempts to gain control. And last week a team led by Lockheed won the biggest prize of the decade in the weapons business, the contract to build the F-22, a new generation of Air Force fighter plane. (Forum, page 11.)\", u'headline': {u'main': u'Making a Difference; A Turnaround for Mr. Tellep'}, u'abstract': None, u'print_page': u'7', u'word_count': 250, u'_id': u'4fd1c9dc8eb7c8105d6fd803', u'snippet': u\"A year ago, Daniel M. Tellep, the chairman and chief executive of the Lockheed Corporation, was a man under siege. Lockheed's earnings were being battered by losses on weapons development programs and Harold Simmons, the Dallas investor, was waging a...\", u'source': u'The New York Times', u'slideshow_credits': None, u'web_url': u'http://www.nytimes.com/1991/04/28/business/making-a-difference-a-turnaround-for-mr-tellep.html', u'multimedia': [], u'subsection_name': None, u'keywords': [{u'name': u'persons', u'value': u'TELLEP, DANIEL M'}, {u'name': u'organizations', u'value': u'LOCKHEED CORP'}, {u'name': u'subject', u'value': u'FINANCES'}], u'byline': {u'person': [{u'firstname': u'Richard', u'middlename': u'W.', u'lastname': u'STEVENSON', u'rank': 1, u'role': u'reported', u'organization': u''}], u'original': u'By RICHARD W. STEVENSON'}, u'document_type': u'article', u'pub_date': u'1991-04-28T00:00:00Z', u'section_name': u'Business'}, {u'type_of_material': u'Summary', u'blog': [], u'news_desk': u'Metropolitan Desk', u'lead_paragraph': u'International A3-9 United Nations officials in Iraq met with American military officers in a step toward assuming responsibility for the Kurdish refugee camp. The military hopes to turn over the camp and to withdraw its troops. Page A1', u'headline': {u'main': u'NEWS SUMMARY'}, u'abstract': None, u'print_page': u'2', u'word_count': 1180, u'_id': u'4fd1a91c8eb7c8105d6c5aba', u'snippet': u'International A3-9    United Nations officials in Iraq met with American military officers in a step toward assuming responsibility for the Kurdish refugee camp. The military hopes to turn over the camp and to withdraw its troops. Page A1', u'source': u'The New York Times', u'slideshow_credits': None, u'web_url': u'http://www.nytimes.com/1991/04/29/nyregion/news-summary-294091.html', u'multimedia': [], u'subsection_name': None, u'keywords': [{u'name': u'subject', u'value': u'NO INDEX TERMS'}], u'byline': None, u'document_type': u'article', u'pub_date': u'1991-04-29T00:00:00Z', u'section_name': u'New York and Region'}, {u'type_of_material': u'Editorial', u'blog': [], u'news_desk': u'Editorial Desk', u'lead_paragraph': u\"Peace dividend? The Air Force is acting as if it were about to cash in a war dividend. Last year the Pentagon and Congress ruled out taking advantage of a receding Soviet threat to reap sizable savings from defense. Instead, they agreed to hold the defense budget at current levels for three years. Now the Air Force roars in with plans to procure an advanced tactical fighter, the F-22, in huge quantities. That $95 billion program would bust defense budgets wide open once the three-year hold-down ended. As the Congressional Budget Office just concluded, the Air Force can't afford to build enough of the new stealth fighters at nearly $79 million per copy and also buy new B-2 stealth bombers and C-17 cargo planes.\", u'headline': {u'main': u'This Fighter Will Bust the Budget'}, u'abstract': None, u'print_page': u'16', u'word_count': 614, u'_id': u'4fd198cb8eb7c8105d6a870a', u'snippet': u'Peace dividend? The Air Force is acting as if it were about to cash in a war dividend. Last year the Pentagon and Congress ruled out taking advantage of a receding Soviet threat to reap sizable savings from defense. Instead, they agreed to hold the...', u'source': u'The New York Times', u'slideshow_credits': None, u'web_url': u'http://www.nytimes.com/1991/04/29/opinion/this-fighter-will-bust-the-budget.html', u'multimedia': [], u'subsection_name': None, u'keywords': [{u'name': u'glocations', u'value': u'UNITED STATES'}, {u'name': u'subject', u'value': u'AIRLINES AND AIRPLANES'}, {u'name': u'subject', u'value': u'F-22 AIRPLANE'}, {u'name': u'subject', u'value': u'MILITARY AIRCRAFT'}, {u'name': u'subject', u'value': u'EDITORIALS'}, {u'name': u'subject', u'value': u'FINANCES'}, {u'name': u'subject', u'value': u'BUDGETS AND BUDGETING'}, {u'name': u'subject', u'value': u'UNITED STATES ARMAMENT AND DEFENSE'}], u'byline': None, u'document_type': u'article', u'pub_date': u'1991-04-29T00:00:00Z', u'section_name': u'Opinion'}, {u'type_of_material': u'News', u'blog': [], u'news_desk': u'Science Desk', u'lead_paragraph': u'THE Air Force\\'s award last month of a huge contract to build \"advanced technology fighters\" marks a new era, experts say, in which virtually all new warplanes will incorporate the stealth technologies that make a plane hard to detect by its radar reflections or heat emissions. Rival teams led by the Northrop Corporation and the Lockheed Corporation competed in a fly-off last month that was the final round of a 54-month effort to win a contract that could be worth $100 billion. The Air Force preferred the entry from Lockhheed, which will now build up to 648 of its F-22 fighters.', u'headline': {u'main': u'2 Rival Designers Led the Way To Stealthy Warplanes'}, u'abstract': None, u'print_page': u'1', u'word_count': 2251, u'_id': u'4fd1c9e28eb7c8105d6fdc75', u'snippet': u'THE Air Force\\'s award last month of a huge contract to build \"advanced technology fighters\" marks a new era, experts say, in which virtually all new warplanes will incorporate the stealth technologies that make a plane hard to detect by its radar...', u'source': u'The New York Times', u'slideshow_credits': None, u'web_url': u'http://www.nytimes.com/1991/05/14/science/2-rival-designers-led-the-way-to-stealthy-warplanes.html', u'multimedia': [], u'subsection_name': None, u'keywords': [{u'name': u'persons', u'value': u'CASHEN, JOHN F'}, {u'name': u'persons', u'value': u'RICH, BEN R'}, {u'name': u'organizations', u'value': u'LOCKHEED CORP'}, {u'name': u'organizations', u'value': u'NORTHROP CORP'}, {u'name': u'subject', u'value': u'AIRLINES AND AIRPLANES'}, {u'name': u'subject', u'value': u'MILITARY AIRCRAFT'}, {u'name': u'subject', u'value': u'B-2 AIRPLANE'}, {u'name': u'subject', u'value': u'F-117A AIRPLANE'}, {u'name': u'subject', u'value': u'DESIGN'}, {u'name': u'subject', u'value': u'RADAR'}, {u'name': u'subject', u'value': u'NEW MODELS, DESIGN AND PRODUCTS'}, {u'name': u'subject', u'value': u'UNITED STATES ARMAMENT AND DEFENSE'}, {u'name': u'subject', u'value': u'STEALTH AIRCRAFT'}], u'byline': {u'person': [{u'firstname': u'Malcolm', u'middlename': u'W.', u'lastname': u'BROWNE', u'rank': 1, u'role': u'reported', u'organization': u''}], u'original': u'By MALCOLM W. BROWNE'}, u'document_type': u'article', u'pub_date': u'1991-05-14T00:00:00Z', u'section_name': u'Science; Health'}, {u'type_of_material': u'News', u'blog': [], u'news_desk': u'Magazine Desk', u'lead_paragraph': u'ON AUG. 2, 1990, the very day that Iraqi forces swept into Kuwait, Congressional negotiators and the Pentagon agreed to a \"peace dividend\" budget that would, among other things, slash troop levels by 25 percent over the next five years, do away with six active Army divisions, cut back the Navy to 451 warships from 545, and transfer nine active-duty Air Force tactical fighter wings to reserve status. The cutbacks continued even as units of the Army, Navy, Air Force and Marine Corps were ordered into battle positions in the Persian Gulf, complicating what was already a difficult deployment and compromising battle readiness. Although two of its three armored brigades went to the gulf, for example, the Second Armored Division itself was being disbanded; one brigade of the First Infantry Division was being deactivated even as the rest of the division moved into combat.', u'headline': {u'main': u\"How to Be the World's Policeman\"}, u'abstract': None, u'print_page': u'40', u'word_count': 3211, u'_id': u'4fd19c048eb7c8105d6ad3a3', u'snippet': u'ON AUG. 2, 1990, the very day that Iraqi forces swept into Kuwait, Congressional negotiators and the Pentagon agreed to a \"peace dividend\" budget that would, among other things, slash troop levels by 25 percent over the next five years, do away with...', u'source': u'The New York Times', u'slideshow_credits': None, u'web_url': u'http://www.nytimes.com/1991/05/19/magazine/how-to-be-the-world-s-policeman.html', u'multimedia': [], u'subsection_name': None, u'keywords': [{u'name': u'subject', u'value': u'UNITED STATES INTERNATIONAL RELATIONS'}, {u'name': u'subject', u'value': u'UNITED STATES ARMAMENT AND DEFENSE'}], u'byline': {u'person': [{u'organization': u'', u'role': u'reported', u'rank': 1}], u'original': u'By COL. HARRY G. SUMMERS JR.;'}, u'document_type': u'article', u'pub_date': u'1991-05-19T00:00:00Z', u'section_name': u'Magazine; Washington'}, {u'type_of_material': u'Letter', u'blog': [], u'news_desk': u'Financial Desk', u'lead_paragraph': u'To the Editor: \"Behind the Choosing of the F-22,\" by Senator Jeff Bingaman (Forum, April 28), displays worrisome misconceptions; doubly worrisome coming from a member of the Senate Armed Services Committee. Business literature is full of the failed attempts of mainly defense companies to enter commercial ventures. Citing Boeing as the paradigm of success in both defense and commercial business is interesting, given the $400 million-plus losses in its defense business in each of the last two years. Any company that integrated its defense and commercial business, unless it enjoyed a monopoly, would doubtless lose its shirt in its commercial business.', u'headline': {u'main': u'Why Mixing Defense and Commercial Ventures Fails'}, u'abstract': None, u'print_page': u'11', u'word_count': 202, u'_id': u'4fd1c19b8eb7c8105d6f0f82', u'snippet': u'To the Editor:   \"Behind the Choosing of the F-22,\" by Senator Jeff Bingaman (Forum, April 28), displays worrisome misconceptions; doubly worrisome coming from a member of the Senate Armed Services Committee. Business literature is full of the failed...', u'source': u'The New York Times', u'slideshow_credits': None, u'web_url': u'http://www.nytimes.com/1991/05/19/business/l-why-mixing-defense-and-commercial-ventures-fails-409491.html', u'multimedia': [], u'subsection_name': None, u'keywords': [{u'name': u'persons', u'value': u'BINGAMAN, JEFF'}, {u'name': u'subject', u'value': u'AIRLINES AND AIRPLANES'}, {u'name': u'subject', u'value': u'F-22 AIRPLANE'}, {u'name': u'subject', u'value': u'MILITARY AIRCRAFT'}, {u'name': u'subject', u'value': u'UNITED STATES ARMAMENT AND DEFENSE'}], u'byline': None, u'document_type': u'article', u'pub_date': u'1991-05-19T00:00:00Z', u'section_name': u'Business; Opinion'}, {u'type_of_material': u'Letter', u'blog': [], u'news_desk': u'Editorial Desk', u'lead_paragraph': u'To the Editor: The Times has an outstanding history of accurate reporting on issues of national interest, but your April 29 editorial \"This Fighter Will Bust the Budget\" missed the mark. You questioned the need for the F-22 and suggested that the Air Force is unlikely to forfeit any supremacy in the next century -- that our F-15 and F-16 fighters are superior to anything potential adversaries have produced or will produce.', u'headline': {u'main': u\"The F-22's Crucial Mission in the 21st Century\"}, u'abstract': None, u'print_page': u'20', u'word_count': 734, u'_id': u'4fd1a3318eb7c8105d6ba69b', u'snippet': u'To the Editor:   The Times has an outstanding history of accurate reporting on issues of national interest, but your April 29 editorial \"This Fighter Will Bust the Budget\" missed the mark. You questioned the need for the F-22 and suggested that the...', u'source': u'The New York Times', u'slideshow_credits': None, u'web_url': u'http://www.nytimes.com/1991/05/21/opinion/l-the-f-22-s-crucial-mission-in-the-21st-century-111391.html', u'multimedia': [], u'subsection_name': None, u'keywords': [{u'name': u'persons', u'value': u'RICE, DONALD B'}, {u'name': u'subject', u'value': u'AIRLINES AND AIRPLANES'}, {u'name': u'subject', u'value': u'F-22 AIRPLANE'}, {u'name': u'subject', u'value': u'MILITARY AIRCRAFT'}, {u'name': u'subject', u'value': u'NEW MODELS, DESIGN AND PRODUCTS'}, {u'name': u'subject', u'value': u'UNITED STATES ARMAMENT AND DEFENSE'}], u'byline': None, u'document_type': u'article', u'pub_date': u'1991-05-21T00:00:00Z', u'section_name': u'Opinion'}], u'meta': {u'hits': 109, u'offset': 0, u'time': 226}}\n"
     ]
    }
   ],
   "source": [
    "request=urllib2.Request(api_call)\n",
    "response = urllib2.urlopen(request)\n",
    "elevations = response.read()\n",
    "data1 = json.loads(elevations)\n",
    "print type(data1)\n",
    "data= data1['response']\n",
    "print data"
   ]
  },
  {
   "cell_type": "code",
   "execution_count": 15,
   "metadata": {
    "collapsed": true
   },
   "outputs": [
    {
     "data": {
      "text/plain": [
       "<bound method DataFrame.describe of                         _id abstract blog  byline  \\\n",
       "0  4fd1a5148eb7c8105d6bd812     None   []     NaN   \n",
       "1  4fd1a9188eb7c8105d6c5763     None   []     NaN   \n",
       "2  4fd1a82f8eb7c8105d6c38fa     None   []     NaN   \n",
       "3  4fd1c9dc8eb7c8105d6fd803     None   []     NaN   \n",
       "4  4fd1a91c8eb7c8105d6c5aba     None   []     NaN   \n",
       "5  4fd198cb8eb7c8105d6a870a     None   []     NaN   \n",
       "6  4fd1c9e28eb7c8105d6fdc75     None   []     NaN   \n",
       "7  4fd19c048eb7c8105d6ad3a3     None   []     NaN   \n",
       "8  4fd1c19b8eb7c8105d6f0f82     None   []     NaN   \n",
       "9  4fd1a3318eb7c8105d6ba69b     None   []     NaN   \n",
       "\n",
       "                 byline.original  \\\n",
       "0              By Andy Grundberg   \n",
       "1        By RICHARD W. STEVENSON   \n",
       "2               By Joel Kurtzman   \n",
       "3        By RICHARD W. STEVENSON   \n",
       "4                            NaN   \n",
       "5                            NaN   \n",
       "6           By MALCOLM W. BROWNE   \n",
       "7  By COL. HARRY G. SUMMERS JR.;   \n",
       "8                            NaN   \n",
       "9                            NaN   \n",
       "\n",
       "                                       byline.person document_type  \\\n",
       "0  [{u'organization': u'', u'role': u'reported', ...       article   \n",
       "1  [{u'firstname': u'Richard', u'middlename': u'W...       article   \n",
       "2  [{u'organization': u'', u'role': u'reported', ...       article   \n",
       "3  [{u'firstname': u'Richard', u'middlename': u'W...       article   \n",
       "4                                                NaN       article   \n",
       "5                                                NaN       article   \n",
       "6  [{u'firstname': u'Malcolm', u'middlename': u'W...       article   \n",
       "7  [{u'organization': u'', u'role': u'reported', ...       article   \n",
       "8                                                NaN       article   \n",
       "9                                                NaN       article   \n",
       "\n",
       "                                       headline.main  \\\n",
       "0                                             Camera   \n",
       "1  AIR FORCE CHOOSES LOCKHEED'S DESIGN FOR FIGHTE...   \n",
       "2                        Business Diary: April 21-26   \n",
       "3   Making a Difference; A Turnaround for Mr. Tellep   \n",
       "4                                       NEWS SUMMARY   \n",
       "5                  This Fighter Will Bust the Budget   \n",
       "6  2 Rival Designers Led the Way To Stealthy Warp...   \n",
       "7                    How to Be the World's Policeman   \n",
       "8   Why Mixing Defense and Commercial Ventures Fails   \n",
       "9     The F-22's Crucial Mission in the 21st Century   \n",
       "\n",
       "                                            keywords  \\\n",
       "0  [{u'name': u'subject', u'value': u'TERMS NOT A...   \n",
       "1  [{u'name': u'organizations', u'value': u'LOCKH...   \n",
       "2  [{u'name': u'subject', u'value': u'UNITED STAT...   \n",
       "3  [{u'name': u'persons', u'value': u'TELLEP, DAN...   \n",
       "4  [{u'name': u'subject', u'value': u'NO INDEX TE...   \n",
       "5  [{u'name': u'glocations', u'value': u'UNITED S...   \n",
       "6  [{u'name': u'persons', u'value': u'CASHEN, JOH...   \n",
       "7  [{u'name': u'subject', u'value': u'UNITED STAT...   \n",
       "8  [{u'name': u'persons', u'value': u'BINGAMAN, J...   \n",
       "9  [{u'name': u'persons', u'value': u'RICE, DONAL...   \n",
       "\n",
       "                                      lead_paragraph    ...     print_page  \\\n",
       "0  A friend recently returned from a photography ...    ...             79   \n",
       "1  Ending an intense five-year competition for wh...    ...              1   \n",
       "2  COMPANIES Lockheed's Side Gets a Big Boost Fro...    ...              2   \n",
       "3  A year ago, Daniel M. Tellep, the chairman and...    ...              7   \n",
       "4  International A3-9 United Nations officials in...    ...              2   \n",
       "5  Peace dividend? The Air Force is acting as if ...    ...             16   \n",
       "6  THE Air Force's award last month of a huge con...    ...              1   \n",
       "7  ON AUG. 2, 1990, the very day that Iraqi force...    ...             40   \n",
       "8  To the Editor: \"Behind the Choosing of the F-2...    ...             11   \n",
       "9  To the Editor: The Times has an outstanding hi...    ...             20   \n",
       "\n",
       "               pub_date          section_name slideshow_credits  \\\n",
       "0  1990-11-18T00:00:00Z                  None              None   \n",
       "1  1991-04-24T00:00:00Z  Front Page; Business              None   \n",
       "2  1991-04-28T00:00:00Z              Business              None   \n",
       "3  1991-04-28T00:00:00Z              Business              None   \n",
       "4  1991-04-29T00:00:00Z   New York and Region              None   \n",
       "5  1991-04-29T00:00:00Z               Opinion              None   \n",
       "6  1991-05-14T00:00:00Z       Science; Health              None   \n",
       "7  1991-05-19T00:00:00Z  Magazine; Washington              None   \n",
       "8  1991-05-19T00:00:00Z     Business; Opinion              None   \n",
       "9  1991-05-21T00:00:00Z               Opinion              None   \n",
       "\n",
       "                                             snippet              source  \\\n",
       "0  A friend recently returned from a photography ...  The New York Times   \n",
       "1  Ending an intense five-year competition for wh...  The New York Times   \n",
       "2  COMPANIES Lockheed's Side Gets a Big Boost Fro...  The New York Times   \n",
       "3  A year ago, Daniel M. Tellep, the chairman and...  The New York Times   \n",
       "4  International A3-9    United Nations officials...  The New York Times   \n",
       "5  Peace dividend? The Air Force is acting as if ...  The New York Times   \n",
       "6  THE Air Force's award last month of a huge con...  The New York Times   \n",
       "7  ON AUG. 2, 1990, the very day that Iraqi force...  The New York Times   \n",
       "8  To the Editor:   \"Behind the Choosing of the F...  The New York Times   \n",
       "9  To the Editor:   The Times has an outstanding ...  The New York Times   \n",
       "\n",
       "  subsection_name type_of_material  \\\n",
       "0            None             News   \n",
       "1            None             News   \n",
       "2            None          Summary   \n",
       "3            None             News   \n",
       "4            None          Summary   \n",
       "5            None        Editorial   \n",
       "6            None             News   \n",
       "7            None             News   \n",
       "8            None           Letter   \n",
       "9            None           Letter   \n",
       "\n",
       "                                             web_url word_count  \n",
       "0  http://www.nytimes.com/1990/11/18/news/camera....        815  \n",
       "1  http://www.nytimes.com/1991/04/24/business/air...       1250  \n",
       "2  http://www.nytimes.com/1991/04/28/business/bus...       1663  \n",
       "3  http://www.nytimes.com/1991/04/28/business/mak...        250  \n",
       "4  http://www.nytimes.com/1991/04/29/nyregion/new...       1180  \n",
       "5  http://www.nytimes.com/1991/04/29/opinion/this...        614  \n",
       "6  http://www.nytimes.com/1991/05/14/science/2-ri...       2251  \n",
       "7  http://www.nytimes.com/1991/05/19/magazine/how...       3211  \n",
       "8  http://www.nytimes.com/1991/05/19/business/l-w...        202  \n",
       "9  http://www.nytimes.com/1991/05/21/opinion/l-th...        734  \n",
       "\n",
       "[10 rows x 22 columns]>"
      ]
     },
     "execution_count": 15,
     "metadata": {},
     "output_type": "execute_result"
    }
   ],
   "source": [
    "pres_df = json_normalize(data['docs'])\n",
    "pres_df.head()\n",
    "pres_df.describe"
   ]
  },
  {
   "cell_type": "code",
   "execution_count": 16,
   "metadata": {
    "collapsed": true
   },
   "outputs": [
    {
     "data": {
      "text/html": [
       "<div>\n",
       "<table border=\"1\" class=\"dataframe\">\n",
       "  <thead>\n",
       "    <tr style=\"text-align: right;\">\n",
       "      <th></th>\n",
       "      <th>snippet</th>\n",
       "      <th>byline.original</th>\n",
       "      <th>type_of_material</th>\n",
       "    </tr>\n",
       "  </thead>\n",
       "  <tbody>\n",
       "    <tr>\n",
       "      <th>0</th>\n",
       "      <td>A friend recently returned from a photography ...</td>\n",
       "      <td>By Andy Grundberg</td>\n",
       "      <td>News</td>\n",
       "    </tr>\n",
       "    <tr>\n",
       "      <th>1</th>\n",
       "      <td>Ending an intense five-year competition for wh...</td>\n",
       "      <td>By RICHARD W. STEVENSON</td>\n",
       "      <td>News</td>\n",
       "    </tr>\n",
       "    <tr>\n",
       "      <th>2</th>\n",
       "      <td>COMPANIES Lockheed's Side Gets a Big Boost Fro...</td>\n",
       "      <td>By Joel Kurtzman</td>\n",
       "      <td>Summary</td>\n",
       "    </tr>\n",
       "    <tr>\n",
       "      <th>3</th>\n",
       "      <td>A year ago, Daniel M. Tellep, the chairman and...</td>\n",
       "      <td>By RICHARD W. STEVENSON</td>\n",
       "      <td>News</td>\n",
       "    </tr>\n",
       "    <tr>\n",
       "      <th>4</th>\n",
       "      <td>International A3-9    United Nations officials...</td>\n",
       "      <td>NaN</td>\n",
       "      <td>Summary</td>\n",
       "    </tr>\n",
       "    <tr>\n",
       "      <th>5</th>\n",
       "      <td>Peace dividend? The Air Force is acting as if ...</td>\n",
       "      <td>NaN</td>\n",
       "      <td>Editorial</td>\n",
       "    </tr>\n",
       "    <tr>\n",
       "      <th>6</th>\n",
       "      <td>THE Air Force's award last month of a huge con...</td>\n",
       "      <td>By MALCOLM W. BROWNE</td>\n",
       "      <td>News</td>\n",
       "    </tr>\n",
       "    <tr>\n",
       "      <th>7</th>\n",
       "      <td>ON AUG. 2, 1990, the very day that Iraqi force...</td>\n",
       "      <td>By COL. HARRY G. SUMMERS JR.;</td>\n",
       "      <td>News</td>\n",
       "    </tr>\n",
       "    <tr>\n",
       "      <th>8</th>\n",
       "      <td>To the Editor:   \"Behind the Choosing of the F...</td>\n",
       "      <td>NaN</td>\n",
       "      <td>Letter</td>\n",
       "    </tr>\n",
       "    <tr>\n",
       "      <th>9</th>\n",
       "      <td>To the Editor:   The Times has an outstanding ...</td>\n",
       "      <td>NaN</td>\n",
       "      <td>Letter</td>\n",
       "    </tr>\n",
       "  </tbody>\n",
       "</table>\n",
       "</div>"
      ],
      "text/plain": [
       "                                             snippet  \\\n",
       "0  A friend recently returned from a photography ...   \n",
       "1  Ending an intense five-year competition for wh...   \n",
       "2  COMPANIES Lockheed's Side Gets a Big Boost Fro...   \n",
       "3  A year ago, Daniel M. Tellep, the chairman and...   \n",
       "4  International A3-9    United Nations officials...   \n",
       "5  Peace dividend? The Air Force is acting as if ...   \n",
       "6  THE Air Force's award last month of a huge con...   \n",
       "7  ON AUG. 2, 1990, the very day that Iraqi force...   \n",
       "8  To the Editor:   \"Behind the Choosing of the F...   \n",
       "9  To the Editor:   The Times has an outstanding ...   \n",
       "\n",
       "                 byline.original type_of_material  \n",
       "0              By Andy Grundberg             News  \n",
       "1        By RICHARD W. STEVENSON             News  \n",
       "2               By Joel Kurtzman          Summary  \n",
       "3        By RICHARD W. STEVENSON             News  \n",
       "4                            NaN          Summary  \n",
       "5                            NaN        Editorial  \n",
       "6           By MALCOLM W. BROWNE             News  \n",
       "7  By COL. HARRY G. SUMMERS JR.;             News  \n",
       "8                            NaN           Letter  \n",
       "9                            NaN           Letter  "
      ]
     },
     "execution_count": 16,
     "metadata": {},
     "output_type": "execute_result"
    }
   ],
   "source": [
    "pres_df[['snippet', 'byline.original', 'type_of_material']]"
   ]
  },
  {
   "cell_type": "code",
   "execution_count": 17,
   "metadata": {
    "collapsed": false
   },
   "outputs": [],
   "source": [
    "# We can then write to a .CSV"
   ]
  },
  {
   "cell_type": "markdown",
   "metadata": {},
   "source": [
    "# Exercise: NY Times movies"
   ]
  },
  {
   "cell_type": "code",
   "execution_count": 1,
   "metadata": {
    "collapsed": false
   },
   "outputs": [],
   "source": [
    "api_call = \"http://api.nytimes.com/svc/search/v2/articlesearch.json?q=%22F-22%22&\"\\\n",
    "                       \"begin_date=19900101&end_date=19981231&sort=oldest&api-\"\\\n",
    "                       \"key=52576efae1e6ae68fa52aa793d823f24%3A13%3A60973557\"\n",
    "website = requests.get(api_call)\n",
    "## take a look at the headers\n",
    "website.headers"
   ]
  },
  {
   "cell_type": "code",
   "execution_count": 2,
   "metadata": {
    "collapsed": true
   },
   "outputs": [],
   "source": [
    "\n",
    "\n"
   ]
  },
  {
   "cell_type": "code",
   "execution_count": null,
   "metadata": {
    "collapsed": false
   },
   "outputs": [],
   "source": [
    "## rerun the api request with urllib2 andtransform the data to pandas dataframe "
   ]
  },
  {
   "cell_type": "code",
   "execution_count": 3,
   "metadata": {
    "collapsed": true
   },
   "outputs": [],
   "source": [
    "## print a data frame with just the title, movie id and critics pick status\n",
    "\n"
   ]
  },
  {
   "cell_type": "markdown",
   "metadata": {},
   "source": [
    "#Bonus: \n",
    "###Use this data to do NLP pre-processing then model it to predict critics picks based on the text in the review."
   ]
  },
  {
   "cell_type": "code",
   "execution_count": null,
   "metadata": {
    "collapsed": false
   },
   "outputs": [],
   "source": []
  },
  {
   "cell_type": "code",
   "execution_count": null,
   "metadata": {
    "collapsed": false
   },
   "outputs": [],
   "source": []
  },
  {
   "cell_type": "code",
   "execution_count": null,
   "metadata": {
    "collapsed": false
   },
   "outputs": [],
   "source": []
  },
  {
   "cell_type": "markdown",
   "metadata": {},
   "source": [
    "## Repeat this process with a new API"
   ]
  },
  {
   "cell_type": "code",
   "execution_count": null,
   "metadata": {
    "collapsed": false
   },
   "outputs": [],
   "source": []
  },
  {
   "cell_type": "markdown",
   "metadata": {},
   "source": [
    "## Extra credit: \n",
    "There are several ways to convert to a python data frame. Find another!"
   ]
  },
  {
   "cell_type": "code",
   "execution_count": null,
   "metadata": {
    "collapsed": false
   },
   "outputs": [],
   "source": []
  },
  {
   "cell_type": "markdown",
   "metadata": {},
   "source": [
    "## New to APIs? What to know more about RESTful APIs?\n",
    "Check out this great tutorial\n",
    "https://www.codecademy.com/courses/python-intermediate-en-6zbLp/3/5?curriculum_id=50ecbb00306689057a000188"
   ]
  }
 ],
 "metadata": {
  "kernelspec": {
   "display_name": "Python 2",
   "language": "python",
   "name": "python2"
  },
  "language_info": {
   "codemirror_mode": {
    "name": "ipython",
    "version": 2
   },
   "file_extension": ".py",
   "mimetype": "text/x-python",
   "name": "python",
   "nbconvert_exporter": "python",
   "pygments_lexer": "ipython2",
   "version": "2.7.11"
  }
 },
 "nbformat": 4,
 "nbformat_minor": 0
}
