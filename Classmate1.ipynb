{
 "cells": [
  {
   "cell_type": "markdown",
   "metadata": {},
   "source": [
    "# Project 1\n",
    "\n",
    "In this first project you will create a framework to scope out data science projects. This framework will provide you with a guide to develop a well-articulated problem statement and analysis plan that will be robust and reproducible."
   ]
  },
  {
   "cell_type": "markdown",
   "metadata": {},
   "source": [
    "### Read and evaluate the following problem statement: \n",
    "Determine which free-tier customers will covert to paying customers, using demographic data collected at signup (age, gender, location, and profession) and customer useage data (days since last log in, and activity score 1 = active user, 0= inactive user) based on Hooli data from Jan-Apr 2015. \n"
   ]
  },
  {
   "cell_type": "markdown",
   "metadata": {},
   "source": [
    "#### 1. What is the outcome?"
   ]
  },
  {
   "cell_type": "markdown",
   "metadata": {},
   "source": [
    "Answer: A count and list of free-tier customers that are most likely to convert to paying based on activity and demographics."
   ]
  },
  {
   "cell_type": "markdown",
   "metadata": {},
   "source": [
    "#### 2. What are the predictors/covariates? "
   ]
  },
  {
   "cell_type": "markdown",
   "metadata": {},
   "source": [
    "Answer: demegraphic data (age, gender, location, profession) and usage data (activity, days since last use)"
   ]
  },
  {
   "cell_type": "markdown",
   "metadata": {},
   "source": [
    "#### 3. What timeframe is this data relevent for?"
   ]
  },
  {
   "cell_type": "markdown",
   "metadata": {},
   "source": [
    "Answer: January through April of 2015"
   ]
  },
  {
   "cell_type": "markdown",
   "metadata": {},
   "source": [
    "#### 4. What is the hypothesis?"
   ]
  },
  {
   "cell_type": "markdown",
   "metadata": {},
   "source": [
    "Answer: User activity and demographic data will allow us to predict which customers are most likely to convert from free to paying user-tiers."
   ]
  },
  {
   "cell_type": "markdown",
   "metadata": {},
   "source": [
    "## Let's get started with our dataset"
   ]
  },
  {
   "cell_type": "markdown",
   "metadata": {},
   "source": [
    "#### 1. Create a data dictionary "
   ]
  },
  {
   "cell_type": "markdown",
   "metadata": {},
   "source": [
    "Answer: \n",
    "\n",
    "Variable | Description | Type of Variable | dtype\n",
    "---| ---| ---| ---\n",
    "admit | admission outcome: 0 = not admitted 1 = admitted | categorical | int64\n",
    "gre | revised general test scores | continuous | float64\n",
    "gpa | grade point average | continuous | float64\n",
    "rank/prestige | rank of applicant's undergraduate alma mater: 1 = highest 4 = lowest | continuous | float64\n"
   ]
  },
  {
   "cell_type": "markdown",
   "metadata": {},
   "source": [
    "#### 2. What is the outcome?"
   ]
  },
  {
   "cell_type": "markdown",
   "metadata": {},
   "source": [
    "Answer: Demonstrate the general test scores and grade point average values that correlate with admission and show if rank of alma mater has any influence on admission."
   ]
  },
  {
   "cell_type": "markdown",
   "metadata": {},
   "source": [
    "#### 3. What are the predictors/covariates? "
   ]
  },
  {
   "cell_type": "markdown",
   "metadata": {},
   "source": [
    "Answer: General test scores and grade point averages (and possibly rank/prestige) are predictors, admit (1 = yes, 0 = no) is the other covariate."
   ]
  },
  {
   "cell_type": "markdown",
   "metadata": {},
   "source": [
    "#### 4. What timeframe is this data relevent for?"
   ]
  },
  {
   "cell_type": "markdown",
   "metadata": {},
   "source": [
    "Answer: August 2007 (although the data is generated hypothical data)"
   ]
  },
  {
   "cell_type": "markdown",
   "metadata": {},
   "source": [
    "## Problem Statement"
   ]
  },
  {
   "cell_type": "markdown",
   "metadata": {},
   "source": [
    "Answer: Using data for August 2007 graduate school admissions, determine the various factors that may influence admission into graduate school and the extent to which they influence admission. GRE, GPA and a ranking of the prestige of the applicants alma mater are all considered for evaluation."
   ]
  },
  {
   "cell_type": "markdown",
   "metadata": {},
   "source": [
    "#### 4. What is the hypothesis?"
   ]
  },
  {
   "cell_type": "markdown",
   "metadata": {},
   "source": [
    "Hypothesis: Each of the factors is influential to admission result, but GRE and GPA are most influential: i.e. rank of alma mater might be used in order to tip the balance of an inconclusive result from the first two factors."
   ]
  },
  {
   "cell_type": "markdown",
   "metadata": {},
   "source": [
    "## Exploratory Analysis Plan"
   ]
  },
  {
   "cell_type": "markdown",
   "metadata": {},
   "source": [
    "Exploratory analysis plan - examine data types, parameters and values of each variable and filter by admission outcome. Plot variables to see general distribution."
   ]
  },
  {
   "cell_type": "markdown",
   "metadata": {},
   "source": [
    "#### 1. What are the goals of the exploratory analysis? "
   ]
  },
  {
   "cell_type": "markdown",
   "metadata": {
    "collapsed": true
   },
   "source": [
    "Answer: To determine what data types there are, what the maximum, minimum and mean of these are, and to see if there are any obvious correlations between them."
   ]
  },
  {
   "cell_type": "markdown",
   "metadata": {},
   "source": [
    "#### 2a. What are the assumptions of the distribution of data? "
   ]
  },
  {
   "cell_type": "markdown",
   "metadata": {},
   "source": [
    "Answer: Generally those with higher GPAs will also have higher GRE scores. GPA will range from 0 to 4 and GRE from 200 to 800."
   ]
  },
  {
   "cell_type": "markdown",
   "metadata": {},
   "source": [
    "Grade point average (GPA) is calculated by dividing the total amount of grade points earned by the total amount of credit hours attempted. It may range from 0.0 to a 4.0\n",
    "Three scores are reported on the GRE General Test:\n",
    "    a Verbal Reasoning score reported on a 200–800 score scale, in 1-point increments\n",
    "    a Quantitative Reasoning score reported on a 200–800 score scale, in 1-point increments\n",
    "    an Analytical Writing score reported on a 0–6 score scale, in half-point increments\n",
    "Rank/prestige of alma mater has some objective method of scoring."
   ]
  },
  {
   "cell_type": "markdown",
   "metadata": {},
   "source": [
    "#### 2b. How will you determine the distribution of your data? "
   ]
  },
  {
   "cell_type": "markdown",
   "metadata": {
    "collapsed": true
   },
   "source": [
    "Answer: Using maximum, minimum, describe and other functions on the values of GPA and GRE. Also plotting variables against one another to discover if there is any colinearity."
   ]
  },
  {
   "cell_type": "markdown",
   "metadata": {},
   "source": [
    "#### 3a. How might outliers impact your analysis? "
   ]
  },
  {
   "cell_type": "markdown",
   "metadata": {
    "collapsed": true
   },
   "source": [
    "Answer: For example if someone with a high GPA and GRE, who is also from high ranking school does not get admitted, these examples will possibly be due to another factor that is not in the data set, This will impact results and filters such as maximum()."
   ]
  },
  {
   "cell_type": "markdown",
   "metadata": {},
   "source": [
    "#### 3b. How will you test for outliers? "
   ]
  },
  {
   "cell_type": "markdown",
   "metadata": {},
   "source": [
    "Answer: Create a ranking system for groups of results in each category and a combined ranking. Then filter out any results that were not admitted, despite being above the standard deviation range in this ranking system. Similarly, filter out and results that were admitted, depsite being below the standard deviation range of this ranking system."
   ]
  },
  {
   "cell_type": "markdown",
   "metadata": {},
   "source": [
    "#### 4a. What is colinearity? "
   ]
  },
  {
   "cell_type": "markdown",
   "metadata": {
    "collapsed": true
   },
   "source": [
    "Answer: This is when two variables show a linear relationship, although not necessarily a relationship of causality. If variables were charted on the x and y axes, an upwards diagonal line would be produced."
   ]
  },
  {
   "cell_type": "markdown",
   "metadata": {},
   "source": [
    "#### 4b. How will you test for colinearity? "
   ]
  },
  {
   "cell_type": "markdown",
   "metadata": {},
   "source": [
    "Answer: Chart two variables on x and y and see what relationship the plotted points suggest."
   ]
  },
  {
   "cell_type": "markdown",
   "metadata": {},
   "source": [
    "#### 5. What is your exploratory analysis plan?\n",
    "Using the above information, write an exploratory analysis plan that would allow you or a colleague to reproduce your analysis 1 year from now. "
   ]
  },
  {
   "cell_type": "markdown",
   "metadata": {},
   "source": [
    "Answer:\n",
    "##### 1. Import data and determine data types.\n",
    "##### 2. Determine key parameters of variables; maximum, minimum, mean, standard deviation etc.\n",
    "##### 3. Count number of admissions versus non-admissions, and make preliminary test of whether GRE, GPA or prestige of school have any obvious      baring on this.\n",
    "##### 4. Plot GRE against GPA to determine if these variables have colinear relationship.\n",
    "##### 5. Create ranking for combined GRE and GPA score.\n",
    "##### 6. Identify outliers; e.g. high combined scores that don't lead to admission.\n",
    "##### 7. Remove outliers and plot again.\n",
    "##### 8. Group results by admitted/not-admitted to determine what range of scores are in each group.\n",
    "##### 9. Plot these results.\n",
    "##### 10. Determine probability of admission with range of scores."
   ]
  },
  {
   "cell_type": "markdown",
   "metadata": {},
   "source": [
    "# Exploratory analysis"
   ]
  },
  {
   "cell_type": "code",
   "execution_count": 1,
   "metadata": {
    "collapsed": true
   },
   "outputs": [],
   "source": [
    "# importing modules\n",
    "import pandas as pd\n",
    "import numpy as np\n",
    "import matplotlib as plt\n",
    "%matplotlib inline"
   ]
  },
  {
   "cell_type": "markdown",
   "metadata": {},
   "source": [
    "### The first 10 rows of the _admissions_ file."
   ]
  },
  {
   "cell_type": "code",
   "execution_count": 2,
   "metadata": {
    "collapsed": false
   },
   "outputs": [
    {
     "data": {
      "text/html": [
       "<div>\n",
       "<table border=\"1\" class=\"dataframe\">\n",
       "  <thead>\n",
       "    <tr style=\"text-align: right;\">\n",
       "      <th></th>\n",
       "      <th>admit</th>\n",
       "      <th>gre</th>\n",
       "      <th>gpa</th>\n",
       "      <th>prestige</th>\n",
       "    </tr>\n",
       "  </thead>\n",
       "  <tbody>\n",
       "    <tr>\n",
       "      <th>0</th>\n",
       "      <td>0</td>\n",
       "      <td>380</td>\n",
       "      <td>3.61</td>\n",
       "      <td>3</td>\n",
       "    </tr>\n",
       "    <tr>\n",
       "      <th>1</th>\n",
       "      <td>1</td>\n",
       "      <td>660</td>\n",
       "      <td>3.67</td>\n",
       "      <td>3</td>\n",
       "    </tr>\n",
       "    <tr>\n",
       "      <th>2</th>\n",
       "      <td>1</td>\n",
       "      <td>800</td>\n",
       "      <td>4.00</td>\n",
       "      <td>1</td>\n",
       "    </tr>\n",
       "    <tr>\n",
       "      <th>3</th>\n",
       "      <td>1</td>\n",
       "      <td>640</td>\n",
       "      <td>3.19</td>\n",
       "      <td>4</td>\n",
       "    </tr>\n",
       "    <tr>\n",
       "      <th>4</th>\n",
       "      <td>0</td>\n",
       "      <td>520</td>\n",
       "      <td>2.93</td>\n",
       "      <td>4</td>\n",
       "    </tr>\n",
       "    <tr>\n",
       "      <th>5</th>\n",
       "      <td>1</td>\n",
       "      <td>760</td>\n",
       "      <td>3.00</td>\n",
       "      <td>2</td>\n",
       "    </tr>\n",
       "    <tr>\n",
       "      <th>6</th>\n",
       "      <td>1</td>\n",
       "      <td>560</td>\n",
       "      <td>2.98</td>\n",
       "      <td>1</td>\n",
       "    </tr>\n",
       "    <tr>\n",
       "      <th>7</th>\n",
       "      <td>0</td>\n",
       "      <td>400</td>\n",
       "      <td>3.08</td>\n",
       "      <td>2</td>\n",
       "    </tr>\n",
       "    <tr>\n",
       "      <th>8</th>\n",
       "      <td>1</td>\n",
       "      <td>540</td>\n",
       "      <td>3.39</td>\n",
       "      <td>3</td>\n",
       "    </tr>\n",
       "    <tr>\n",
       "      <th>9</th>\n",
       "      <td>0</td>\n",
       "      <td>700</td>\n",
       "      <td>3.92</td>\n",
       "      <td>2</td>\n",
       "    </tr>\n",
       "  </tbody>\n",
       "</table>\n",
       "</div>"
      ],
      "text/plain": [
       "   admit  gre   gpa  prestige\n",
       "0      0  380  3.61         3\n",
       "1      1  660  3.67         3\n",
       "2      1  800  4.00         1\n",
       "3      1  640  3.19         4\n",
       "4      0  520  2.93         4\n",
       "5      1  760  3.00         2\n",
       "6      1  560  2.98         1\n",
       "7      0  400  3.08         2\n",
       "8      1  540  3.39         3\n",
       "9      0  700  3.92         2"
      ]
     },
     "execution_count": 2,
     "metadata": {},
     "output_type": "execute_result"
    }
   ],
   "source": [
    "# reading the admissions file and showing first 10 rows\n",
    "Location = r\"..\\assets\\admissions.csv\"\n",
    "f = pd.read_csv(Location)\n",
    "f[:10]"
   ]
  },
  {
   "cell_type": "markdown",
   "metadata": {},
   "source": [
    "### Examine data types"
   ]
  },
  {
   "cell_type": "code",
   "execution_count": 3,
   "metadata": {
    "collapsed": false
   },
   "outputs": [
    {
     "data": {
      "text/plain": [
       "admit         int64\n",
       "gre         float64\n",
       "gpa         float64\n",
       "prestige    float64\n",
       "dtype: object"
      ]
     },
     "execution_count": 3,
     "metadata": {},
     "output_type": "execute_result"
    }
   ],
   "source": [
    "# Show data types\n",
    "f.dtypes"
   ]
  },
  {
   "cell_type": "markdown",
   "metadata": {},
   "source": [
    "### Using describe to show variables count, sum, max, min, etc."
   ]
  },
  {
   "cell_type": "code",
   "execution_count": 4,
   "metadata": {
    "collapsed": false
   },
   "outputs": [
    {
     "data": {
      "text/html": [
       "<div>\n",
       "<table border=\"1\" class=\"dataframe\">\n",
       "  <thead>\n",
       "    <tr style=\"text-align: right;\">\n",
       "      <th></th>\n",
       "      <th>admit</th>\n",
       "      <th>gre</th>\n",
       "      <th>gpa</th>\n",
       "      <th>prestige</th>\n",
       "    </tr>\n",
       "  </thead>\n",
       "  <tbody>\n",
       "    <tr>\n",
       "      <th>count</th>\n",
       "      <td>400.000000</td>\n",
       "      <td>398.000000</td>\n",
       "      <td>398.00000</td>\n",
       "      <td>399.000000</td>\n",
       "    </tr>\n",
       "    <tr>\n",
       "      <th>mean</th>\n",
       "      <td>0.317500</td>\n",
       "      <td>588.040201</td>\n",
       "      <td>3.39093</td>\n",
       "      <td>2.486216</td>\n",
       "    </tr>\n",
       "    <tr>\n",
       "      <th>std</th>\n",
       "      <td>0.466087</td>\n",
       "      <td>115.628513</td>\n",
       "      <td>0.38063</td>\n",
       "      <td>0.945333</td>\n",
       "    </tr>\n",
       "    <tr>\n",
       "      <th>min</th>\n",
       "      <td>0.000000</td>\n",
       "      <td>220.000000</td>\n",
       "      <td>2.26000</td>\n",
       "      <td>1.000000</td>\n",
       "    </tr>\n",
       "    <tr>\n",
       "      <th>25%</th>\n",
       "      <td>0.000000</td>\n",
       "      <td>520.000000</td>\n",
       "      <td>3.13000</td>\n",
       "      <td>2.000000</td>\n",
       "    </tr>\n",
       "    <tr>\n",
       "      <th>50%</th>\n",
       "      <td>0.000000</td>\n",
       "      <td>580.000000</td>\n",
       "      <td>3.39500</td>\n",
       "      <td>2.000000</td>\n",
       "    </tr>\n",
       "    <tr>\n",
       "      <th>75%</th>\n",
       "      <td>1.000000</td>\n",
       "      <td>660.000000</td>\n",
       "      <td>3.67000</td>\n",
       "      <td>3.000000</td>\n",
       "    </tr>\n",
       "    <tr>\n",
       "      <th>max</th>\n",
       "      <td>1.000000</td>\n",
       "      <td>800.000000</td>\n",
       "      <td>4.00000</td>\n",
       "      <td>4.000000</td>\n",
       "    </tr>\n",
       "  </tbody>\n",
       "</table>\n",
       "</div>"
      ],
      "text/plain": [
       "            admit         gre        gpa    prestige\n",
       "count  400.000000  398.000000  398.00000  399.000000\n",
       "mean     0.317500  588.040201    3.39093    2.486216\n",
       "std      0.466087  115.628513    0.38063    0.945333\n",
       "min      0.000000  220.000000    2.26000    1.000000\n",
       "25%      0.000000  520.000000    3.13000    2.000000\n",
       "50%      0.000000  580.000000    3.39500    2.000000\n",
       "75%      1.000000  660.000000    3.67000    3.000000\n",
       "max      1.000000  800.000000    4.00000    4.000000"
      ]
     },
     "execution_count": 4,
     "metadata": {},
     "output_type": "execute_result"
    }
   ],
   "source": [
    "# show the main parameter variations\n",
    "f.describe()"
   ]
  },
  {
   "cell_type": "markdown",
   "metadata": {},
   "source": [
    "### Testing that the _admit_ column is indeed binary"
   ]
  },
  {
   "cell_type": "code",
   "execution_count": 5,
   "metadata": {
    "collapsed": false
   },
   "outputs": [
    {
     "data": {
      "text/plain": [
       "array([0, 1], dtype=int64)"
      ]
     },
     "execution_count": 5,
     "metadata": {},
     "output_type": "execute_result"
    }
   ],
   "source": [
    "# admit is a binary variable indicating 1 = admitted, 0 = not admitted\n",
    "f['admit'].unique()"
   ]
  },
  {
   "cell_type": "markdown",
   "metadata": {},
   "source": [
    "### Ranking system of _alma mater_ is 1 for high, 4 for low\n",
    "##### There appear to be null values in this field."
   ]
  },
  {
   "cell_type": "code",
   "execution_count": 6,
   "metadata": {
    "collapsed": false
   },
   "outputs": [
    {
     "data": {
      "text/plain": [
       "array([  3.,   1.,   4.,   2.,  nan])"
      ]
     },
     "execution_count": 6,
     "metadata": {},
     "output_type": "execute_result"
    }
   ],
   "source": [
    "# rank is the rank of an undergraduates alma mater 1 is high, 4 is low\n",
    "f['prestige'].unique()"
   ]
  },
  {
   "cell_type": "markdown",
   "metadata": {},
   "source": [
    "### Count the number of admissions..."
   ]
  },
  {
   "cell_type": "code",
   "execution_count": 7,
   "metadata": {
    "collapsed": false,
    "scrolled": true
   },
   "outputs": [
    {
     "name": "stdout",
     "output_type": "stream",
     "text": [
      "127\n",
      "127\n"
     ]
    }
   ],
   "source": [
    "print f[f.admit == 1]['admit'].count()\n",
    "print f['admit'].sum()"
   ]
  },
  {
   "cell_type": "markdown",
   "metadata": {},
   "source": [
    "### and rejections."
   ]
  },
  {
   "cell_type": "code",
   "execution_count": 8,
   "metadata": {
    "collapsed": false
   },
   "outputs": [
    {
     "name": "stdout",
     "output_type": "stream",
     "text": [
      "273\n"
     ]
    }
   ],
   "source": [
    "print f[f.admit == 0]['admit'].count()"
   ]
  },
  {
   "cell_type": "markdown",
   "metadata": {},
   "source": [
    "### Exploring the average, minimum and maximum gre for admission\n",
    "### Nobody with a gre of less than 300 was admitted, but this does not guarantee admission"
   ]
  },
  {
   "cell_type": "code",
   "execution_count": 9,
   "metadata": {
    "collapsed": false
   },
   "outputs": [
    {
     "name": "stdout",
     "output_type": "stream",
     "text": [
      "mean gre of admitted: 618.8976377952756\n",
      "mean gre of not admitted: 573.5793357933579\n"
     ]
    }
   ],
   "source": [
    "print 'mean gre of admitted: %r' % f[f.admit ==1]['gre'].mean()\n",
    "print 'mean gre of not admitted: %r' % f[f.admit ==0]['gre'].mean()"
   ]
  },
  {
   "cell_type": "code",
   "execution_count": 10,
   "metadata": {
    "collapsed": false
   },
   "outputs": [
    {
     "name": "stdout",
     "output_type": "stream",
     "text": [
      "Lowest GRE admitted = 300.0, highest = 800.0\n",
      "Lowest GRE not admitted = 220.0, highest = 800.0\n"
     ]
    }
   ],
   "source": [
    "print \"Lowest GRE admitted = %r, highest = %r\" % (f[f.admit == 1]['gre'].min(), f[f.admit == 1]['gre'].max())\n",
    "print \"Lowest GRE not admitted = %r, highest = %r\" % (f[f.admit == 0]['gre'].min(), f[f.admit == 0]['gre'].max())"
   ]
  },
  {
   "cell_type": "markdown",
   "metadata": {},
   "source": [
    "### Exploring the average, minimum and maximum gpa for admission\n",
    "### Nobody with a gpa of less than 2.419 was admitted, but this does not guarantee admission"
   ]
  },
  {
   "cell_type": "code",
   "execution_count": 11,
   "metadata": {
    "collapsed": false
   },
   "outputs": [
    {
     "name": "stdout",
     "output_type": "stream",
     "text": [
      "mean gpa of admitted: 3.4892063492063485\n",
      "mean gpa of not admitted: 3.345404411764704\n"
     ]
    }
   ],
   "source": [
    "print 'mean gpa of admitted: %r' % f[f.admit ==1]['gpa'].mean()\n",
    "print 'mean gpa of not admitted: %r' % f[f.admit ==0]['gpa'].mean()"
   ]
  },
  {
   "cell_type": "code",
   "execution_count": 12,
   "metadata": {
    "collapsed": false
   },
   "outputs": [
    {
     "name": "stdout",
     "output_type": "stream",
     "text": [
      "Lowest GPA admitted = 2.4199999999999999, highest = 4.0\n",
      "Lowest GPA not admitted = 2.2599999999999998, highest = 4.0\n"
     ]
    }
   ],
   "source": [
    "print \"Lowest GPA admitted = %r, highest = %r\" % (f[f.admit == 1]['gpa'].min(), f[f.admit == 1]['gpa'].max())\n",
    "print \"Lowest GPA not admitted = %r, highest = %r\" % (f[f.admit == 0]['gpa'].min(), f[f.admit == 0]['gpa'].max())"
   ]
  },
  {
   "cell_type": "markdown",
   "metadata": {},
   "source": [
    "### Exploring the average, minimum and maximum rank of alma mater for admission\n",
    "### There are admissions for all ranks, but admissions on average have a better ranking alma mater."
   ]
  },
  {
   "cell_type": "code",
   "execution_count": 13,
   "metadata": {
    "collapsed": false
   },
   "outputs": [
    {
     "name": "stdout",
     "output_type": "stream",
     "text": [
      "mean rank of admitted: 2.1507936507936507\n",
      "mean rank of not admitted: 2.641025641025641\n"
     ]
    }
   ],
   "source": [
    "print 'mean rank of admitted: %r' % f[f.admit ==1]['prestige'].mean()\n",
    "print 'mean rank of not admitted: %r' % f[f.admit ==0]['prestige'].mean()"
   ]
  },
  {
   "cell_type": "code",
   "execution_count": 14,
   "metadata": {
    "collapsed": false
   },
   "outputs": [
    {
     "name": "stdout",
     "output_type": "stream",
     "text": [
      "Lowest rank admitted = 4.0, highest = 1.0\n",
      "Lowest rank not admitted = 4.0, highest = 1.0\n"
     ]
    }
   ],
   "source": [
    "print \"Lowest rank admitted = %r, highest = %r\" % (f[f.admit == 1]['prestige'].max(), f[f.admit == 1]['prestige'].min())\n",
    "print \"Lowest rank not admitted = %r, highest = %r\" % (f[f.admit == 0]['prestige'].max(), f[f.admit == 0]['prestige'].min())"
   ]
  },
  {
   "cell_type": "markdown",
   "metadata": {},
   "source": [
    "### Plotting GRE and GPA to see if there is colinear relationship.\n",
    "### Whilst there is a general colinear relationship, there are numerous exceptions."
   ]
  },
  {
   "cell_type": "code",
   "execution_count": 15,
   "metadata": {
    "collapsed": false,
    "scrolled": true
   },
   "outputs": [
    {
     "data": {
      "text/plain": [
       "<matplotlib.axes._subplots.AxesSubplot at 0xbf9c550>"
      ]
     },
     "execution_count": 15,
     "metadata": {},
     "output_type": "execute_result"
    },
    {
     "data": {
      "image/png": "[encoded data removed]",
      "text/plain": [
       "<matplotlib.figure.Figure at 0x3ae5f98>"
      ]
     },
     "metadata": {},
     "output_type": "display_data"
    }
   ],
   "source": [
    "# plotting GRE and GPA\n",
    "f.plot.scatter(x='gre', y='gpa')"
   ]
  },
  {
   "cell_type": "markdown",
   "metadata": {},
   "source": [
    "### Plotting GPA against prestige rating of alma mater.\n",
    "### There is not a clear relationship between ranking of school and GPA score."
   ]
  },
  {
   "cell_type": "code",
   "execution_count": 16,
   "metadata": {
    "collapsed": false
   },
   "outputs": [
    {
     "data": {
      "text/plain": [
       "<matplotlib.axes._subplots.AxesSubplot at 0xbf85630>"
      ]
     },
     "execution_count": 16,
     "metadata": {},
     "output_type": "execute_result"
    },
    {
     "data": {
      "image/png": "[encoded data removed]",
      "text/plain": [
       "<matplotlib.figure.Figure at 0xc1cdb00>"
      ]
     },
     "metadata": {},
     "output_type": "display_data"
    }
   ],
   "source": [
    "# plotting prestige and GPA\n",
    "f_alma = f.groupby('prestige').mean()\n",
    "f_alma['gpa'].plot.bar()"
   ]
  },
  {
   "cell_type": "markdown",
   "metadata": {},
   "source": [
    "### Plotting GRE against prestige rating of alma mater.\n",
    "\n",
    "### There is a general trend of better ranked schools (1 and 2) show better GRE scores."
   ]
  },
  {
   "cell_type": "code",
   "execution_count": 17,
   "metadata": {
    "collapsed": false
   },
   "outputs": [
    {
     "data": {
      "text/plain": [
       "<matplotlib.axes._subplots.AxesSubplot at 0xc3a8be0>"
      ]
     },
     "execution_count": 17,
     "metadata": {},
     "output_type": "execute_result"
    },
    {
     "data": {
      "image/png": "[encoded data removed]",
      "text/plain": [
       "<matplotlib.figure.Figure at 0xc1a70b8>"
      ]
     },
     "metadata": {},
     "output_type": "display_data"
    }
   ],
   "source": [
    "# plotting prestige and GRE\n",
    "f_alma['gre'].plot.bar()"
   ]
  },
  {
   "cell_type": "markdown",
   "metadata": {},
   "source": [
    "## Creating a ranking for each variable in order to create combined score."
   ]
  },
  {
   "cell_type": "markdown",
   "metadata": {},
   "source": [
    "### Ranking GRE scores."
   ]
  },
  {
   "cell_type": "code",
   "execution_count": 18,
   "metadata": {
    "collapsed": true
   },
   "outputs": [],
   "source": [
    "# what GRE will count you out even if you have an 4 GPA?\n",
    "GRE_groups = []\n",
    "gre_range = f['gre'].max()-f['gre'].min()\n",
    "gre_increment = gre_range/10\n",
    "for gre in f['gre']:\n",
    "    if gre > (f['gre'].min() + 9*gre_increment):\n",
    "        GRE_groups.append(10)\n",
    "    elif gre > (f['gre'].min() + 8*gre_increment):\n",
    "        GRE_groups.append(9)\n",
    "    elif gre > (f['gre'].min() + 7*gre_increment):\n",
    "        GRE_groups.append(8)\n",
    "    elif gre > (f['gre'].min() + 6*gre_increment):\n",
    "        GRE_groups.append(7)\n",
    "    elif gre > (f['gre'].min() + 5*gre_increment):\n",
    "        GRE_groups.append(6)\n",
    "    elif gre > (f['gre'].min() + 4*gre_increment):\n",
    "        GRE_groups.append(5)\n",
    "    elif gre > (f['gre'].min() + 3*gre_increment):\n",
    "        GRE_groups.append(4)\n",
    "    elif gre > (f['gre'].min() + 2*gre_increment):\n",
    "        GRE_groups.append(3)\n",
    "    elif gre > (f['gre'].min() + 1*gre_increment):\n",
    "        GRE_groups.append(2)\n",
    "    elif gre > f['gre'].min():\n",
    "        GRE_groups.append(1)\n",
    "    else:\n",
    "        GRE_groups.append(0)\n",
    "f['GREgroup'] = GRE_groups"
   ]
  },
  {
   "cell_type": "markdown",
   "metadata": {},
   "source": [
    "### Ranking GPA scores"
   ]
  },
  {
   "cell_type": "code",
   "execution_count": 19,
   "metadata": {
    "collapsed": false
   },
   "outputs": [],
   "source": [
    "# what GPA will count you out even if you have an 800 GRE?\n",
    "GPA_groups = []\n",
    "gpa_range = f['gpa'].max()-f['gpa'].min()\n",
    "gpa_increment = gpa_range/10\n",
    "for gpa in f['gpa']:\n",
    "    if gpa > (f['gpa'].min() + 9*gpa_increment):\n",
    "        GPA_groups.append(10)\n",
    "    elif gpa > (f['gpa'].min() + 8*gpa_increment):\n",
    "        GPA_groups.append(9)\n",
    "    elif gpa > (f['gpa'].min() + 7*gpa_increment):\n",
    "        GPA_groups.append(8)\n",
    "    elif gpa > (f['gpa'].min() + 6*gpa_increment):\n",
    "        GPA_groups.append(7)\n",
    "    elif gpa > (f['gpa'].min() + 5*gpa_increment):\n",
    "        GPA_groups.append(6)\n",
    "    elif gpa > (f['gpa'].min() + 4*gpa_increment):\n",
    "        GPA_groups.append(5)\n",
    "    elif gpa > (f['gpa'].min() + 3*gpa_increment):\n",
    "        GPA_groups.append(4)\n",
    "    elif gpa > (f['gpa'].min() + 2*gpa_increment):\n",
    "        GPA_groups.append(3)\n",
    "    elif gpa > (f['gpa'].min() + 1*gpa_increment):\n",
    "        GPA_groups.append(2)\n",
    "    elif gpa > f['gpa'].min():\n",
    "        GPA_groups.append(1)\n",
    "    else:\n",
    "        GPA_groups.append(0)\n",
    "f['GPAgroup'] = GPA_groups"
   ]
  },
  {
   "cell_type": "markdown",
   "metadata": {},
   "source": [
    "### Ranking alma mater 'Prestige'"
   ]
  },
  {
   "cell_type": "code",
   "execution_count": 20,
   "metadata": {
    "collapsed": false
   },
   "outputs": [],
   "source": [
    "rank = []\n",
    "\n",
    "for rk in f['prestige']:\n",
    "    if rk == 1:\n",
    "        rank.append(10)\n",
    "    elif rk == 2:\n",
    "        rank.append(7.5)\n",
    "    elif rk == 3:\n",
    "        rank.append(5)\n",
    "    elif rk == 4:\n",
    "        rank.append(2.5)\n",
    "    else:\n",
    "        rank.append(0)\n",
    "f['Rank'] = rank"
   ]
  },
  {
   "cell_type": "markdown",
   "metadata": {},
   "source": [
    "### Creating Combined Score field"
   ]
  },
  {
   "cell_type": "code",
   "execution_count": 21,
   "metadata": {
    "collapsed": false,
    "scrolled": false
   },
   "outputs": [
    {
     "data": {
      "text/html": [
       "<div>\n",
       "<table border=\"1\" class=\"dataframe\">\n",
       "  <thead>\n",
       "    <tr style=\"text-align: right;\">\n",
       "      <th></th>\n",
       "      <th>admit</th>\n",
       "      <th>gre</th>\n",
       "      <th>gpa</th>\n",
       "      <th>prestige</th>\n",
       "      <th>GREgroup</th>\n",
       "      <th>GPAgroup</th>\n",
       "      <th>Rank</th>\n",
       "      <th>Combined</th>\n",
       "    </tr>\n",
       "  </thead>\n",
       "  <tbody>\n",
       "    <tr>\n",
       "      <th>0</th>\n",
       "      <td>0</td>\n",
       "      <td>380</td>\n",
       "      <td>3.61</td>\n",
       "      <td>3</td>\n",
       "      <td>3</td>\n",
       "      <td>8</td>\n",
       "      <td>5.0</td>\n",
       "      <td>16.0</td>\n",
       "    </tr>\n",
       "    <tr>\n",
       "      <th>1</th>\n",
       "      <td>1</td>\n",
       "      <td>660</td>\n",
       "      <td>3.67</td>\n",
       "      <td>3</td>\n",
       "      <td>8</td>\n",
       "      <td>9</td>\n",
       "      <td>5.0</td>\n",
       "      <td>22.0</td>\n",
       "    </tr>\n",
       "    <tr>\n",
       "      <th>2</th>\n",
       "      <td>1</td>\n",
       "      <td>800</td>\n",
       "      <td>4.00</td>\n",
       "      <td>1</td>\n",
       "      <td>10</td>\n",
       "      <td>10</td>\n",
       "      <td>10.0</td>\n",
       "      <td>30.0</td>\n",
       "    </tr>\n",
       "    <tr>\n",
       "      <th>3</th>\n",
       "      <td>1</td>\n",
       "      <td>640</td>\n",
       "      <td>3.19</td>\n",
       "      <td>4</td>\n",
       "      <td>8</td>\n",
       "      <td>6</td>\n",
       "      <td>2.5</td>\n",
       "      <td>16.5</td>\n",
       "    </tr>\n",
       "    <tr>\n",
       "      <th>4</th>\n",
       "      <td>0</td>\n",
       "      <td>520</td>\n",
       "      <td>2.93</td>\n",
       "      <td>4</td>\n",
       "      <td>6</td>\n",
       "      <td>4</td>\n",
       "      <td>2.5</td>\n",
       "      <td>12.5</td>\n",
       "    </tr>\n",
       "  </tbody>\n",
       "</table>\n",
       "</div>"
      ],
      "text/plain": [
       "   admit  gre   gpa  prestige  GREgroup  GPAgroup  Rank  Combined\n",
       "0      0  380  3.61         3         3         8   5.0      16.0\n",
       "1      1  660  3.67         3         8         9   5.0      22.0\n",
       "2      1  800  4.00         1        10        10  10.0      30.0\n",
       "3      1  640  3.19         4         8         6   2.5      16.5\n",
       "4      0  520  2.93         4         6         4   2.5      12.5"
      ]
     },
     "execution_count": 21,
     "metadata": {},
     "output_type": "execute_result"
    }
   ],
   "source": [
    "f['Combined'] = f['GREgroup'] + f['GPAgroup'] + f['Rank']\n",
    "f.head()"
   ]
  },
  {
   "cell_type": "markdown",
   "metadata": {},
   "source": [
    "### Sorting by combined score to see if there are still non-admissions amongst those that rank highly across all categories."
   ]
  },
  {
   "cell_type": "markdown",
   "metadata": {},
   "source": [
    "### 3 non-admissions still exist amongst the top 10 combined ranking"
   ]
  },
  {
   "cell_type": "code",
   "execution_count": 22,
   "metadata": {
    "collapsed": false
   },
   "outputs": [
    {
     "data": {
      "text/html": [
       "<div>\n",
       "<table border=\"1\" class=\"dataframe\">\n",
       "  <thead>\n",
       "    <tr style=\"text-align: right;\">\n",
       "      <th></th>\n",
       "      <th>admit</th>\n",
       "      <th>gre</th>\n",
       "      <th>gpa</th>\n",
       "      <th>prestige</th>\n",
       "      <th>GREgroup</th>\n",
       "      <th>GPAgroup</th>\n",
       "      <th>Rank</th>\n",
       "      <th>Combined</th>\n",
       "    </tr>\n",
       "  </thead>\n",
       "  <tbody>\n",
       "    <tr>\n",
       "      <th>2</th>\n",
       "      <td>1</td>\n",
       "      <td>800</td>\n",
       "      <td>4.00</td>\n",
       "      <td>1</td>\n",
       "      <td>10</td>\n",
       "      <td>10</td>\n",
       "      <td>10</td>\n",
       "      <td>30</td>\n",
       "    </tr>\n",
       "    <tr>\n",
       "      <th>293</th>\n",
       "      <td>0</td>\n",
       "      <td>800</td>\n",
       "      <td>3.97</td>\n",
       "      <td>1</td>\n",
       "      <td>10</td>\n",
       "      <td>10</td>\n",
       "      <td>10</td>\n",
       "      <td>30</td>\n",
       "    </tr>\n",
       "    <tr>\n",
       "      <th>12</th>\n",
       "      <td>1</td>\n",
       "      <td>760</td>\n",
       "      <td>4.00</td>\n",
       "      <td>1</td>\n",
       "      <td>10</td>\n",
       "      <td>10</td>\n",
       "      <td>10</td>\n",
       "      <td>30</td>\n",
       "    </tr>\n",
       "    <tr>\n",
       "      <th>69</th>\n",
       "      <td>0</td>\n",
       "      <td>800</td>\n",
       "      <td>3.73</td>\n",
       "      <td>1</td>\n",
       "      <td>10</td>\n",
       "      <td>9</td>\n",
       "      <td>10</td>\n",
       "      <td>29</td>\n",
       "    </tr>\n",
       "    <tr>\n",
       "      <th>25</th>\n",
       "      <td>1</td>\n",
       "      <td>800</td>\n",
       "      <td>3.66</td>\n",
       "      <td>1</td>\n",
       "      <td>10</td>\n",
       "      <td>9</td>\n",
       "      <td>10</td>\n",
       "      <td>29</td>\n",
       "    </tr>\n",
       "    <tr>\n",
       "      <th>202</th>\n",
       "      <td>1</td>\n",
       "      <td>700</td>\n",
       "      <td>4.00</td>\n",
       "      <td>1</td>\n",
       "      <td>9</td>\n",
       "      <td>10</td>\n",
       "      <td>10</td>\n",
       "      <td>29</td>\n",
       "    </tr>\n",
       "    <tr>\n",
       "      <th>165</th>\n",
       "      <td>0</td>\n",
       "      <td>700</td>\n",
       "      <td>4.00</td>\n",
       "      <td>1</td>\n",
       "      <td>9</td>\n",
       "      <td>10</td>\n",
       "      <td>10</td>\n",
       "      <td>29</td>\n",
       "    </tr>\n",
       "    <tr>\n",
       "      <th>14</th>\n",
       "      <td>1</td>\n",
       "      <td>700</td>\n",
       "      <td>4.00</td>\n",
       "      <td>1</td>\n",
       "      <td>9</td>\n",
       "      <td>10</td>\n",
       "      <td>10</td>\n",
       "      <td>29</td>\n",
       "    </tr>\n",
       "    <tr>\n",
       "      <th>118</th>\n",
       "      <td>1</td>\n",
       "      <td>800</td>\n",
       "      <td>3.70</td>\n",
       "      <td>1</td>\n",
       "      <td>10</td>\n",
       "      <td>9</td>\n",
       "      <td>10</td>\n",
       "      <td>29</td>\n",
       "    </tr>\n",
       "    <tr>\n",
       "      <th>150</th>\n",
       "      <td>1</td>\n",
       "      <td>800</td>\n",
       "      <td>3.74</td>\n",
       "      <td>1</td>\n",
       "      <td>10</td>\n",
       "      <td>9</td>\n",
       "      <td>10</td>\n",
       "      <td>29</td>\n",
       "    </tr>\n",
       "  </tbody>\n",
       "</table>\n",
       "</div>"
      ],
      "text/plain": [
       "     admit  gre   gpa  prestige  GREgroup  GPAgroup  Rank  Combined\n",
       "2        1  800  4.00         1        10        10    10        30\n",
       "293      0  800  3.97         1        10        10    10        30\n",
       "12       1  760  4.00         1        10        10    10        30\n",
       "69       0  800  3.73         1        10         9    10        29\n",
       "25       1  800  3.66         1        10         9    10        29\n",
       "202      1  700  4.00         1         9        10    10        29\n",
       "165      0  700  4.00         1         9        10    10        29\n",
       "14       1  700  4.00         1         9        10    10        29\n",
       "118      1  800  3.70         1        10         9    10        29\n",
       "150      1  800  3.74         1        10         9    10        29"
      ]
     },
     "execution_count": 22,
     "metadata": {},
     "output_type": "execute_result"
    }
   ],
   "source": [
    "franked = f.sort_values('Combined', ascending=False)\n",
    "franked.head(10)"
   ]
  },
  {
   "cell_type": "code",
   "execution_count": 23,
   "metadata": {
    "collapsed": false
   },
   "outputs": [
    {
     "data": {
      "text/plain": [
       "4.421657049700135"
      ]
     },
     "execution_count": 23,
     "metadata": {},
     "output_type": "execute_result"
    }
   ],
   "source": [
    "standev = franked['Combined'].std()\n",
    "standev"
   ]
  },
  {
   "cell_type": "markdown",
   "metadata": {},
   "source": [
    "### There are 31 highly ranked individuals that didn't get admitted."
   ]
  },
  {
   "cell_type": "code",
   "execution_count": 24,
   "metadata": {
    "collapsed": false
   },
   "outputs": [
    {
     "data": {
      "text/plain": [
       "admit       31\n",
       "gre         31\n",
       "gpa         31\n",
       "prestige    31\n",
       "GREgroup    31\n",
       "GPAgroup    31\n",
       "Rank        31\n",
       "Combined    31\n",
       "dtype: int64"
      ]
     },
     "execution_count": 24,
     "metadata": {},
     "output_type": "execute_result"
    }
   ],
   "source": [
    "# outliers - combined scored of more than standard deviation, but not admitted\n",
    "franked[(franked.admit == 0) & (franked.Combined > (franked['Combined'].mean() + standev))].count()"
   ]
  },
  {
   "cell_type": "markdown",
   "metadata": {},
   "source": [
    "### 1 admissions still exists amongst the bottom 10 combined ranking"
   ]
  },
  {
   "cell_type": "code",
   "execution_count": 25,
   "metadata": {
    "collapsed": false,
    "scrolled": true
   },
   "outputs": [
    {
     "data": {
      "text/html": [
       "<div>\n",
       "<table border=\"1\" class=\"dataframe\">\n",
       "  <thead>\n",
       "    <tr style=\"text-align: right;\">\n",
       "      <th></th>\n",
       "      <th>admit</th>\n",
       "      <th>gre</th>\n",
       "      <th>gpa</th>\n",
       "      <th>prestige</th>\n",
       "      <th>GREgroup</th>\n",
       "      <th>GPAgroup</th>\n",
       "      <th>Rank</th>\n",
       "      <th>Combined</th>\n",
       "    </tr>\n",
       "  </thead>\n",
       "  <tbody>\n",
       "    <tr>\n",
       "      <th>212</th>\n",
       "      <td>0</td>\n",
       "      <td>NaN</td>\n",
       "      <td>2.87</td>\n",
       "      <td>2</td>\n",
       "      <td>0</td>\n",
       "      <td>4</td>\n",
       "      <td>7.5</td>\n",
       "      <td>11.5</td>\n",
       "    </tr>\n",
       "    <tr>\n",
       "      <th>238</th>\n",
       "      <td>0</td>\n",
       "      <td>500</td>\n",
       "      <td>2.86</td>\n",
       "      <td>4</td>\n",
       "      <td>5</td>\n",
       "      <td>4</td>\n",
       "      <td>2.5</td>\n",
       "      <td>11.5</td>\n",
       "    </tr>\n",
       "    <tr>\n",
       "      <th>17</th>\n",
       "      <td>0</td>\n",
       "      <td>360</td>\n",
       "      <td>2.56</td>\n",
       "      <td>3</td>\n",
       "      <td>3</td>\n",
       "      <td>2</td>\n",
       "      <td>5.0</td>\n",
       "      <td>10.0</td>\n",
       "    </tr>\n",
       "    <tr>\n",
       "      <th>83</th>\n",
       "      <td>0</td>\n",
       "      <td>380</td>\n",
       "      <td>2.91</td>\n",
       "      <td>4</td>\n",
       "      <td>3</td>\n",
       "      <td>4</td>\n",
       "      <td>2.5</td>\n",
       "      <td>9.5</td>\n",
       "    </tr>\n",
       "    <tr>\n",
       "      <th>304</th>\n",
       "      <td>0</td>\n",
       "      <td>220</td>\n",
       "      <td>2.83</td>\n",
       "      <td>3</td>\n",
       "      <td>0</td>\n",
       "      <td>4</td>\n",
       "      <td>5.0</td>\n",
       "      <td>9.0</td>\n",
       "    </tr>\n",
       "    <tr>\n",
       "      <th>48</th>\n",
       "      <td>0</td>\n",
       "      <td>440</td>\n",
       "      <td>2.48</td>\n",
       "      <td>4</td>\n",
       "      <td>4</td>\n",
       "      <td>2</td>\n",
       "      <td>2.5</td>\n",
       "      <td>8.5</td>\n",
       "    </tr>\n",
       "    <tr>\n",
       "      <th>71</th>\n",
       "      <td>0</td>\n",
       "      <td>300</td>\n",
       "      <td>2.92</td>\n",
       "      <td>4</td>\n",
       "      <td>2</td>\n",
       "      <td>4</td>\n",
       "      <td>2.5</td>\n",
       "      <td>8.5</td>\n",
       "    </tr>\n",
       "    <tr>\n",
       "      <th>236</th>\n",
       "      <td>1</td>\n",
       "      <td>660</td>\n",
       "      <td>NaN</td>\n",
       "      <td>NaN</td>\n",
       "      <td>8</td>\n",
       "      <td>0</td>\n",
       "      <td>0.0</td>\n",
       "      <td>8.0</td>\n",
       "    </tr>\n",
       "    <tr>\n",
       "      <th>187</th>\n",
       "      <td>0</td>\n",
       "      <td>NaN</td>\n",
       "      <td>NaN</td>\n",
       "      <td>2</td>\n",
       "      <td>0</td>\n",
       "      <td>0</td>\n",
       "      <td>7.5</td>\n",
       "      <td>7.5</td>\n",
       "    </tr>\n",
       "    <tr>\n",
       "      <th>289</th>\n",
       "      <td>0</td>\n",
       "      <td>420</td>\n",
       "      <td>2.26</td>\n",
       "      <td>4</td>\n",
       "      <td>4</td>\n",
       "      <td>0</td>\n",
       "      <td>2.5</td>\n",
       "      <td>6.5</td>\n",
       "    </tr>\n",
       "  </tbody>\n",
       "</table>\n",
       "</div>"
      ],
      "text/plain": [
       "     admit  gre   gpa  prestige  GREgroup  GPAgroup  Rank  Combined\n",
       "212      0  NaN  2.87         2         0         4   7.5      11.5\n",
       "238      0  500  2.86         4         5         4   2.5      11.5\n",
       "17       0  360  2.56         3         3         2   5.0      10.0\n",
       "83       0  380  2.91         4         3         4   2.5       9.5\n",
       "304      0  220  2.83         3         0         4   5.0       9.0\n",
       "48       0  440  2.48         4         4         2   2.5       8.5\n",
       "71       0  300  2.92         4         2         4   2.5       8.5\n",
       "236      1  660   NaN       NaN         8         0   0.0       8.0\n",
       "187      0  NaN   NaN         2         0         0   7.5       7.5\n",
       "289      0  420  2.26         4         4         0   2.5       6.5"
      ]
     },
     "execution_count": 25,
     "metadata": {},
     "output_type": "execute_result"
    }
   ],
   "source": [
    "franked.tail(10)"
   ]
  },
  {
   "cell_type": "markdown",
   "metadata": {},
   "source": [
    "### There are 10 low ranked individuals that did get admitted."
   ]
  },
  {
   "cell_type": "code",
   "execution_count": 26,
   "metadata": {
    "collapsed": false
   },
   "outputs": [
    {
     "data": {
      "text/plain": [
       "admit       10\n",
       "gre         10\n",
       "gpa          9\n",
       "prestige     9\n",
       "GREgroup    10\n",
       "GPAgroup    10\n",
       "Rank        10\n",
       "Combined    10\n",
       "dtype: int64"
      ]
     },
     "execution_count": 26,
     "metadata": {},
     "output_type": "execute_result"
    }
   ],
   "source": [
    "# outliers - combined scored of less than standard deviation, but admitted\n",
    "franked[(franked.admit == 1) & (franked.Combined < (franked['Combined'].mean() - standev))].count()"
   ]
  },
  {
   "cell_type": "code",
   "execution_count": 27,
   "metadata": {
    "collapsed": false
   },
   "outputs": [
    {
     "name": "stdout",
     "output_type": "stream",
     "text": [
      "Lowest combined GPA/GRE rank admitted = 8.0, highest = 30.0\n",
      "Lowest cobined GPA/GRE rank not admitted = 6.5, highest = 30.0\n"
     ]
    }
   ],
   "source": [
    "print \"Lowest combined GPA/GRE rank admitted = %r, highest = %r\" % (f[f.admit == 1]['Combined'].min(), f[f.admit == 1]['Combined'].max())\n",
    "print \"Lowest cobined GPA/GRE rank not admitted = %r, highest = %r\" % (f[f.admit == 0]['Combined'].min(), f[f.admit == 0]['Combined'].max())"
   ]
  },
  {
   "cell_type": "markdown",
   "metadata": {},
   "source": [
    "## Identifying Outliers"
   ]
  },
  {
   "cell_type": "markdown",
   "metadata": {},
   "source": [
    "### Outliers include those with a combined score above the range of standard deviation, that are not admitted and those with a combined score below the range of standard deviation, that are admitted."
   ]
  },
  {
   "cell_type": "code",
   "execution_count": 28,
   "metadata": {
    "collapsed": false
   },
   "outputs": [
    {
     "data": {
      "text/html": [
       "<div>\n",
       "<table border=\"1\" class=\"dataframe\">\n",
       "  <thead>\n",
       "    <tr style=\"text-align: right;\">\n",
       "      <th></th>\n",
       "      <th>admit</th>\n",
       "      <th>gre</th>\n",
       "      <th>gpa</th>\n",
       "      <th>prestige</th>\n",
       "      <th>GREgroup</th>\n",
       "      <th>GPAgroup</th>\n",
       "      <th>Rank</th>\n",
       "      <th>Combined</th>\n",
       "      <th>Outliers</th>\n",
       "    </tr>\n",
       "  </thead>\n",
       "  <tbody>\n",
       "    <tr>\n",
       "      <th>0</th>\n",
       "      <td>0</td>\n",
       "      <td>380</td>\n",
       "      <td>3.61</td>\n",
       "      <td>3</td>\n",
       "      <td>3</td>\n",
       "      <td>8</td>\n",
       "      <td>5.0</td>\n",
       "      <td>16.0</td>\n",
       "      <td>inlier</td>\n",
       "    </tr>\n",
       "    <tr>\n",
       "      <th>1</th>\n",
       "      <td>1</td>\n",
       "      <td>660</td>\n",
       "      <td>3.67</td>\n",
       "      <td>3</td>\n",
       "      <td>8</td>\n",
       "      <td>9</td>\n",
       "      <td>5.0</td>\n",
       "      <td>22.0</td>\n",
       "      <td>inlier</td>\n",
       "    </tr>\n",
       "    <tr>\n",
       "      <th>2</th>\n",
       "      <td>1</td>\n",
       "      <td>800</td>\n",
       "      <td>4.00</td>\n",
       "      <td>1</td>\n",
       "      <td>10</td>\n",
       "      <td>10</td>\n",
       "      <td>10.0</td>\n",
       "      <td>30.0</td>\n",
       "      <td>inlier</td>\n",
       "    </tr>\n",
       "    <tr>\n",
       "      <th>3</th>\n",
       "      <td>1</td>\n",
       "      <td>640</td>\n",
       "      <td>3.19</td>\n",
       "      <td>4</td>\n",
       "      <td>8</td>\n",
       "      <td>6</td>\n",
       "      <td>2.5</td>\n",
       "      <td>16.5</td>\n",
       "      <td>inlier</td>\n",
       "    </tr>\n",
       "    <tr>\n",
       "      <th>4</th>\n",
       "      <td>0</td>\n",
       "      <td>520</td>\n",
       "      <td>2.93</td>\n",
       "      <td>4</td>\n",
       "      <td>6</td>\n",
       "      <td>4</td>\n",
       "      <td>2.5</td>\n",
       "      <td>12.5</td>\n",
       "      <td>inlier</td>\n",
       "    </tr>\n",
       "    <tr>\n",
       "      <th>5</th>\n",
       "      <td>1</td>\n",
       "      <td>760</td>\n",
       "      <td>3.00</td>\n",
       "      <td>2</td>\n",
       "      <td>10</td>\n",
       "      <td>5</td>\n",
       "      <td>7.5</td>\n",
       "      <td>22.5</td>\n",
       "      <td>inlier</td>\n",
       "    </tr>\n",
       "    <tr>\n",
       "      <th>6</th>\n",
       "      <td>1</td>\n",
       "      <td>560</td>\n",
       "      <td>2.98</td>\n",
       "      <td>1</td>\n",
       "      <td>6</td>\n",
       "      <td>5</td>\n",
       "      <td>10.0</td>\n",
       "      <td>21.0</td>\n",
       "      <td>inlier</td>\n",
       "    </tr>\n",
       "    <tr>\n",
       "      <th>7</th>\n",
       "      <td>0</td>\n",
       "      <td>400</td>\n",
       "      <td>3.08</td>\n",
       "      <td>2</td>\n",
       "      <td>4</td>\n",
       "      <td>5</td>\n",
       "      <td>7.5</td>\n",
       "      <td>16.5</td>\n",
       "      <td>inlier</td>\n",
       "    </tr>\n",
       "    <tr>\n",
       "      <th>8</th>\n",
       "      <td>1</td>\n",
       "      <td>540</td>\n",
       "      <td>3.39</td>\n",
       "      <td>3</td>\n",
       "      <td>6</td>\n",
       "      <td>7</td>\n",
       "      <td>5.0</td>\n",
       "      <td>18.0</td>\n",
       "      <td>inlier</td>\n",
       "    </tr>\n",
       "    <tr>\n",
       "      <th>9</th>\n",
       "      <td>0</td>\n",
       "      <td>700</td>\n",
       "      <td>3.92</td>\n",
       "      <td>2</td>\n",
       "      <td>9</td>\n",
       "      <td>10</td>\n",
       "      <td>7.5</td>\n",
       "      <td>26.5</td>\n",
       "      <td>outlier</td>\n",
       "    </tr>\n",
       "  </tbody>\n",
       "</table>\n",
       "</div>"
      ],
      "text/plain": [
       "   admit  gre   gpa  prestige  GREgroup  GPAgroup  Rank  Combined Outliers\n",
       "0      0  380  3.61         3         3         8   5.0      16.0   inlier\n",
       "1      1  660  3.67         3         8         9   5.0      22.0   inlier\n",
       "2      1  800  4.00         1        10        10  10.0      30.0   inlier\n",
       "3      1  640  3.19         4         8         6   2.5      16.5   inlier\n",
       "4      0  520  2.93         4         6         4   2.5      12.5   inlier\n",
       "5      1  760  3.00         2        10         5   7.5      22.5   inlier\n",
       "6      1  560  2.98         1         6         5  10.0      21.0   inlier\n",
       "7      0  400  3.08         2         4         5   7.5      16.5   inlier\n",
       "8      1  540  3.39         3         6         7   5.0      18.0   inlier\n",
       "9      0  700  3.92         2         9        10   7.5      26.5  outlier"
      ]
     },
     "execution_count": 28,
     "metadata": {},
     "output_type": "execute_result"
    }
   ],
   "source": [
    "# identifying outliers and creating column\n",
    "outliers = []\n",
    "fil = np.array(f)\n",
    "for x in range(len(fil)):\n",
    "    if (fil[x,0] == 0) and (fil[x,7] > (f['Combined'].mean() + standev)):\n",
    "        outliers.append('outlier')\n",
    "    elif (fil[x,0] == 1) and (fil[x,7] < (f['Combined'].mean() - standev)):\n",
    "        outliers.append('outlier')\n",
    "    else:\n",
    "        outliers.append('inlier')\n",
    "f['Outliers'] = outliers\n",
    "f.head(10)"
   ]
  },
  {
   "cell_type": "markdown",
   "metadata": {},
   "source": [
    "### New file without Outliers"
   ]
  },
  {
   "cell_type": "code",
   "execution_count": 29,
   "metadata": {
    "collapsed": false,
    "scrolled": false
   },
   "outputs": [
    {
     "data": {
      "text/html": [
       "<div>\n",
       "<table border=\"1\" class=\"dataframe\">\n",
       "  <thead>\n",
       "    <tr style=\"text-align: right;\">\n",
       "      <th></th>\n",
       "      <th>admit</th>\n",
       "      <th>gre</th>\n",
       "      <th>gpa</th>\n",
       "      <th>prestige</th>\n",
       "      <th>GREgroup</th>\n",
       "      <th>GPAgroup</th>\n",
       "      <th>Rank</th>\n",
       "      <th>Combined</th>\n",
       "      <th>Outliers</th>\n",
       "    </tr>\n",
       "  </thead>\n",
       "  <tbody>\n",
       "    <tr>\n",
       "      <th>0</th>\n",
       "      <td>0</td>\n",
       "      <td>380</td>\n",
       "      <td>3.61</td>\n",
       "      <td>3</td>\n",
       "      <td>3</td>\n",
       "      <td>8</td>\n",
       "      <td>5.0</td>\n",
       "      <td>16.0</td>\n",
       "      <td>inlier</td>\n",
       "    </tr>\n",
       "    <tr>\n",
       "      <th>1</th>\n",
       "      <td>1</td>\n",
       "      <td>660</td>\n",
       "      <td>3.67</td>\n",
       "      <td>3</td>\n",
       "      <td>8</td>\n",
       "      <td>9</td>\n",
       "      <td>5.0</td>\n",
       "      <td>22.0</td>\n",
       "      <td>inlier</td>\n",
       "    </tr>\n",
       "    <tr>\n",
       "      <th>2</th>\n",
       "      <td>1</td>\n",
       "      <td>800</td>\n",
       "      <td>4.00</td>\n",
       "      <td>1</td>\n",
       "      <td>10</td>\n",
       "      <td>10</td>\n",
       "      <td>10.0</td>\n",
       "      <td>30.0</td>\n",
       "      <td>inlier</td>\n",
       "    </tr>\n",
       "    <tr>\n",
       "      <th>3</th>\n",
       "      <td>1</td>\n",
       "      <td>640</td>\n",
       "      <td>3.19</td>\n",
       "      <td>4</td>\n",
       "      <td>8</td>\n",
       "      <td>6</td>\n",
       "      <td>2.5</td>\n",
       "      <td>16.5</td>\n",
       "      <td>inlier</td>\n",
       "    </tr>\n",
       "    <tr>\n",
       "      <th>4</th>\n",
       "      <td>0</td>\n",
       "      <td>520</td>\n",
       "      <td>2.93</td>\n",
       "      <td>4</td>\n",
       "      <td>6</td>\n",
       "      <td>4</td>\n",
       "      <td>2.5</td>\n",
       "      <td>12.5</td>\n",
       "      <td>inlier</td>\n",
       "    </tr>\n",
       "    <tr>\n",
       "      <th>5</th>\n",
       "      <td>1</td>\n",
       "      <td>760</td>\n",
       "      <td>3.00</td>\n",
       "      <td>2</td>\n",
       "      <td>10</td>\n",
       "      <td>5</td>\n",
       "      <td>7.5</td>\n",
       "      <td>22.5</td>\n",
       "      <td>inlier</td>\n",
       "    </tr>\n",
       "    <tr>\n",
       "      <th>6</th>\n",
       "      <td>1</td>\n",
       "      <td>560</td>\n",
       "      <td>2.98</td>\n",
       "      <td>1</td>\n",
       "      <td>6</td>\n",
       "      <td>5</td>\n",
       "      <td>10.0</td>\n",
       "      <td>21.0</td>\n",
       "      <td>inlier</td>\n",
       "    </tr>\n",
       "    <tr>\n",
       "      <th>7</th>\n",
       "      <td>0</td>\n",
       "      <td>400</td>\n",
       "      <td>3.08</td>\n",
       "      <td>2</td>\n",
       "      <td>4</td>\n",
       "      <td>5</td>\n",
       "      <td>7.5</td>\n",
       "      <td>16.5</td>\n",
       "      <td>inlier</td>\n",
       "    </tr>\n",
       "    <tr>\n",
       "      <th>8</th>\n",
       "      <td>1</td>\n",
       "      <td>540</td>\n",
       "      <td>3.39</td>\n",
       "      <td>3</td>\n",
       "      <td>6</td>\n",
       "      <td>7</td>\n",
       "      <td>5.0</td>\n",
       "      <td>18.0</td>\n",
       "      <td>inlier</td>\n",
       "    </tr>\n",
       "    <tr>\n",
       "      <th>10</th>\n",
       "      <td>0</td>\n",
       "      <td>800</td>\n",
       "      <td>4.00</td>\n",
       "      <td>4</td>\n",
       "      <td>10</td>\n",
       "      <td>10</td>\n",
       "      <td>2.5</td>\n",
       "      <td>22.5</td>\n",
       "      <td>inlier</td>\n",
       "    </tr>\n",
       "  </tbody>\n",
       "</table>\n",
       "</div>"
      ],
      "text/plain": [
       "    admit  gre   gpa  prestige  GREgroup  GPAgroup  Rank  Combined Outliers\n",
       "0       0  380  3.61         3         3         8   5.0      16.0   inlier\n",
       "1       1  660  3.67         3         8         9   5.0      22.0   inlier\n",
       "2       1  800  4.00         1        10        10  10.0      30.0   inlier\n",
       "3       1  640  3.19         4         8         6   2.5      16.5   inlier\n",
       "4       0  520  2.93         4         6         4   2.5      12.5   inlier\n",
       "5       1  760  3.00         2        10         5   7.5      22.5   inlier\n",
       "6       1  560  2.98         1         6         5  10.0      21.0   inlier\n",
       "7       0  400  3.08         2         4         5   7.5      16.5   inlier\n",
       "8       1  540  3.39         3         6         7   5.0      18.0   inlier\n",
       "10      0  800  4.00         4        10        10   2.5      22.5   inlier"
      ]
     },
     "execution_count": 29,
     "metadata": {},
     "output_type": "execute_result"
    }
   ],
   "source": [
    "inliers = f[f.Outliers == 'inlier']\n",
    "inliers.head(10)"
   ]
  },
  {
   "cell_type": "markdown",
   "metadata": {},
   "source": [
    "### Replotting GRE and GPA without outliers."
   ]
  },
  {
   "cell_type": "code",
   "execution_count": 30,
   "metadata": {
    "collapsed": false,
    "scrolled": true
   },
   "outputs": [
    {
     "data": {
      "text/plain": [
       "<matplotlib.axes._subplots.AxesSubplot at 0xda5d208>"
      ]
     },
     "execution_count": 30,
     "metadata": {},
     "output_type": "execute_result"
    },
    {
     "data": {
      "image/png": "[encoded data removed]",
      "text/plain": [
       "<matplotlib.figure.Figure at 0xc203ef0>"
      ]
     },
     "metadata": {},
     "output_type": "display_data"
    },
    {
     "data": {
      "image/png": "[encoded data removed]",
      "text/plain": [
       "<matplotlib.figure.Figure at 0xd74c2b0>"
      ]
     },
     "metadata": {},
     "output_type": "display_data"
    }
   ],
   "source": [
    "# plotting GRE and GPA again \n",
    "inliers[inliers.admit == 0].plot.scatter(x='gre', y='gpa'),\n",
    "inliers[inliers.admit == 1].plot.scatter(x='gre', y='gpa')"
   ]
  },
  {
   "cell_type": "markdown",
   "metadata": {},
   "source": [
    "### Plotting the distribution of combined scored and admission"
   ]
  },
  {
   "cell_type": "code",
   "execution_count": 31,
   "metadata": {
    "collapsed": false,
    "scrolled": true
   },
   "outputs": [
    {
     "data": {
      "text/plain": [
       "<matplotlib.axes._subplots.AxesSubplot at 0xda6e940>"
      ]
     },
     "execution_count": 31,
     "metadata": {},
     "output_type": "execute_result"
    },
    {
     "data": {
      "image/png": "[encoded data removed]",
      "text/plain": [
       "<matplotlib.figure.Figure at 0xd6ed5c0>"
      ]
     },
     "metadata": {},
     "output_type": "display_data"
    }
   ],
   "source": [
    "inliers.plot.scatter(x='Combined', y='admit', yticks=(0,1))"
   ]
  },
  {
   "cell_type": "code",
   "execution_count": 45,
   "metadata": {
    "collapsed": false
   },
   "outputs": [
    {
     "data": {
      "image/png": "[encoded data removed]",
      "text/plain": [
       "<matplotlib.figure.Figure at 0xe0a5d68>"
      ]
     },
     "metadata": {},
     "output_type": "display_data"
    }
   ],
   "source": [
    "#box plot for above\n",
    "bp = inliers.boxplot(column=['Combined'], vert=False, by='admit')"
   ]
  },
  {
   "cell_type": "markdown",
   "metadata": {},
   "source": [
    "### Grouping by admission outcome."
   ]
  },
  {
   "cell_type": "code",
   "execution_count": 33,
   "metadata": {
    "collapsed": false
   },
   "outputs": [
    {
     "data": {
      "text/html": [
       "<div>\n",
       "<table border=\"1\" class=\"dataframe\">\n",
       "  <thead>\n",
       "    <tr style=\"text-align: right;\">\n",
       "      <th></th>\n",
       "      <th>gre</th>\n",
       "      <th>gpa</th>\n",
       "      <th>prestige</th>\n",
       "      <th>GREgroup</th>\n",
       "      <th>GPAgroup</th>\n",
       "      <th>Rank</th>\n",
       "      <th>Combined</th>\n",
       "    </tr>\n",
       "    <tr>\n",
       "      <th>admit</th>\n",
       "      <th></th>\n",
       "      <th></th>\n",
       "      <th></th>\n",
       "      <th></th>\n",
       "      <th></th>\n",
       "      <th></th>\n",
       "      <th></th>\n",
       "    </tr>\n",
       "  </thead>\n",
       "  <tbody>\n",
       "    <tr>\n",
       "      <th>0</th>\n",
       "      <td>557.083333</td>\n",
       "      <td>3.292573</td>\n",
       "      <td>2.768595</td>\n",
       "      <td>6.210744</td>\n",
       "      <td>6.380165</td>\n",
       "      <td>5.578512</td>\n",
       "      <td>18.169421</td>\n",
       "    </tr>\n",
       "    <tr>\n",
       "      <th>1</th>\n",
       "      <td>629.059829</td>\n",
       "      <td>3.539231</td>\n",
       "      <td>2.094017</td>\n",
       "      <td>7.452991</td>\n",
       "      <td>7.777778</td>\n",
       "      <td>7.264957</td>\n",
       "      <td>22.495726</td>\n",
       "    </tr>\n",
       "  </tbody>\n",
       "</table>\n",
       "</div>"
      ],
      "text/plain": [
       "              gre       gpa  prestige  GREgroup  GPAgroup      Rank   Combined\n",
       "admit                                                                         \n",
       "0      557.083333  3.292573  2.768595  6.210744  6.380165  5.578512  18.169421\n",
       "1      629.059829  3.539231  2.094017  7.452991  7.777778  7.264957  22.495726"
      ]
     },
     "execution_count": 33,
     "metadata": {},
     "output_type": "execute_result"
    }
   ],
   "source": [
    "admissions = inliers.groupby('admit').mean()\n",
    "admissions"
   ]
  },
  {
   "cell_type": "markdown",
   "metadata": {},
   "source": [
    "### Average and maximum/minimum combined score versus admissions outcome"
   ]
  },
  {
   "cell_type": "code",
   "execution_count": 34,
   "metadata": {
    "collapsed": false
   },
   "outputs": [
    {
     "name": "stdout",
     "output_type": "stream",
     "text": [
      "Lowest combined ranking admitted = 16.5, highest = 30.0\n",
      "Lowest combined not admitted = 6.5, highest = 24.0\n"
     ]
    }
   ],
   "source": [
    "print \"Lowest combined ranking admitted = %r, highest = %r\" % (inliers[inliers.admit == 1]['Combined'].min(), inliers[inliers.admit == 1]['Combined'].max())\n",
    "print \"Lowest combined not admitted = %r, highest = %r\" % (inliers[inliers.admit == 0]['Combined'].min(), inliers[inliers.admit == 0]['Combined'].max())"
   ]
  },
  {
   "cell_type": "code",
   "execution_count": 35,
   "metadata": {
    "collapsed": false,
    "scrolled": true
   },
   "outputs": [
    {
     "data": {
      "text/plain": [
       "<matplotlib.axes._subplots.AxesSubplot at 0xdf8e668>"
      ]
     },
     "execution_count": 35,
     "metadata": {},
     "output_type": "execute_result"
    },
    {
     "data": {
      "image/png": "[encoded data removed]",
      "text/plain": [
       "<matplotlib.figure.Figure at 0xc1832b0>"
      ]
     },
     "metadata": {},
     "output_type": "display_data"
    }
   ],
   "source": [
    "admissions['Combined'].plot.bar()"
   ]
  },
  {
   "cell_type": "markdown",
   "metadata": {},
   "source": [
    "### Creating new fields to show top halves of GRE and GPA scores"
   ]
  },
  {
   "cell_type": "code",
   "execution_count": 38,
   "metadata": {
    "collapsed": false
   },
   "outputs": [],
   "source": [
    "gre_top = []\n",
    "for x in inliers['GREgroup']:\n",
    "    if x > 5:\n",
    "        gre_top.append('top')\n",
    "    else:\n",
    "        gre_top.append('bottom')\n",
    "inliers['GREsection'] = gre_top"
   ]
  },
  {
   "cell_type": "code",
   "execution_count": 39,
   "metadata": {
    "collapsed": false
   },
   "outputs": [],
   "source": [
    "gpa_top = []\n",
    "for x in inliers['GPAgroup']:\n",
    "    if x > 5:\n",
    "        gpa_top.append('top')\n",
    "    else:\n",
    "        gpa_top.append('bottom')\n",
    "inliers['GPAsection'] = gpa_top"
   ]
  },
  {
   "cell_type": "code",
   "execution_count": 40,
   "metadata": {
    "collapsed": false,
    "scrolled": true
   },
   "outputs": [],
   "source": [
    "comb = []\n",
    "for x in inliers['Combined']:\n",
    "    if x > 20:\n",
    "        comb.append('top')\n",
    "    else:\n",
    "        comb.append('bottom')\n",
    "inliers['CombinedGroup'] = comb"
   ]
  },
  {
   "cell_type": "code",
   "execution_count": 72,
   "metadata": {
    "collapsed": false
   },
   "outputs": [],
   "source": [
    "ranksch = []\n",
    "for x in inliers['prestige']:\n",
    "    if x < 3:\n",
    "        ranksch.append('top')\n",
    "    else:\n",
    "        ranksch.append('bottom')\n",
    "inliers['rankschool'] = ranksch"
   ]
  },
  {
   "cell_type": "code",
   "execution_count": 57,
   "metadata": {
    "collapsed": false
   },
   "outputs": [
    {
     "data": {
      "text/plain": [
       "360"
      ]
     },
     "execution_count": 57,
     "metadata": {},
     "output_type": "execute_result"
    }
   ],
   "source": [
    "len(inliers)"
   ]
  },
  {
   "cell_type": "markdown",
   "metadata": {},
   "source": [
    "## If your GRE score is in the top half, what chance of admission do you have?"
   ]
  },
  {
   "cell_type": "code",
   "execution_count": 41,
   "metadata": {
    "collapsed": false,
    "scrolled": true
   },
   "outputs": [
    {
     "name": "stdout",
     "output_type": "stream",
     "text": [
      "A GRE of over 580 gives you a 0.39 chance of admission.\n",
      "A GRE of below 580 gives you a 0.14 chance of admission.\n",
      "A better than average GRE gives you 2.91 times the chance of admission.\n"
     ]
    },
    {
     "data": {
      "text/html": [
       "<div>\n",
       "<table border=\"1\" class=\"dataframe\">\n",
       "  <thead>\n",
       "    <tr style=\"text-align: right;\">\n",
       "      <th></th>\n",
       "      <th>admit</th>\n",
       "      <th>gre</th>\n",
       "      <th>gpa</th>\n",
       "      <th>prestige</th>\n",
       "      <th>GREgroup</th>\n",
       "      <th>GPAgroup</th>\n",
       "      <th>Rank</th>\n",
       "      <th>Combined</th>\n",
       "    </tr>\n",
       "    <tr>\n",
       "      <th>GREsection</th>\n",
       "      <th></th>\n",
       "      <th></th>\n",
       "      <th></th>\n",
       "      <th></th>\n",
       "      <th></th>\n",
       "      <th></th>\n",
       "      <th></th>\n",
       "      <th></th>\n",
       "    </tr>\n",
       "  </thead>\n",
       "  <tbody>\n",
       "    <tr>\n",
       "      <th>bottom</th>\n",
       "      <td>13</td>\n",
       "      <td>40860</td>\n",
       "      <td>301.43</td>\n",
       "      <td>257</td>\n",
       "      <td>397</td>\n",
       "      <td>556</td>\n",
       "      <td>545</td>\n",
       "      <td>1498</td>\n",
       "    </tr>\n",
       "    <tr>\n",
       "      <th>top</th>\n",
       "      <td>104</td>\n",
       "      <td>166440</td>\n",
       "      <td>906.17</td>\n",
       "      <td>658</td>\n",
       "      <td>1978</td>\n",
       "      <td>1898</td>\n",
       "      <td>1655</td>\n",
       "      <td>5531</td>\n",
       "    </tr>\n",
       "  </tbody>\n",
       "</table>\n",
       "</div>"
      ],
      "text/plain": [
       "            admit     gre     gpa  prestige  GREgroup  GPAgroup  Rank  \\\n",
       "GREsection                                                              \n",
       "bottom         13   40860  301.43       257       397       556   545   \n",
       "top           104  166440  906.17       658      1978      1898  1655   \n",
       "\n",
       "            Combined  \n",
       "GREsection            \n",
       "bottom          1498  \n",
       "top             5531  "
      ]
     },
     "execution_count": 41,
     "metadata": {},
     "output_type": "execute_result"
    }
   ],
   "source": [
    "admissionsGRE = inliers.groupby('GREsection').sum()\n",
    "a = (inliers['gre'].mean(), 1.0*admissionsGRE['admit']['top']/inliers['GREsection'][inliers.GREsection =='top'].count())\n",
    "b = (inliers['gre'].mean(), 1.0*admissionsGRE['admit']['bottom']/inliers['GREsection'][inliers.GREsection =='bottom'].count())\n",
    "c = (1.0*admissionsGRE['admit']['top']/inliers['GREsection'][inliers.GREsection =='top'].count())/(1.0*admissionsGRE['admit']['bottom']/inliers['GREsection'][inliers.GREsection =='bottom'].count())\n",
    "print 'A GRE of over %d gives you a %1.2f chance of admission.' % a\n",
    "print 'A GRE of below %d gives you a %1.2f chance of admission.' % b\n",
    "print 'A better than average GRE gives you %1.2f times the chance of admission.' % c\n",
    "admissionsGRE"
   ]
  },
  {
   "cell_type": "code",
   "execution_count": 46,
   "metadata": {
    "collapsed": false
   },
   "outputs": [
    {
     "data": {
      "image/png": "[encoded data removed]",
      "text/plain": [
       "<matplotlib.figure.Figure at 0xe0a5908>"
      ]
     },
     "metadata": {},
     "output_type": "display_data"
    }
   ],
   "source": [
    "bp = inliers.boxplot(column=['gre'], vert=False, by='admit')"
   ]
  },
  {
   "cell_type": "markdown",
   "metadata": {},
   "source": [
    "## If your GPA score is in the top half, what chance of admission do you have?"
   ]
  },
  {
   "cell_type": "code",
   "execution_count": 42,
   "metadata": {
    "collapsed": false,
    "scrolled": true
   },
   "outputs": [
    {
     "name": "stdout",
     "output_type": "stream",
     "text": [
      "A GPA of over 3.37 gives you a 0.39 chance of admission.\n",
      "A GPA of over 3.37 gives you a 0.14 chance of admission.\n",
      "A better than average GPA gives you 2.71 times the chance of admission.\n"
     ]
    },
    {
     "data": {
      "text/html": [
       "<div>\n",
       "<table border=\"1\" class=\"dataframe\">\n",
       "  <thead>\n",
       "    <tr style=\"text-align: right;\">\n",
       "      <th></th>\n",
       "      <th>admit</th>\n",
       "      <th>gre</th>\n",
       "      <th>gpa</th>\n",
       "      <th>prestige</th>\n",
       "      <th>GREgroup</th>\n",
       "      <th>GPAgroup</th>\n",
       "      <th>Rank</th>\n",
       "      <th>Combined</th>\n",
       "    </tr>\n",
       "    <tr>\n",
       "      <th>GPAsection</th>\n",
       "      <th></th>\n",
       "      <th></th>\n",
       "      <th></th>\n",
       "      <th></th>\n",
       "      <th></th>\n",
       "      <th></th>\n",
       "      <th></th>\n",
       "      <th></th>\n",
       "    </tr>\n",
       "  </thead>\n",
       "  <tbody>\n",
       "    <tr>\n",
       "      <th>bottom</th>\n",
       "      <td>14</td>\n",
       "      <td>50240</td>\n",
       "      <td>276.26</td>\n",
       "      <td>242</td>\n",
       "      <td>553</td>\n",
       "      <td>395</td>\n",
       "      <td>595</td>\n",
       "      <td>1543</td>\n",
       "    </tr>\n",
       "    <tr>\n",
       "      <th>top</th>\n",
       "      <td>103</td>\n",
       "      <td>157060</td>\n",
       "      <td>931.34</td>\n",
       "      <td>673</td>\n",
       "      <td>1822</td>\n",
       "      <td>2059</td>\n",
       "      <td>1605</td>\n",
       "      <td>5486</td>\n",
       "    </tr>\n",
       "  </tbody>\n",
       "</table>\n",
       "</div>"
      ],
      "text/plain": [
       "            admit     gre     gpa  prestige  GREgroup  GPAgroup  Rank  \\\n",
       "GPAsection                                                              \n",
       "bottom         14   50240  276.26       242       553       395   595   \n",
       "top           103  157060  931.34       673      1822      2059  1605   \n",
       "\n",
       "            Combined  \n",
       "GPAsection            \n",
       "bottom          1543  \n",
       "top             5486  "
      ]
     },
     "execution_count": 42,
     "metadata": {},
     "output_type": "execute_result"
    }
   ],
   "source": [
    "admissionsGPA = inliers.groupby('GPAsection').sum()\n",
    "d = (inliers['gpa'].mean(), 1.0*admissionsGPA['admit']['top']/inliers['GPAsection'][inliers.GPAsection =='top'].count())\n",
    "e = (inliers['gpa'].mean(), 1.0*admissionsGPA['admit']['bottom']/inliers['GPAsection'][inliers.GPAsection =='bottom'].count())\n",
    "f = (1.0*admissionsGPA['admit']['top']/inliers['GPAsection'][inliers.GPAsection =='top'].count())/(1.0*admissionsGPA['admit']['bottom']/(inliers['GPAsection'][inliers.GPAsection =='bottom'].count()))\n",
    "print 'A GPA of over %1.2f gives you a %1.2f chance of admission.' % d\n",
    "print 'A GPA of over %1.2f gives you a %1.2f chance of admission.' % e\n",
    "print 'A better than average GPA gives you %1.2f times the chance of admission.' % f\n",
    "admissionsGPA"
   ]
  },
  {
   "cell_type": "code",
   "execution_count": 47,
   "metadata": {
    "collapsed": false
   },
   "outputs": [
    {
     "data": {
      "image/png": "[encoded data removed]",
      "text/plain": [
       "<matplotlib.figure.Figure at 0xe0a5400>"
      ]
     },
     "metadata": {},
     "output_type": "display_data"
    }
   ],
   "source": [
    "bp = inliers.boxplot(column=['gpa'], vert=False, by='admit')"
   ]
  },
  {
   "cell_type": "markdown",
   "metadata": {},
   "source": [
    "### If you come from a higher ranked school what chance of admission do you have?"
   ]
  },
  {
   "cell_type": "code",
   "execution_count": 74,
   "metadata": {
    "collapsed": false,
    "scrolled": false
   },
   "outputs": [
    {
     "name": "stdout",
     "output_type": "stream",
     "text": [
      "Coming from a high ranked school gives you a 0.46 chance of admission.\n",
      "Coming from a lower ranked school gives you a 0.19 chance of admission.\n",
      "A better than average Combined Score gives you 2.42 times the chance of admission.\n"
     ]
    },
    {
     "data": {
      "text/html": [
       "<div>\n",
       "<table border=\"1\" class=\"dataframe\">\n",
       "  <thead>\n",
       "    <tr style=\"text-align: right;\">\n",
       "      <th></th>\n",
       "      <th>admit</th>\n",
       "      <th>gre</th>\n",
       "      <th>gpa</th>\n",
       "      <th>prestige</th>\n",
       "      <th>GREgroup</th>\n",
       "      <th>GPAgroup</th>\n",
       "      <th>Rank</th>\n",
       "      <th>Combined</th>\n",
       "    </tr>\n",
       "    <tr>\n",
       "      <th>rankschool</th>\n",
       "      <th></th>\n",
       "      <th></th>\n",
       "      <th></th>\n",
       "      <th></th>\n",
       "      <th></th>\n",
       "      <th></th>\n",
       "      <th></th>\n",
       "      <th></th>\n",
       "    </tr>\n",
       "  </thead>\n",
       "  <tbody>\n",
       "    <tr>\n",
       "      <th>bottom</th>\n",
       "      <td>35</td>\n",
       "      <td>104220</td>\n",
       "      <td>619.38</td>\n",
       "      <td>610</td>\n",
       "      <td>1182</td>\n",
       "      <td>1279</td>\n",
       "      <td>750</td>\n",
       "      <td>3211</td>\n",
       "    </tr>\n",
       "    <tr>\n",
       "      <th>top</th>\n",
       "      <td>82</td>\n",
       "      <td>103080</td>\n",
       "      <td>588.22</td>\n",
       "      <td>305</td>\n",
       "      <td>1193</td>\n",
       "      <td>1175</td>\n",
       "      <td>1450</td>\n",
       "      <td>3818</td>\n",
       "    </tr>\n",
       "  </tbody>\n",
       "</table>\n",
       "</div>"
      ],
      "text/plain": [
       "            admit     gre     gpa  prestige  GREgroup  GPAgroup  Rank  \\\n",
       "rankschool                                                              \n",
       "bottom         35  104220  619.38       610      1182      1279   750   \n",
       "top            82  103080  588.22       305      1193      1175  1450   \n",
       "\n",
       "            Combined  \n",
       "rankschool            \n",
       "bottom          3211  \n",
       "top             3818  "
      ]
     },
     "execution_count": 74,
     "metadata": {},
     "output_type": "execute_result"
    }
   ],
   "source": [
    "alma_mater = inliers.groupby('rankschool').sum()\n",
    "g = (1.0*alma_mater['admit']['top']/inliers['rankschool'][inliers.rankschool =='top'].count())\n",
    "h = (1.0*alma_mater['admit']['bottom']/inliers['rankschool'][inliers.rankschool =='bottom'].count())\n",
    "j = (1.0*alma_mater['admit']['top']/inliers['rankschool'][inliers.rankschool =='top'].count())/(1.0*alma_mater['admit']['bottom']/(inliers['rankschool'][inliers.rankschool =='bottom'].count()))\n",
    "\n",
    "print 'Coming from a high ranked school gives you a %1.2f chance of admission.' % g\n",
    "print 'Coming from a lower ranked school gives you a %1.2f chance of admission.' % h\n",
    "print 'A better than average Combined Score gives you %1.2f times the chance of admission.' % j\n",
    "alma_mater"
   ]
  },
  {
   "cell_type": "code",
   "execution_count": 44,
   "metadata": {
    "collapsed": false,
    "scrolled": true
   },
   "outputs": [
    {
     "name": "stdout",
     "output_type": "stream",
     "text": [
      "A Combined Score of over 19.6 gives you a 0.51 chance of admission.\n",
      "A Combined Score of below 19.6 gives you a 0.17 chance of admission.\n",
      "A better than average Combined Score gives you 3.07 times the chance of admission.\n"
     ]
    },
    {
     "data": {
      "text/html": [
       "<div>\n",
       "<table border=\"1\" class=\"dataframe\">\n",
       "  <thead>\n",
       "    <tr style=\"text-align: right;\">\n",
       "      <th></th>\n",
       "      <th>admit</th>\n",
       "      <th>gre</th>\n",
       "      <th>gpa</th>\n",
       "      <th>prestige</th>\n",
       "      <th>GREgroup</th>\n",
       "      <th>GPAgroup</th>\n",
       "      <th>Rank</th>\n",
       "      <th>Combined</th>\n",
       "    </tr>\n",
       "    <tr>\n",
       "      <th>CombinedGroup</th>\n",
       "      <th></th>\n",
       "      <th></th>\n",
       "      <th></th>\n",
       "      <th></th>\n",
       "      <th></th>\n",
       "      <th></th>\n",
       "      <th></th>\n",
       "      <th></th>\n",
       "    </tr>\n",
       "  </thead>\n",
       "  <tbody>\n",
       "    <tr>\n",
       "      <th>bottom</th>\n",
       "      <td>32</td>\n",
       "      <td>99120</td>\n",
       "      <td>611.55</td>\n",
       "      <td>569</td>\n",
       "      <td>1077</td>\n",
       "      <td>1124</td>\n",
       "      <td>977.5</td>\n",
       "      <td>3178.5</td>\n",
       "    </tr>\n",
       "    <tr>\n",
       "      <th>top</th>\n",
       "      <td>85</td>\n",
       "      <td>108180</td>\n",
       "      <td>596.05</td>\n",
       "      <td>346</td>\n",
       "      <td>1298</td>\n",
       "      <td>1330</td>\n",
       "      <td>1222.5</td>\n",
       "      <td>3850.5</td>\n",
       "    </tr>\n",
       "  </tbody>\n",
       "</table>\n",
       "</div>"
      ],
      "text/plain": [
       "               admit     gre     gpa  prestige  GREgroup  GPAgroup    Rank  \\\n",
       "CombinedGroup                                                                \n",
       "bottom            32   99120  611.55       569      1077      1124   977.5   \n",
       "top               85  108180  596.05       346      1298      1330  1222.5   \n",
       "\n",
       "               Combined  \n",
       "CombinedGroup            \n",
       "bottom           3178.5  \n",
       "top              3850.5  "
      ]
     },
     "execution_count": 44,
     "metadata": {},
     "output_type": "execute_result"
    }
   ],
   "source": [
    "combine = inliers.groupby('CombinedGroup').sum()\n",
    "l = (inliers['Combined'].mean(), 1.0*combine['admit']['top']/inliers['CombinedGroup'][inliers.CombinedGroup =='top'].count())\n",
    "m = (inliers['Combined'].mean(), 1.0*combine['admit']['bottom']/inliers['CombinedGroup'][inliers.CombinedGroup =='bottom'].count())\n",
    "n = (1.0*combine['admit']['top']/inliers['CombinedGroup'][inliers.CombinedGroup =='top'].count())/(1.0*combine['admit']['bottom']/inliers['CombinedGroup'][inliers.CombinedGroup =='bottom'].count())\n",
    "print 'A Combined Score of over %1.1f gives you a %1.2f chance of admission.' % l\n",
    "print 'A Combined Score of below %1.1f gives you a %1.2f chance of admission.' % m\n",
    "print 'A better than average Combined Score gives you %1.2f times the chance of admission.' % n\n",
    "combine"
   ]
  },
  {
   "cell_type": "code",
   "execution_count": 48,
   "metadata": {
    "collapsed": false
   },
   "outputs": [
    {
     "data": {
      "image/png": "[encoded data removed]",
      "text/plain": [
       "<matplotlib.figure.Figure at 0xe6f3898>"
      ]
     },
     "metadata": {},
     "output_type": "display_data"
    }
   ],
   "source": [
    "bp = inliers.boxplot(column=['Combined'], vert=False, by='admit')"
   ]
  },
  {
   "cell_type": "markdown",
   "metadata": {},
   "source": [
    "## Bonus Questions:\n",
    "1. Outline your analysis method for predicting your outcome\n",
    "2. Write an alternative problem statement for your dataset\n",
    "3. Articulate the assumptions and risks of the alternative model"
   ]
  },
  {
   "cell_type": "markdown",
   "metadata": {
    "collapsed": true
   },
   "source": [
    "## 1. Analysis method\n",
    "##### The hypothesis was that each of the factors is important, but GRE and GPA are most important. Also that rank of alma mater might be used in order to tip the balance of an unclear result from the first two factors.\n",
    "##### Predictors for admission turned out to be inconclusive individually since many individuals had lower GRE scores but higher GPA scores and vice versa. So cumulative score was created for GRE, GPA and alma mater, in order to take in all factors that might improve the chance of admission.\n",
    "##### Outliers were identified as those with a cumulitive score above the range of standard deviation that were not admitted and those that were below the range but were admitted. These outliers were then removed.\n",
    "##### Lastly the probability of being admitted given and above average GRE, GPA or school rank was calculated, to use as a predictors."
   ]
  },
  {
   "cell_type": "markdown",
   "metadata": {
    "collapsed": true
   },
   "source": [
    "## 2. Alternative problem statement.\n",
    "##### A. Since prestige of alma mater is the most subjective of the values/variable in our data set, and it is the worst predictor of admission, it would be useful to come up with a school ranking system based on admission success, and GRE/GPA scores. Without specific school as a field, this is not strictly possible, but students could be ranked by these factors in anticipation of getting specific school data at a later date. This problem statement would read as follows:\n",
    "##### _\"Using the graduate school admissions data for August 2007, create a scoring system for students based on admission result and GRE/GPA scores. From this score determine an average score per student from that school . Use this average score to predict admission results for students the following year. Hypothesis: average admissions results and GPA/GRE scores can be use to create a scoring system for schools that can be used to predict admissions outcomes for future years.\"_\n",
    "\n",
    "##### B. Alternatively a simple problem statement might take prestige of school and GPA as a predictor for GRE, and read as follows:\n",
    "##### _\"Using the graduate school admissions data for August 2007, use the rank of  prestige of school and GPA scores to predict the average GRE score of students.\"_ "
   ]
  },
  {
   "cell_type": "markdown",
   "metadata": {},
   "source": [
    "## 3. Assumptions and Risks\n",
    "##### A. The first of these analysis, assumes that a model based on the results of one year of students can be applied to the following year. This may not be the case if universities increase or decrease places on their courses, or schools improve or worsen their standards for some reason. Such scores could be averaged out over multiple years to account for these factors. The obvious risk is that we may never know the actual school that specific students come from and so couldn't apply the model at all.\n",
    "##### B. The main assumption here is that prestige of school is in any way an objective measure. The main risk is that prestige bares little or no relationship to GPA or GRE and therefore be of no relevance."
   ]
  },
  {
   "cell_type": "code",
   "execution_count": null,
   "metadata": {
    "collapsed": true
   },
   "outputs": [],
   "source": []
  }
 ],
 "metadata": {
  "kernelspec": {
   "display_name": "Python 2",
   "language": "python",
   "name": "python2"
  },
  "language_info": {
   "codemirror_mode": {
    "name": "ipython",
    "version": 2
   },
   "file_extension": ".py",
   "mimetype": "text/x-python",
   "name": "python",
   "nbconvert_exporter": "python",
   "pygments_lexer": "ipython2",
   "version": "2.7.11"
  }
 },
 "nbformat": 4,
 "nbformat_minor": 0
}
