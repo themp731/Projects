{
 "cells": [
  {
   "cell_type": "code",
   "execution_count": null,
   "metadata": {
    "collapsed": true
   },
   "outputs": [],
   "source": [
    "import numpy as np\n",
    "import pandas as pd\n",
    "import seaborn as sb\n",
    "import matplotlib as plt\n",
    "from sklearn.tree import DecisionTreeClassifier\n",
    "from sklearn.cross_validation import cross_val_score\n",
    "from sklearn.cross_validation import ShuffleSplit\n",
    "from sklearn.ensemble import RandomForestClassifier\n",
    "from sklearn.linear_model import LogisticRegression\n",
    "from sklearn.metrics import roc_auc_score"
   ]
  },
  {
   "cell_type": "code",
   "execution_count": null,
   "metadata": {
    "collapsed": false
   },
   "outputs": [],
   "source": [
    "team_stats = pd.read_csv(\"team_stats_1.csv\")\n",
    "team_stats_df = pd.DataFrame(team_stats.ix[:,1:9])\n",
    "team_stats_df.head()"
   ]
  },
  {
   "cell_type": "code",
   "execution_count": null,
   "metadata": {
    "collapsed": false
   },
   "outputs": [],
   "source": [
    "team_stats_df.describe()"
   ]
  },
  {
   "cell_type": "code",
   "execution_count": null,
   "metadata": {
    "collapsed": false
   },
   "outputs": [],
   "source": [
    "features=list(team_stats_df.columns)[0:-2]"
   ]
  },
  {
   "cell_type": "code",
   "execution_count": null,
   "metadata": {
    "collapsed": false
   },
   "outputs": [],
   "source": [
    "import itertools\n",
    "feature_list = []\n",
    "for i in range(1,len(features)+1):\n",
    "    for j in itertools.combinations(features,i):\n",
    "        feature_list.append(list(j))"
   ]
  },
  {
   "cell_type": "markdown",
   "metadata": {},
   "source": [
    "### Starting off with logistic regression.\n",
    "#### We're going to do models for both the playoffs and the conference finals as our dependent variable."
   ]
  },
  {
   "cell_type": "code",
   "execution_count": null,
   "metadata": {
    "collapsed": true
   },
   "outputs": [],
   "source": [
    "def make_playoff(features):\n",
    "    model = LogisticRegression()\n",
    "    X = team_stats_df[features]\n",
    "    Y = team_stats_df[\"Playoff\"]\n",
    "    logmod = model.fit(X,Y)\n",
    "    score = get_score(logmod,X,Y)\n",
    "    result = [score, features]\n",
    "    return result"
   ]
  },
  {
   "cell_type": "code",
   "execution_count": null,
   "metadata": {
    "collapsed": true
   },
   "outputs": [],
   "source": [
    "def get_params(features):\n",
    "    model = LogisticRegression()\n",
    "    X = team_stats_df[features]\n",
    "    Y = team_stats_df[\"Playoff\"]\n",
    "    logmod = model.fit(X,Y)\n",
    "    coefs = logmod.coef_\n",
    "    inter = logmod.intercept_\n",
    "    return (coefs, inter)"
   ]
  },
  {
   "cell_type": "code",
   "execution_count": null,
   "metadata": {
    "collapsed": true
   },
   "outputs": [],
   "source": [
    "def get_score(model,x,y):\n",
    "    shuffle=ShuffleSplit(len(x),n_iter=5,test_size=0.2)\n",
    "    scores = cross_val_score(model,x,y,scoring=\"roc_auc\",cv=shuffle)\n",
    "    result = scores.mean()\n",
    "    return result"
   ]
  },
  {
   "cell_type": "code",
   "execution_count": null,
   "metadata": {
    "collapsed": false
   },
   "outputs": [],
   "source": [
    "rank=[]\n",
    "for i in feature_list:\n",
    "    rank.append(make_playoff(i))"
   ]
  },
  {
   "cell_type": "code",
   "execution_count": null,
   "metadata": {
    "collapsed": false
   },
   "outputs": [],
   "source": [
    "rank.sort()\n",
    "rank = rank[-5:]\n",
    "print(\"Here are the models and our ROC-AUC score for the five best models. We'll need \\n \"\\\n",
    "      \"to check the collinearity (remember what we did in the data mgmt file?)\\n\")\n",
    "for i in rank:\n",
    "    print i"
   ]
  },
  {
   "cell_type": "code",
   "execution_count": null,
   "metadata": {
    "collapsed": false
   },
   "outputs": [],
   "source": [
    "team_stats_corr = team_stats_df.corr(method=\"pearson\")\n",
    "(team_stats_corr > .75) | (team_stats_corr<(-.75))"
   ]
  },
  {
   "cell_type": "markdown",
   "metadata": {},
   "source": [
    "#### From 5th to 1st, the following models posess no collinearity with a |0.75| Pearson coefficient cutoff.\n",
    "5, 4, 2, 1. \n",
    "#### So we ignore the 3rd dataset."
   ]
  },
  {
   "cell_type": "code",
   "execution_count": null,
   "metadata": {
    "collapsed": false
   },
   "outputs": [],
   "source": [
    "mods = [0,1,3,4]\n",
    "param_list = []\n",
    "coefs = []\n",
    "for i in mods:\n",
    "    param_list.append(rank[i][1])\n",
    "for i in param_list:\n",
    "    coefs.append(get_params(i))\n",
    "print coefs"
   ]
  },
  {
   "cell_type": "markdown",
   "metadata": {},
   "source": [
    "#### But since SciKit is pretty aweful at making a good looking summary, we're going to make the models again with stats models to print out the data."
   ]
  },
  {
   "cell_type": "code",
   "execution_count": null,
   "metadata": {
    "collapsed": false
   },
   "outputs": [],
   "source": [
    "for i in param_list:\n",
    "    model = discrete_model.Logit(team_stats_df[\"Playoff\"],team_stats_df[i])\n",
    "    fitted = model1.fit()\n",
    "    print fitted.summary()"
   ]
  },
  {
   "cell_type": "code",
   "execution_count": null,
   "metadata": {
    "collapsed": true
   },
   "outputs": [],
   "source": []
  }
 ],
 "metadata": {
  "kernelspec": {
   "display_name": "Python 2",
   "language": "python",
   "name": "python2"
  },
  "language_info": {
   "codemirror_mode": {
    "name": "ipython",
    "version": 2
   },
   "file_extension": ".py",
   "mimetype": "text/x-python",
   "name": "python",
   "nbconvert_exporter": "python",
   "pygments_lexer": "ipython2",
   "version": "2.7.11"
  }
 },
 "nbformat": 4,
 "nbformat_minor": 0
}
