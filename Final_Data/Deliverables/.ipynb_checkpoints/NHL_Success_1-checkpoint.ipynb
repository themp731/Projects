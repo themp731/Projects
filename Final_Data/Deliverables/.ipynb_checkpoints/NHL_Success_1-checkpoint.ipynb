{
 "cells": [
  {
   "cell_type": "code",
   "execution_count": 2,
   "metadata": {
    "collapsed": true
   },
   "outputs": [],
   "source": [
    "import numpy as np\n",
    "import pandas as pd\n",
    "import seaborn as sb\n",
    "import matplotlib as plt\n",
    "from sklearn.tree import DecisionTreeClassifier\n",
    "from sklearn.cross_validation import cross_val_score\n",
    "from sklearn.cross_validation import ShuffleSplit\n",
    "from sklearn.ensemble import RandomForestClassifier\n",
    "from sklearn.linear_model import LogisticRegression\n",
    "from sklearn.metrics import roc_auc_score"
   ]
  },
  {
   "cell_type": "code",
   "execution_count": 3,
   "metadata": {
    "collapsed": false
   },
   "outputs": [
    {
     "data": {
      "text/html": [
       "<div>\n",
       "<table border=\"1\" class=\"dataframe\">\n",
       "  <thead>\n",
       "    <tr style=\"text-align: right;\">\n",
       "      <th></th>\n",
       "      <th>Cfperc</th>\n",
       "      <th>Ffperc</th>\n",
       "      <th>PDO</th>\n",
       "      <th>Foperc</th>\n",
       "      <th>oiSHperc</th>\n",
       "      <th>oZSperc</th>\n",
       "      <th>Playoff</th>\n",
       "      <th>ConfFinal</th>\n",
       "    </tr>\n",
       "  </thead>\n",
       "  <tbody>\n",
       "    <tr>\n",
       "      <th>0</th>\n",
       "      <td>0.527</td>\n",
       "      <td>0.524</td>\n",
       "      <td>0.989</td>\n",
       "      <td>0.494</td>\n",
       "      <td>0.093</td>\n",
       "      <td>0.537</td>\n",
       "      <td>0</td>\n",
       "      <td>0</td>\n",
       "    </tr>\n",
       "    <tr>\n",
       "      <th>1</th>\n",
       "      <td>0.591</td>\n",
       "      <td>0.592</td>\n",
       "      <td>0.996</td>\n",
       "      <td>0.533</td>\n",
       "      <td>0.089</td>\n",
       "      <td>0.605</td>\n",
       "      <td>1</td>\n",
       "      <td>1</td>\n",
       "    </tr>\n",
       "    <tr>\n",
       "      <th>2</th>\n",
       "      <td>0.512</td>\n",
       "      <td>0.512</td>\n",
       "      <td>0.983</td>\n",
       "      <td>0.498</td>\n",
       "      <td>0.090</td>\n",
       "      <td>0.528</td>\n",
       "      <td>0</td>\n",
       "      <td>0</td>\n",
       "    </tr>\n",
       "    <tr>\n",
       "      <th>3</th>\n",
       "      <td>0.539</td>\n",
       "      <td>0.550</td>\n",
       "      <td>0.991</td>\n",
       "      <td>0.523</td>\n",
       "      <td>0.079</td>\n",
       "      <td>0.589</td>\n",
       "      <td>1</td>\n",
       "      <td>0</td>\n",
       "    </tr>\n",
       "    <tr>\n",
       "      <th>4</th>\n",
       "      <td>0.529</td>\n",
       "      <td>0.536</td>\n",
       "      <td>0.994</td>\n",
       "      <td>0.512</td>\n",
       "      <td>0.094</td>\n",
       "      <td>0.534</td>\n",
       "      <td>1</td>\n",
       "      <td>0</td>\n",
       "    </tr>\n",
       "  </tbody>\n",
       "</table>\n",
       "</div>"
      ],
      "text/plain": [
       "   Cfperc  Ffperc    PDO  Foperc  oiSHperc  oZSperc  Playoff  ConfFinal\n",
       "0   0.527   0.524  0.989   0.494     0.093    0.537        0          0\n",
       "1   0.591   0.592  0.996   0.533     0.089    0.605        1          1\n",
       "2   0.512   0.512  0.983   0.498     0.090    0.528        0          0\n",
       "3   0.539   0.550  0.991   0.523     0.079    0.589        1          0\n",
       "4   0.529   0.536  0.994   0.512     0.094    0.534        1          0"
      ]
     },
     "execution_count": 3,
     "metadata": {},
     "output_type": "execute_result"
    }
   ],
   "source": [
    "team_stats = pd.read_csv(\"../data/team_stats_1.csv\")\n",
    "team_stats_df = pd.DataFrame(team_stats.ix[:,1:9])\n",
    "team_stats_df.head()"
   ]
  },
  {
   "cell_type": "code",
   "execution_count": 4,
   "metadata": {
    "collapsed": false
   },
   "outputs": [
    {
     "data": {
      "text/html": [
       "<div>\n",
       "<table border=\"1\" class=\"dataframe\">\n",
       "  <thead>\n",
       "    <tr style=\"text-align: right;\">\n",
       "      <th></th>\n",
       "      <th>Cfperc</th>\n",
       "      <th>Ffperc</th>\n",
       "      <th>PDO</th>\n",
       "      <th>Foperc</th>\n",
       "      <th>oiSHperc</th>\n",
       "      <th>oZSperc</th>\n",
       "      <th>Playoff</th>\n",
       "      <th>ConfFinal</th>\n",
       "    </tr>\n",
       "  </thead>\n",
       "  <tbody>\n",
       "    <tr>\n",
       "      <th>count</th>\n",
       "      <td>270.000000</td>\n",
       "      <td>270.000000</td>\n",
       "      <td>270.000000</td>\n",
       "      <td>270.000000</td>\n",
       "      <td>270.000000</td>\n",
       "      <td>270.000000</td>\n",
       "      <td>270.000000</td>\n",
       "      <td>270.000000</td>\n",
       "    </tr>\n",
       "    <tr>\n",
       "      <th>mean</th>\n",
       "      <td>0.499456</td>\n",
       "      <td>0.500081</td>\n",
       "      <td>1.000056</td>\n",
       "      <td>0.499956</td>\n",
       "      <td>0.090604</td>\n",
       "      <td>0.510752</td>\n",
       "      <td>0.474074</td>\n",
       "      <td>0.118519</td>\n",
       "    </tr>\n",
       "    <tr>\n",
       "      <th>std</th>\n",
       "      <td>0.027959</td>\n",
       "      <td>0.027741</td>\n",
       "      <td>0.011996</td>\n",
       "      <td>0.019997</td>\n",
       "      <td>0.008479</td>\n",
       "      <td>0.027373</td>\n",
       "      <td>0.500255</td>\n",
       "      <td>0.323821</td>\n",
       "    </tr>\n",
       "    <tr>\n",
       "      <th>min</th>\n",
       "      <td>0.380000</td>\n",
       "      <td>0.393000</td>\n",
       "      <td>0.963000</td>\n",
       "      <td>0.442000</td>\n",
       "      <td>0.069000</td>\n",
       "      <td>0.424000</td>\n",
       "      <td>0.000000</td>\n",
       "      <td>0.000000</td>\n",
       "    </tr>\n",
       "    <tr>\n",
       "      <th>25%</th>\n",
       "      <td>0.480250</td>\n",
       "      <td>0.482000</td>\n",
       "      <td>0.993000</td>\n",
       "      <td>0.486000</td>\n",
       "      <td>0.085000</td>\n",
       "      <td>0.494000</td>\n",
       "      <td>0.000000</td>\n",
       "      <td>0.000000</td>\n",
       "    </tr>\n",
       "    <tr>\n",
       "      <th>50%</th>\n",
       "      <td>0.501500</td>\n",
       "      <td>0.502000</td>\n",
       "      <td>1.001000</td>\n",
       "      <td>0.501000</td>\n",
       "      <td>0.091000</td>\n",
       "      <td>0.512000</td>\n",
       "      <td>0.000000</td>\n",
       "      <td>0.000000</td>\n",
       "    </tr>\n",
       "    <tr>\n",
       "      <th>75%</th>\n",
       "      <td>0.520000</td>\n",
       "      <td>0.520000</td>\n",
       "      <td>1.007000</td>\n",
       "      <td>0.513000</td>\n",
       "      <td>0.096000</td>\n",
       "      <td>0.527750</td>\n",
       "      <td>1.000000</td>\n",
       "      <td>0.000000</td>\n",
       "    </tr>\n",
       "    <tr>\n",
       "      <th>max</th>\n",
       "      <td>0.591000</td>\n",
       "      <td>0.592000</td>\n",
       "      <td>1.033000</td>\n",
       "      <td>0.564000</td>\n",
       "      <td>0.116000</td>\n",
       "      <td>0.605000</td>\n",
       "      <td>1.000000</td>\n",
       "      <td>1.000000</td>\n",
       "    </tr>\n",
       "  </tbody>\n",
       "</table>\n",
       "</div>"
      ],
      "text/plain": [
       "           Cfperc      Ffperc         PDO      Foperc    oiSHperc     oZSperc  \\\n",
       "count  270.000000  270.000000  270.000000  270.000000  270.000000  270.000000   \n",
       "mean     0.499456    0.500081    1.000056    0.499956    0.090604    0.510752   \n",
       "std      0.027959    0.027741    0.011996    0.019997    0.008479    0.027373   \n",
       "min      0.380000    0.393000    0.963000    0.442000    0.069000    0.424000   \n",
       "25%      0.480250    0.482000    0.993000    0.486000    0.085000    0.494000   \n",
       "50%      0.501500    0.502000    1.001000    0.501000    0.091000    0.512000   \n",
       "75%      0.520000    0.520000    1.007000    0.513000    0.096000    0.527750   \n",
       "max      0.591000    0.592000    1.033000    0.564000    0.116000    0.605000   \n",
       "\n",
       "          Playoff   ConfFinal  \n",
       "count  270.000000  270.000000  \n",
       "mean     0.474074    0.118519  \n",
       "std      0.500255    0.323821  \n",
       "min      0.000000    0.000000  \n",
       "25%      0.000000    0.000000  \n",
       "50%      0.000000    0.000000  \n",
       "75%      1.000000    0.000000  \n",
       "max      1.000000    1.000000  "
      ]
     },
     "execution_count": 4,
     "metadata": {},
     "output_type": "execute_result"
    }
   ],
   "source": [
    "team_stats_df.describe()"
   ]
  },
  {
   "cell_type": "code",
   "execution_count": 5,
   "metadata": {
    "collapsed": false
   },
   "outputs": [],
   "source": [
    "features=list(team_stats_df.columns)[0:-2]"
   ]
  },
  {
   "cell_type": "code",
   "execution_count": 6,
   "metadata": {
    "collapsed": false
   },
   "outputs": [],
   "source": [
    "import itertools\n",
    "feature_list = []\n",
    "for i in range(1,len(features)+1):\n",
    "    for j in itertools.combinations(features,i):\n",
    "        feature_list.append(list(j))"
   ]
  },
  {
   "cell_type": "markdown",
   "metadata": {},
   "source": [
    "### Starting off with logistic regression.\n",
    "#### We're going to do models for both the playoffs and the conference finals as our dependent variable."
   ]
  },
  {
   "cell_type": "code",
   "execution_count": 7,
   "metadata": {
    "collapsed": true
   },
   "outputs": [],
   "source": [
    "def make_playoff(features):\n",
    "    model = LogisticRegression()\n",
    "    X = team_stats_df[features]\n",
    "    Y = team_stats_df[\"Playoff\"]\n",
    "    logmod = model.fit(X,Y)\n",
    "    score = get_score(logmod,X,Y)\n",
    "    result = [score, features]\n",
    "    return result"
   ]
  },
  {
   "cell_type": "code",
   "execution_count": 15,
   "metadata": {
    "collapsed": true
   },
   "outputs": [],
   "source": [
    "def get_params(features):\n",
    "    model = LogisticRegression()\n",
    "    X = team_stats_df[features]\n",
    "    Y = team_stats_df[\"Playoff\"]\n",
    "    logmod = model.fit(X,Y)\n",
    "    coefs = logmod.coef_\n",
    "    inter = logmod.intercept_\n",
    "    #Add confidence intervals\n",
    "    #ci = logmod.ci\n",
    "    return (coefs, inter)"
   ]
  },
  {
   "cell_type": "code",
   "execution_count": 9,
   "metadata": {
    "collapsed": true
   },
   "outputs": [],
   "source": [
    "def get_score(model,x,y):\n",
    "    shuffle=ShuffleSplit(len(x),n_iter=5,test_size=0.2)\n",
    "    scores = cross_val_score(model,x,y,scoring=\"roc_auc\",cv=shuffle)\n",
    "    result = scores.mean()\n",
    "    return result"
   ]
  },
  {
   "cell_type": "code",
   "execution_count": 10,
   "metadata": {
    "collapsed": false
   },
   "outputs": [],
   "source": [
    "rank=[]\n",
    "for i in feature_list:\n",
    "    rank.append(make_playoff(i))"
   ]
  },
  {
   "cell_type": "code",
   "execution_count": 11,
   "metadata": {
    "collapsed": false
   },
   "outputs": [
    {
     "name": "stdout",
     "output_type": "stream",
     "text": [
      "Here are the models and our ROC-AUC score for the five best models. We'll need \n",
      " to check the collinearity (remember what we did in the data mgmt file?)\n",
      "\n",
      "[0.79329670329670321, ['Ffperc', 'Foperc', 'oiSHperc']]\n",
      "[0.79958265581445664, ['Ffperc', 'Foperc']]\n",
      "[0.80170293009708016, ['Cfperc']]\n",
      "[0.80235001110001103, ['Cfperc', 'Ffperc', 'PDO', 'Foperc']]\n",
      "[0.81283883478084251, ['Ffperc', 'PDO']]\n"
     ]
    }
   ],
   "source": [
    "rank.sort()\n",
    "rank = rank[-5:]\n",
    "print(\"Here are the models and our ROC-AUC score for the five best models. We'll need \\n \"\\\n",
    "      \"to check the collinearity (remember what we did in the data mgmt file?)\\n\")\n",
    "for i in rank:\n",
    "    print i"
   ]
  },
  {
   "cell_type": "code",
   "execution_count": 12,
   "metadata": {
    "collapsed": false
   },
   "outputs": [
    {
     "data": {
      "text/html": [
       "<div>\n",
       "<table border=\"1\" class=\"dataframe\">\n",
       "  <thead>\n",
       "    <tr style=\"text-align: right;\">\n",
       "      <th></th>\n",
       "      <th>Cfperc</th>\n",
       "      <th>Ffperc</th>\n",
       "      <th>PDO</th>\n",
       "      <th>Foperc</th>\n",
       "      <th>oiSHperc</th>\n",
       "      <th>oZSperc</th>\n",
       "      <th>Playoff</th>\n",
       "      <th>ConfFinal</th>\n",
       "    </tr>\n",
       "  </thead>\n",
       "  <tbody>\n",
       "    <tr>\n",
       "      <th>Cfperc</th>\n",
       "      <td>True</td>\n",
       "      <td>True</td>\n",
       "      <td>False</td>\n",
       "      <td>False</td>\n",
       "      <td>False</td>\n",
       "      <td>True</td>\n",
       "      <td>False</td>\n",
       "      <td>False</td>\n",
       "    </tr>\n",
       "    <tr>\n",
       "      <th>Ffperc</th>\n",
       "      <td>True</td>\n",
       "      <td>True</td>\n",
       "      <td>False</td>\n",
       "      <td>False</td>\n",
       "      <td>False</td>\n",
       "      <td>True</td>\n",
       "      <td>False</td>\n",
       "      <td>False</td>\n",
       "    </tr>\n",
       "    <tr>\n",
       "      <th>PDO</th>\n",
       "      <td>False</td>\n",
       "      <td>False</td>\n",
       "      <td>True</td>\n",
       "      <td>False</td>\n",
       "      <td>False</td>\n",
       "      <td>False</td>\n",
       "      <td>False</td>\n",
       "      <td>False</td>\n",
       "    </tr>\n",
       "    <tr>\n",
       "      <th>Foperc</th>\n",
       "      <td>False</td>\n",
       "      <td>False</td>\n",
       "      <td>False</td>\n",
       "      <td>True</td>\n",
       "      <td>False</td>\n",
       "      <td>False</td>\n",
       "      <td>False</td>\n",
       "      <td>False</td>\n",
       "    </tr>\n",
       "    <tr>\n",
       "      <th>oiSHperc</th>\n",
       "      <td>False</td>\n",
       "      <td>False</td>\n",
       "      <td>False</td>\n",
       "      <td>False</td>\n",
       "      <td>True</td>\n",
       "      <td>False</td>\n",
       "      <td>False</td>\n",
       "      <td>False</td>\n",
       "    </tr>\n",
       "    <tr>\n",
       "      <th>oZSperc</th>\n",
       "      <td>True</td>\n",
       "      <td>True</td>\n",
       "      <td>False</td>\n",
       "      <td>False</td>\n",
       "      <td>False</td>\n",
       "      <td>True</td>\n",
       "      <td>False</td>\n",
       "      <td>False</td>\n",
       "    </tr>\n",
       "    <tr>\n",
       "      <th>Playoff</th>\n",
       "      <td>False</td>\n",
       "      <td>False</td>\n",
       "      <td>False</td>\n",
       "      <td>False</td>\n",
       "      <td>False</td>\n",
       "      <td>False</td>\n",
       "      <td>True</td>\n",
       "      <td>False</td>\n",
       "    </tr>\n",
       "    <tr>\n",
       "      <th>ConfFinal</th>\n",
       "      <td>False</td>\n",
       "      <td>False</td>\n",
       "      <td>False</td>\n",
       "      <td>False</td>\n",
       "      <td>False</td>\n",
       "      <td>False</td>\n",
       "      <td>False</td>\n",
       "      <td>True</td>\n",
       "    </tr>\n",
       "  </tbody>\n",
       "</table>\n",
       "</div>"
      ],
      "text/plain": [
       "          Cfperc Ffperc    PDO Foperc oiSHperc oZSperc Playoff ConfFinal\n",
       "Cfperc      True   True  False  False    False    True   False     False\n",
       "Ffperc      True   True  False  False    False    True   False     False\n",
       "PDO        False  False   True  False    False   False   False     False\n",
       "Foperc     False  False  False   True    False   False   False     False\n",
       "oiSHperc   False  False  False  False     True   False   False     False\n",
       "oZSperc     True   True  False  False    False    True   False     False\n",
       "Playoff    False  False  False  False    False   False    True     False\n",
       "ConfFinal  False  False  False  False    False   False   False      True"
      ]
     },
     "execution_count": 12,
     "metadata": {},
     "output_type": "execute_result"
    }
   ],
   "source": [
    "team_stats_corr = team_stats_df.corr(method=\"pearson\")\n",
    "(team_stats_corr > .75) | (team_stats_corr<(-.75))"
   ]
  },
  {
   "cell_type": "markdown",
   "metadata": {},
   "source": [
    "#### From 5th to 1st, the following models posess no collinearity with a |0.75| Pearson coefficient cutoff.\n",
    "5, 4, 2, 1. \n",
    "#### So we ignore the 3rd dataset."
   ]
  },
  {
   "cell_type": "code",
   "execution_count": 16,
   "metadata": {
    "collapsed": false
   },
   "outputs": [
    {
     "ename": "AttributeError",
     "evalue": "'LogisticRegression' object has no attribute 'ci'",
     "output_type": "error",
     "traceback": [
      "\u001b[0;31m---------------------------------------------------------------------------\u001b[0m",
      "\u001b[0;31mAttributeError\u001b[0m                            Traceback (most recent call last)",
      "\u001b[0;32m<ipython-input-16-7b62f7137395>\u001b[0m in \u001b[0;36m<module>\u001b[0;34m()\u001b[0m\n\u001b[1;32m      5\u001b[0m     \u001b[0mparam_list\u001b[0m\u001b[0;34m.\u001b[0m\u001b[0mappend\u001b[0m\u001b[0;34m(\u001b[0m\u001b[0mrank\u001b[0m\u001b[0;34m[\u001b[0m\u001b[0mi\u001b[0m\u001b[0;34m]\u001b[0m\u001b[0;34m[\u001b[0m\u001b[0;36m1\u001b[0m\u001b[0;34m]\u001b[0m\u001b[0;34m)\u001b[0m\u001b[0;34m\u001b[0m\u001b[0m\n\u001b[1;32m      6\u001b[0m \u001b[0;32mfor\u001b[0m \u001b[0mi\u001b[0m \u001b[0;32min\u001b[0m \u001b[0mparam_list\u001b[0m\u001b[0;34m:\u001b[0m\u001b[0;34m\u001b[0m\u001b[0m\n\u001b[0;32m----> 7\u001b[0;31m     \u001b[0mcoefs\u001b[0m\u001b[0;34m.\u001b[0m\u001b[0mappend\u001b[0m\u001b[0;34m(\u001b[0m\u001b[0mget_params\u001b[0m\u001b[0;34m(\u001b[0m\u001b[0mi\u001b[0m\u001b[0;34m)\u001b[0m\u001b[0;34m)\u001b[0m\u001b[0;34m\u001b[0m\u001b[0m\n\u001b[0m\u001b[1;32m      8\u001b[0m \u001b[0;32mprint\u001b[0m \u001b[0mcoefs\u001b[0m\u001b[0;34m\u001b[0m\u001b[0m\n",
      "\u001b[0;32m<ipython-input-15-dd69e24c225e>\u001b[0m in \u001b[0;36mget_params\u001b[0;34m(features)\u001b[0m\n\u001b[1;32m      6\u001b[0m     \u001b[0mcoefs\u001b[0m \u001b[0;34m=\u001b[0m \u001b[0mlogmod\u001b[0m\u001b[0;34m.\u001b[0m\u001b[0mcoef_\u001b[0m\u001b[0;34m\u001b[0m\u001b[0m\n\u001b[1;32m      7\u001b[0m     \u001b[0minter\u001b[0m \u001b[0;34m=\u001b[0m \u001b[0mlogmod\u001b[0m\u001b[0;34m.\u001b[0m\u001b[0mintercept_\u001b[0m\u001b[0;34m\u001b[0m\u001b[0m\n\u001b[0;32m----> 8\u001b[0;31m     \u001b[0mci\u001b[0m \u001b[0;34m=\u001b[0m \u001b[0mlogmod\u001b[0m\u001b[0;34m.\u001b[0m\u001b[0mci\u001b[0m\u001b[0;34m\u001b[0m\u001b[0m\n\u001b[0m\u001b[1;32m      9\u001b[0m     \u001b[0;32mreturn\u001b[0m \u001b[0;34m(\u001b[0m\u001b[0mcoefs\u001b[0m\u001b[0;34m,\u001b[0m \u001b[0minter\u001b[0m\u001b[0;34m)\u001b[0m\u001b[0;34m\u001b[0m\u001b[0m\n",
      "\u001b[0;31mAttributeError\u001b[0m: 'LogisticRegression' object has no attribute 'ci'"
     ]
    }
   ],
   "source": [
    "mods = [0,1,3,4]\n",
    "param_list = []\n",
    "coefs = []\n",
    "for i in mods:\n",
    "    param_list.append(rank[i][1])\n",
    "for i in param_list:\n",
    "    coefs.append(get_params(i))\n",
    "print coefs"
   ]
  },
  {
   "cell_type": "markdown",
   "metadata": {},
   "source": [
    "#### But since SciKit is pretty aweful at making a good looking summary, we're going to make the models again with stats models to print out the data."
   ]
  },
  {
   "cell_type": "markdown",
   "metadata": {},
   "source": [
    "<font color=\"Red\">IMPORT STATS MODELS</font>"
   ]
  },
  {
   "cell_type": "code",
   "execution_count": 17,
   "metadata": {
    "collapsed": false
   },
   "outputs": [
    {
     "ename": "NameError",
     "evalue": "name 'discrete_model' is not defined",
     "output_type": "error",
     "traceback": [
      "\u001b[0;31m---------------------------------------------------------------------------\u001b[0m",
      "\u001b[0;31mNameError\u001b[0m                                 Traceback (most recent call last)",
      "\u001b[0;32m<ipython-input-17-b3a627f74c5f>\u001b[0m in \u001b[0;36m<module>\u001b[0;34m()\u001b[0m\n\u001b[1;32m      1\u001b[0m \u001b[0;32mfor\u001b[0m \u001b[0mi\u001b[0m \u001b[0;32min\u001b[0m \u001b[0mparam_list\u001b[0m\u001b[0;34m:\u001b[0m\u001b[0;34m\u001b[0m\u001b[0m\n\u001b[0;32m----> 2\u001b[0;31m     \u001b[0mmodel\u001b[0m \u001b[0;34m=\u001b[0m \u001b[0mdiscrete_model\u001b[0m\u001b[0;34m.\u001b[0m\u001b[0mLogit\u001b[0m\u001b[0;34m(\u001b[0m\u001b[0mteam_stats_df\u001b[0m\u001b[0;34m[\u001b[0m\u001b[0;34m\"Playoff\"\u001b[0m\u001b[0;34m]\u001b[0m\u001b[0;34m,\u001b[0m\u001b[0mteam_stats_df\u001b[0m\u001b[0;34m[\u001b[0m\u001b[0mi\u001b[0m\u001b[0;34m]\u001b[0m\u001b[0;34m)\u001b[0m\u001b[0;34m\u001b[0m\u001b[0m\n\u001b[0m\u001b[1;32m      3\u001b[0m     \u001b[0mfitted\u001b[0m \u001b[0;34m=\u001b[0m \u001b[0mmodel1\u001b[0m\u001b[0;34m.\u001b[0m\u001b[0mfit\u001b[0m\u001b[0;34m(\u001b[0m\u001b[0;34m)\u001b[0m\u001b[0;34m\u001b[0m\u001b[0m\n\u001b[1;32m      4\u001b[0m     \u001b[0;32mprint\u001b[0m \u001b[0mfitted\u001b[0m\u001b[0;34m.\u001b[0m\u001b[0msummary\u001b[0m\u001b[0;34m(\u001b[0m\u001b[0;34m)\u001b[0m\u001b[0;34m\u001b[0m\u001b[0m\n",
      "\u001b[0;31mNameError\u001b[0m: name 'discrete_model' is not defined"
     ]
    }
   ],
   "source": [
    "for i in param_list:\n",
    "    model = discrete_model.Logit(team_stats_df[\"Playoff\"],team_stats_df[i])\n",
    "    fitted = model1.fit()\n",
    "    print fitted.summary()"
   ]
  },
  {
   "cell_type": "code",
   "execution_count": null,
   "metadata": {
    "collapsed": true
   },
   "outputs": [],
   "source": []
  }
 ],
 "metadata": {
  "kernelspec": {
   "display_name": "Python 2",
   "language": "python",
   "name": "python2"
  },
  "language_info": {
   "codemirror_mode": {
    "name": "ipython",
    "version": 2
   },
   "file_extension": ".py",
   "mimetype": "text/x-python",
   "name": "python",
   "nbconvert_exporter": "python",
   "pygments_lexer": "ipython2",
   "version": "2.7.11"
  }
 },
 "nbformat": 4,
 "nbformat_minor": 0
}
