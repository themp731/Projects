{
 "cells": [
  {
   "cell_type": "markdown",
   "metadata": {},
   "source": [
    "# Exploratory Data Analysis"
   ]
  },
  {
   "cell_type": "markdown",
   "metadata": {},
   "source": [
    "#### Downloaded season \"Advanced Stat\" data from Hockey-Reference.com\n",
    "The advanced stat finder is available <a href=http://b.hkref.com/play-index/tpbp_finder.cgi>here</a>"
   ]
  },
  {
   "cell_type": "markdown",
   "metadata": {},
   "source": [
    "The data downloaded did not come with detailed information on playoff success, which is a key part of my statistical analysis, so I went through each playoff from 2007-2008 until 2014-2015 to mark the success of making the playoffs and making the conference finals."
   ]
  },
  {
   "cell_type": "markdown",
   "metadata": {},
   "source": [
    "I used data from <a href=http://b.hkref.com/playoffs/NHL_2015.html>here</a> and I did this manually. I could have used a webscraper but by the time I would have made one, it would have been the same amout of time as going through the pages manually"
   ]
  },
  {
   "cell_type": "code",
   "execution_count": 1,
   "metadata": {
    "collapsed": false
   },
   "outputs": [],
   "source": [
    "import numpy as np\n",
    "import pandas as pd\n",
    "import seaborn as sb\n",
    "import matplotlib.pyplot as plt\n",
    "%matplotlib inline"
   ]
  },
  {
   "cell_type": "code",
   "execution_count": 2,
   "metadata": {
    "collapsed": false
   },
   "outputs": [],
   "source": [
    "raw_csv = pd.read_csv(\"../data/teamADV_playoff.csv\")\n",
    "raw_df = pd.DataFrame(raw_csv)"
   ]
  },
  {
   "cell_type": "code",
   "execution_count": 3,
   "metadata": {
    "collapsed": false
   },
   "outputs": [
    {
     "data": {
      "text/html": [
       "<div>\n",
       "<table border=\"1\" class=\"dataframe\">\n",
       "  <thead>\n",
       "    <tr style=\"text-align: right;\">\n",
       "      <th></th>\n",
       "      <th>Rk</th>\n",
       "      <th>CF</th>\n",
       "      <th>CA</th>\n",
       "      <th>Cfperc</th>\n",
       "      <th>FF</th>\n",
       "      <th>FA</th>\n",
       "      <th>Ffperc</th>\n",
       "      <th>oiSHperc</th>\n",
       "      <th>oiSVperc</th>\n",
       "      <th>PDO</th>\n",
       "      <th>oZSperc</th>\n",
       "      <th>dZSperc</th>\n",
       "      <th>FOwin</th>\n",
       "      <th>FOloss</th>\n",
       "      <th>Foperc</th>\n",
       "      <th>HIT</th>\n",
       "      <th>BLK</th>\n",
       "      <th>Playoff</th>\n",
       "      <th>ConfFinal</th>\n",
       "    </tr>\n",
       "  </thead>\n",
       "  <tbody>\n",
       "    <tr>\n",
       "      <th>count</th>\n",
       "      <td>270.000000</td>\n",
       "      <td>270.000000</td>\n",
       "      <td>270.000000</td>\n",
       "      <td>270.000000</td>\n",
       "      <td>270.000000</td>\n",
       "      <td>270.000000</td>\n",
       "      <td>270.000000</td>\n",
       "      <td>270.000000</td>\n",
       "      <td>270.000000</td>\n",
       "      <td>270.000000</td>\n",
       "      <td>270.000000</td>\n",
       "      <td>270.000000</td>\n",
       "      <td>270.000000</td>\n",
       "      <td>270.000000</td>\n",
       "      <td>270.000000</td>\n",
       "      <td>270.000000</td>\n",
       "      <td>270.000000</td>\n",
       "      <td>270.000000</td>\n",
       "      <td>270.000000</td>\n",
       "    </tr>\n",
       "    <tr>\n",
       "      <th>mean</th>\n",
       "      <td>135.500000</td>\n",
       "      <td>4195.344444</td>\n",
       "      <td>4206.696296</td>\n",
       "      <td>49.945556</td>\n",
       "      <td>3157.003704</td>\n",
       "      <td>3157.003704</td>\n",
       "      <td>50.008148</td>\n",
       "      <td>9.060370</td>\n",
       "      <td>90.940741</td>\n",
       "      <td>100.005556</td>\n",
       "      <td>51.075185</td>\n",
       "      <td>48.924815</td>\n",
       "      <td>2230.877778</td>\n",
       "      <td>2230.840741</td>\n",
       "      <td>49.995556</td>\n",
       "      <td>1715.674074</td>\n",
       "      <td>1049.692593</td>\n",
       "      <td>0.474074</td>\n",
       "      <td>0.118519</td>\n",
       "    </tr>\n",
       "    <tr>\n",
       "      <th>std</th>\n",
       "      <td>78.086491</td>\n",
       "      <td>689.713865</td>\n",
       "      <td>701.188495</td>\n",
       "      <td>2.795928</td>\n",
       "      <td>526.737398</td>\n",
       "      <td>531.204268</td>\n",
       "      <td>2.774098</td>\n",
       "      <td>0.847928</td>\n",
       "      <td>0.888530</td>\n",
       "      <td>1.199600</td>\n",
       "      <td>2.737339</td>\n",
       "      <td>2.737339</td>\n",
       "      <td>338.960827</td>\n",
       "      <td>334.371030</td>\n",
       "      <td>1.999735</td>\n",
       "      <td>367.597967</td>\n",
       "      <td>200.251844</td>\n",
       "      <td>0.500255</td>\n",
       "      <td>0.323821</td>\n",
       "    </tr>\n",
       "    <tr>\n",
       "      <th>min</th>\n",
       "      <td>1.000000</td>\n",
       "      <td>2282.000000</td>\n",
       "      <td>2000.000000</td>\n",
       "      <td>38.000000</td>\n",
       "      <td>1706.000000</td>\n",
       "      <td>1485.000000</td>\n",
       "      <td>39.300000</td>\n",
       "      <td>6.900000</td>\n",
       "      <td>88.500000</td>\n",
       "      <td>96.300000</td>\n",
       "      <td>42.400000</td>\n",
       "      <td>39.500000</td>\n",
       "      <td>1267.000000</td>\n",
       "      <td>1241.000000</td>\n",
       "      <td>44.200000</td>\n",
       "      <td>840.000000</td>\n",
       "      <td>511.000000</td>\n",
       "      <td>0.000000</td>\n",
       "      <td>0.000000</td>\n",
       "    </tr>\n",
       "    <tr>\n",
       "      <th>25%</th>\n",
       "      <td>68.250000</td>\n",
       "      <td>3995.500000</td>\n",
       "      <td>3876.750000</td>\n",
       "      <td>48.025000</td>\n",
       "      <td>3027.000000</td>\n",
       "      <td>3000.250000</td>\n",
       "      <td>48.200000</td>\n",
       "      <td>8.500000</td>\n",
       "      <td>90.200000</td>\n",
       "      <td>99.300000</td>\n",
       "      <td>49.400000</td>\n",
       "      <td>47.225000</td>\n",
       "      <td>2161.250000</td>\n",
       "      <td>2126.000000</td>\n",
       "      <td>48.600000</td>\n",
       "      <td>1499.000000</td>\n",
       "      <td>944.000000</td>\n",
       "      <td>0.000000</td>\n",
       "      <td>0.000000</td>\n",
       "    </tr>\n",
       "    <tr>\n",
       "      <th>50%</th>\n",
       "      <td>135.500000</td>\n",
       "      <td>4385.500000</td>\n",
       "      <td>4392.000000</td>\n",
       "      <td>50.150000</td>\n",
       "      <td>3295.000000</td>\n",
       "      <td>3304.500000</td>\n",
       "      <td>50.200000</td>\n",
       "      <td>9.100000</td>\n",
       "      <td>91.000000</td>\n",
       "      <td>100.100000</td>\n",
       "      <td>51.200000</td>\n",
       "      <td>48.800000</td>\n",
       "      <td>2323.000000</td>\n",
       "      <td>2337.000000</td>\n",
       "      <td>50.100000</td>\n",
       "      <td>1709.000000</td>\n",
       "      <td>1063.500000</td>\n",
       "      <td>0.000000</td>\n",
       "      <td>0.000000</td>\n",
       "    </tr>\n",
       "    <tr>\n",
       "      <th>75%</th>\n",
       "      <td>202.750000</td>\n",
       "      <td>4673.500000</td>\n",
       "      <td>4696.750000</td>\n",
       "      <td>52.000000</td>\n",
       "      <td>3514.750000</td>\n",
       "      <td>3495.000000</td>\n",
       "      <td>52.000000</td>\n",
       "      <td>9.600000</td>\n",
       "      <td>91.500000</td>\n",
       "      <td>100.700000</td>\n",
       "      <td>52.775000</td>\n",
       "      <td>50.600000</td>\n",
       "      <td>2436.000000</td>\n",
       "      <td>2427.750000</td>\n",
       "      <td>51.300000</td>\n",
       "      <td>1935.500000</td>\n",
       "      <td>1196.250000</td>\n",
       "      <td>1.000000</td>\n",
       "      <td>0.000000</td>\n",
       "    </tr>\n",
       "    <tr>\n",
       "      <th>max</th>\n",
       "      <td>270.000000</td>\n",
       "      <td>5378.000000</td>\n",
       "      <td>5617.000000</td>\n",
       "      <td>59.100000</td>\n",
       "      <td>3998.000000</td>\n",
       "      <td>4228.000000</td>\n",
       "      <td>59.200000</td>\n",
       "      <td>11.600000</td>\n",
       "      <td>93.300000</td>\n",
       "      <td>103.300000</td>\n",
       "      <td>60.500000</td>\n",
       "      <td>57.600000</td>\n",
       "      <td>2804.000000</td>\n",
       "      <td>2760.000000</td>\n",
       "      <td>56.400000</td>\n",
       "      <td>2685.000000</td>\n",
       "      <td>1569.000000</td>\n",
       "      <td>1.000000</td>\n",
       "      <td>1.000000</td>\n",
       "    </tr>\n",
       "  </tbody>\n",
       "</table>\n",
       "</div>"
      ],
      "text/plain": [
       "               Rk           CF           CA      Cfperc           FF  \\\n",
       "count  270.000000   270.000000   270.000000  270.000000   270.000000   \n",
       "mean   135.500000  4195.344444  4206.696296   49.945556  3157.003704   \n",
       "std     78.086491   689.713865   701.188495    2.795928   526.737398   \n",
       "min      1.000000  2282.000000  2000.000000   38.000000  1706.000000   \n",
       "25%     68.250000  3995.500000  3876.750000   48.025000  3027.000000   \n",
       "50%    135.500000  4385.500000  4392.000000   50.150000  3295.000000   \n",
       "75%    202.750000  4673.500000  4696.750000   52.000000  3514.750000   \n",
       "max    270.000000  5378.000000  5617.000000   59.100000  3998.000000   \n",
       "\n",
       "                FA      Ffperc    oiSHperc    oiSVperc         PDO  \\\n",
       "count   270.000000  270.000000  270.000000  270.000000  270.000000   \n",
       "mean   3157.003704   50.008148    9.060370   90.940741  100.005556   \n",
       "std     531.204268    2.774098    0.847928    0.888530    1.199600   \n",
       "min    1485.000000   39.300000    6.900000   88.500000   96.300000   \n",
       "25%    3000.250000   48.200000    8.500000   90.200000   99.300000   \n",
       "50%    3304.500000   50.200000    9.100000   91.000000  100.100000   \n",
       "75%    3495.000000   52.000000    9.600000   91.500000  100.700000   \n",
       "max    4228.000000   59.200000   11.600000   93.300000  103.300000   \n",
       "\n",
       "          oZSperc     dZSperc        FOwin       FOloss      Foperc  \\\n",
       "count  270.000000  270.000000   270.000000   270.000000  270.000000   \n",
       "mean    51.075185   48.924815  2230.877778  2230.840741   49.995556   \n",
       "std      2.737339    2.737339   338.960827   334.371030    1.999735   \n",
       "min     42.400000   39.500000  1267.000000  1241.000000   44.200000   \n",
       "25%     49.400000   47.225000  2161.250000  2126.000000   48.600000   \n",
       "50%     51.200000   48.800000  2323.000000  2337.000000   50.100000   \n",
       "75%     52.775000   50.600000  2436.000000  2427.750000   51.300000   \n",
       "max     60.500000   57.600000  2804.000000  2760.000000   56.400000   \n",
       "\n",
       "               HIT          BLK     Playoff   ConfFinal  \n",
       "count   270.000000   270.000000  270.000000  270.000000  \n",
       "mean   1715.674074  1049.692593    0.474074    0.118519  \n",
       "std     367.597967   200.251844    0.500255    0.323821  \n",
       "min     840.000000   511.000000    0.000000    0.000000  \n",
       "25%    1499.000000   944.000000    0.000000    0.000000  \n",
       "50%    1709.000000  1063.500000    0.000000    0.000000  \n",
       "75%    1935.500000  1196.250000    1.000000    0.000000  \n",
       "max    2685.000000  1569.000000    1.000000    1.000000  "
      ]
     },
     "execution_count": 3,
     "metadata": {},
     "output_type": "execute_result"
    }
   ],
   "source": [
    "raw_df.describe()"
   ]
  },
  {
   "cell_type": "markdown",
   "metadata": {},
   "source": [
    "### Judging by the description we arne't missing any values, but we want to get rid of the columns that don't have value that we can measure. \n",
    "* We will keep rank just to see if the overall idea of being ranked high in \"Corsi\" has any value."
   ]
  },
  {
   "cell_type": "code",
   "execution_count": 4,
   "metadata": {
    "collapsed": false
   },
   "outputs": [],
   "source": [
    "raw_df = raw_df.drop([\"Tm\",\"Season\"],axis=1)"
   ]
  },
  {
   "cell_type": "code",
   "execution_count": 5,
   "metadata": {
    "collapsed": false
   },
   "outputs": [
    {
     "data": {
      "text/html": [
       "<div>\n",
       "<table border=\"1\" class=\"dataframe\">\n",
       "  <thead>\n",
       "    <tr style=\"text-align: right;\">\n",
       "      <th></th>\n",
       "      <th>Rk</th>\n",
       "      <th>CF</th>\n",
       "      <th>CA</th>\n",
       "      <th>Cfperc</th>\n",
       "      <th>FF</th>\n",
       "      <th>FA</th>\n",
       "      <th>Ffperc</th>\n",
       "      <th>oiSHperc</th>\n",
       "      <th>oiSVperc</th>\n",
       "      <th>PDO</th>\n",
       "      <th>oZSperc</th>\n",
       "      <th>dZSperc</th>\n",
       "      <th>FOwin</th>\n",
       "      <th>FOloss</th>\n",
       "      <th>Foperc</th>\n",
       "      <th>HIT</th>\n",
       "      <th>BLK</th>\n",
       "      <th>Playoff</th>\n",
       "      <th>ConfFinal</th>\n",
       "    </tr>\n",
       "  </thead>\n",
       "  <tbody>\n",
       "    <tr>\n",
       "      <th>0</th>\n",
       "      <td>27</td>\n",
       "      <td>4873</td>\n",
       "      <td>4372</td>\n",
       "      <td>52.7</td>\n",
       "      <td>3657</td>\n",
       "      <td>3316</td>\n",
       "      <td>52.4</td>\n",
       "      <td>9.3</td>\n",
       "      <td>89.6</td>\n",
       "      <td>98.9</td>\n",
       "      <td>53.7</td>\n",
       "      <td>46.3</td>\n",
       "      <td>2479</td>\n",
       "      <td>2539</td>\n",
       "      <td>49.4</td>\n",
       "      <td>1741</td>\n",
       "      <td>1056</td>\n",
       "      <td>0</td>\n",
       "      <td>0</td>\n",
       "    </tr>\n",
       "    <tr>\n",
       "      <th>1</th>\n",
       "      <td>30</td>\n",
       "      <td>4864</td>\n",
       "      <td>3361</td>\n",
       "      <td>59.1</td>\n",
       "      <td>3852</td>\n",
       "      <td>2652</td>\n",
       "      <td>59.2</td>\n",
       "      <td>8.9</td>\n",
       "      <td>90.8</td>\n",
       "      <td>99.6</td>\n",
       "      <td>60.5</td>\n",
       "      <td>39.5</td>\n",
       "      <td>2435</td>\n",
       "      <td>2136</td>\n",
       "      <td>53.3</td>\n",
       "      <td>1413</td>\n",
       "      <td>709</td>\n",
       "      <td>1</td>\n",
       "      <td>1</td>\n",
       "    </tr>\n",
       "    <tr>\n",
       "      <th>2</th>\n",
       "      <td>71</td>\n",
       "      <td>4669</td>\n",
       "      <td>4457</td>\n",
       "      <td>51.2</td>\n",
       "      <td>3557</td>\n",
       "      <td>3392</td>\n",
       "      <td>51.2</td>\n",
       "      <td>9.0</td>\n",
       "      <td>89.3</td>\n",
       "      <td>98.3</td>\n",
       "      <td>52.8</td>\n",
       "      <td>47.2</td>\n",
       "      <td>2317</td>\n",
       "      <td>2336</td>\n",
       "      <td>49.8</td>\n",
       "      <td>1547</td>\n",
       "      <td>1065</td>\n",
       "      <td>0</td>\n",
       "      <td>0</td>\n",
       "    </tr>\n",
       "    <tr>\n",
       "      <th>3</th>\n",
       "      <td>84</td>\n",
       "      <td>4598</td>\n",
       "      <td>3939</td>\n",
       "      <td>53.9</td>\n",
       "      <td>3576</td>\n",
       "      <td>2926</td>\n",
       "      <td>55.0</td>\n",
       "      <td>7.9</td>\n",
       "      <td>91.1</td>\n",
       "      <td>99.1</td>\n",
       "      <td>58.9</td>\n",
       "      <td>41.1</td>\n",
       "      <td>2309</td>\n",
       "      <td>2107</td>\n",
       "      <td>52.3</td>\n",
       "      <td>2137</td>\n",
       "      <td>1013</td>\n",
       "      <td>1</td>\n",
       "      <td>0</td>\n",
       "    </tr>\n",
       "    <tr>\n",
       "      <th>4</th>\n",
       "      <td>90</td>\n",
       "      <td>4584</td>\n",
       "      <td>4078</td>\n",
       "      <td>52.9</td>\n",
       "      <td>3545</td>\n",
       "      <td>3073</td>\n",
       "      <td>53.6</td>\n",
       "      <td>9.4</td>\n",
       "      <td>90.0</td>\n",
       "      <td>99.4</td>\n",
       "      <td>53.4</td>\n",
       "      <td>46.6</td>\n",
       "      <td>2422</td>\n",
       "      <td>2312</td>\n",
       "      <td>51.2</td>\n",
       "      <td>1599</td>\n",
       "      <td>1005</td>\n",
       "      <td>1</td>\n",
       "      <td>0</td>\n",
       "    </tr>\n",
       "  </tbody>\n",
       "</table>\n",
       "</div>"
      ],
      "text/plain": [
       "   Rk    CF    CA  Cfperc    FF    FA  Ffperc  oiSHperc  oiSVperc   PDO  \\\n",
       "0  27  4873  4372    52.7  3657  3316    52.4       9.3      89.6  98.9   \n",
       "1  30  4864  3361    59.1  3852  2652    59.2       8.9      90.8  99.6   \n",
       "2  71  4669  4457    51.2  3557  3392    51.2       9.0      89.3  98.3   \n",
       "3  84  4598  3939    53.9  3576  2926    55.0       7.9      91.1  99.1   \n",
       "4  90  4584  4078    52.9  3545  3073    53.6       9.4      90.0  99.4   \n",
       "\n",
       "   oZSperc  dZSperc  FOwin  FOloss  Foperc   HIT   BLK  Playoff  ConfFinal  \n",
       "0     53.7     46.3   2479    2539    49.4  1741  1056        0          0  \n",
       "1     60.5     39.5   2435    2136    53.3  1413   709        1          1  \n",
       "2     52.8     47.2   2317    2336    49.8  1547  1065        0          0  \n",
       "3     58.9     41.1   2309    2107    52.3  2137  1013        1          0  \n",
       "4     53.4     46.6   2422    2312    51.2  1599  1005        1          0  "
      ]
     },
     "execution_count": 5,
     "metadata": {},
     "output_type": "execute_result"
    }
   ],
   "source": [
    "raw_df.head()"
   ]
  },
  {
   "cell_type": "markdown",
   "metadata": {},
   "source": [
    "### Now let's bring in a data dictionary!"
   ]
  },
  {
   "cell_type": "markdown",
   "metadata": {},
   "source": [
    "\n",
    "\n",
    "Rk -- Rank\n",
    "\n",
    "CF -- Corsi For in All Situations (Shots + Blocks + Misses)\n",
    "\n",
    "CA -- Corsi Against in All Situations (Shots + Blocks + Misses)\n",
    "CF% -- Corsi For % in All Situations\n",
    "CF / (CF + CA)\n",
    "    <em>Above 50% means the team was controlling the\n",
    "    puck more often than not with this player on the\n",
    "    ice in this situation.</em>\n",
    "\n",
    "FF -- Fenwick For in All Situations\n",
    "Shots + Misses\n",
    "\n",
    "FA -- Fenwick Against in All Situations\n",
    "Shots + Misses\n",
    "\n",
    "FF% -- Fenwick For % in All Situations\n",
    "FF / (FF + FA)\n",
    "<em>Above 50% means the team was controlling the\n",
    "puck more often than not with this player on the\n",
    "ice in this situation.</em>\n",
    "\n",
    "oiSH% -- Team On-Ice Shooting Percentage in All Situations\n",
    "Shooting % while this player/team was on the ice\n",
    "\n",
    "oiSV% -- Team On-Ice Save Percentage in All Situations\n",
    "Save % while this player/team was on the ice\n",
    "\n",
    "PDO -- PDO in All Situations\n",
    "Shooting % + Save %\n",
    "\n",
    "oZS% -- Offensive Zone Start % in All Situations\n",
    "Offensive Zone Faceoffs / (Offensive Zone Faceoffs + Defensive Zone Faceoffs),\n",
    "that took place while on the ice\n",
    "\n",
    "dZS% -- Defensive Zone Start % in All Situations\n",
    "Defensive Zone Faceoffs / (Offensive Zone Faceoffs + Defensive Zone Faceoffs),\n",
    "that took place while on the ice\n",
    "\n",
    "FOwin -- Faceoff Wins in All Situations\n",
    "\n",
    "FOloss -- Faceoff Losses in All Situations\n",
    "\n",
    "FO% -- Faceoff Win Percentage in All Situations\n",
    "\n",
    "HIT -- Hits in All Situations\n",
    "\n",
    "BLK -- Blocks in All Situations\n",
    " \n",
    "Playoff -- Binary: 1 Made Playoffs, 0 Did Not\n",
    "\n",
    "ConfFinal -- Binary: 1 Made Conference Final, 0 Did Not"
   ]
  },
  {
   "cell_type": "code",
   "execution_count": 6,
   "metadata": {
    "collapsed": false
   },
   "outputs": [
    {
     "data": {
      "text/plain": [
       "['Rk',\n",
       " 'CF',\n",
       " 'CA',\n",
       " 'Cfperc',\n",
       " 'FF',\n",
       " 'FA',\n",
       " 'Ffperc',\n",
       " 'oiSHperc',\n",
       " 'oiSVperc',\n",
       " 'PDO',\n",
       " 'oZSperc',\n",
       " 'dZSperc',\n",
       " 'FOwin',\n",
       " 'FOloss',\n",
       " 'Foperc',\n",
       " 'HIT',\n",
       " 'BLK',\n",
       " 'Playoff',\n",
       " 'ConfFinal']"
      ]
     },
     "execution_count": 6,
     "metadata": {},
     "output_type": "execute_result"
    }
   ],
   "source": [
    "list(raw_df.columns)"
   ]
  },
  {
   "cell_type": "code",
   "execution_count": 7,
   "metadata": {
    "collapsed": false
   },
   "outputs": [
    {
     "name": "stdout",
     "output_type": "stream",
     "text": [
      "It looks like many of our exogenous variables are close to being normally distributed\n"
     ]
    },
    {
     "data": {
      "image/png": "[encoded data removed]",
      "text/plain": [
       "<matplotlib.figure.Figure at 0x114fbad50>"
      ]
     },
     "metadata": {},
     "output_type": "display_data"
    }
   ],
   "source": [
    "plt.figure(figsize=(14,9))\n",
    "dat_cols=[None,'Cfperc','Ffperc','PDO','Foperc','Playoff','ConfFinal']\n",
    "for i in range(1,7):\n",
    "    plt.subplot(2,3,i)\n",
    "    sb.distplot(raw_df[dat_cols[i]])\n",
    "print(\"It looks like many of our exogenous variables are close to being normally distributed\")"
   ]
  },
  {
   "cell_type": "markdown",
   "metadata": {},
   "source": [
    "#### I think Corsi and Total Shots are going to be good ways of tracking making it to the playoffs and \"season success,\" which I define as making the conference finals. But since we don't that imported yet, let's use shooting percentage."
   ]
  },
  {
   "cell_type": "code",
   "execution_count": 8,
   "metadata": {
    "collapsed": false
   },
   "outputs": [],
   "source": [
    "sh_corsi_conf = raw_df[[\"Cfperc\",\"oiSHperc\",\"ConfFinal\"]]\n",
    "sh_corsi_yes = sh_corsi_conf[sh_corsi_conf[\"ConfFinal\"]==1]\n",
    "sh_corsi_no = sh_corsi_conf[sh_corsi_conf[\"ConfFinal\"]==0]"
   ]
  },
  {
   "cell_type": "code",
   "execution_count": 9,
   "metadata": {
    "collapsed": false
   },
   "outputs": [
    {
     "data": {
      "image/png": "[encoded data removed]",
      "text/plain": [
       "<matplotlib.figure.Figure at 0x115063090>"
      ]
     },
     "metadata": {},
     "output_type": "display_data"
    }
   ],
   "source": [
    "ax1 = plt.subplot(1,2,1)\n",
    "sb.kdeplot(sh_corsi_yes, shade=True, cmap=\"Blues\", shade_lowest=False, sharey=True, sharex=True)\n",
    "sb.axlabel(\"Corsi %\",\"Shooting % * 100\")\n",
    "ax2 = plt.subplot(1,2,2, sharey=ax1, sharex=ax1)\n",
    "sb.kdeplot(sh_corsi_no, shade=True, cmap=\"Reds\", shade_lowest=False, sharey=True, sharex=True)\n",
    "sb.axlabel(\"Corsi %\",\"\")"
   ]
  },
  {
   "cell_type": "markdown",
   "metadata": {},
   "source": [
    "#### The Blue's are teams that made the conference final, but the reds are teams that don't. The sample size for teams that made the conference final is not large, but appears to be much more widely distributed compared to the teams that did not make it. \n",
    "<br>Let's look at the same data but for teams that made or did not make the playoffs."
   ]
  },
  {
   "cell_type": "code",
   "execution_count": 10,
   "metadata": {
    "collapsed": false
   },
   "outputs": [
    {
     "data": {
      "text/html": [
       "<div>\n",
       "<table border=\"1\" class=\"dataframe\">\n",
       "  <thead>\n",
       "    <tr style=\"text-align: right;\">\n",
       "      <th></th>\n",
       "      <th>Cfperc</th>\n",
       "      <th>oiSHperc</th>\n",
       "      <th>Playoff</th>\n",
       "    </tr>\n",
       "  </thead>\n",
       "  <tbody>\n",
       "    <tr>\n",
       "      <th>0</th>\n",
       "      <td>52.7</td>\n",
       "      <td>9.3</td>\n",
       "      <td>0</td>\n",
       "    </tr>\n",
       "    <tr>\n",
       "      <th>1</th>\n",
       "      <td>59.1</td>\n",
       "      <td>8.9</td>\n",
       "      <td>1</td>\n",
       "    </tr>\n",
       "    <tr>\n",
       "      <th>2</th>\n",
       "      <td>51.2</td>\n",
       "      <td>9.0</td>\n",
       "      <td>0</td>\n",
       "    </tr>\n",
       "    <tr>\n",
       "      <th>3</th>\n",
       "      <td>53.9</td>\n",
       "      <td>7.9</td>\n",
       "      <td>1</td>\n",
       "    </tr>\n",
       "    <tr>\n",
       "      <th>4</th>\n",
       "      <td>52.9</td>\n",
       "      <td>9.4</td>\n",
       "      <td>1</td>\n",
       "    </tr>\n",
       "  </tbody>\n",
       "</table>\n",
       "</div>"
      ],
      "text/plain": [
       "   Cfperc  oiSHperc  Playoff\n",
       "0    52.7       9.3        0\n",
       "1    59.1       8.9        1\n",
       "2    51.2       9.0        0\n",
       "3    53.9       7.9        1\n",
       "4    52.9       9.4        1"
      ]
     },
     "execution_count": 10,
     "metadata": {},
     "output_type": "execute_result"
    }
   ],
   "source": [
    "sh_corsi_playoff = raw_df[[\"Cfperc\",\"oiSHperc\",\"Playoff\"]]\n",
    "sh_corsi_pfyes = sh_corsi_playoff[sh_corsi_playoff[\"Playoff\"]==1]\n",
    "sh_corsi_pfno = sh_corsi_playoff[sh_corsi_playoff[\"Playoff\"]==0]\n",
    "sh_corsi_playoff.head()"
   ]
  },
  {
   "cell_type": "code",
   "execution_count": 11,
   "metadata": {
    "collapsed": false
   },
   "outputs": [
    {
     "data": {
      "image/png": "[encoded data removed]",
      "text/plain": [
       "<matplotlib.figure.Figure at 0x1177a29d0>"
      ]
     },
     "metadata": {},
     "output_type": "display_data"
    }
   ],
   "source": [
    "ax1 = plt.subplot(1,2,1)\n",
    "sb.kdeplot(sh_corsi_pfyes, shade=True, cmap=\"Blues\", shade_lowest=False, sharey=True, sharex=True)\n",
    "sb.axlabel(\"Corsi %\",\"Shooting % * 100\")\n",
    "ax2 = plt.subplot(1,2,2, sharey=ax1, sharex=ax1)\n",
    "sb.kdeplot(sh_corsi_pfno, shade=True, cmap=\"Reds\", shade_lowest=False, sharey=True, sharex=True)\n",
    "sb.axlabel(\"Corsi %\",\"\")"
   ]
  },
  {
   "cell_type": "markdown",
   "metadata": {},
   "source": [
    "#### If we look at the contour distributions those that made the playoffs are more tightly distributed and tend to have a higher corsi while only a marginal difference in shotting percentage. "
   ]
  },
  {
   "cell_type": "markdown",
   "metadata": {},
   "source": [
    "But before we get ahead of ourselves, since it looks like we can make some good assumptions on corsi, let's check the colinearity of our initial dataset."
   ]
  },
  {
   "cell_type": "markdown",
   "metadata": {},
   "source": [
    "We'll start by removing unneeded or frames we know are going to be highly correlated, like offsensive vs. defensive zone face off starts. Since they are directly correlated to each other."
   ]
  },
  {
   "cell_type": "code",
   "execution_count": 12,
   "metadata": {
    "collapsed": false
   },
   "outputs": [],
   "source": [
    "data_corr = raw_df[['Rk','CF','Cfperc','FF','Ffperc','oiSHperc','PDO','oZSperc',\\\n",
    "                   'FOwin','Foperc','HIT','BLK','Playoff','ConfFinal']]"
   ]
  },
  {
   "cell_type": "code",
   "execution_count": 13,
   "metadata": {
    "collapsed": false
   },
   "outputs": [
    {
     "data": {
      "text/html": [
       "<div>\n",
       "<table border=\"1\" class=\"dataframe\">\n",
       "  <thead>\n",
       "    <tr style=\"text-align: right;\">\n",
       "      <th></th>\n",
       "      <th>Rk</th>\n",
       "      <th>CF</th>\n",
       "      <th>Cfperc</th>\n",
       "      <th>FF</th>\n",
       "      <th>Ffperc</th>\n",
       "      <th>oiSHperc</th>\n",
       "      <th>PDO</th>\n",
       "      <th>oZSperc</th>\n",
       "      <th>FOwin</th>\n",
       "      <th>Foperc</th>\n",
       "      <th>HIT</th>\n",
       "      <th>BLK</th>\n",
       "      <th>Playoff</th>\n",
       "      <th>ConfFinal</th>\n",
       "    </tr>\n",
       "  </thead>\n",
       "  <tbody>\n",
       "    <tr>\n",
       "      <th>Rk</th>\n",
       "      <td>1.000000</td>\n",
       "      <td>-0.918473</td>\n",
       "      <td>NaN</td>\n",
       "      <td>-0.899262</td>\n",
       "      <td>NaN</td>\n",
       "      <td>NaN</td>\n",
       "      <td>NaN</td>\n",
       "      <td>NaN</td>\n",
       "      <td>-0.763577</td>\n",
       "      <td>NaN</td>\n",
       "      <td>NaN</td>\n",
       "      <td>NaN</td>\n",
       "      <td>NaN</td>\n",
       "      <td>NaN</td>\n",
       "    </tr>\n",
       "    <tr>\n",
       "      <th>CF</th>\n",
       "      <td>-0.918473</td>\n",
       "      <td>1.000000</td>\n",
       "      <td>NaN</td>\n",
       "      <td>0.992659</td>\n",
       "      <td>NaN</td>\n",
       "      <td>NaN</td>\n",
       "      <td>NaN</td>\n",
       "      <td>NaN</td>\n",
       "      <td>0.909400</td>\n",
       "      <td>NaN</td>\n",
       "      <td>NaN</td>\n",
       "      <td>NaN</td>\n",
       "      <td>NaN</td>\n",
       "      <td>NaN</td>\n",
       "    </tr>\n",
       "    <tr>\n",
       "      <th>Cfperc</th>\n",
       "      <td>NaN</td>\n",
       "      <td>NaN</td>\n",
       "      <td>1.000000</td>\n",
       "      <td>NaN</td>\n",
       "      <td>0.971304</td>\n",
       "      <td>NaN</td>\n",
       "      <td>NaN</td>\n",
       "      <td>0.801167</td>\n",
       "      <td>NaN</td>\n",
       "      <td>NaN</td>\n",
       "      <td>NaN</td>\n",
       "      <td>NaN</td>\n",
       "      <td>NaN</td>\n",
       "      <td>NaN</td>\n",
       "    </tr>\n",
       "    <tr>\n",
       "      <th>FF</th>\n",
       "      <td>-0.899262</td>\n",
       "      <td>0.992659</td>\n",
       "      <td>NaN</td>\n",
       "      <td>1.000000</td>\n",
       "      <td>NaN</td>\n",
       "      <td>NaN</td>\n",
       "      <td>NaN</td>\n",
       "      <td>NaN</td>\n",
       "      <td>0.910770</td>\n",
       "      <td>NaN</td>\n",
       "      <td>NaN</td>\n",
       "      <td>NaN</td>\n",
       "      <td>NaN</td>\n",
       "      <td>NaN</td>\n",
       "    </tr>\n",
       "    <tr>\n",
       "      <th>Ffperc</th>\n",
       "      <td>NaN</td>\n",
       "      <td>NaN</td>\n",
       "      <td>0.971304</td>\n",
       "      <td>NaN</td>\n",
       "      <td>1.000000</td>\n",
       "      <td>NaN</td>\n",
       "      <td>NaN</td>\n",
       "      <td>0.793671</td>\n",
       "      <td>NaN</td>\n",
       "      <td>NaN</td>\n",
       "      <td>NaN</td>\n",
       "      <td>NaN</td>\n",
       "      <td>NaN</td>\n",
       "      <td>NaN</td>\n",
       "    </tr>\n",
       "    <tr>\n",
       "      <th>oiSHperc</th>\n",
       "      <td>NaN</td>\n",
       "      <td>NaN</td>\n",
       "      <td>NaN</td>\n",
       "      <td>NaN</td>\n",
       "      <td>NaN</td>\n",
       "      <td>1</td>\n",
       "      <td>NaN</td>\n",
       "      <td>NaN</td>\n",
       "      <td>NaN</td>\n",
       "      <td>NaN</td>\n",
       "      <td>NaN</td>\n",
       "      <td>NaN</td>\n",
       "      <td>NaN</td>\n",
       "      <td>NaN</td>\n",
       "    </tr>\n",
       "    <tr>\n",
       "      <th>PDO</th>\n",
       "      <td>NaN</td>\n",
       "      <td>NaN</td>\n",
       "      <td>NaN</td>\n",
       "      <td>NaN</td>\n",
       "      <td>NaN</td>\n",
       "      <td>NaN</td>\n",
       "      <td>1</td>\n",
       "      <td>NaN</td>\n",
       "      <td>NaN</td>\n",
       "      <td>NaN</td>\n",
       "      <td>NaN</td>\n",
       "      <td>NaN</td>\n",
       "      <td>NaN</td>\n",
       "      <td>NaN</td>\n",
       "    </tr>\n",
       "    <tr>\n",
       "      <th>oZSperc</th>\n",
       "      <td>NaN</td>\n",
       "      <td>NaN</td>\n",
       "      <td>0.801167</td>\n",
       "      <td>NaN</td>\n",
       "      <td>0.793671</td>\n",
       "      <td>NaN</td>\n",
       "      <td>NaN</td>\n",
       "      <td>1.000000</td>\n",
       "      <td>NaN</td>\n",
       "      <td>NaN</td>\n",
       "      <td>NaN</td>\n",
       "      <td>NaN</td>\n",
       "      <td>NaN</td>\n",
       "      <td>NaN</td>\n",
       "    </tr>\n",
       "    <tr>\n",
       "      <th>FOwin</th>\n",
       "      <td>-0.763577</td>\n",
       "      <td>0.909400</td>\n",
       "      <td>NaN</td>\n",
       "      <td>0.910770</td>\n",
       "      <td>NaN</td>\n",
       "      <td>NaN</td>\n",
       "      <td>NaN</td>\n",
       "      <td>NaN</td>\n",
       "      <td>1.000000</td>\n",
       "      <td>NaN</td>\n",
       "      <td>NaN</td>\n",
       "      <td>NaN</td>\n",
       "      <td>NaN</td>\n",
       "      <td>NaN</td>\n",
       "    </tr>\n",
       "    <tr>\n",
       "      <th>Foperc</th>\n",
       "      <td>NaN</td>\n",
       "      <td>NaN</td>\n",
       "      <td>NaN</td>\n",
       "      <td>NaN</td>\n",
       "      <td>NaN</td>\n",
       "      <td>NaN</td>\n",
       "      <td>NaN</td>\n",
       "      <td>NaN</td>\n",
       "      <td>NaN</td>\n",
       "      <td>1</td>\n",
       "      <td>NaN</td>\n",
       "      <td>NaN</td>\n",
       "      <td>NaN</td>\n",
       "      <td>NaN</td>\n",
       "    </tr>\n",
       "    <tr>\n",
       "      <th>HIT</th>\n",
       "      <td>NaN</td>\n",
       "      <td>NaN</td>\n",
       "      <td>NaN</td>\n",
       "      <td>NaN</td>\n",
       "      <td>NaN</td>\n",
       "      <td>NaN</td>\n",
       "      <td>NaN</td>\n",
       "      <td>NaN</td>\n",
       "      <td>NaN</td>\n",
       "      <td>NaN</td>\n",
       "      <td>1</td>\n",
       "      <td>NaN</td>\n",
       "      <td>NaN</td>\n",
       "      <td>NaN</td>\n",
       "    </tr>\n",
       "    <tr>\n",
       "      <th>BLK</th>\n",
       "      <td>NaN</td>\n",
       "      <td>NaN</td>\n",
       "      <td>NaN</td>\n",
       "      <td>NaN</td>\n",
       "      <td>NaN</td>\n",
       "      <td>NaN</td>\n",
       "      <td>NaN</td>\n",
       "      <td>NaN</td>\n",
       "      <td>NaN</td>\n",
       "      <td>NaN</td>\n",
       "      <td>NaN</td>\n",
       "      <td>1</td>\n",
       "      <td>NaN</td>\n",
       "      <td>NaN</td>\n",
       "    </tr>\n",
       "    <tr>\n",
       "      <th>Playoff</th>\n",
       "      <td>NaN</td>\n",
       "      <td>NaN</td>\n",
       "      <td>NaN</td>\n",
       "      <td>NaN</td>\n",
       "      <td>NaN</td>\n",
       "      <td>NaN</td>\n",
       "      <td>NaN</td>\n",
       "      <td>NaN</td>\n",
       "      <td>NaN</td>\n",
       "      <td>NaN</td>\n",
       "      <td>NaN</td>\n",
       "      <td>NaN</td>\n",
       "      <td>1</td>\n",
       "      <td>NaN</td>\n",
       "    </tr>\n",
       "    <tr>\n",
       "      <th>ConfFinal</th>\n",
       "      <td>NaN</td>\n",
       "      <td>NaN</td>\n",
       "      <td>NaN</td>\n",
       "      <td>NaN</td>\n",
       "      <td>NaN</td>\n",
       "      <td>NaN</td>\n",
       "      <td>NaN</td>\n",
       "      <td>NaN</td>\n",
       "      <td>NaN</td>\n",
       "      <td>NaN</td>\n",
       "      <td>NaN</td>\n",
       "      <td>NaN</td>\n",
       "      <td>NaN</td>\n",
       "      <td>1</td>\n",
       "    </tr>\n",
       "  </tbody>\n",
       "</table>\n",
       "</div>"
      ],
      "text/plain": [
       "                 Rk        CF    Cfperc        FF    Ffperc  oiSHperc  PDO  \\\n",
       "Rk         1.000000 -0.918473       NaN -0.899262       NaN       NaN  NaN   \n",
       "CF        -0.918473  1.000000       NaN  0.992659       NaN       NaN  NaN   \n",
       "Cfperc          NaN       NaN  1.000000       NaN  0.971304       NaN  NaN   \n",
       "FF        -0.899262  0.992659       NaN  1.000000       NaN       NaN  NaN   \n",
       "Ffperc          NaN       NaN  0.971304       NaN  1.000000       NaN  NaN   \n",
       "oiSHperc        NaN       NaN       NaN       NaN       NaN         1  NaN   \n",
       "PDO             NaN       NaN       NaN       NaN       NaN       NaN    1   \n",
       "oZSperc         NaN       NaN  0.801167       NaN  0.793671       NaN  NaN   \n",
       "FOwin     -0.763577  0.909400       NaN  0.910770       NaN       NaN  NaN   \n",
       "Foperc          NaN       NaN       NaN       NaN       NaN       NaN  NaN   \n",
       "HIT             NaN       NaN       NaN       NaN       NaN       NaN  NaN   \n",
       "BLK             NaN       NaN       NaN       NaN       NaN       NaN  NaN   \n",
       "Playoff         NaN       NaN       NaN       NaN       NaN       NaN  NaN   \n",
       "ConfFinal       NaN       NaN       NaN       NaN       NaN       NaN  NaN   \n",
       "\n",
       "            oZSperc     FOwin  Foperc  HIT  BLK  Playoff  ConfFinal  \n",
       "Rk              NaN -0.763577     NaN  NaN  NaN      NaN        NaN  \n",
       "CF              NaN  0.909400     NaN  NaN  NaN      NaN        NaN  \n",
       "Cfperc     0.801167       NaN     NaN  NaN  NaN      NaN        NaN  \n",
       "FF              NaN  0.910770     NaN  NaN  NaN      NaN        NaN  \n",
       "Ffperc     0.793671       NaN     NaN  NaN  NaN      NaN        NaN  \n",
       "oiSHperc        NaN       NaN     NaN  NaN  NaN      NaN        NaN  \n",
       "PDO             NaN       NaN     NaN  NaN  NaN      NaN        NaN  \n",
       "oZSperc    1.000000       NaN     NaN  NaN  NaN      NaN        NaN  \n",
       "FOwin           NaN  1.000000     NaN  NaN  NaN      NaN        NaN  \n",
       "Foperc          NaN       NaN       1  NaN  NaN      NaN        NaN  \n",
       "HIT             NaN       NaN     NaN    1  NaN      NaN        NaN  \n",
       "BLK             NaN       NaN     NaN  NaN    1      NaN        NaN  \n",
       "Playoff         NaN       NaN     NaN  NaN  NaN        1        NaN  \n",
       "ConfFinal       NaN       NaN     NaN  NaN  NaN      NaN          1  "
      ]
     },
     "execution_count": 13,
     "metadata": {},
     "output_type": "execute_result"
    }
   ],
   "source": [
    "data_corr = data_corr.corr(method=\"pearson\")\n",
    "data_corr[(data_corr > 0.75) | (data_corr<(-0.75))]"
   ]
  },
  {
   "cell_type": "code",
   "execution_count": 14,
   "metadata": {
    "collapsed": false
   },
   "outputs": [
    {
     "data": {
      "text/plain": [
       "<matplotlib.axes._subplots.AxesSubplot at 0x119137210>"
      ]
     },
     "execution_count": 14,
     "metadata": {},
     "output_type": "execute_result"
    },
    {
     "data": {
      "image/png": "[encoded data removed]",
      "text/plain": [
       "<matplotlib.figure.Figure at 0x119175290>"
      ]
     },
     "metadata": {},
     "output_type": "display_data"
    }
   ],
   "source": [
    "color_pal = sb.diverging_palette(10,300, l=80, n=50, as_cmap=True)\n",
    "sb.heatmap(data_corr, cmap=color_pal)"
   ]
  },
  {
   "cell_type": "markdown",
   "metadata": {},
   "source": [
    "#### We can see a lot of multicolinearity, time to get rid of those pairs for when we make a model!"
   ]
  },
  {
   "cell_type": "code",
   "execution_count": 15,
   "metadata": {
    "collapsed": false
   },
   "outputs": [],
   "source": [
    "collin_list = [(\"Rk\",\"CF\"),(\"CF\",\"FF\"),(\"CF\",\"oiSHperc\"),(\"CF\",\"PDO\"),(\"CF\",\"HIT\"),(\"CF\",\"BLK\"),(\"Ffperc\",\"Foperc\")]"
   ]
  },
  {
   "cell_type": "code",
   "execution_count": 16,
   "metadata": {
    "collapsed": false
   },
   "outputs": [
    {
     "name": "stderr",
     "output_type": "stream",
     "text": [
      "/Users/MP/anaconda/lib/python2.7/site-packages/pandas/core/generic.py:2387: SettingWithCopyWarning: \n",
      "A value is trying to be set on a copy of a slice from a DataFrame.\n",
      "Try using .loc[row_indexer,col_indexer] = value instead\n",
      "\n",
      "See the caveats in the documentation: http://pandas.pydata.org/pandas-docs/stable/indexing.html#indexing-view-versus-copy\n",
      "  self[name] = value\n"
     ]
    }
   ],
   "source": [
    "team_stats = raw_df[['Cfperc','Ffperc','PDO','Foperc','oiSHperc','oZSperc','Playoff','ConfFinal']]\n",
    "team_stats.Cfperc = team_stats.Cfperc.map(lambda x: x/100)\n",
    "team_stats.Ffperc = team_stats.Ffperc.map(lambda x: x/100)\n",
    "team_stats.PDO = team_stats.PDO.map(lambda x: x/100)\n",
    "team_stats.Foperc = team_stats.Foperc.map(lambda x: x/100)\n",
    "team_stats.oiSHperc = team_stats.oiSHperc.map(lambda x: x/100)\n",
    "team_stats.oZSperc = team_stats.oZSperc.map(lambda x: x/100)"
   ]
  },
  {
   "cell_type": "code",
   "execution_count": 17,
   "metadata": {
    "collapsed": false
   },
   "outputs": [
    {
     "data": {
      "text/html": [
       "<div>\n",
       "<table border=\"1\" class=\"dataframe\">\n",
       "  <thead>\n",
       "    <tr style=\"text-align: right;\">\n",
       "      <th></th>\n",
       "      <th>Cfperc</th>\n",
       "      <th>Ffperc</th>\n",
       "      <th>PDO</th>\n",
       "      <th>Foperc</th>\n",
       "      <th>oiSHperc</th>\n",
       "      <th>oZSperc</th>\n",
       "      <th>Playoff</th>\n",
       "      <th>ConfFinal</th>\n",
       "    </tr>\n",
       "  </thead>\n",
       "  <tbody>\n",
       "    <tr>\n",
       "      <th>0</th>\n",
       "      <td>0.527</td>\n",
       "      <td>0.524</td>\n",
       "      <td>0.989</td>\n",
       "      <td>0.494</td>\n",
       "      <td>0.093</td>\n",
       "      <td>0.537</td>\n",
       "      <td>0</td>\n",
       "      <td>0</td>\n",
       "    </tr>\n",
       "    <tr>\n",
       "      <th>1</th>\n",
       "      <td>0.591</td>\n",
       "      <td>0.592</td>\n",
       "      <td>0.996</td>\n",
       "      <td>0.533</td>\n",
       "      <td>0.089</td>\n",
       "      <td>0.605</td>\n",
       "      <td>1</td>\n",
       "      <td>1</td>\n",
       "    </tr>\n",
       "    <tr>\n",
       "      <th>2</th>\n",
       "      <td>0.512</td>\n",
       "      <td>0.512</td>\n",
       "      <td>0.983</td>\n",
       "      <td>0.498</td>\n",
       "      <td>0.090</td>\n",
       "      <td>0.528</td>\n",
       "      <td>0</td>\n",
       "      <td>0</td>\n",
       "    </tr>\n",
       "    <tr>\n",
       "      <th>3</th>\n",
       "      <td>0.539</td>\n",
       "      <td>0.550</td>\n",
       "      <td>0.991</td>\n",
       "      <td>0.523</td>\n",
       "      <td>0.079</td>\n",
       "      <td>0.589</td>\n",
       "      <td>1</td>\n",
       "      <td>0</td>\n",
       "    </tr>\n",
       "    <tr>\n",
       "      <th>4</th>\n",
       "      <td>0.529</td>\n",
       "      <td>0.536</td>\n",
       "      <td>0.994</td>\n",
       "      <td>0.512</td>\n",
       "      <td>0.094</td>\n",
       "      <td>0.534</td>\n",
       "      <td>1</td>\n",
       "      <td>0</td>\n",
       "    </tr>\n",
       "  </tbody>\n",
       "</table>\n",
       "</div>"
      ],
      "text/plain": [
       "   Cfperc  Ffperc    PDO  Foperc  oiSHperc  oZSperc  Playoff  ConfFinal\n",
       "0   0.527   0.524  0.989   0.494     0.093    0.537        0          0\n",
       "1   0.591   0.592  0.996   0.533     0.089    0.605        1          1\n",
       "2   0.512   0.512  0.983   0.498     0.090    0.528        0          0\n",
       "3   0.539   0.550  0.991   0.523     0.079    0.589        1          0\n",
       "4   0.529   0.536  0.994   0.512     0.094    0.534        1          0"
      ]
     },
     "execution_count": 17,
     "metadata": {},
     "output_type": "execute_result"
    }
   ],
   "source": [
    "team_stats.head()"
   ]
  },
  {
   "cell_type": "code",
   "execution_count": 18,
   "metadata": {
    "collapsed": true
   },
   "outputs": [],
   "source": [
    "team_stats.to_csv(\"team_stats_1.csv\")"
   ]
  }
 ],
 "metadata": {
  "kernelspec": {
   "display_name": "Python 2",
   "language": "python",
   "name": "python2"
  },
  "language_info": {
   "codemirror_mode": {
    "name": "ipython",
    "version": 2
   },
   "file_extension": ".py",
   "mimetype": "text/x-python",
   "name": "python",
   "nbconvert_exporter": "python",
   "pygments_lexer": "ipython2",
   "version": "2.7.11"
  }
 },
 "nbformat": 4,
 "nbformat_minor": 0
}
