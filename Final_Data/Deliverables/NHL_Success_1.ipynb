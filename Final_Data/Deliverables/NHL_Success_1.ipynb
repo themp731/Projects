{
 "cells": [
  {
   "cell_type": "code",
   "execution_count": 224,
   "metadata": {
    "collapsed": false
   },
   "outputs": [],
   "source": [
    "import numpy as np\n",
    "import pandas as pd\n",
    "import seaborn as sb\n",
    "import matplotlib.pyplot as plt\n",
    "%matplotlib inline\n",
    "from sklearn.tree import DecisionTreeClassifier\n",
    "from sklearn.cross_validation import cross_val_score\n",
    "from sklearn.cross_validation import ShuffleSplit\n",
    "from sklearn.ensemble import RandomForestClassifier\n",
    "from sklearn.linear_model import LogisticRegression\n",
    "from sklearn.metrics import roc_auc_score\n",
    "from sklearn.feature_selection import f_regression"
   ]
  },
  {
   "cell_type": "code",
   "execution_count": 225,
   "metadata": {
    "collapsed": false
   },
   "outputs": [
    {
     "data": {
      "text/html": [
       "<div>\n",
       "<table border=\"1\" class=\"dataframe\">\n",
       "  <thead>\n",
       "    <tr style=\"text-align: right;\">\n",
       "      <th></th>\n",
       "      <th>Cfperc</th>\n",
       "      <th>Ffperc</th>\n",
       "      <th>PDO</th>\n",
       "      <th>Foperc</th>\n",
       "      <th>oiSHperc</th>\n",
       "      <th>oZSperc</th>\n",
       "      <th>Playoff</th>\n",
       "      <th>ConfFinal</th>\n",
       "    </tr>\n",
       "  </thead>\n",
       "  <tbody>\n",
       "    <tr>\n",
       "      <th>0</th>\n",
       "      <td>0.527</td>\n",
       "      <td>0.524</td>\n",
       "      <td>0.989</td>\n",
       "      <td>0.494</td>\n",
       "      <td>0.093</td>\n",
       "      <td>0.537</td>\n",
       "      <td>0</td>\n",
       "      <td>0</td>\n",
       "    </tr>\n",
       "    <tr>\n",
       "      <th>1</th>\n",
       "      <td>0.591</td>\n",
       "      <td>0.592</td>\n",
       "      <td>0.996</td>\n",
       "      <td>0.533</td>\n",
       "      <td>0.089</td>\n",
       "      <td>0.605</td>\n",
       "      <td>1</td>\n",
       "      <td>1</td>\n",
       "    </tr>\n",
       "    <tr>\n",
       "      <th>2</th>\n",
       "      <td>0.512</td>\n",
       "      <td>0.512</td>\n",
       "      <td>0.983</td>\n",
       "      <td>0.498</td>\n",
       "      <td>0.090</td>\n",
       "      <td>0.528</td>\n",
       "      <td>0</td>\n",
       "      <td>0</td>\n",
       "    </tr>\n",
       "    <tr>\n",
       "      <th>3</th>\n",
       "      <td>0.539</td>\n",
       "      <td>0.550</td>\n",
       "      <td>0.991</td>\n",
       "      <td>0.523</td>\n",
       "      <td>0.079</td>\n",
       "      <td>0.589</td>\n",
       "      <td>1</td>\n",
       "      <td>0</td>\n",
       "    </tr>\n",
       "    <tr>\n",
       "      <th>4</th>\n",
       "      <td>0.529</td>\n",
       "      <td>0.536</td>\n",
       "      <td>0.994</td>\n",
       "      <td>0.512</td>\n",
       "      <td>0.094</td>\n",
       "      <td>0.534</td>\n",
       "      <td>1</td>\n",
       "      <td>0</td>\n",
       "    </tr>\n",
       "  </tbody>\n",
       "</table>\n",
       "</div>"
      ],
      "text/plain": [
       "   Cfperc  Ffperc    PDO  Foperc  oiSHperc  oZSperc  Playoff  ConfFinal\n",
       "0   0.527   0.524  0.989   0.494     0.093    0.537        0          0\n",
       "1   0.591   0.592  0.996   0.533     0.089    0.605        1          1\n",
       "2   0.512   0.512  0.983   0.498     0.090    0.528        0          0\n",
       "3   0.539   0.550  0.991   0.523     0.079    0.589        1          0\n",
       "4   0.529   0.536  0.994   0.512     0.094    0.534        1          0"
      ]
     },
     "execution_count": 225,
     "metadata": {},
     "output_type": "execute_result"
    }
   ],
   "source": [
    "team_stats = pd.read_csv(\"../data/team_stats_1.csv\")\n",
    "team_stats_df = pd.DataFrame(team_stats.ix[:,1:9])\n",
    "team_stats_df.head()"
   ]
  },
  {
   "cell_type": "code",
   "execution_count": 226,
   "metadata": {
    "collapsed": false
   },
   "outputs": [
    {
     "data": {
      "text/html": [
       "<div>\n",
       "<table border=\"1\" class=\"dataframe\">\n",
       "  <thead>\n",
       "    <tr style=\"text-align: right;\">\n",
       "      <th></th>\n",
       "      <th>Cfperc</th>\n",
       "      <th>Ffperc</th>\n",
       "      <th>PDO</th>\n",
       "      <th>Foperc</th>\n",
       "      <th>oiSHperc</th>\n",
       "      <th>oZSperc</th>\n",
       "      <th>Playoff</th>\n",
       "      <th>ConfFinal</th>\n",
       "    </tr>\n",
       "  </thead>\n",
       "  <tbody>\n",
       "    <tr>\n",
       "      <th>count</th>\n",
       "      <td>270.000000</td>\n",
       "      <td>270.000000</td>\n",
       "      <td>270.000000</td>\n",
       "      <td>270.000000</td>\n",
       "      <td>270.000000</td>\n",
       "      <td>270.000000</td>\n",
       "      <td>270.000000</td>\n",
       "      <td>270.000000</td>\n",
       "    </tr>\n",
       "    <tr>\n",
       "      <th>mean</th>\n",
       "      <td>0.499456</td>\n",
       "      <td>0.500081</td>\n",
       "      <td>1.000056</td>\n",
       "      <td>0.499956</td>\n",
       "      <td>0.090604</td>\n",
       "      <td>0.510752</td>\n",
       "      <td>0.474074</td>\n",
       "      <td>0.118519</td>\n",
       "    </tr>\n",
       "    <tr>\n",
       "      <th>std</th>\n",
       "      <td>0.027959</td>\n",
       "      <td>0.027741</td>\n",
       "      <td>0.011996</td>\n",
       "      <td>0.019997</td>\n",
       "      <td>0.008479</td>\n",
       "      <td>0.027373</td>\n",
       "      <td>0.500255</td>\n",
       "      <td>0.323821</td>\n",
       "    </tr>\n",
       "    <tr>\n",
       "      <th>min</th>\n",
       "      <td>0.380000</td>\n",
       "      <td>0.393000</td>\n",
       "      <td>0.963000</td>\n",
       "      <td>0.442000</td>\n",
       "      <td>0.069000</td>\n",
       "      <td>0.424000</td>\n",
       "      <td>0.000000</td>\n",
       "      <td>0.000000</td>\n",
       "    </tr>\n",
       "    <tr>\n",
       "      <th>25%</th>\n",
       "      <td>0.480250</td>\n",
       "      <td>0.482000</td>\n",
       "      <td>0.993000</td>\n",
       "      <td>0.486000</td>\n",
       "      <td>0.085000</td>\n",
       "      <td>0.494000</td>\n",
       "      <td>0.000000</td>\n",
       "      <td>0.000000</td>\n",
       "    </tr>\n",
       "    <tr>\n",
       "      <th>50%</th>\n",
       "      <td>0.501500</td>\n",
       "      <td>0.502000</td>\n",
       "      <td>1.001000</td>\n",
       "      <td>0.501000</td>\n",
       "      <td>0.091000</td>\n",
       "      <td>0.512000</td>\n",
       "      <td>0.000000</td>\n",
       "      <td>0.000000</td>\n",
       "    </tr>\n",
       "    <tr>\n",
       "      <th>75%</th>\n",
       "      <td>0.520000</td>\n",
       "      <td>0.520000</td>\n",
       "      <td>1.007000</td>\n",
       "      <td>0.513000</td>\n",
       "      <td>0.096000</td>\n",
       "      <td>0.527750</td>\n",
       "      <td>1.000000</td>\n",
       "      <td>0.000000</td>\n",
       "    </tr>\n",
       "    <tr>\n",
       "      <th>max</th>\n",
       "      <td>0.591000</td>\n",
       "      <td>0.592000</td>\n",
       "      <td>1.033000</td>\n",
       "      <td>0.564000</td>\n",
       "      <td>0.116000</td>\n",
       "      <td>0.605000</td>\n",
       "      <td>1.000000</td>\n",
       "      <td>1.000000</td>\n",
       "    </tr>\n",
       "  </tbody>\n",
       "</table>\n",
       "</div>"
      ],
      "text/plain": [
       "           Cfperc      Ffperc         PDO      Foperc    oiSHperc     oZSperc  \\\n",
       "count  270.000000  270.000000  270.000000  270.000000  270.000000  270.000000   \n",
       "mean     0.499456    0.500081    1.000056    0.499956    0.090604    0.510752   \n",
       "std      0.027959    0.027741    0.011996    0.019997    0.008479    0.027373   \n",
       "min      0.380000    0.393000    0.963000    0.442000    0.069000    0.424000   \n",
       "25%      0.480250    0.482000    0.993000    0.486000    0.085000    0.494000   \n",
       "50%      0.501500    0.502000    1.001000    0.501000    0.091000    0.512000   \n",
       "75%      0.520000    0.520000    1.007000    0.513000    0.096000    0.527750   \n",
       "max      0.591000    0.592000    1.033000    0.564000    0.116000    0.605000   \n",
       "\n",
       "          Playoff   ConfFinal  \n",
       "count  270.000000  270.000000  \n",
       "mean     0.474074    0.118519  \n",
       "std      0.500255    0.323821  \n",
       "min      0.000000    0.000000  \n",
       "25%      0.000000    0.000000  \n",
       "50%      0.000000    0.000000  \n",
       "75%      1.000000    0.000000  \n",
       "max      1.000000    1.000000  "
      ]
     },
     "execution_count": 226,
     "metadata": {},
     "output_type": "execute_result"
    }
   ],
   "source": [
    "team_stats_df.describe()"
   ]
  },
  {
   "cell_type": "code",
   "execution_count": 227,
   "metadata": {
    "collapsed": false
   },
   "outputs": [],
   "source": [
    "features=list(team_stats_df.columns)[0:-2]"
   ]
  },
  {
   "cell_type": "code",
   "execution_count": 228,
   "metadata": {
    "collapsed": false
   },
   "outputs": [],
   "source": [
    "import itertools\n",
    "feature_list = []\n",
    "for i in range(1,len(features)+1):\n",
    "    for j in itertools.combinations(features,i):\n",
    "        feature_list.append(list(j))"
   ]
  },
  {
   "cell_type": "markdown",
   "metadata": {},
   "source": [
    "### Starting off with logistic regression.\n",
    "#### We're going to do models for both the playoffs and the conference finals as our dependent variable."
   ]
  },
  {
   "cell_type": "code",
   "execution_count": 229,
   "metadata": {
    "collapsed": true
   },
   "outputs": [],
   "source": [
    "def make_playoff(features):\n",
    "    model = LogisticRegression()\n",
    "    X = team_stats_df[features]\n",
    "    Y = team_stats_df[\"Playoff\"]\n",
    "    logmod = model.fit(X,Y)\n",
    "    score = get_score(logmod,X,Y)\n",
    "    result = [score, features]\n",
    "    return result"
   ]
  },
  {
   "cell_type": "code",
   "execution_count": 230,
   "metadata": {
    "collapsed": false
   },
   "outputs": [],
   "source": [
    "def get_params(features):\n",
    "    model = LogisticRegression()\n",
    "    X = team_stats_df[features]\n",
    "    Y = team_stats_df[\"Playoff\"]\n",
    "    logmod = model.fit(X,Y)\n",
    "    coefs = logmod.coef_\n",
    "    inter = logmod.intercept_\n",
    "    pval = f_regression(X,Y)[1]\n",
    "    return coefs, inter, pval"
   ]
  },
  {
   "cell_type": "code",
   "execution_count": 231,
   "metadata": {
    "collapsed": true
   },
   "outputs": [],
   "source": [
    "def get_score(model,x,y):\n",
    "    shuffle=ShuffleSplit(len(x),n_iter=5,test_size=0.2)\n",
    "    scores = cross_val_score(model,x,y,scoring=\"roc_auc\",cv=shuffle)\n",
    "    result = scores.mean()\n",
    "    return result"
   ]
  },
  {
   "cell_type": "code",
   "execution_count": 232,
   "metadata": {
    "collapsed": false
   },
   "outputs": [],
   "source": [
    "rank=[]\n",
    "for i in feature_list:\n",
    "    rank.append(make_playoff(i))"
   ]
  },
  {
   "cell_type": "code",
   "execution_count": 233,
   "metadata": {
    "collapsed": false
   },
   "outputs": [
    {
     "name": "stdout",
     "output_type": "stream",
     "text": [
      "Here are the models and our ROC-AUC score for the five best models. We'll need \n",
      " to check the collinearity (remember what we did in the data mgmt file?)\n",
      "\n",
      "[0.7889738506136974, ['Cfperc', 'Ffperc', 'oiSHperc']]\n",
      "[0.79001715948778517, ['PDO']]\n",
      "[0.79629101691514026, ['Ffperc', 'Foperc', 'oiSHperc']]\n",
      "[0.80523635135837102, ['Cfperc', 'Ffperc', 'Foperc', 'oiSHperc']]\n",
      "[0.81575376345427431, ['Ffperc', 'PDO']]\n"
     ]
    }
   ],
   "source": [
    "rank.sort()\n",
    "rank = rank[-5:]\n",
    "print(\"Here are the models and our ROC-AUC score for the five best models. We'll need \\n \"\\\n",
    "      \"to check the collinearity (remember what we did in the data mgmt file?)\\n\")\n",
    "for i in rank:\n",
    "    print i"
   ]
  },
  {
   "cell_type": "code",
   "execution_count": 234,
   "metadata": {
    "collapsed": false
   },
   "outputs": [
    {
     "data": {
      "text/html": [
       "<div>\n",
       "<table border=\"1\" class=\"dataframe\">\n",
       "  <thead>\n",
       "    <tr style=\"text-align: right;\">\n",
       "      <th></th>\n",
       "      <th>Cfperc</th>\n",
       "      <th>Ffperc</th>\n",
       "      <th>PDO</th>\n",
       "      <th>Foperc</th>\n",
       "      <th>oiSHperc</th>\n",
       "      <th>oZSperc</th>\n",
       "      <th>Playoff</th>\n",
       "      <th>ConfFinal</th>\n",
       "    </tr>\n",
       "  </thead>\n",
       "  <tbody>\n",
       "    <tr>\n",
       "      <th>Cfperc</th>\n",
       "      <td>True</td>\n",
       "      <td>True</td>\n",
       "      <td>False</td>\n",
       "      <td>False</td>\n",
       "      <td>False</td>\n",
       "      <td>True</td>\n",
       "      <td>False</td>\n",
       "      <td>False</td>\n",
       "    </tr>\n",
       "    <tr>\n",
       "      <th>Ffperc</th>\n",
       "      <td>True</td>\n",
       "      <td>True</td>\n",
       "      <td>False</td>\n",
       "      <td>False</td>\n",
       "      <td>False</td>\n",
       "      <td>True</td>\n",
       "      <td>False</td>\n",
       "      <td>False</td>\n",
       "    </tr>\n",
       "    <tr>\n",
       "      <th>PDO</th>\n",
       "      <td>False</td>\n",
       "      <td>False</td>\n",
       "      <td>True</td>\n",
       "      <td>False</td>\n",
       "      <td>False</td>\n",
       "      <td>False</td>\n",
       "      <td>False</td>\n",
       "      <td>False</td>\n",
       "    </tr>\n",
       "    <tr>\n",
       "      <th>Foperc</th>\n",
       "      <td>False</td>\n",
       "      <td>False</td>\n",
       "      <td>False</td>\n",
       "      <td>True</td>\n",
       "      <td>False</td>\n",
       "      <td>False</td>\n",
       "      <td>False</td>\n",
       "      <td>False</td>\n",
       "    </tr>\n",
       "    <tr>\n",
       "      <th>oiSHperc</th>\n",
       "      <td>False</td>\n",
       "      <td>False</td>\n",
       "      <td>False</td>\n",
       "      <td>False</td>\n",
       "      <td>True</td>\n",
       "      <td>False</td>\n",
       "      <td>False</td>\n",
       "      <td>False</td>\n",
       "    </tr>\n",
       "    <tr>\n",
       "      <th>oZSperc</th>\n",
       "      <td>True</td>\n",
       "      <td>True</td>\n",
       "      <td>False</td>\n",
       "      <td>False</td>\n",
       "      <td>False</td>\n",
       "      <td>True</td>\n",
       "      <td>False</td>\n",
       "      <td>False</td>\n",
       "    </tr>\n",
       "    <tr>\n",
       "      <th>Playoff</th>\n",
       "      <td>False</td>\n",
       "      <td>False</td>\n",
       "      <td>False</td>\n",
       "      <td>False</td>\n",
       "      <td>False</td>\n",
       "      <td>False</td>\n",
       "      <td>True</td>\n",
       "      <td>False</td>\n",
       "    </tr>\n",
       "    <tr>\n",
       "      <th>ConfFinal</th>\n",
       "      <td>False</td>\n",
       "      <td>False</td>\n",
       "      <td>False</td>\n",
       "      <td>False</td>\n",
       "      <td>False</td>\n",
       "      <td>False</td>\n",
       "      <td>False</td>\n",
       "      <td>True</td>\n",
       "    </tr>\n",
       "  </tbody>\n",
       "</table>\n",
       "</div>"
      ],
      "text/plain": [
       "          Cfperc Ffperc    PDO Foperc oiSHperc oZSperc Playoff ConfFinal\n",
       "Cfperc      True   True  False  False    False    True   False     False\n",
       "Ffperc      True   True  False  False    False    True   False     False\n",
       "PDO        False  False   True  False    False   False   False     False\n",
       "Foperc     False  False  False   True    False   False   False     False\n",
       "oiSHperc   False  False  False  False     True   False   False     False\n",
       "oZSperc     True   True  False  False    False    True   False     False\n",
       "Playoff    False  False  False  False    False   False    True     False\n",
       "ConfFinal  False  False  False  False    False   False   False      True"
      ]
     },
     "execution_count": 234,
     "metadata": {},
     "output_type": "execute_result"
    }
   ],
   "source": [
    "team_stats_corr = team_stats_df.corr(method=\"pearson\")\n",
    "(team_stats_corr > .75) | (team_stats_corr<(-.75))"
   ]
  },
  {
   "cell_type": "markdown",
   "metadata": {},
   "source": [
    "#### From 5th to 1st, the following models posess no collinearity with a |0.75| Pearson coefficient cutoff.\n",
    "5, 4, 2, 1. \n",
    "#### So we ignore the 3rd dataset."
   ]
  },
  {
   "cell_type": "code",
   "execution_count": 235,
   "metadata": {
    "collapsed": false
   },
   "outputs": [
    {
     "data": {
      "text/html": [
       "<div>\n",
       "<table border=\"1\" class=\"dataframe\">\n",
       "  <thead>\n",
       "    <tr style=\"text-align: right;\">\n",
       "      <th></th>\n",
       "      <th>Coefficients</th>\n",
       "      <th>Intercept</th>\n",
       "      <th>Pvals</th>\n",
       "    </tr>\n",
       "  </thead>\n",
       "  <tbody>\n",
       "    <tr>\n",
       "      <th>0</th>\n",
       "      <td>[[0.920914756579, 1.03360658391, 0.196577945025]]</td>\n",
       "      <td>[-1.08244093868]</td>\n",
       "      <td>[1.14255750987e-12, 9.00596462977e-15, 2.26187...</td>\n",
       "    </tr>\n",
       "    <tr>\n",
       "      <th>1</th>\n",
       "      <td>[[0.324092047216]]</td>\n",
       "      <td>[-0.421644606544]</td>\n",
       "      <td>[8.16290607946e-16]</td>\n",
       "    </tr>\n",
       "    <tr>\n",
       "      <th>2</th>\n",
       "      <td>[[0.911004001848, 1.0237131784, 0.060105315639...</td>\n",
       "      <td>[-1.10214019838]</td>\n",
       "      <td>[1.14255750987e-12, 9.00596462977e-15, 6.63360...</td>\n",
       "    </tr>\n",
       "    <tr>\n",
       "      <th>3</th>\n",
       "      <td>[[1.24356069599, 0.0179544324121]]</td>\n",
       "      <td>[-0.73277701482]</td>\n",
       "      <td>[9.00596462977e-15, 8.16290607946e-16]</td>\n",
       "    </tr>\n",
       "  </tbody>\n",
       "</table>\n",
       "</div>"
      ],
      "text/plain": [
       "                                        Coefficients          Intercept  \\\n",
       "0  [[0.920914756579, 1.03360658391, 0.196577945025]]   [-1.08244093868]   \n",
       "1                                 [[0.324092047216]]  [-0.421644606544]   \n",
       "2  [[0.911004001848, 1.0237131784, 0.060105315639...   [-1.10214019838]   \n",
       "3                 [[1.24356069599, 0.0179544324121]]   [-0.73277701482]   \n",
       "\n",
       "                                               Pvals  \n",
       "0  [1.14255750987e-12, 9.00596462977e-15, 2.26187...  \n",
       "1                                [8.16290607946e-16]  \n",
       "2  [1.14255750987e-12, 9.00596462977e-15, 6.63360...  \n",
       "3             [9.00596462977e-15, 8.16290607946e-16]  "
      ]
     },
     "execution_count": 235,
     "metadata": {},
     "output_type": "execute_result"
    }
   ],
   "source": [
    "mods = [0,1,3,4]\n",
    "param_list = []\n",
    "coefs = []\n",
    "for i in mods:\n",
    "    param_list.append(rank[i][1])\n",
    "for i in param_list:\n",
    "    coefs.append(get_params(i))\n",
    "results = pd.DataFrame(coefs, columns=[\"Coefficients\",\"Intercept\",\"Pvals\"])\n",
    "results"
   ]
  },
  {
   "cell_type": "code",
   "execution_count": 236,
   "metadata": {
    "collapsed": true
   },
   "outputs": [],
   "source": [
    "from sklearn.metrics import roc_curve, auc\n",
    "from sklearn.cross_validation import train_test_split\n",
    "from sklearn import dummy"
   ]
  },
  {
   "cell_type": "markdown",
   "metadata": {},
   "source": [
    "#### Our best score came from the feature set ('Cfperc', 'PDO', 'Foperc', 'oiSHperc') so let's plot that ROC Curve"
   ]
  },
  {
   "cell_type": "code",
   "execution_count": 245,
   "metadata": {
    "collapsed": false
   },
   "outputs": [],
   "source": [
    "baseline = dummy.DummyClassifier()\n",
    "baseline.fit(team_stats_df[['Cfperc', 'PDO', 'Foperc', 'oiSHperc']],team_stats_df[\"Playoff\"])\n",
    "team_stats_df[\"baseline\"]=baseline.predict_proba(team_stats_df[['Cfperc', 'PDO', 'Foperc', 'oiSHperc']]).T[1]\n",
    "predictions = LogisticRegression()\n",
    "predictions.fit(team_stats_df[['Cfperc', 'PDO', 'Foperc', 'oiSHperc']], team_stats_df['Playoff'])\n",
    "team_stats_df['predictions'] = predictions.predict_proba(team_stats_df[['Cfperc', 'PDO', 'Foperc', 'oiSHperc']]).T[1]"
   ]
  },
  {
   "cell_type": "markdown",
   "metadata": {},
   "source": [
    "## <font color=\"red\">Need help with ROC curve</font>"
   ]
  },
  {
   "cell_type": "code",
   "execution_count": 250,
   "metadata": {
    "collapsed": false
   },
   "outputs": [
    {
     "data": {
      "text/plain": [
       "[<matplotlib.lines.Line2D at 0x11a2e5710>,\n",
       " <matplotlib.lines.Line2D at 0x11a2e5910>,\n",
       " <matplotlib.lines.Line2D at 0x11a2e5a50>,\n",
       " <matplotlib.lines.Line2D at 0x11a2e5b90>,\n",
       " <matplotlib.lines.Line2D at 0x11a2e5cd0>,\n",
       " <matplotlib.lines.Line2D at 0x11a2e5e10>,\n",
       " <matplotlib.lines.Line2D at 0x119c94ad0>,\n",
       " <matplotlib.lines.Line2D at 0x11a2ee0d0>,\n",
       " <matplotlib.lines.Line2D at 0x11a2ee210>,\n",
       " <matplotlib.lines.Line2D at 0x11a2ee350>,\n",
       " <matplotlib.lines.Line2D at 0x11a2ee490>,\n",
       " <matplotlib.lines.Line2D at 0x11a2ee5d0>,\n",
       " <matplotlib.lines.Line2D at 0x11a2e5f50>,\n",
       " <matplotlib.lines.Line2D at 0x11a2ee850>,\n",
       " <matplotlib.lines.Line2D at 0x11a2ee990>,\n",
       " <matplotlib.lines.Line2D at 0x11a2eead0>,\n",
       " <matplotlib.lines.Line2D at 0x11a2eec10>,\n",
       " <matplotlib.lines.Line2D at 0x11a2eed50>,\n",
       " <matplotlib.lines.Line2D at 0x11a2ee710>,\n",
       " <matplotlib.lines.Line2D at 0x11a2eefd0>,\n",
       " <matplotlib.lines.Line2D at 0x11a2fb150>,\n",
       " <matplotlib.lines.Line2D at 0x11a2fb290>,\n",
       " <matplotlib.lines.Line2D at 0x11a2fb3d0>,\n",
       " <matplotlib.lines.Line2D at 0x11a2fb510>,\n",
       " <matplotlib.lines.Line2D at 0x11a2eee90>,\n",
       " <matplotlib.lines.Line2D at 0x11a2fb790>,\n",
       " <matplotlib.lines.Line2D at 0x11a2fb8d0>,\n",
       " <matplotlib.lines.Line2D at 0x11a2fba10>,\n",
       " <matplotlib.lines.Line2D at 0x11a2fbb50>,\n",
       " <matplotlib.lines.Line2D at 0x11a2fbc90>,\n",
       " <matplotlib.lines.Line2D at 0x11a2fb650>,\n",
       " <matplotlib.lines.Line2D at 0x11a2fbf10>,\n",
       " <matplotlib.lines.Line2D at 0x11a304090>,\n",
       " <matplotlib.lines.Line2D at 0x11a3041d0>,\n",
       " <matplotlib.lines.Line2D at 0x11a304310>,\n",
       " <matplotlib.lines.Line2D at 0x11a304450>,\n",
       " <matplotlib.lines.Line2D at 0x11a2fbdd0>,\n",
       " <matplotlib.lines.Line2D at 0x11a3046d0>,\n",
       " <matplotlib.lines.Line2D at 0x11a304810>,\n",
       " <matplotlib.lines.Line2D at 0x11a304950>,\n",
       " <matplotlib.lines.Line2D at 0x11a304a90>,\n",
       " <matplotlib.lines.Line2D at 0x11a304bd0>,\n",
       " <matplotlib.lines.Line2D at 0x11a304590>,\n",
       " <matplotlib.lines.Line2D at 0x11a304e50>,\n",
       " <matplotlib.lines.Line2D at 0x11a304f90>,\n",
       " <matplotlib.lines.Line2D at 0x11a30f110>,\n",
       " <matplotlib.lines.Line2D at 0x11a30f250>,\n",
       " <matplotlib.lines.Line2D at 0x11a30f390>,\n",
       " <matplotlib.lines.Line2D at 0x11a304d10>,\n",
       " <matplotlib.lines.Line2D at 0x11a30f610>,\n",
       " <matplotlib.lines.Line2D at 0x11a30f750>,\n",
       " <matplotlib.lines.Line2D at 0x11a30f890>,\n",
       " <matplotlib.lines.Line2D at 0x11a30f9d0>,\n",
       " <matplotlib.lines.Line2D at 0x11a30fb10>,\n",
       " <matplotlib.lines.Line2D at 0x11a30f4d0>,\n",
       " <matplotlib.lines.Line2D at 0x11a30fd90>,\n",
       " <matplotlib.lines.Line2D at 0x11a30fed0>,\n",
       " <matplotlib.lines.Line2D at 0x11a318050>,\n",
       " <matplotlib.lines.Line2D at 0x11a318190>,\n",
       " <matplotlib.lines.Line2D at 0x11a3182d0>,\n",
       " <matplotlib.lines.Line2D at 0x11a30fc50>,\n",
       " <matplotlib.lines.Line2D at 0x11a318550>,\n",
       " <matplotlib.lines.Line2D at 0x11a318690>,\n",
       " <matplotlib.lines.Line2D at 0x11a3187d0>,\n",
       " <matplotlib.lines.Line2D at 0x11a318910>,\n",
       " <matplotlib.lines.Line2D at 0x11a318a50>,\n",
       " <matplotlib.lines.Line2D at 0x11a318410>,\n",
       " <matplotlib.lines.Line2D at 0x11a318cd0>,\n",
       " <matplotlib.lines.Line2D at 0x11a318e10>,\n",
       " <matplotlib.lines.Line2D at 0x11a318f50>,\n",
       " <matplotlib.lines.Line2D at 0x11a3230d0>,\n",
       " <matplotlib.lines.Line2D at 0x11a323210>,\n",
       " <matplotlib.lines.Line2D at 0x11a318b90>,\n",
       " <matplotlib.lines.Line2D at 0x11a323490>,\n",
       " <matplotlib.lines.Line2D at 0x11a3235d0>,\n",
       " <matplotlib.lines.Line2D at 0x11a323710>,\n",
       " <matplotlib.lines.Line2D at 0x11a323850>,\n",
       " <matplotlib.lines.Line2D at 0x11a323990>,\n",
       " <matplotlib.lines.Line2D at 0x11a323350>,\n",
       " <matplotlib.lines.Line2D at 0x11a323c10>,\n",
       " <matplotlib.lines.Line2D at 0x11a323d50>,\n",
       " <matplotlib.lines.Line2D at 0x11a323e90>,\n",
       " <matplotlib.lines.Line2D at 0x11a323fd0>,\n",
       " <matplotlib.lines.Line2D at 0x11a32d150>,\n",
       " <matplotlib.lines.Line2D at 0x11a323ad0>,\n",
       " <matplotlib.lines.Line2D at 0x11a32d3d0>,\n",
       " <matplotlib.lines.Line2D at 0x11a32d510>,\n",
       " <matplotlib.lines.Line2D at 0x11a32d650>,\n",
       " <matplotlib.lines.Line2D at 0x11a32d790>,\n",
       " <matplotlib.lines.Line2D at 0x11a32d8d0>,\n",
       " <matplotlib.lines.Line2D at 0x11a32d290>,\n",
       " <matplotlib.lines.Line2D at 0x11a32db50>,\n",
       " <matplotlib.lines.Line2D at 0x11a32dc90>,\n",
       " <matplotlib.lines.Line2D at 0x11a32ddd0>,\n",
       " <matplotlib.lines.Line2D at 0x11a32df10>,\n",
       " <matplotlib.lines.Line2D at 0x11a337090>,\n",
       " <matplotlib.lines.Line2D at 0x11a32da10>,\n",
       " <matplotlib.lines.Line2D at 0x11a337310>,\n",
       " <matplotlib.lines.Line2D at 0x11a337450>,\n",
       " <matplotlib.lines.Line2D at 0x11a337590>,\n",
       " <matplotlib.lines.Line2D at 0x11a3376d0>,\n",
       " <matplotlib.lines.Line2D at 0x11a337810>,\n",
       " <matplotlib.lines.Line2D at 0x11a3371d0>,\n",
       " <matplotlib.lines.Line2D at 0x11a337a90>,\n",
       " <matplotlib.lines.Line2D at 0x11a337bd0>,\n",
       " <matplotlib.lines.Line2D at 0x11a337d10>,\n",
       " <matplotlib.lines.Line2D at 0x11a337e50>,\n",
       " <matplotlib.lines.Line2D at 0x11a337f90>,\n",
       " <matplotlib.lines.Line2D at 0x11a337950>]"
      ]
     },
     "execution_count": 250,
     "metadata": {},
     "output_type": "execute_result"
    },
    {
     "data": {
      "image/png": "[encoded data removed]",
      "text/plain": [
       "<matplotlib.figure.Figure at 0x118c9a6d0>"
      ]
     },
     "metadata": {},
     "output_type": "display_data"
    }
   ],
   "source": [
    "val_1 = roc_curve(team_stats_df[\"Playoff\"],team_stats_df['baseline'])\n",
    "val_2 = roc_curve(team_stats_df[\"Playoff\"],team_stats_df['predictions'])\n",
    "plt.plot(val_2)\n",
    "#set(title='Area Under the Curve for making playoffs', ylabel='', xlabel='', xlim=(0, 1), ylim=(0, 1))"
   ]
  },
  {
   "cell_type": "markdown",
   "metadata": {},
   "source": [
    "#### But since SciKit is pretty aweful at making a good looking summary, we're going to make the models again with stats models to print out the data."
   ]
  },
  {
   "cell_type": "code",
   "execution_count": 239,
   "metadata": {
    "collapsed": false
   },
   "outputs": [],
   "source": [
    "import statsmodels.api as sm\n",
    "#Bring in intercept\n",
    "team_stats_df[\"intercept\"]=1\n",
    "team_stats_df = team_stats_df[['intercept','Cfperc','Ffperc','PDO','Foperc','oiSHperc','oZSperc','Playoff','ConfFinal']]"
   ]
  },
  {
   "cell_type": "code",
   "execution_count": 240,
   "metadata": {
    "collapsed": false
   },
   "outputs": [
    {
     "data": {
      "text/html": [
       "<div>\n",
       "<table border=\"1\" class=\"dataframe\">\n",
       "  <thead>\n",
       "    <tr style=\"text-align: right;\">\n",
       "      <th></th>\n",
       "      <th>intercept</th>\n",
       "      <th>Cfperc</th>\n",
       "      <th>Ffperc</th>\n",
       "      <th>PDO</th>\n",
       "      <th>Foperc</th>\n",
       "      <th>oiSHperc</th>\n",
       "      <th>oZSperc</th>\n",
       "      <th>Playoff</th>\n",
       "      <th>ConfFinal</th>\n",
       "    </tr>\n",
       "  </thead>\n",
       "  <tbody>\n",
       "    <tr>\n",
       "      <th>0</th>\n",
       "      <td>1</td>\n",
       "      <td>0.527</td>\n",
       "      <td>0.524</td>\n",
       "      <td>0.989</td>\n",
       "      <td>0.494</td>\n",
       "      <td>0.093</td>\n",
       "      <td>0.537</td>\n",
       "      <td>0</td>\n",
       "      <td>0</td>\n",
       "    </tr>\n",
       "    <tr>\n",
       "      <th>1</th>\n",
       "      <td>1</td>\n",
       "      <td>0.591</td>\n",
       "      <td>0.592</td>\n",
       "      <td>0.996</td>\n",
       "      <td>0.533</td>\n",
       "      <td>0.089</td>\n",
       "      <td>0.605</td>\n",
       "      <td>1</td>\n",
       "      <td>1</td>\n",
       "    </tr>\n",
       "    <tr>\n",
       "      <th>2</th>\n",
       "      <td>1</td>\n",
       "      <td>0.512</td>\n",
       "      <td>0.512</td>\n",
       "      <td>0.983</td>\n",
       "      <td>0.498</td>\n",
       "      <td>0.090</td>\n",
       "      <td>0.528</td>\n",
       "      <td>0</td>\n",
       "      <td>0</td>\n",
       "    </tr>\n",
       "    <tr>\n",
       "      <th>3</th>\n",
       "      <td>1</td>\n",
       "      <td>0.539</td>\n",
       "      <td>0.550</td>\n",
       "      <td>0.991</td>\n",
       "      <td>0.523</td>\n",
       "      <td>0.079</td>\n",
       "      <td>0.589</td>\n",
       "      <td>1</td>\n",
       "      <td>0</td>\n",
       "    </tr>\n",
       "    <tr>\n",
       "      <th>4</th>\n",
       "      <td>1</td>\n",
       "      <td>0.529</td>\n",
       "      <td>0.536</td>\n",
       "      <td>0.994</td>\n",
       "      <td>0.512</td>\n",
       "      <td>0.094</td>\n",
       "      <td>0.534</td>\n",
       "      <td>1</td>\n",
       "      <td>0</td>\n",
       "    </tr>\n",
       "  </tbody>\n",
       "</table>\n",
       "</div>"
      ],
      "text/plain": [
       "   intercept  Cfperc  Ffperc    PDO  Foperc  oiSHperc  oZSperc  Playoff  \\\n",
       "0          1   0.527   0.524  0.989   0.494     0.093    0.537        0   \n",
       "1          1   0.591   0.592  0.996   0.533     0.089    0.605        1   \n",
       "2          1   0.512   0.512  0.983   0.498     0.090    0.528        0   \n",
       "3          1   0.539   0.550  0.991   0.523     0.079    0.589        1   \n",
       "4          1   0.529   0.536  0.994   0.512     0.094    0.534        1   \n",
       "\n",
       "   ConfFinal  \n",
       "0          0  \n",
       "1          1  \n",
       "2          0  \n",
       "3          0  \n",
       "4          0  "
      ]
     },
     "execution_count": 240,
     "metadata": {},
     "output_type": "execute_result"
    }
   ],
   "source": [
    "team_stats_df.head()"
   ]
  },
  {
   "cell_type": "code",
   "execution_count": 241,
   "metadata": {
    "collapsed": false
   },
   "outputs": [],
   "source": [
    "for i in param_list:\n",
    "    i.insert(0,\"intercept\")"
   ]
  },
  {
   "cell_type": "code",
   "execution_count": 242,
   "metadata": {
    "collapsed": true
   },
   "outputs": [],
   "source": [
    "def stats_logit(features):\n",
    "    logit_mod = sm.Logit(team_stats_df[\"Playoff\"],team_stats_df[features])\n",
    "    logit_res = logit_mod.fit()\n",
    "    print(logit_res.summary())"
   ]
  },
  {
   "cell_type": "code",
   "execution_count": 243,
   "metadata": {
    "collapsed": false
   },
   "outputs": [
    {
     "name": "stdout",
     "output_type": "stream",
     "text": [
      "Optimization terminated successfully.\n",
      "         Current function value: 0.496673\n",
      "         Iterations 7\n",
      "                           Logit Regression Results                           \n",
      "==============================================================================\n",
      "Dep. Variable:                Playoff   No. Observations:                  270\n",
      "Model:                          Logit   Df Residuals:                      266\n",
      "Method:                           MLE   Df Model:                            3\n",
      "Date:                Tue, 08 Mar 2016   Pseudo R-squ.:                  0.2821\n",
      "Time:                        23:21:50   Log-Likelihood:                -134.10\n",
      "converged:                       True   LL-Null:                       -186.79\n",
      "                                        LLR p-value:                 1.088e-22\n",
      "==============================================================================\n",
      "                 coef    std err          z      P>|z|      [95.0% Conf. Int.]\n",
      "------------------------------------------------------------------------------\n",
      "intercept    -41.0879      5.431     -7.565      0.000       -51.733   -30.443\n",
      "Cfperc        -1.4109     23.223     -0.061      0.952       -46.926    44.104\n",
      "Ffperc        60.5425     23.378      2.590      0.010        14.723   106.362\n",
      "oiSHperc     125.2993     22.103      5.669      0.000        81.977   168.621\n",
      "==============================================================================\n",
      "Optimization terminated successfully.\n",
      "         Current function value: 0.568637\n",
      "         Iterations 6\n",
      "                           Logit Regression Results                           \n",
      "==============================================================================\n",
      "Dep. Variable:                Playoff   No. Observations:                  270\n",
      "Model:                          Logit   Df Residuals:                      268\n",
      "Method:                           MLE   Df Model:                            1\n",
      "Date:                Tue, 08 Mar 2016   Pseudo R-squ.:                  0.1780\n",
      "Time:                        23:21:50   Log-Likelihood:                -153.53\n",
      "converged:                       True   LL-Null:                       -186.79\n",
      "                                        LLR p-value:                 3.482e-16\n",
      "==============================================================================\n",
      "                 coef    std err          z      P>|z|      [95.0% Conf. Int.]\n",
      "------------------------------------------------------------------------------\n",
      "intercept   -102.9035     15.218     -6.762      0.000      -132.729   -73.078\n",
      "PDO          102.7611     15.208      6.757      0.000        72.953   132.569\n",
      "==============================================================================\n",
      "Optimization terminated successfully.\n",
      "         Current function value: 0.494156\n",
      "         Iterations 7\n",
      "                           Logit Regression Results                           \n",
      "==============================================================================\n",
      "Dep. Variable:                Playoff   No. Observations:                  270\n",
      "Model:                          Logit   Df Residuals:                      265\n",
      "Method:                           MLE   Df Model:                            4\n",
      "Date:                Tue, 08 Mar 2016   Pseudo R-squ.:                  0.2857\n",
      "Time:                        23:21:50   Log-Likelihood:                -133.42\n",
      "converged:                       True   LL-Null:                       -186.79\n",
      "                                        LLR p-value:                 3.626e-22\n",
      "==============================================================================\n",
      "                 coef    std err          z      P>|z|      [95.0% Conf. Int.]\n",
      "------------------------------------------------------------------------------\n",
      "intercept    -44.9930      6.554     -6.865      0.000       -57.838   -32.148\n",
      "Cfperc        -4.5762     23.589     -0.194      0.846       -50.809    41.657\n",
      "Ffperc        60.8624     23.562      2.583      0.010        14.682   107.043\n",
      "Foperc        10.2989      8.898      1.157      0.247        -7.140    27.738\n",
      "oiSHperc     127.2671     22.472      5.663      0.000        83.222   171.312\n",
      "==============================================================================\n",
      "Optimization terminated successfully.\n",
      "         Current function value: 0.369860\n",
      "         Iterations 8\n",
      "                           Logit Regression Results                           \n",
      "==============================================================================\n",
      "Dep. Variable:                Playoff   No. Observations:                  270\n",
      "Model:                          Logit   Df Residuals:                      267\n",
      "Method:                           MLE   Df Model:                            2\n",
      "Date:                Tue, 08 Mar 2016   Pseudo R-squ.:                  0.4654\n",
      "Time:                        23:21:50   Log-Likelihood:                -99.862\n",
      "converged:                       True   LL-Null:                       -186.79\n",
      "                                        LLR p-value:                 1.775e-38\n",
      "==============================================================================\n",
      "                 coef    std err          z      P>|z|      [95.0% Conf. Int.]\n",
      "------------------------------------------------------------------------------\n",
      "intercept   -223.9876     28.272     -7.922      0.000      -279.401  -168.575\n",
      "Ffperc        76.5902     10.275      7.454      0.000        56.452    96.728\n",
      "PDO          185.2884     24.781      7.477      0.000       136.719   233.858\n",
      "==============================================================================\n"
     ]
    }
   ],
   "source": [
    "for i in param_list:\n",
    "    stats_logit(i)"
   ]
  },
  {
   "cell_type": "markdown",
   "metadata": {},
   "source": [
    "#### Our restults show that we don't have any models that give us a complete list of statistically significant coefficients, so it looks like we'll need to try another model set, or maybe bring in new data."
   ]
  },
  {
   "cell_type": "code",
   "execution_count": null,
   "metadata": {
    "collapsed": true
   },
   "outputs": [],
   "source": []
  }
 ],
 "metadata": {
  "kernelspec": {
   "display_name": "Python 2",
   "language": "python",
   "name": "python2"
  },
  "language_info": {
   "codemirror_mode": {
    "name": "ipython",
    "version": 2
   },
   "file_extension": ".py",
   "mimetype": "text/x-python",
   "name": "python",
   "nbconvert_exporter": "python",
   "pygments_lexer": "ipython2",
   "version": "2.7.11"
  }
 },
 "nbformat": 4,
 "nbformat_minor": 0
}
