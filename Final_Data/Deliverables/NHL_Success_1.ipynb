{
 "cells": [
  {
   "cell_type": "code",
   "execution_count": 22,
   "metadata": {
    "collapsed": false
   },
   "outputs": [],
   "source": [
    "import numpy as np\n",
    "import pandas as pd\n",
    "import seaborn as sb\n",
    "import matplotlib.pyplot as plt\n",
    "%matplotlib inline\n",
    "from sklearn.tree import DecisionTreeClassifier\n",
    "from sklearn.cross_validation import cross_val_score\n",
    "from sklearn.cross_validation import ShuffleSplit\n",
    "from sklearn.ensemble import RandomForestClassifier\n",
    "from sklearn.linear_model import LogisticRegression\n",
    "from sklearn.metrics import roc_auc_score\n",
    "from sklearn.feature_selection import f_regression"
   ]
  },
  {
   "cell_type": "code",
   "execution_count": 23,
   "metadata": {
    "collapsed": false
   },
   "outputs": [
    {
     "data": {
      "text/html": [
       "<div>\n",
       "<table border=\"1\" class=\"dataframe\">\n",
       "  <thead>\n",
       "    <tr style=\"text-align: right;\">\n",
       "      <th></th>\n",
       "      <th>Cfperc</th>\n",
       "      <th>Ffperc</th>\n",
       "      <th>PDO</th>\n",
       "      <th>Foperc</th>\n",
       "      <th>oiSHperc</th>\n",
       "      <th>oZSperc</th>\n",
       "      <th>Playoff</th>\n",
       "      <th>ConfFinal</th>\n",
       "    </tr>\n",
       "  </thead>\n",
       "  <tbody>\n",
       "    <tr>\n",
       "      <th>0</th>\n",
       "      <td>0.527</td>\n",
       "      <td>0.524</td>\n",
       "      <td>0.989</td>\n",
       "      <td>0.494</td>\n",
       "      <td>0.093</td>\n",
       "      <td>0.537</td>\n",
       "      <td>0</td>\n",
       "      <td>0</td>\n",
       "    </tr>\n",
       "    <tr>\n",
       "      <th>1</th>\n",
       "      <td>0.591</td>\n",
       "      <td>0.592</td>\n",
       "      <td>0.996</td>\n",
       "      <td>0.533</td>\n",
       "      <td>0.089</td>\n",
       "      <td>0.605</td>\n",
       "      <td>1</td>\n",
       "      <td>1</td>\n",
       "    </tr>\n",
       "    <tr>\n",
       "      <th>2</th>\n",
       "      <td>0.512</td>\n",
       "      <td>0.512</td>\n",
       "      <td>0.983</td>\n",
       "      <td>0.498</td>\n",
       "      <td>0.090</td>\n",
       "      <td>0.528</td>\n",
       "      <td>0</td>\n",
       "      <td>0</td>\n",
       "    </tr>\n",
       "    <tr>\n",
       "      <th>3</th>\n",
       "      <td>0.539</td>\n",
       "      <td>0.550</td>\n",
       "      <td>0.991</td>\n",
       "      <td>0.523</td>\n",
       "      <td>0.079</td>\n",
       "      <td>0.589</td>\n",
       "      <td>1</td>\n",
       "      <td>0</td>\n",
       "    </tr>\n",
       "    <tr>\n",
       "      <th>4</th>\n",
       "      <td>0.529</td>\n",
       "      <td>0.536</td>\n",
       "      <td>0.994</td>\n",
       "      <td>0.512</td>\n",
       "      <td>0.094</td>\n",
       "      <td>0.534</td>\n",
       "      <td>1</td>\n",
       "      <td>0</td>\n",
       "    </tr>\n",
       "  </tbody>\n",
       "</table>\n",
       "</div>"
      ],
      "text/plain": [
       "   Cfperc  Ffperc    PDO  Foperc  oiSHperc  oZSperc  Playoff  ConfFinal\n",
       "0   0.527   0.524  0.989   0.494     0.093    0.537        0          0\n",
       "1   0.591   0.592  0.996   0.533     0.089    0.605        1          1\n",
       "2   0.512   0.512  0.983   0.498     0.090    0.528        0          0\n",
       "3   0.539   0.550  0.991   0.523     0.079    0.589        1          0\n",
       "4   0.529   0.536  0.994   0.512     0.094    0.534        1          0"
      ]
     },
     "execution_count": 23,
     "metadata": {},
     "output_type": "execute_result"
    }
   ],
   "source": [
    "team_stats = pd.read_csv(\"../data/team_stats_1.csv\")\n",
    "team_stats_df = pd.DataFrame(team_stats.ix[:,1:9])\n",
    "team_stats_df.head()"
   ]
  },
  {
   "cell_type": "code",
   "execution_count": 24,
   "metadata": {
    "collapsed": false
   },
   "outputs": [
    {
     "data": {
      "text/html": [
       "<div>\n",
       "<table border=\"1\" class=\"dataframe\">\n",
       "  <thead>\n",
       "    <tr style=\"text-align: right;\">\n",
       "      <th></th>\n",
       "      <th>Cfperc</th>\n",
       "      <th>Ffperc</th>\n",
       "      <th>PDO</th>\n",
       "      <th>Foperc</th>\n",
       "      <th>oiSHperc</th>\n",
       "      <th>oZSperc</th>\n",
       "      <th>Playoff</th>\n",
       "      <th>ConfFinal</th>\n",
       "    </tr>\n",
       "  </thead>\n",
       "  <tbody>\n",
       "    <tr>\n",
       "      <th>count</th>\n",
       "      <td>270.000000</td>\n",
       "      <td>270.000000</td>\n",
       "      <td>270.000000</td>\n",
       "      <td>270.000000</td>\n",
       "      <td>270.000000</td>\n",
       "      <td>270.000000</td>\n",
       "      <td>270.000000</td>\n",
       "      <td>270.000000</td>\n",
       "    </tr>\n",
       "    <tr>\n",
       "      <th>mean</th>\n",
       "      <td>0.499456</td>\n",
       "      <td>0.500081</td>\n",
       "      <td>1.000056</td>\n",
       "      <td>0.499956</td>\n",
       "      <td>0.090604</td>\n",
       "      <td>0.510752</td>\n",
       "      <td>0.474074</td>\n",
       "      <td>0.118519</td>\n",
       "    </tr>\n",
       "    <tr>\n",
       "      <th>std</th>\n",
       "      <td>0.027959</td>\n",
       "      <td>0.027741</td>\n",
       "      <td>0.011996</td>\n",
       "      <td>0.019997</td>\n",
       "      <td>0.008479</td>\n",
       "      <td>0.027373</td>\n",
       "      <td>0.500255</td>\n",
       "      <td>0.323821</td>\n",
       "    </tr>\n",
       "    <tr>\n",
       "      <th>min</th>\n",
       "      <td>0.380000</td>\n",
       "      <td>0.393000</td>\n",
       "      <td>0.963000</td>\n",
       "      <td>0.442000</td>\n",
       "      <td>0.069000</td>\n",
       "      <td>0.424000</td>\n",
       "      <td>0.000000</td>\n",
       "      <td>0.000000</td>\n",
       "    </tr>\n",
       "    <tr>\n",
       "      <th>25%</th>\n",
       "      <td>0.480250</td>\n",
       "      <td>0.482000</td>\n",
       "      <td>0.993000</td>\n",
       "      <td>0.486000</td>\n",
       "      <td>0.085000</td>\n",
       "      <td>0.494000</td>\n",
       "      <td>0.000000</td>\n",
       "      <td>0.000000</td>\n",
       "    </tr>\n",
       "    <tr>\n",
       "      <th>50%</th>\n",
       "      <td>0.501500</td>\n",
       "      <td>0.502000</td>\n",
       "      <td>1.001000</td>\n",
       "      <td>0.501000</td>\n",
       "      <td>0.091000</td>\n",
       "      <td>0.512000</td>\n",
       "      <td>0.000000</td>\n",
       "      <td>0.000000</td>\n",
       "    </tr>\n",
       "    <tr>\n",
       "      <th>75%</th>\n",
       "      <td>0.520000</td>\n",
       "      <td>0.520000</td>\n",
       "      <td>1.007000</td>\n",
       "      <td>0.513000</td>\n",
       "      <td>0.096000</td>\n",
       "      <td>0.527750</td>\n",
       "      <td>1.000000</td>\n",
       "      <td>0.000000</td>\n",
       "    </tr>\n",
       "    <tr>\n",
       "      <th>max</th>\n",
       "      <td>0.591000</td>\n",
       "      <td>0.592000</td>\n",
       "      <td>1.033000</td>\n",
       "      <td>0.564000</td>\n",
       "      <td>0.116000</td>\n",
       "      <td>0.605000</td>\n",
       "      <td>1.000000</td>\n",
       "      <td>1.000000</td>\n",
       "    </tr>\n",
       "  </tbody>\n",
       "</table>\n",
       "</div>"
      ],
      "text/plain": [
       "           Cfperc      Ffperc         PDO      Foperc    oiSHperc     oZSperc  \\\n",
       "count  270.000000  270.000000  270.000000  270.000000  270.000000  270.000000   \n",
       "mean     0.499456    0.500081    1.000056    0.499956    0.090604    0.510752   \n",
       "std      0.027959    0.027741    0.011996    0.019997    0.008479    0.027373   \n",
       "min      0.380000    0.393000    0.963000    0.442000    0.069000    0.424000   \n",
       "25%      0.480250    0.482000    0.993000    0.486000    0.085000    0.494000   \n",
       "50%      0.501500    0.502000    1.001000    0.501000    0.091000    0.512000   \n",
       "75%      0.520000    0.520000    1.007000    0.513000    0.096000    0.527750   \n",
       "max      0.591000    0.592000    1.033000    0.564000    0.116000    0.605000   \n",
       "\n",
       "          Playoff   ConfFinal  \n",
       "count  270.000000  270.000000  \n",
       "mean     0.474074    0.118519  \n",
       "std      0.500255    0.323821  \n",
       "min      0.000000    0.000000  \n",
       "25%      0.000000    0.000000  \n",
       "50%      0.000000    0.000000  \n",
       "75%      1.000000    0.000000  \n",
       "max      1.000000    1.000000  "
      ]
     },
     "execution_count": 24,
     "metadata": {},
     "output_type": "execute_result"
    }
   ],
   "source": [
    "team_stats_df.describe()"
   ]
  },
  {
   "cell_type": "code",
   "execution_count": 25,
   "metadata": {
    "collapsed": false
   },
   "outputs": [],
   "source": [
    "features=list(team_stats_df.columns)[0:-2]"
   ]
  },
  {
   "cell_type": "code",
   "execution_count": 26,
   "metadata": {
    "collapsed": false
   },
   "outputs": [],
   "source": [
    "import itertools\n",
    "feature_list = []\n",
    "for i in range(1,len(features)+1):\n",
    "    for j in itertools.combinations(features,i):\n",
    "        feature_list.append(list(j))"
   ]
  },
  {
   "cell_type": "markdown",
   "metadata": {},
   "source": [
    "### Starting off with logistic regression.\n",
    "#### We're going to do models for both the playoffs and the conference finals as our dependent variable."
   ]
  },
  {
   "cell_type": "code",
   "execution_count": 27,
   "metadata": {
    "collapsed": true
   },
   "outputs": [],
   "source": [
    "def make_playoff(features):\n",
    "    model = LogisticRegression()\n",
    "    X = team_stats_df[features]\n",
    "    Y = team_stats_df[\"Playoff\"]\n",
    "    logmod = model.fit(X,Y)\n",
    "    score = get_score(logmod,X,Y)\n",
    "    result = [score, features]\n",
    "    return result"
   ]
  },
  {
   "cell_type": "code",
   "execution_count": 28,
   "metadata": {
    "collapsed": false
   },
   "outputs": [],
   "source": [
    "def get_params(features):\n",
    "    model = LogisticRegression()\n",
    "    X = team_stats_df[features]\n",
    "    Y = team_stats_df[\"Playoff\"]\n",
    "    logmod = model.fit(X,Y)\n",
    "    coefs = logmod.coef_\n",
    "    inter = logmod.intercept_\n",
    "    pvallong = f_regression(X,Y)[1]\n",
    "    pval = [i*100.0 for i in pvallong]\n",
    "    return coefs, inter, pval"
   ]
  },
  {
   "cell_type": "code",
   "execution_count": 29,
   "metadata": {
    "collapsed": true
   },
   "outputs": [],
   "source": [
    "def get_score(model,x,y):\n",
    "    shuffle=ShuffleSplit(len(x),n_iter=5,test_size=0.2)\n",
    "    scores = cross_val_score(model,x,y,scoring=\"roc_auc\",cv=shuffle)\n",
    "    result = scores.mean()\n",
    "    return result"
   ]
  },
  {
   "cell_type": "code",
   "execution_count": 30,
   "metadata": {
    "collapsed": false
   },
   "outputs": [],
   "source": [
    "rank=[]\n",
    "for i in feature_list:\n",
    "    rank.append(make_playoff(i))"
   ]
  },
  {
   "cell_type": "code",
   "execution_count": 31,
   "metadata": {
    "collapsed": false
   },
   "outputs": [
    {
     "name": "stdout",
     "output_type": "stream",
     "text": [
      "Here are the models and our ROC-AUC score for the five best models. We'll need \n",
      " to check the collinearity (remember what we did in the data mgmt file?)\n",
      "\n",
      "[0.78392180855542937, ['Cfperc', 'Ffperc', 'PDO', 'oiSHperc', 'oZSperc']]\n",
      "[0.7972893553223388, ['Cfperc', 'Ffperc', 'PDO', 'oiSHperc']]\n",
      "[0.79814715887560728, ['Ffperc', 'PDO', 'oiSHperc', 'oZSperc']]\n",
      "[0.80099921780126115, ['Ffperc', 'PDO']]\n",
      "[0.83252814748244452, ['Ffperc', 'Foperc', 'oiSHperc']]\n"
     ]
    }
   ],
   "source": [
    "rank.sort()\n",
    "rank = rank[-5:]\n",
    "print(\"Here are the models and our ROC-AUC score for the five best models. We'll need \\n \"\\\n",
    "      \"to check the collinearity (remember what we did in the data mgmt file?)\\n\")\n",
    "for i in rank:\n",
    "    print i"
   ]
  },
  {
   "cell_type": "code",
   "execution_count": 32,
   "metadata": {
    "collapsed": false
   },
   "outputs": [
    {
     "data": {
      "text/html": [
       "<div>\n",
       "<table border=\"1\" class=\"dataframe\">\n",
       "  <thead>\n",
       "    <tr style=\"text-align: right;\">\n",
       "      <th></th>\n",
       "      <th>Cfperc</th>\n",
       "      <th>Ffperc</th>\n",
       "      <th>PDO</th>\n",
       "      <th>Foperc</th>\n",
       "      <th>oiSHperc</th>\n",
       "      <th>oZSperc</th>\n",
       "      <th>Playoff</th>\n",
       "      <th>ConfFinal</th>\n",
       "    </tr>\n",
       "  </thead>\n",
       "  <tbody>\n",
       "    <tr>\n",
       "      <th>Cfperc</th>\n",
       "      <td>True</td>\n",
       "      <td>True</td>\n",
       "      <td>False</td>\n",
       "      <td>False</td>\n",
       "      <td>False</td>\n",
       "      <td>True</td>\n",
       "      <td>False</td>\n",
       "      <td>False</td>\n",
       "    </tr>\n",
       "    <tr>\n",
       "      <th>Ffperc</th>\n",
       "      <td>True</td>\n",
       "      <td>True</td>\n",
       "      <td>False</td>\n",
       "      <td>False</td>\n",
       "      <td>False</td>\n",
       "      <td>True</td>\n",
       "      <td>False</td>\n",
       "      <td>False</td>\n",
       "    </tr>\n",
       "    <tr>\n",
       "      <th>PDO</th>\n",
       "      <td>False</td>\n",
       "      <td>False</td>\n",
       "      <td>True</td>\n",
       "      <td>False</td>\n",
       "      <td>False</td>\n",
       "      <td>False</td>\n",
       "      <td>False</td>\n",
       "      <td>False</td>\n",
       "    </tr>\n",
       "    <tr>\n",
       "      <th>Foperc</th>\n",
       "      <td>False</td>\n",
       "      <td>False</td>\n",
       "      <td>False</td>\n",
       "      <td>True</td>\n",
       "      <td>False</td>\n",
       "      <td>False</td>\n",
       "      <td>False</td>\n",
       "      <td>False</td>\n",
       "    </tr>\n",
       "    <tr>\n",
       "      <th>oiSHperc</th>\n",
       "      <td>False</td>\n",
       "      <td>False</td>\n",
       "      <td>False</td>\n",
       "      <td>False</td>\n",
       "      <td>True</td>\n",
       "      <td>False</td>\n",
       "      <td>False</td>\n",
       "      <td>False</td>\n",
       "    </tr>\n",
       "    <tr>\n",
       "      <th>oZSperc</th>\n",
       "      <td>True</td>\n",
       "      <td>True</td>\n",
       "      <td>False</td>\n",
       "      <td>False</td>\n",
       "      <td>False</td>\n",
       "      <td>True</td>\n",
       "      <td>False</td>\n",
       "      <td>False</td>\n",
       "    </tr>\n",
       "    <tr>\n",
       "      <th>Playoff</th>\n",
       "      <td>False</td>\n",
       "      <td>False</td>\n",
       "      <td>False</td>\n",
       "      <td>False</td>\n",
       "      <td>False</td>\n",
       "      <td>False</td>\n",
       "      <td>True</td>\n",
       "      <td>False</td>\n",
       "    </tr>\n",
       "    <tr>\n",
       "      <th>ConfFinal</th>\n",
       "      <td>False</td>\n",
       "      <td>False</td>\n",
       "      <td>False</td>\n",
       "      <td>False</td>\n",
       "      <td>False</td>\n",
       "      <td>False</td>\n",
       "      <td>False</td>\n",
       "      <td>True</td>\n",
       "    </tr>\n",
       "  </tbody>\n",
       "</table>\n",
       "</div>"
      ],
      "text/plain": [
       "          Cfperc Ffperc    PDO Foperc oiSHperc oZSperc Playoff ConfFinal\n",
       "Cfperc      True   True  False  False    False    True   False     False\n",
       "Ffperc      True   True  False  False    False    True   False     False\n",
       "PDO        False  False   True  False    False   False   False     False\n",
       "Foperc     False  False  False   True    False   False   False     False\n",
       "oiSHperc   False  False  False  False     True   False   False     False\n",
       "oZSperc     True   True  False  False    False    True   False     False\n",
       "Playoff    False  False  False  False    False   False    True     False\n",
       "ConfFinal  False  False  False  False    False   False   False      True"
      ]
     },
     "execution_count": 32,
     "metadata": {},
     "output_type": "execute_result"
    }
   ],
   "source": [
    "team_stats_corr = team_stats_df.corr(method=\"pearson\")\n",
    "(team_stats_corr > .75) | (team_stats_corr<(-.75))"
   ]
  },
  {
   "cell_type": "markdown",
   "metadata": {},
   "source": [
    "#### From 5th to 1st, the following models posess no collinearity with a |0.75| Pearson coefficient cutoff.\n",
    "5, 4, 2, 1. \n",
    "#### So we ignore the 3rd dataset."
   ]
  },
  {
   "cell_type": "code",
   "execution_count": 33,
   "metadata": {
    "collapsed": false
   },
   "outputs": [
    {
     "data": {
      "text/html": [
       "<div>\n",
       "<table border=\"1\" class=\"dataframe\">\n",
       "  <thead>\n",
       "    <tr style=\"text-align: right;\">\n",
       "      <th></th>\n",
       "      <th>Coefficients</th>\n",
       "      <th>Intercept</th>\n",
       "      <th>Pvals</th>\n",
       "    </tr>\n",
       "  </thead>\n",
       "  <tbody>\n",
       "    <tr>\n",
       "      <th>0</th>\n",
       "      <td>[[0.911583596851, 1.02470363948, -0.3006968977...</td>\n",
       "      <td>[-1.05681200492]</td>\n",
       "      <td>[1.14255750987e-10, 9.00596462977e-13, 8.16290...</td>\n",
       "    </tr>\n",
       "    <tr>\n",
       "      <th>1</th>\n",
       "      <td>[[0.980976127897, 1.09382572919, -0.1960947759...</td>\n",
       "      <td>[-0.94962692392]</td>\n",
       "      <td>[1.14255750987e-10, 9.00596462977e-13, 8.16290...</td>\n",
       "    </tr>\n",
       "    <tr>\n",
       "      <th>2</th>\n",
       "      <td>[[1.24356069599, 0.0179544324121]]</td>\n",
       "      <td>[-0.73277701482]</td>\n",
       "      <td>[9.00596462977e-13, 8.16290607946e-14]</td>\n",
       "    </tr>\n",
       "    <tr>\n",
       "      <th>3</th>\n",
       "      <td>[[1.20044599291, 0.211612067474, 0.218476766433]]</td>\n",
       "      <td>[-0.817595349126]</td>\n",
       "      <td>[9.00596462977e-13, 0.00663360195854, 0.002261...</td>\n",
       "    </tr>\n",
       "  </tbody>\n",
       "</table>\n",
       "</div>"
      ],
      "text/plain": [
       "                                        Coefficients          Intercept  \\\n",
       "0  [[0.911583596851, 1.02470363948, -0.3006968977...   [-1.05681200492]   \n",
       "1  [[0.980976127897, 1.09382572919, -0.1960947759...   [-0.94962692392]   \n",
       "2                 [[1.24356069599, 0.0179544324121]]   [-0.73277701482]   \n",
       "3  [[1.20044599291, 0.211612067474, 0.218476766433]]  [-0.817595349126]   \n",
       "\n",
       "                                               Pvals  \n",
       "0  [1.14255750987e-10, 9.00596462977e-13, 8.16290...  \n",
       "1  [1.14255750987e-10, 9.00596462977e-13, 8.16290...  \n",
       "2             [9.00596462977e-13, 8.16290607946e-14]  \n",
       "3  [9.00596462977e-13, 0.00663360195854, 0.002261...  "
      ]
     },
     "execution_count": 33,
     "metadata": {},
     "output_type": "execute_result"
    }
   ],
   "source": [
    "mods = [0,1,3,4]\n",
    "param_list = []\n",
    "coefs = []\n",
    "for i in mods:\n",
    "    param_list.append(rank[i][1])\n",
    "for i in param_list:\n",
    "    coefs.append(get_params(i))\n",
    "results = pd.DataFrame(coefs, columns=[\"Coefficients\",\"Intercept\",\"Pvals\"])\n",
    "results"
   ]
  },
  {
   "cell_type": "markdown",
   "metadata": {},
   "source": [
    "#### <font color=\"red\">Not sure why the coefficients <font size=\"10\">&uarr;</font> are so much different than the ones when I run statsmodels <em> see below  </em></font>"
   ]
  },
  {
   "cell_type": "code",
   "execution_count": 34,
   "metadata": {
    "collapsed": true
   },
   "outputs": [],
   "source": [
    "from sklearn.metrics import roc_curve, auc\n",
    "from sklearn.cross_validation import train_test_split\n",
    "from sklearn import dummy"
   ]
  },
  {
   "cell_type": "markdown",
   "metadata": {},
   "source": [
    "#### Our best score came from the feature set ('Cfperc', 'PDO', 'Foperc', 'oiSHperc') so let's plot that ROC Curve"
   ]
  },
  {
   "cell_type": "code",
   "execution_count": 35,
   "metadata": {
    "collapsed": false
   },
   "outputs": [],
   "source": [
    "baseline = dummy.DummyClassifier()\n",
    "baseline.fit(team_stats_df[['Cfperc', 'PDO', 'Foperc', 'oiSHperc']],team_stats_df[\"Playoff\"])\n",
    "team_stats_df[\"baseline\"]=baseline.predict_proba(team_stats_df[['Cfperc', 'PDO', 'Foperc', 'oiSHperc']]).T[1]\n",
    "predictions = LogisticRegression()\n",
    "predictions.fit(team_stats_df[['Cfperc', 'PDO', 'Foperc', 'oiSHperc']], team_stats_df['Playoff'])\n",
    "team_stats_df['predictions'] = predictions.predict_proba(team_stats_df[['Cfperc', 'PDO', 'Foperc', 'oiSHperc']]).T[1]"
   ]
  },
  {
   "cell_type": "code",
   "execution_count": 36,
   "metadata": {
    "collapsed": false
   },
   "outputs": [
    {
     "data": {
      "text/plain": [
       "[<matplotlib.text.Text at 0xbcd9748>,\n",
       " <matplotlib.text.Text at 0xbcd1278>,\n",
       " <matplotlib.text.Text at 0xbd056d8>]"
      ]
     },
     "execution_count": 36,
     "metadata": {},
     "output_type": "execute_result"
    },
    {
     "data": {
      "image/png": "[encoded data removed]",
      "text/plain": [
       "<matplotlib.figure.Figure at 0xbc96400>"
      ]
     },
     "metadata": {},
     "output_type": "display_data"
    }
   ],
   "source": [
    "team_stats_df\n",
    "fig = plt.figure(figsize=(6,6))\n",
    "axes = fig.add_subplot(1,1,1,xlim=(0,100))\n",
    "#Had issues making a good baseline curve\n",
    "#val_1 = roc_curve(team_stats_df[\"Playoff\"],team_stats_df['baseline'])[1]\n",
    "val_1 = [x/100.0 for x in range(0,101)]\n",
    "val_2 = roc_curve(team_stats_df[\"Playoff\"],team_stats_df['predictions'])[1]\n",
    "thresh = roc_curve(team_stats_df[\"Playoff\"],team_stats_df['predictions'])[2]\n",
    "axes.plot(val_2)\n",
    "axes.plot(val_1)\n",
    "axes.set(title='ROC curve for making playoffs', ylabel='True Positive Rate', xlabel='')"
   ]
  },
  {
   "cell_type": "markdown",
   "metadata": {},
   "source": [
    "#### So this looks good, and it seems like it predicts better than random chance, especially at higher thresholds. Now we just need to check the statistical significance of this model.\n",
    "#### But since SciKit is pretty aweful at making a good looking summary, we're going to make the models again with stats models to print out the data."
   ]
  },
  {
   "cell_type": "code",
   "execution_count": 37,
   "metadata": {
    "collapsed": false
   },
   "outputs": [],
   "source": [
    "import statsmodels.api as sm\n",
    "#Bring in intercept\n",
    "team_stats_df[\"intercept\"]=1\n",
    "team_stats_df = team_stats_df[['intercept','Cfperc','Ffperc','PDO','Foperc','oiSHperc','oZSperc','Playoff','ConfFinal']]"
   ]
  },
  {
   "cell_type": "code",
   "execution_count": 38,
   "metadata": {
    "collapsed": false
   },
   "outputs": [
    {
     "data": {
      "text/html": [
       "<div>\n",
       "<table border=\"1\" class=\"dataframe\">\n",
       "  <thead>\n",
       "    <tr style=\"text-align: right;\">\n",
       "      <th></th>\n",
       "      <th>intercept</th>\n",
       "      <th>Cfperc</th>\n",
       "      <th>Ffperc</th>\n",
       "      <th>PDO</th>\n",
       "      <th>Foperc</th>\n",
       "      <th>oiSHperc</th>\n",
       "      <th>oZSperc</th>\n",
       "      <th>Playoff</th>\n",
       "      <th>ConfFinal</th>\n",
       "    </tr>\n",
       "  </thead>\n",
       "  <tbody>\n",
       "    <tr>\n",
       "      <th>0</th>\n",
       "      <td>1</td>\n",
       "      <td>0.527</td>\n",
       "      <td>0.524</td>\n",
       "      <td>0.989</td>\n",
       "      <td>0.494</td>\n",
       "      <td>0.093</td>\n",
       "      <td>0.537</td>\n",
       "      <td>0</td>\n",
       "      <td>0</td>\n",
       "    </tr>\n",
       "    <tr>\n",
       "      <th>1</th>\n",
       "      <td>1</td>\n",
       "      <td>0.591</td>\n",
       "      <td>0.592</td>\n",
       "      <td>0.996</td>\n",
       "      <td>0.533</td>\n",
       "      <td>0.089</td>\n",
       "      <td>0.605</td>\n",
       "      <td>1</td>\n",
       "      <td>1</td>\n",
       "    </tr>\n",
       "    <tr>\n",
       "      <th>2</th>\n",
       "      <td>1</td>\n",
       "      <td>0.512</td>\n",
       "      <td>0.512</td>\n",
       "      <td>0.983</td>\n",
       "      <td>0.498</td>\n",
       "      <td>0.090</td>\n",
       "      <td>0.528</td>\n",
       "      <td>0</td>\n",
       "      <td>0</td>\n",
       "    </tr>\n",
       "    <tr>\n",
       "      <th>3</th>\n",
       "      <td>1</td>\n",
       "      <td>0.539</td>\n",
       "      <td>0.550</td>\n",
       "      <td>0.991</td>\n",
       "      <td>0.523</td>\n",
       "      <td>0.079</td>\n",
       "      <td>0.589</td>\n",
       "      <td>1</td>\n",
       "      <td>0</td>\n",
       "    </tr>\n",
       "    <tr>\n",
       "      <th>4</th>\n",
       "      <td>1</td>\n",
       "      <td>0.529</td>\n",
       "      <td>0.536</td>\n",
       "      <td>0.994</td>\n",
       "      <td>0.512</td>\n",
       "      <td>0.094</td>\n",
       "      <td>0.534</td>\n",
       "      <td>1</td>\n",
       "      <td>0</td>\n",
       "    </tr>\n",
       "  </tbody>\n",
       "</table>\n",
       "</div>"
      ],
      "text/plain": [
       "   intercept  Cfperc  Ffperc    PDO  Foperc  oiSHperc  oZSperc  Playoff  \\\n",
       "0          1   0.527   0.524  0.989   0.494     0.093    0.537        0   \n",
       "1          1   0.591   0.592  0.996   0.533     0.089    0.605        1   \n",
       "2          1   0.512   0.512  0.983   0.498     0.090    0.528        0   \n",
       "3          1   0.539   0.550  0.991   0.523     0.079    0.589        1   \n",
       "4          1   0.529   0.536  0.994   0.512     0.094    0.534        1   \n",
       "\n",
       "   ConfFinal  \n",
       "0          0  \n",
       "1          1  \n",
       "2          0  \n",
       "3          0  \n",
       "4          0  "
      ]
     },
     "execution_count": 38,
     "metadata": {},
     "output_type": "execute_result"
    }
   ],
   "source": [
    "team_stats_df.head()"
   ]
  },
  {
   "cell_type": "code",
   "execution_count": 39,
   "metadata": {
    "collapsed": false
   },
   "outputs": [],
   "source": [
    "for i in param_list:\n",
    "    i.insert(0,\"intercept\")"
   ]
  },
  {
   "cell_type": "code",
   "execution_count": 40,
   "metadata": {
    "collapsed": true
   },
   "outputs": [],
   "source": [
    "def stats_logit(features):\n",
    "    logit_mod = sm.Logit(team_stats_df[\"Playoff\"],team_stats_df[features])\n",
    "    logit_res = logit_mod.fit()\n",
    "    print(logit_res.summary())"
   ]
  },
  {
   "cell_type": "markdown",
   "metadata": {},
   "source": [
    "#### <font color=\"red\">Check out the coefficients below, not sure why they're so much different than with SciKit</font>\n",
    "<br><font color=\"red\" size=\"10\">|                 &darr;              |</font>"
   ]
  },
  {
   "cell_type": "code",
   "execution_count": 41,
   "metadata": {
    "collapsed": false
   },
   "outputs": [
    {
     "name": "stdout",
     "output_type": "stream",
     "text": [
      "Optimization terminated successfully.\n",
      "         Current function value: 0.366239\n",
      "         Iterations 8\n",
      "                           Logit Regression Results                           \n",
      "==============================================================================\n",
      "Dep. Variable:                Playoff   No. Observations:                  270\n",
      "Model:                          Logit   Df Residuals:                      264\n",
      "Method:                           MLE   Df Model:                            5\n",
      "Date:                Wed, 09 Mar 2016   Pseudo R-squ.:                  0.4706\n",
      "Time:                        10:18:35   Log-Likelihood:                -98.884\n",
      "converged:                       True   LL-Null:                       -186.79\n",
      "                                        LLR p-value:                 4.210e-36\n",
      "==============================================================================\n",
      "                 coef    std err          z      P>|z|      [95.0% Conf. Int.]\n",
      "------------------------------------------------------------------------------\n",
      "intercept   -226.1141     30.379     -7.443      0.000      -285.657  -166.572\n",
      "Cfperc       -35.8269     28.591     -1.253      0.210       -91.864    20.210\n",
      "Ffperc       105.2089     28.860      3.645      0.000        48.644   161.774\n",
      "PDO          186.6663     28.314      6.593      0.000       131.171   242.162\n",
      "oiSHperc      -0.4792     30.611     -0.016      0.988       -60.475    59.517\n",
      "oZSperc        8.5814     11.135      0.771      0.441       -13.243    30.406\n",
      "==============================================================================\n",
      "Optimization terminated successfully.\n",
      "         Current function value: 0.367345\n",
      "         Iterations 8\n",
      "                           Logit Regression Results                           \n",
      "==============================================================================\n",
      "Dep. Variable:                Playoff   No. Observations:                  270\n",
      "Model:                          Logit   Df Residuals:                      265\n",
      "Method:                           MLE   Df Model:                            4\n",
      "Date:                Wed, 09 Mar 2016   Pseudo R-squ.:                  0.4690\n",
      "Time:                        10:18:35   Log-Likelihood:                -99.183\n",
      "converged:                       True   LL-Null:                       -186.79\n",
      "                                        LLR p-value:                 7.976e-37\n",
      "==============================================================================\n",
      "                 coef    std err          z      P>|z|      [95.0% Conf. Int.]\n",
      "------------------------------------------------------------------------------\n",
      "intercept   -222.1772     29.604     -7.505      0.000      -280.201  -164.154\n",
      "Cfperc       -30.1983     27.568     -1.095      0.273       -84.231    23.834\n",
      "Ffperc       105.9136     28.741      3.685      0.000        49.583   162.245\n",
      "PDO          183.6707     27.773      6.613      0.000       129.236   238.105\n",
      "oiSHperc       2.6004     30.236      0.086      0.931       -56.661    61.862\n",
      "==============================================================================\n",
      "Optimization terminated successfully.\n",
      "         Current function value: 0.369860\n",
      "         Iterations 8\n",
      "                           Logit Regression Results                           \n",
      "==============================================================================\n",
      "Dep. Variable:                Playoff   No. Observations:                  270\n",
      "Model:                          Logit   Df Residuals:                      267\n",
      "Method:                           MLE   Df Model:                            2\n",
      "Date:                Wed, 09 Mar 2016   Pseudo R-squ.:                  0.4654\n",
      "Time:                        10:18:35   Log-Likelihood:                -99.862\n",
      "converged:                       True   LL-Null:                       -186.79\n",
      "                                        LLR p-value:                 1.775e-38\n",
      "==============================================================================\n",
      "                 coef    std err          z      P>|z|      [95.0% Conf. Int.]\n",
      "------------------------------------------------------------------------------\n",
      "intercept   -223.9876     28.272     -7.922      0.000      -279.401  -168.575\n",
      "Ffperc        76.5902     10.275      7.454      0.000        56.452    96.728\n",
      "PDO          185.2884     24.781      7.477      0.000       136.719   233.858\n",
      "==============================================================================\n",
      "Optimization terminated successfully.\n",
      "         Current function value: 0.494225\n",
      "         Iterations 7\n",
      "                           Logit Regression Results                           \n",
      "==============================================================================\n",
      "Dep. Variable:                Playoff   No. Observations:                  270\n",
      "Model:                          Logit   Df Residuals:                      266\n",
      "Method:                           MLE   Df Model:                            3\n",
      "Date:                Wed, 09 Mar 2016   Pseudo R-squ.:                  0.2856\n",
      "Time:                        10:18:35   Log-Likelihood:                -133.44\n",
      "converged:                       True   LL-Null:                       -186.79\n",
      "                                        LLR p-value:                 5.653e-23\n",
      "==============================================================================\n",
      "                 coef    std err          z      P>|z|      [95.0% Conf. Int.]\n",
      "------------------------------------------------------------------------------\n",
      "intercept    -45.1373      6.525     -6.918      0.000       -57.926   -32.349\n",
      "Ffperc        56.5984      8.353      6.776      0.000        40.226    72.971\n",
      "Foperc        10.1038      8.841      1.143      0.253        -7.223    27.431\n",
      "oiSHperc     128.2399     21.953      5.842      0.000        85.213   171.266\n",
      "==============================================================================\n"
     ]
    }
   ],
   "source": [
    "for i in param_list:\n",
    "    stats_logit(i)"
   ]
  },
  {
   "cell_type": "markdown",
   "metadata": {},
   "source": [
    "## <font color=\"Orange\">Our restults show that we don't have any models that give us a complete list of statistically significant coefficients, so it looks like we'll need to try another model set, or maybe bring in new data.</font>\n",
    "<ul>\n",
    "        <li>Our options are plenty, we can take more traditional data like goal differential or regular season point totals.\n",
    "        <li><font color=\"red\">Please note that depending on the randomness of the K-Folds (since I did not use a static seed) if you run this again you may get a model that is statisitcally significant. However, after running this a few times, I get rarely get them, which makes me feel that there must be a more robust way of predicting</font>\n",
    "</ul>"
   ]
  },
  {
   "cell_type": "code",
   "execution_count": null,
   "metadata": {
    "collapsed": true
   },
   "outputs": [],
   "source": []
  }
 ],
 "metadata": {
  "kernelspec": {
   "display_name": "Python 2",
   "language": "python",
   "name": "python2"
  },
  "language_info": {
   "codemirror_mode": {
    "name": "ipython",
    "version": 2
   },
   "file_extension": ".py",
   "mimetype": "text/x-python",
   "name": "python",
   "nbconvert_exporter": "python",
   "pygments_lexer": "ipython2",
   "version": "2.7.11"
  }
 },
 "nbformat": 4,
 "nbformat_minor": 0
}
