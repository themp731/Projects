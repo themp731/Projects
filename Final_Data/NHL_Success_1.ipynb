{
 "cells": [
  {
   "cell_type": "code",
   "execution_count": 45,
   "metadata": {
    "collapsed": true
   },
   "outputs": [],
   "source": [
    "import numpy as np\n",
    "import pandas as pd\n",
    "import seaborn as sb\n",
    "import matplotlib as plt\n",
    "from sklearn.tree import DecisionTreeClassifier\n",
    "from sklearn.cross_validation import cross_val_score\n",
    "from sklearn.cross_validation import ShuffleSplit\n",
    "from sklearn.ensemble import RandomForestClassifier\n",
    "from sklearn.linear_model import LogisticRegression\n",
    "from sklearn.metrics import roc_auc_score"
   ]
  },
  {
   "cell_type": "code",
   "execution_count": 6,
   "metadata": {
    "collapsed": false
   },
   "outputs": [
    {
     "data": {
      "text/html": [
       "<div>\n",
       "<table border=\"1\" class=\"dataframe\">\n",
       "  <thead>\n",
       "    <tr style=\"text-align: right;\">\n",
       "      <th></th>\n",
       "      <th>Cfperc</th>\n",
       "      <th>Ffperc</th>\n",
       "      <th>PDO</th>\n",
       "      <th>Foperc</th>\n",
       "      <th>oiSHperc</th>\n",
       "      <th>oZSperc</th>\n",
       "      <th>Playoff</th>\n",
       "      <th>ConfFinal</th>\n",
       "    </tr>\n",
       "  </thead>\n",
       "  <tbody>\n",
       "    <tr>\n",
       "      <th>0</th>\n",
       "      <td>0.527</td>\n",
       "      <td>0.524</td>\n",
       "      <td>0.989</td>\n",
       "      <td>0.494</td>\n",
       "      <td>0.093</td>\n",
       "      <td>0.537</td>\n",
       "      <td>0</td>\n",
       "      <td>0</td>\n",
       "    </tr>\n",
       "    <tr>\n",
       "      <th>1</th>\n",
       "      <td>0.591</td>\n",
       "      <td>0.592</td>\n",
       "      <td>0.996</td>\n",
       "      <td>0.533</td>\n",
       "      <td>0.089</td>\n",
       "      <td>0.605</td>\n",
       "      <td>1</td>\n",
       "      <td>1</td>\n",
       "    </tr>\n",
       "    <tr>\n",
       "      <th>2</th>\n",
       "      <td>0.512</td>\n",
       "      <td>0.512</td>\n",
       "      <td>0.983</td>\n",
       "      <td>0.498</td>\n",
       "      <td>0.090</td>\n",
       "      <td>0.528</td>\n",
       "      <td>0</td>\n",
       "      <td>0</td>\n",
       "    </tr>\n",
       "    <tr>\n",
       "      <th>3</th>\n",
       "      <td>0.539</td>\n",
       "      <td>0.550</td>\n",
       "      <td>0.991</td>\n",
       "      <td>0.523</td>\n",
       "      <td>0.079</td>\n",
       "      <td>0.589</td>\n",
       "      <td>1</td>\n",
       "      <td>0</td>\n",
       "    </tr>\n",
       "    <tr>\n",
       "      <th>4</th>\n",
       "      <td>0.529</td>\n",
       "      <td>0.536</td>\n",
       "      <td>0.994</td>\n",
       "      <td>0.512</td>\n",
       "      <td>0.094</td>\n",
       "      <td>0.534</td>\n",
       "      <td>1</td>\n",
       "      <td>0</td>\n",
       "    </tr>\n",
       "  </tbody>\n",
       "</table>\n",
       "</div>"
      ],
      "text/plain": [
       "   Cfperc  Ffperc    PDO  Foperc  oiSHperc  oZSperc  Playoff  ConfFinal\n",
       "0   0.527   0.524  0.989   0.494     0.093    0.537        0          0\n",
       "1   0.591   0.592  0.996   0.533     0.089    0.605        1          1\n",
       "2   0.512   0.512  0.983   0.498     0.090    0.528        0          0\n",
       "3   0.539   0.550  0.991   0.523     0.079    0.589        1          0\n",
       "4   0.529   0.536  0.994   0.512     0.094    0.534        1          0"
      ]
     },
     "execution_count": 6,
     "metadata": {},
     "output_type": "execute_result"
    }
   ],
   "source": [
    "team_stats = pd.read_csv(\"team_stats_1.csv\")\n",
    "team_stats_df = pd.DataFrame(team_stats.ix[:,1:9])\n",
    "team_stats_df.head()"
   ]
  },
  {
   "cell_type": "code",
   "execution_count": 7,
   "metadata": {
    "collapsed": false
   },
   "outputs": [
    {
     "data": {
      "text/html": [
       "<div>\n",
       "<table border=\"1\" class=\"dataframe\">\n",
       "  <thead>\n",
       "    <tr style=\"text-align: right;\">\n",
       "      <th></th>\n",
       "      <th>Cfperc</th>\n",
       "      <th>Ffperc</th>\n",
       "      <th>PDO</th>\n",
       "      <th>Foperc</th>\n",
       "      <th>oiSHperc</th>\n",
       "      <th>oZSperc</th>\n",
       "      <th>Playoff</th>\n",
       "      <th>ConfFinal</th>\n",
       "    </tr>\n",
       "  </thead>\n",
       "  <tbody>\n",
       "    <tr>\n",
       "      <th>count</th>\n",
       "      <td>270.000000</td>\n",
       "      <td>270.000000</td>\n",
       "      <td>270.000000</td>\n",
       "      <td>270.000000</td>\n",
       "      <td>270.000000</td>\n",
       "      <td>270.000000</td>\n",
       "      <td>270.000000</td>\n",
       "      <td>270.000000</td>\n",
       "    </tr>\n",
       "    <tr>\n",
       "      <th>mean</th>\n",
       "      <td>0.499456</td>\n",
       "      <td>0.500081</td>\n",
       "      <td>1.000056</td>\n",
       "      <td>0.499956</td>\n",
       "      <td>0.090604</td>\n",
       "      <td>0.510752</td>\n",
       "      <td>0.474074</td>\n",
       "      <td>0.118519</td>\n",
       "    </tr>\n",
       "    <tr>\n",
       "      <th>std</th>\n",
       "      <td>0.027959</td>\n",
       "      <td>0.027741</td>\n",
       "      <td>0.011996</td>\n",
       "      <td>0.019997</td>\n",
       "      <td>0.008479</td>\n",
       "      <td>0.027373</td>\n",
       "      <td>0.500255</td>\n",
       "      <td>0.323821</td>\n",
       "    </tr>\n",
       "    <tr>\n",
       "      <th>min</th>\n",
       "      <td>0.380000</td>\n",
       "      <td>0.393000</td>\n",
       "      <td>0.963000</td>\n",
       "      <td>0.442000</td>\n",
       "      <td>0.069000</td>\n",
       "      <td>0.424000</td>\n",
       "      <td>0.000000</td>\n",
       "      <td>0.000000</td>\n",
       "    </tr>\n",
       "    <tr>\n",
       "      <th>25%</th>\n",
       "      <td>0.480250</td>\n",
       "      <td>0.482000</td>\n",
       "      <td>0.993000</td>\n",
       "      <td>0.486000</td>\n",
       "      <td>0.085000</td>\n",
       "      <td>0.494000</td>\n",
       "      <td>0.000000</td>\n",
       "      <td>0.000000</td>\n",
       "    </tr>\n",
       "    <tr>\n",
       "      <th>50%</th>\n",
       "      <td>0.501500</td>\n",
       "      <td>0.502000</td>\n",
       "      <td>1.001000</td>\n",
       "      <td>0.501000</td>\n",
       "      <td>0.091000</td>\n",
       "      <td>0.512000</td>\n",
       "      <td>0.000000</td>\n",
       "      <td>0.000000</td>\n",
       "    </tr>\n",
       "    <tr>\n",
       "      <th>75%</th>\n",
       "      <td>0.520000</td>\n",
       "      <td>0.520000</td>\n",
       "      <td>1.007000</td>\n",
       "      <td>0.513000</td>\n",
       "      <td>0.096000</td>\n",
       "      <td>0.527750</td>\n",
       "      <td>1.000000</td>\n",
       "      <td>0.000000</td>\n",
       "    </tr>\n",
       "    <tr>\n",
       "      <th>max</th>\n",
       "      <td>0.591000</td>\n",
       "      <td>0.592000</td>\n",
       "      <td>1.033000</td>\n",
       "      <td>0.564000</td>\n",
       "      <td>0.116000</td>\n",
       "      <td>0.605000</td>\n",
       "      <td>1.000000</td>\n",
       "      <td>1.000000</td>\n",
       "    </tr>\n",
       "  </tbody>\n",
       "</table>\n",
       "</div>"
      ],
      "text/plain": [
       "           Cfperc      Ffperc         PDO      Foperc    oiSHperc     oZSperc  \\\n",
       "count  270.000000  270.000000  270.000000  270.000000  270.000000  270.000000   \n",
       "mean     0.499456    0.500081    1.000056    0.499956    0.090604    0.510752   \n",
       "std      0.027959    0.027741    0.011996    0.019997    0.008479    0.027373   \n",
       "min      0.380000    0.393000    0.963000    0.442000    0.069000    0.424000   \n",
       "25%      0.480250    0.482000    0.993000    0.486000    0.085000    0.494000   \n",
       "50%      0.501500    0.502000    1.001000    0.501000    0.091000    0.512000   \n",
       "75%      0.520000    0.520000    1.007000    0.513000    0.096000    0.527750   \n",
       "max      0.591000    0.592000    1.033000    0.564000    0.116000    0.605000   \n",
       "\n",
       "          Playoff   ConfFinal  \n",
       "count  270.000000  270.000000  \n",
       "mean     0.474074    0.118519  \n",
       "std      0.500255    0.323821  \n",
       "min      0.000000    0.000000  \n",
       "25%      0.000000    0.000000  \n",
       "50%      0.000000    0.000000  \n",
       "75%      1.000000    0.000000  \n",
       "max      1.000000    1.000000  "
      ]
     },
     "execution_count": 7,
     "metadata": {},
     "output_type": "execute_result"
    }
   ],
   "source": [
    "team_stats_df.describe()"
   ]
  },
  {
   "cell_type": "code",
   "execution_count": 12,
   "metadata": {
    "collapsed": false
   },
   "outputs": [],
   "source": [
    "features=list(team_stats_df.columns)[0:-2]"
   ]
  },
  {
   "cell_type": "code",
   "execution_count": 38,
   "metadata": {
    "collapsed": false
   },
   "outputs": [],
   "source": [
    "import itertools\n",
    "feature_list = []\n",
    "for i in range(1,len(features)+1):\n",
    "    for j in itertools.combinations(features,i):\n",
    "        feature_list.append(list(j))"
   ]
  },
  {
   "cell_type": "markdown",
   "metadata": {},
   "source": [
    "### Starting off with logistic regression.\n",
    "#### We're going to do models for both the playoffs and the conference finals as our dependent variable."
   ]
  },
  {
   "cell_type": "code",
   "execution_count": 108,
   "metadata": {
    "collapsed": true
   },
   "outputs": [],
   "source": [
    "def make_playoff(features):\n",
    "    model = LogisticRegression()\n",
    "    X = team_stats_df[features]\n",
    "    Y = team_stats_df[\"Playoff\"]\n",
    "    logmod = model.fit(X,Y)\n",
    "    score = get_score(logmod,X,Y)\n",
    "    #top_mod = model_rank(score,features)\n",
    "    print (score,features)"
   ]
  },
  {
   "cell_type": "code",
   "execution_count": 116,
   "metadata": {
    "collapsed": true
   },
   "outputs": [],
   "source": [
    "def get_score(model,x,y):\n",
    "    shuffle=ShuffleSplit(len(x),n_iter=5,test_size=0.2)\n",
    "    scores = cross_val_score(model,x,y,scoring=\"roc_auc\",cv=shuffle)\n",
    "    result = scores.mean()\n",
    "    return result"
   ]
  },
  {
   "cell_type": "markdown",
   "metadata": {},
   "source": [
    "<font color=\"red\", size=15>NEED HELP RANKING THE MODELS</font>"
   ]
  },
  {
   "cell_type": "code",
   "execution_count": 117,
   "metadata": {
    "collapsed": false
   },
   "outputs": [
    {
     "data": {
      "text/plain": [
       "'rank = [[0,\"\"]]*5\\ndef model_rank(score,features):\\n    i=0\\n    while score>rank[i][0] and i<=3:\\n        i+=1\\n    rank[i][0]=score\\n    rank[i][1]=features \\n    return rank\\n'"
      ]
     },
     "execution_count": 117,
     "metadata": {},
     "output_type": "execute_result"
    }
   ],
   "source": [
    "\"\"\"rank = [[0,\"\"]]*5\n",
    "def model_rank(score,features):\n",
    "    i=0\n",
    "    while score>rank[i][0] and i<=3:\n",
    "        i+=1\n",
    "    rank[i][0]=score\n",
    "    rank[i][1]=features \n",
    "    return rank\n",
    "\"\"\""
   ]
  },
  {
   "cell_type": "code",
   "execution_count": 118,
   "metadata": {
    "collapsed": false
   },
   "outputs": [
    {
     "name": "stdout",
     "output_type": "stream",
     "text": [
      "(0.73049054294233118, ['Cfperc'])\n",
      "['Cfperc']\n",
      "(0.760301610445971, ['Ffperc'])\n",
      "['Ffperc']\n",
      "(0.74385095412250579, ['PDO'])\n",
      "['PDO']\n",
      "(0.65191126498023055, ['Foperc'])\n",
      "['Foperc']\n",
      "(0.66172018166390867, ['oiSHperc'])\n",
      "['oiSHperc']\n",
      "(0.6876346910936405, ['oZSperc'])\n",
      "['oZSperc']\n",
      "(0.75297372838504784, ['Cfperc', 'Ffperc'])\n",
      "['Cfperc', 'Ffperc']\n",
      "(0.77483696571627614, ['Cfperc', 'PDO'])\n",
      "['Cfperc', 'PDO']\n",
      "(0.70050461637575978, ['Cfperc', 'Foperc'])\n",
      "['Cfperc', 'Foperc']\n",
      "(0.7359936299332851, ['Cfperc', 'oiSHperc'])\n",
      "['Cfperc', 'oiSHperc']\n",
      "(0.78034384013769942, ['Cfperc', 'oZSperc'])\n",
      "['Cfperc', 'oZSperc']\n",
      "(0.76538235332615923, ['Ffperc', 'PDO'])\n",
      "['Ffperc', 'PDO']\n",
      "(0.77589559188823887, ['Ffperc', 'Foperc'])\n",
      "['Ffperc', 'Foperc']\n",
      "(0.80396108455439086, ['Ffperc', 'oiSHperc'])\n",
      "['Ffperc', 'oiSHperc']\n",
      "(0.72958649666763242, ['Ffperc', 'oZSperc'])\n",
      "['Ffperc', 'oZSperc']\n",
      "(0.6758823993119828, ['PDO', 'Foperc'])\n",
      "['PDO', 'Foperc']\n",
      "(0.71022394150275647, ['PDO', 'oiSHperc'])\n",
      "['PDO', 'oiSHperc']\n",
      "(0.66878448275862068, ['PDO', 'oZSperc'])\n",
      "['PDO', 'oZSperc']\n",
      "(0.64954387645907219, ['Foperc', 'oiSHperc'])\n",
      "['Foperc', 'oiSHperc']\n",
      "(0.70803673692562585, ['Foperc', 'oZSperc'])\n",
      "['Foperc', 'oZSperc']\n",
      "(0.68771119330506314, ['oiSHperc', 'oZSperc'])\n",
      "['oiSHperc', 'oZSperc']\n",
      "(0.77343571913357256, ['Cfperc', 'Ffperc', 'PDO'])\n",
      "['Cfperc', 'Ffperc', 'PDO']\n",
      "(0.77553487815430011, ['Cfperc', 'Ffperc', 'Foperc'])\n",
      "['Cfperc', 'Ffperc', 'Foperc']\n",
      "(0.78998659003831428, ['Cfperc', 'Ffperc', 'oiSHperc'])\n",
      "['Cfperc', 'Ffperc', 'oiSHperc']\n",
      "(0.71650006372228592, ['Cfperc', 'Ffperc', 'oZSperc'])\n",
      "['Cfperc', 'Ffperc', 'oZSperc']\n",
      "(0.7635634404003051, ['Cfperc', 'PDO', 'Foperc'])\n",
      "['Cfperc', 'PDO', 'Foperc']\n",
      "(0.78221305010778697, ['Cfperc', 'PDO', 'oiSHperc'])\n",
      "['Cfperc', 'PDO', 'oiSHperc']\n",
      "(0.73166301120004829, ['Cfperc', 'PDO', 'oZSperc'])\n",
      "['Cfperc', 'PDO', 'oZSperc']\n",
      "(0.75292806473362028, ['Cfperc', 'Foperc', 'oiSHperc'])\n",
      "['Cfperc', 'Foperc', 'oiSHperc']\n",
      "(0.72707358046204074, ['Cfperc', 'Foperc', 'oZSperc'])\n",
      "['Cfperc', 'Foperc', 'oZSperc']\n",
      "(0.73721833721833718, ['Cfperc', 'oiSHperc', 'oZSperc'])\n",
      "['Cfperc', 'oiSHperc', 'oZSperc']\n",
      "(0.77950224405056534, ['Ffperc', 'PDO', 'Foperc'])\n",
      "['Ffperc', 'PDO', 'Foperc']\n",
      "(0.76469175723435234, ['Ffperc', 'PDO', 'oiSHperc'])\n",
      "['Ffperc', 'PDO', 'oiSHperc']\n",
      "(0.68558133279837141, ['Ffperc', 'PDO', 'oZSperc'])\n",
      "['Ffperc', 'PDO', 'oZSperc']\n",
      "(0.76575472301551462, ['Ffperc', 'Foperc', 'oiSHperc'])\n",
      "['Ffperc', 'Foperc', 'oiSHperc']\n",
      "(0.74148467432950194, ['Ffperc', 'Foperc', 'oZSperc'])\n",
      "['Ffperc', 'Foperc', 'oZSperc']\n",
      "(0.72246736433272196, ['Ffperc', 'oiSHperc', 'oZSperc'])\n",
      "['Ffperc', 'oiSHperc', 'oZSperc']\n",
      "(0.7103336973630725, ['PDO', 'Foperc', 'oiSHperc'])\n",
      "['PDO', 'Foperc', 'oiSHperc']\n",
      "(0.65718559218559214, ['PDO', 'Foperc', 'oZSperc'])\n",
      "['PDO', 'Foperc', 'oZSperc']\n",
      "(0.70203056412311771, ['PDO', 'oiSHperc', 'oZSperc'])\n",
      "['PDO', 'oiSHperc', 'oZSperc']\n",
      "(0.69263065124782663, ['Foperc', 'oiSHperc', 'oZSperc'])\n",
      "['Foperc', 'oiSHperc', 'oZSperc']\n",
      "(0.71386442493196312, ['Cfperc', 'Ffperc', 'PDO', 'Foperc'])\n",
      "['Cfperc', 'Ffperc', 'PDO', 'Foperc']\n",
      "(0.73188283242873431, ['Cfperc', 'Ffperc', 'PDO', 'oiSHperc'])\n",
      "['Cfperc', 'Ffperc', 'PDO', 'oiSHperc']\n",
      "(0.73196632525063898, ['Cfperc', 'Ffperc', 'PDO', 'oZSperc'])\n",
      "['Cfperc', 'Ffperc', 'PDO', 'oZSperc']\n",
      "(0.74201432714204107, ['Cfperc', 'Ffperc', 'Foperc', 'oiSHperc'])\n",
      "['Cfperc', 'Ffperc', 'Foperc', 'oiSHperc']\n",
      "(0.73661152553811504, ['Cfperc', 'Ffperc', 'Foperc', 'oZSperc'])\n",
      "['Cfperc', 'Ffperc', 'Foperc', 'oZSperc']\n",
      "(0.7568970892557173, ['Cfperc', 'Ffperc', 'oiSHperc', 'oZSperc'])\n",
      "['Cfperc', 'Ffperc', 'oiSHperc', 'oZSperc']\n",
      "(0.76562278400972361, ['Cfperc', 'PDO', 'Foperc', 'oiSHperc'])\n",
      "['Cfperc', 'PDO', 'Foperc', 'oiSHperc']\n",
      "(0.72026506540444135, ['Cfperc', 'PDO', 'Foperc', 'oZSperc'])\n",
      "['Cfperc', 'PDO', 'Foperc', 'oZSperc']\n",
      "(0.76044498531460236, ['Cfperc', 'PDO', 'oiSHperc', 'oZSperc'])\n",
      "['Cfperc', 'PDO', 'oiSHperc', 'oZSperc']\n",
      "(0.76625851153245794, ['Cfperc', 'Foperc', 'oiSHperc', 'oZSperc'])\n",
      "['Cfperc', 'Foperc', 'oiSHperc', 'oZSperc']\n",
      "(0.75505377648447691, ['Ffperc', 'PDO', 'Foperc', 'oiSHperc'])\n",
      "['Ffperc', 'PDO', 'Foperc', 'oiSHperc']\n",
      "(0.72378678176923794, ['Ffperc', 'PDO', 'Foperc', 'oZSperc'])\n",
      "['Ffperc', 'PDO', 'Foperc', 'oZSperc']\n",
      "(0.75049001030625251, ['Ffperc', 'PDO', 'oiSHperc', 'oZSperc'])\n",
      "['Ffperc', 'PDO', 'oiSHperc', 'oZSperc']\n",
      "(0.78115497158675962, ['Ffperc', 'Foperc', 'oiSHperc', 'oZSperc'])\n",
      "['Ffperc', 'Foperc', 'oiSHperc', 'oZSperc']\n",
      "(0.70691496003996013, ['PDO', 'Foperc', 'oiSHperc', 'oZSperc'])\n",
      "['PDO', 'Foperc', 'oiSHperc', 'oZSperc']\n",
      "(0.74919641099011647, ['Cfperc', 'Ffperc', 'PDO', 'Foperc', 'oiSHperc'])\n",
      "['Cfperc', 'Ffperc', 'PDO', 'Foperc', 'oiSHperc']\n",
      "(0.72666914581924724, ['Cfperc', 'Ffperc', 'PDO', 'Foperc', 'oZSperc'])\n",
      "['Cfperc', 'Ffperc', 'PDO', 'Foperc', 'oZSperc']\n",
      "(0.74392993667323171, ['Cfperc', 'Ffperc', 'PDO', 'oiSHperc', 'oZSperc'])\n",
      "['Cfperc', 'Ffperc', 'PDO', 'oiSHperc', 'oZSperc']\n",
      "(0.79498748224861182, ['Cfperc', 'Ffperc', 'Foperc', 'oiSHperc', 'oZSperc'])\n",
      "['Cfperc', 'Ffperc', 'Foperc', 'oiSHperc', 'oZSperc']\n",
      "(0.72828053774129109, ['Cfperc', 'PDO', 'Foperc', 'oiSHperc', 'oZSperc'])\n",
      "['Cfperc', 'PDO', 'Foperc', 'oiSHperc', 'oZSperc']\n",
      "(0.74272611555500745, ['Ffperc', 'PDO', 'Foperc', 'oiSHperc', 'oZSperc'])\n",
      "['Ffperc', 'PDO', 'Foperc', 'oiSHperc', 'oZSperc']\n",
      "(0.74389349050902354, ['Cfperc', 'Ffperc', 'PDO', 'Foperc', 'oiSHperc', 'oZSperc'])\n",
      "['Cfperc', 'Ffperc', 'PDO', 'Foperc', 'oiSHperc', 'oZSperc']\n"
     ]
    }
   ],
   "source": [
    "for i in feature_list:\n",
    "    make_playoff(i)\n",
    "    print(i)"
   ]
  },
  {
   "cell_type": "code",
   "execution_count": null,
   "metadata": {
    "collapsed": true
   },
   "outputs": [],
   "source": []
  }
 ],
 "metadata": {
  "kernelspec": {
   "display_name": "Python 2",
   "language": "python",
   "name": "python2"
  },
  "language_info": {
   "codemirror_mode": {
    "name": "ipython",
    "version": 2
   },
   "file_extension": ".py",
   "mimetype": "text/x-python",
   "name": "python",
   "nbconvert_exporter": "python",
   "pygments_lexer": "ipython2",
   "version": "2.7.11"
  }
 },
 "nbformat": 4,
 "nbformat_minor": 0
}
