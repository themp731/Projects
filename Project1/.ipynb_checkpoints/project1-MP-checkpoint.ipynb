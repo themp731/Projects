{
 "cells": [
  {
   "cell_type": "markdown",
   "metadata": {},
   "source": [
    "# Matt \"MP\" Markezin-Press\n",
    "## Project 1: Identifying Factors That May Influence Admissions Into Graduate School"
   ]
  },
  {
   "cell_type": "markdown",
   "metadata": {},
   "source": [
    "### <font face=\"Verdana\">Evaluation Goals: </font>\n",
    "<font face=\"Verdana\", line-height=100%>Utilizing the dataset from the file <font color=\"blue\">[admissions.csv](https://github.com/ga-students/DAT-NYC-31/blob/master/projects/unit-projects/project-1/assets/admissions.csv)</font> determine the likelihood of being granted admission into graduate school given based on a candidate's GPA, GRE Score and the prestige of his or her undergraduate university.</font>"
   ]
  },
  {
   "cell_type": "markdown",
   "metadata": {},
   "source": [
    "#### 1. The dependent or 'outcome' we are investigating is the admission of a student into graduate school."
   ]
  },
  {
   "cell_type": "markdown",
   "metadata": {},
   "source": [
    "In our dataset, this variable is named, 'admit'"
   ]
  },
  {
   "cell_type": "markdown",
   "metadata": {},
   "source": [
    "#### 2. The predictor or covariates that we will use to determine any trends in admission of candidates to graduate school are GPA's, GRE Scores and the prestige of an undergraduate's alma mater. "
   ]
  },
  {
   "cell_type": "markdown",
   "metadata": {},
   "source": [
    "The variables are named 'gpa' 'gre' and 'prestige' respectively in our dataset"
   ]
  },
  {
   "cell_type": "markdown",
   "metadata": {},
   "source": [
    "#### 3. There is no indicated timeframe for our dataset so it remains unclear how relevant the outcomes of our analysis will be."
   ]
  },
  {
   "cell_type": "markdown",
   "metadata": {},
   "source": [
    "<em>The analysis of this dataset may indicate certain trends historically, however without further information on the dataset and its context, its predictive value is unclear.</em>"
   ]
  },
  {
   "cell_type": "markdown",
   "metadata": {},
   "source": [
    "### <font face=\"Verdana\">Data Set Overview:</font><br>\n",
    "<font face=\"Verdana\", line-height=100%, color=\"DarkBlue\", size=3pt><strong>Set Information</strong>,<br>\n",
    "Sample Size: <font color=\"blue\", size=2pt>400</font><br>\n",
    "Samples Missing Data: <font color=\"blue\", size=2pt>3</font>\n",
    "\n",
    "<strong>Variables</strong><br>\n",
    "admit: <font color=\"blue\", size=2pt>Binary variable as integer. If admit = 1 candidate was admitted to graduate school, if admit = 0 candidate was rejected.</font><br>\n",
    "gre: <font color=\"blue\", size=2pt>Continuous variable as integer. Cadidate's GRE score on an 200-800 point scale. <em>Note: GRE scores are now represented on a scale from 130-170. Scores are descrete but will be treated as a continuous variable for analysis</em></font><br>\n",
    "gpa: <font color=\"blue\", size=2pt>Continuous varibale as float to two decimal points. A candidates Grade Point Average on a 4 point scale, 4 being the best GPA.</font><br>\n",
    "prestige: <font color=\"blue\", size=2pt>Categorical variable as integer. Pretige is the rank of an applicant's undergraduate alma mater, with 1 being the highest and 4 as the lowest</font><br>\n"
   ]
  },
  {
   "cell_type": "markdown",
   "metadata": {},
   "source": [
    "Variable | Description | Type of Variable\n",
    ":----| :----:| ----:\n",
    "admit | 0 = Not admitted 1 = Admitted | Categorical & binary\n",
    "gre | GRE Score | continuous \n",
    "gpa | Grade Point Average | continuous \n",
    "pretige | Pretiges of undergraduate institution | Ordinal: [1,2,3,4] \n"
   ]
  },
  {
   "cell_type": "markdown",
   "metadata": {
    "collapsed": false
   },
   "source": [
    "|admit | gre| gpa | prestige\n",
    "---|---|---|---|---\n",
    "count|400\t|398|\t398|\t399\n",
    "mean|0.317500\t|588.040201|\t3.39093\t|2.486216\n",
    "std|0.466087\t|115.628513|\t0.38063\t|0.945333\n",
    "min\t|0|\t220\t|2.26000|\t1\n",
    "25%|\t0|520\t|3.13000\t|2\n",
    "50%\t|0|\t580|\t3.39500|\t2\n",
    "75%|\t1\t|660\t|3.67000|\t3\n",
    "max|\t1\t|800\t|4.00000|\t4"
   ]
  },
  {
   "cell_type": "markdown",
   "metadata": {},
   "source": [
    "### <font face=\"Verdana\">Hypothesis: </font>"
   ]
  },
  {
   "cell_type": "markdown",
   "metadata": {},
   "source": []
  },
  {
   "cell_type": "markdown",
   "metadata": {},
   "source": [
    "### Exploratory Analysis Plan"
   ]
  },
  {
   "cell_type": "markdown",
   "metadata": {},
   "source": [
    "Using the lab from a class as a guide, create an exploratory analysis plan. "
   ]
  },
  {
   "cell_type": "markdown",
   "metadata": {},
   "source": [
    "#### 1. What are the goals of the exploratory analysis? "
   ]
  },
  {
   "cell_type": "markdown",
   "metadata": {
    "collapsed": true
   },
   "source": [
    "Answer: "
   ]
  },
  {
   "cell_type": "markdown",
   "metadata": {},
   "source": [
    "#### 2a. What are the assumptions of the distribution of data? "
   ]
  },
  {
   "cell_type": "markdown",
   "metadata": {},
   "source": [
    "Answer:"
   ]
  },
  {
   "cell_type": "markdown",
   "metadata": {},
   "source": [
    "#### 2b. How will determine the distribution of your data? "
   ]
  },
  {
   "cell_type": "markdown",
   "metadata": {
    "collapsed": true
   },
   "source": [
    "Answer: "
   ]
  },
  {
   "cell_type": "markdown",
   "metadata": {},
   "source": [
    "#### 3a. How might outliers impact your analysis? "
   ]
  },
  {
   "cell_type": "markdown",
   "metadata": {
    "collapsed": true
   },
   "source": [
    "Answer: "
   ]
  },
  {
   "cell_type": "markdown",
   "metadata": {},
   "source": [
    "#### 3b. How will you test for outliers? "
   ]
  },
  {
   "cell_type": "markdown",
   "metadata": {},
   "source": [
    "Answer:"
   ]
  },
  {
   "cell_type": "markdown",
   "metadata": {},
   "source": [
    "#### 4a. What is colinearity? "
   ]
  },
  {
   "cell_type": "markdown",
   "metadata": {
    "collapsed": true
   },
   "source": [
    "Answer: "
   ]
  },
  {
   "cell_type": "markdown",
   "metadata": {},
   "source": [
    "#### 4b. How will you test for colinearity? "
   ]
  },
  {
   "cell_type": "markdown",
   "metadata": {},
   "source": [
    "Answer:"
   ]
  },
  {
   "cell_type": "markdown",
   "metadata": {},
   "source": [
    "#### 5. What is your exploratory analysis plan?\n",
    "Using the above information, write an exploratory analysis plan that would allow you or a colleague to reproduce your analysis 1 year from now. "
   ]
  },
  {
   "cell_type": "markdown",
   "metadata": {},
   "source": [
    "Answer: "
   ]
  },
  {
   "cell_type": "markdown",
   "metadata": {},
   "source": [
    "## Bonus Questions:\n",
    "1. Outline your analysis method for predicting your outcome\n",
    "2. Write an alternative problem statement for your dataset\n",
    "3. Articulate the assumptions and risks of the alternative model"
   ]
  },
  {
   "cell_type": "code",
   "execution_count": 1,
   "metadata": {
    "collapsed": false
   },
   "outputs": [
    {
     "data": {
      "text/plain": [
       "'Dataset\\n\\nWe\\'ll be using the same dataset as UCLA\\'s Logit Regression in R tutorial to explore logistic regression in Python. Our goal will be to identify the various factors that may influence admission into graduate school. It contains four variables- admit, gre, gpa, rank.\\n\\n\\'admit\\' is a binary variable. It indicates whether or not a candidate was admitted admit =1) our not (admit= 0)\\n\\'gre\\' is GRE score\\n\\'gpa\\' stands for Grade Point Average\\n\\'rank\\' is the rank of an applicant\\'s undergraduate alma mater, with 1 being the highest and 4 as the lowest\"\\n'"
      ]
     },
     "execution_count": 1,
     "metadata": {},
     "output_type": "execute_result"
    }
   ],
   "source": [
    "'''Dataset\n",
    "\n",
    "We'll be using the same dataset as UCLA's Logit Regression in R tutorial to explore logistic regression in Python. Our goal will be to identify the various factors that may influence admission into graduate school. It contains four variables- admit, gre, gpa, rank.\n",
    "\n",
    "'admit' is a binary variable. It indicates whether or not a candidate was admitted admit =1) our not (admit= 0)\n",
    "'gre' is GRE score\n",
    "'gpa' stands for Grade Point Average\n",
    "'rank' is the rank of an applicant's undergraduate alma mater, with 1 being the highest and 4 as the lowest\"\n",
    "'''"
   ]
  },
  {
   "cell_type": "code",
   "execution_count": null,
   "metadata": {
    "collapsed": true
   },
   "outputs": [],
   "source": []
  }
 ],
 "metadata": {
  "kernelspec": {
   "display_name": "Python 2",
   "language": "python",
   "name": "python2"
  },
  "language_info": {
   "codemirror_mode": {
    "name": "ipython",
    "version": 2
   },
   "file_extension": ".py",
   "mimetype": "text/x-python",
   "name": "python",
   "nbconvert_exporter": "python",
   "pygments_lexer": "ipython2",
   "version": "2.7.11"
  }
 },
 "nbformat": 4,
 "nbformat_minor": 0
}
