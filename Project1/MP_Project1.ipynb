{
 "cells": [
  {
   "cell_type": "markdown",
   "metadata": {},
   "source": [
    "<font color=\"red\">\n",
    "<strong>NOTE: </strong>Some markdown methods from the cheatsheet were not working.\n",
    "As a result I used a lot of inline HTML and a lot of 'br's\n",
    "Also, any time I included data or imported files I imported admissions.csv from same directory\n",
    "</font>"
   ]
  },
  {
   "cell_type": "markdown",
   "metadata": {},
   "source": [
    "# Matt \"MP\" Markezin-Press\n",
    "## Project 1: Identifying Factors That May Influence Admissions Into Graduate School"
   ]
  },
  {
   "cell_type": "markdown",
   "metadata": {},
   "source": [
    "### <font face=\"Verdana\">Evaluation Goals: </font>\n",
    "<font face=\"Verdana\", line-height=100%>Utilizing the dataset from the file <font color=\"blue\">[admissions.csv](https://github.com/ga-students/DAT-NYC-31/blob/master/projects/unit-projects/project-1/assets/admissions.csv)</font> determine the likelihood of being granted admission into graduate school given based on a candidate's GPA, GRE Score and the prestige of his or her undergraduate university.</font>"
   ]
  },
  {
   "cell_type": "markdown",
   "metadata": {},
   "source": [
    "#### 1. The dependent or 'outcome' we are investigating is the admission of a student into graduate school."
   ]
  },
  {
   "cell_type": "markdown",
   "metadata": {},
   "source": [
    "In our dataset, this variable is named, 'admit'"
   ]
  },
  {
   "cell_type": "markdown",
   "metadata": {},
   "source": [
    "#### 2. The predictor or covariates that we will use to determine any trends in admission of candidates to graduate school are GPA's, GRE Scores and the prestige of an undergraduate's alma mater. "
   ]
  },
  {
   "cell_type": "markdown",
   "metadata": {},
   "source": [
    "The variables are named 'gpa' 'gre' and 'prestige' respectively in our dataset"
   ]
  },
  {
   "cell_type": "markdown",
   "metadata": {},
   "source": [
    "#### 3. There is no indicated timeframe for our dataset so it remains unclear how relevant the outcomes of our analysis will be."
   ]
  },
  {
   "cell_type": "markdown",
   "metadata": {},
   "source": [
    "<em>The analysis of this dataset may indicate certain trends historically, however without further information on the dataset and its context, its predictive value is unclear.</em>"
   ]
  },
  {
   "cell_type": "markdown",
   "metadata": {},
   "source": [
    "### <font face=\"Verdana\">Data Set Overview:</font><br>\n",
    "<font face=\"Verdana\", line-height=100%, color=\"DarkBlue\", size=3pt><strong>Set Information</strong>,<br>\n",
    "Sample Size: <font color=\"blue\", size=2pt>400</font><br>\n",
    "Samples Missing Data: <font color=\"blue\", size=2pt>3</font>\n",
    "\n",
    "<strong>Variables</strong><br>\n",
    "admit: <font color=\"blue\", size=2pt>Binary variable as integer. If admit = 1 candidate was admitted to graduate school, if admit = 0 candidate was rejected.</font><br>\n",
    "gre: <font color=\"blue\", size=2pt>Continuous variable as integer. Cadidate's GRE score on an 200-800 point scale. <em>Note: GRE scores are now represented on a scale from 130-170. Scores are descrete but will be treated as a continuous variable for analysis</em></font><br>\n",
    "gpa: <font color=\"blue\", size=2pt>Continuous varibale as float to two decimal points. A candidates Grade Point Average on a 4 point scale, 4 being the best GPA.</font><br>\n",
    "prestige: <font color=\"blue\", size=2pt>Categorical variable as integer. Pretige is the rank of an applicant's undergraduate alma mater, with 1 being the highest and 4 as the lowest</font><br>\n"
   ]
  },
  {
   "cell_type": "markdown",
   "metadata": {},
   "source": [
    "Variable | Description | Type of Variable\n",
    ":----| :----:| ----:\n",
    "admit | 0 = Not admitted 1 = Admitted | Categorical & binary\n",
    "gre | GRE Score | continuous \n",
    "gpa | Grade Point Average | continuous \n",
    "pretige | Pretiges of undergraduate institution | Ordinal: [1,2,3,4] \n"
   ]
  },
  {
   "cell_type": "markdown",
   "metadata": {
    "collapsed": false
   },
   "source": [
    "|admit | gre| gpa | prestige\n",
    "---|---|---|---|---\n",
    "count|400\t|398|\t398|\t399\n",
    "mean|0.317500\t|588.040201|\t3.39093\t|2.486216\n",
    "std|0.466087\t|115.628513|\t0.38063\t|0.945333\n",
    "min\t|0|\t220\t|2.26000|\t1\n",
    "25%|\t0|520\t|3.13000\t|2\n",
    "50%\t|0|\t580|\t3.39500|\t2\n",
    "75%|\t1\t|660\t|3.67000|\t3\n",
    "max|\t1\t|800\t|4.00000|\t4"
   ]
  },
  {
   "cell_type": "markdown",
   "metadata": {},
   "source": [
    "### <font face=\"Verdana\">Hypothesis: </font>"
   ]
  },
  {
   "cell_type": "markdown",
   "metadata": {},
   "source": [
    "<strong>Higher GPAs and higher GRE scores are more associated with being admitted to graduate school than having attended an institution with high prestige.</strong>"
   ]
  },
  {
   "cell_type": "markdown",
   "metadata": {},
   "source": [
    "### Assumptions"
   ]
  },
  {
   "cell_type": "markdown",
   "metadata": {},
   "source": [
    "* Our data is distributed in a way that a certain prestige, GRE or GPA is not over represented\n",
    "* The time frame where predictive values are measured is relevant to the outcome variable\n",
    "* There is no strong colinearity <em>(where at least two predictive variables are highly correlated with each other. This can cause multivariable regressions to become inaccurate)</em><br>\n",
    "* Data is complete and does not include missing or fradulent values.\n",
    "* Data is accurate. For example, the ability for people to lie about the prestige for their schools.\n",
    "* The ordinal information for prestige is qualitative and not subjective depending on data recorder.\n",
    "* People who were not admitted to graduate school applied. (People who did not apply may have known their grades were not good enough to be accepted skewing acceptence rates)"
   ]
  },
  {
   "cell_type": "markdown",
   "metadata": {},
   "source": [
    "### Exploratory Analysis Plan\n",
    "\n",
    "1. Import and Parse Data.<br>\n",
    "    A. Remove samples with missing data. <br>\n",
    "    B. Remove any samples with data outside acceptable ranges.    <em>I.E. a GPA greater than 4</em>\n",
    "    C. Combine parsed dataset into new table for analysis<br>\n",
    "2. Investigate data<br>\n",
    "    A. Find mean of each variable<br>\n",
    "    B. Graph distribution of each variable<br>\n",
    "    C. Find amount of people admitted with GPAs and GREs below mean.<br>\n",
    "    D. Locate admissions performance of people with '1' prestige schools vs '4' prestige schools.<br>\n",
    "    E. Count number of samples falling in each quarter of possible values for each predictive variable. <em>  I.E. GPA from 0-1, 1-2, 2-3, 3-4 or each prestige level</em><br>\n",
    "    F. Find correlation of the predictive variables with each other. <br>\n",
    "3. Compare data investigation results with hypothesis<br>\n",
    "    A. If data is skewed, note and find possible correlation.<br>\n",
    "    B. Note distribution of admission to specific sets of data.<br>\n",
    "    C. Using sample distribution investigated in 2.<br>\n",
    "    E. determine if data is properly distributed for acurate analysis<br>\n",
    "4. Prepare for analysis.<br>\n",
    "    A. Create complete dataset using removed outliers and corrupt and missing data. (#1) <br>\n",
    "    B. Ensure data is properly representative and not skewed to a certain demographic (#2. C & E)<br>\n",
    "    C. Write complete dataset to new file."
   ]
  },
  {
   "cell_type": "markdown",
   "metadata": {},
   "source": [
    "### Goal of exploratory analysis"
   ]
  },
  {
   "cell_type": "markdown",
   "metadata": {
    "collapsed": true
   },
   "source": [
    "* Determine if data is useful for our intended analysis\n",
    "* Find variables that are more over represented. (Allows us to make conclusions about subsets if overall data is not suitable)\n",
    "* Find if our hypothesis is worth pursuing or if there are other hypotheses that the data may help prove or disprove\n",
    "* Determine the distribution of our data and if it skewed to certain demographics\n",
    "* Identify outliers\n",
    "* Test for colinearity\n",
    "* Provide guidance for further data collection\n",
    "* Help us determine what techniques we will use to analyze the data to test our hypothesis\n",
    "\n",
    "Distribution of data will be determined by graphing variables during exploratory analysis.\n",
    "Outliers will be removed as they may skew results of any regression analysis.\n",
    "Our search for outliers will be done by investigating the graphical results and min/max results of exploratory analsys."
   ]
  },
  {
   "cell_type": "markdown",
   "metadata": {},
   "source": [
    "### Data Analysis"
   ]
  },
  {
   "cell_type": "markdown",
   "metadata": {},
   "source": [
    "1. Create regressions (logistic, linear or other may be relavent) based on GPA and GRE as predictors of admission  compared to prestige alone.<br>\n",
    "    <em>Note that if exploratory data analysis indicates that GPA and GRE score are highly correlated, single variable regression will be warranted instead of a multivariate regression using GPA and GRE together as predictive variables</em>\n",
    "2. Graph each regression and identify best fit.<br>\n",
    "3. Compare results to hypothesis<br></font>"
   ]
  },
  {
   "cell_type": "markdown",
   "metadata": {},
   "source": [
    "## Bonus Questions:\n",
    "1. Outline your analysis method for predicting your outcome:\n",
    "<ul>\n",
    "<li>Regressions.\n",
    "    <ul>\n",
    "        <li>Run single variable linear regression of GPA, Prestige and GRE Score as predictor of admission and compare results. If one is more highly correlated than the other we can make certain conclusions about its use as a predictor.\n",
    "        <li>Run multivariable regression (either logistic, liner or polynomial) of GPA and GRE as predictors of admission and compare results to the correlation of higher prestige with admission and determine which serves as a better fit.\n",
    "    </ul>\n",
    "<li>Fit Tests.\n",
    "    <ul>\n",
    "        <li>Identify tests that can indicate the fit of the regression models to the observed data. (Chi-Sq or Smirnov are possibilities.\n",
    "    </ul>\n",
    "<li>Peer comparison\n",
    "    <ul>\n",
    "        <li>Discuss results with peers.\n",
    "        <li>Determine weaknesses of statistical models.\n",
    "        <li>If improved parsing of datasets has been done by peers, retry regressions using peer dataset.\n",
    "    </ul>\n",
    "</ul>\n",
    "2. An alternative question would be: <strong>Using the data provided in the admissions.csv file, determine if higher prestige instituions or higher GPAs are predictors of improved GRE scores.</strong>\n",
    "3. Assumptions of the alternative question include:<br>\n",
    "<ul>\n",
    "* Dataset was not specifically created to determine admission likelihood thus creating issues with candidate issues. <em>See original question assumptions</em>\n",
    "* That the data for GPA and pretige are independent so there is no direct colinearity.\n",
    "* The timeframe of that the data was created does not create a lack of statistical relevance.\n",
    "* The data is accurate and if self-submitted, not subject to subjective interpretation."
   ]
  },
  {
   "cell_type": "markdown",
   "metadata": {
    "collapsed": true
   },
   "source": [
    "***"
   ]
  },
  {
   "cell_type": "markdown",
   "metadata": {},
   "source": [
    "<br><strong><font size=12>[Exploratory Analysis Plan](#Exploratory-Analysis-Plan)</strong></font>"
   ]
  },
  {
   "cell_type": "markdown",
   "metadata": {},
   "source": [
    "## Here is work I've done as part of practice and the Exploratory Data Analysis Plan"
   ]
  },
  {
   "cell_type": "code",
   "execution_count": 109,
   "metadata": {
    "collapsed": false
   },
   "outputs": [],
   "source": [
    "import pandas as pd\n",
    "import numpy as np\n",
    "import matplotlib.pyplot as plt\n",
    "# If running outside Notebook, use 'QT' or other backend to properly see plays with plt.show()\n",
    "%matplotlib inline\n",
    "dataset = pd.read_csv(\"admissions.csv\")\n",
    "ds = pd.DataFrame(dataset)"
   ]
  },
  {
   "cell_type": "markdown",
   "metadata": {},
   "source": [
    "#### Cleaning of cells with missing data"
   ]
  },
  {
   "cell_type": "code",
   "execution_count": 255,
   "metadata": {
    "collapsed": false
   },
   "outputs": [],
   "source": [
    "\"\"\"Practice to clean data from pandas to lists\"\"\"\n",
    "clean = ds.dropna(axis=0, how=\"any\")\n",
    "clean.reindex(index=range(len(clean)))\n",
    "clean.to_csv(\"cleanAdmissions.csv\")\n",
    "columns = clean.columns\n",
    "def dataforplot(datframe):\n",
    "    dataset=[]\n",
    "    for cat in datframe.columns:\n",
    "        dataset.append([cat])\n",
    "    for i in range(len(dataset)):\n",
    "        for j in datframe.iloc[:,i]:\n",
    "            dataset[i].append(j)\n",
    "    return dataset\n",
    "scatter = dataforplot(clean)"
   ]
  },
  {
   "cell_type": "code",
   "execution_count": 253,
   "metadata": {
    "collapsed": false
   },
   "outputs": [
    {
     "data": {
      "text/plain": [
       "<matplotlib.collections.PathCollection at 0x118fd50d0>"
      ]
     },
     "execution_count": 253,
     "metadata": {},
     "output_type": "execute_result"
    },
    {
     "data": {
      "image/png": "[encoded data removed]",
      "text/plain": [
       "<matplotlib.figure.Figure at 0x1194ea7d0>"
      ]
     },
     "metadata": {},
     "output_type": "display_data"
    }
   ],
   "source": [
    "\"\"\"\n",
    "    Showing the scatter plot of GRE vs. GPA\n",
    "    Be careful as depending on computer setup and matplotlib backend, could crash server\n",
    "\"\"\"\n",
    "plt.scatter(scatter[1][1:], scatter[2][1:],alpha=0.3, edgecolors='none')"
   ]
  },
  {
   "cell_type": "markdown",
   "metadata": {},
   "source": [
    "#### GPA to GRE relationship"
   ]
  },
  {
   "cell_type": "code",
   "execution_count": 252,
   "metadata": {
    "collapsed": false
   },
   "outputs": [
    {
     "data": {
      "text/plain": [
       "<matplotlib.axes._subplots.AxesSubplot at 0x1190287d0>"
      ]
     },
     "execution_count": 252,
     "metadata": {},
     "output_type": "execute_result"
    },
    {
     "data": {
      "image/png": "[encoded data removed]",
      "text/plain": [
       "<matplotlib.figure.Figure at 0x119039110>"
      ]
     },
     "metadata": {},
     "output_type": "display_data"
    }
   ],
   "source": [
    "#Shows relationship of GPA to GRE in Scatter Plot\n",
    "clean.plot(kind=\"scatter\",x=\"gpa\",y=\"gre\")\n",
    "# plt.show() "
   ]
  },
  {
   "cell_type": "markdown",
   "metadata": {},
   "source": [
    "#### Distribution of admissions"
   ]
  },
  {
   "cell_type": "code",
   "execution_count": 251,
   "metadata": {
    "collapsed": false
   },
   "outputs": [
    {
     "data": {
      "text/plain": [
       "<matplotlib.axes._subplots.AxesSubplot at 0x118fae6d0>"
      ]
     },
     "execution_count": 251,
     "metadata": {},
     "output_type": "execute_result"
    },
    {
     "data": {
      "image/png": "[encoded data removed]",
      "text/plain": [
       "<matplotlib.figure.Figure at 0x119028090>"
      ]
     },
     "metadata": {},
     "output_type": "display_data"
    }
   ],
   "source": [
    "#Finds distribution of Admit and Prestige Data\n",
    "yes=clean.admit[clean[\"admit\"]==1].count()\n",
    "no=clean.admit[clean[\"admit\"]==0].count()\n",
    "together = [yes,no]\n",
    "tgt = pd.DataFrame(together, columns=[\"Admit\"],index=[\"Yes\",\"No\"])\n",
    "tgt.plot(kind=\"Bar\")\n",
    "# plt.show()"
   ]
  },
  {
   "cell_type": "markdown",
   "metadata": {},
   "source": [
    "#### No colinearity"
   ]
  },
  {
   "cell_type": "code",
   "execution_count": 156,
   "metadata": {
    "collapsed": false
   },
   "outputs": [
    {
     "data": {
      "text/html": [
       "<div>\n",
       "<table border=\"1\" class=\"dataframe\">\n",
       "  <thead>\n",
       "    <tr style=\"text-align: right;\">\n",
       "      <th></th>\n",
       "      <th>admit</th>\n",
       "      <th>gre</th>\n",
       "      <th>gpa</th>\n",
       "      <th>prestige</th>\n",
       "    </tr>\n",
       "  </thead>\n",
       "  <tbody>\n",
       "    <tr>\n",
       "      <th>admit</th>\n",
       "      <td>True</td>\n",
       "      <td>False</td>\n",
       "      <td>False</td>\n",
       "      <td>False</td>\n",
       "    </tr>\n",
       "    <tr>\n",
       "      <th>gre</th>\n",
       "      <td>False</td>\n",
       "      <td>True</td>\n",
       "      <td>False</td>\n",
       "      <td>False</td>\n",
       "    </tr>\n",
       "    <tr>\n",
       "      <th>gpa</th>\n",
       "      <td>False</td>\n",
       "      <td>False</td>\n",
       "      <td>True</td>\n",
       "      <td>False</td>\n",
       "    </tr>\n",
       "    <tr>\n",
       "      <th>prestige</th>\n",
       "      <td>False</td>\n",
       "      <td>False</td>\n",
       "      <td>False</td>\n",
       "      <td>True</td>\n",
       "    </tr>\n",
       "  </tbody>\n",
       "</table>\n",
       "</div>"
      ],
      "text/plain": [
       "          admit    gre    gpa prestige\n",
       "admit      True  False  False    False\n",
       "gre       False   True  False    False\n",
       "gpa       False  False   True    False\n",
       "prestige  False  False  False     True"
      ]
     },
     "execution_count": 156,
     "metadata": {},
     "output_type": "execute_result"
    }
   ],
   "source": [
    "abs(clean.corr(method=\"pearson\"))>0.8"
   ]
  },
  {
   "cell_type": "code",
   "execution_count": 219,
   "metadata": {
    "collapsed": false
   },
   "outputs": [
    {
     "data": {
      "text/html": [
       "<div>\n",
       "<table border=\"1\" class=\"dataframe\">\n",
       "  <thead>\n",
       "    <tr style=\"text-align: right;\">\n",
       "      <th></th>\n",
       "      <th>gre</th>\n",
       "      <th>gpa</th>\n",
       "    </tr>\n",
       "  </thead>\n",
       "  <tbody>\n",
       "    <tr>\n",
       "      <th>count</th>\n",
       "      <td>397.000000</td>\n",
       "      <td>397.000000</td>\n",
       "    </tr>\n",
       "    <tr>\n",
       "      <th>mean</th>\n",
       "      <td>587.858942</td>\n",
       "      <td>3.392242</td>\n",
       "    </tr>\n",
       "    <tr>\n",
       "      <th>std</th>\n",
       "      <td>115.717787</td>\n",
       "      <td>0.380208</td>\n",
       "    </tr>\n",
       "    <tr>\n",
       "      <th>min</th>\n",
       "      <td>220.000000</td>\n",
       "      <td>2.260000</td>\n",
       "    </tr>\n",
       "    <tr>\n",
       "      <th>25%</th>\n",
       "      <td>520.000000</td>\n",
       "      <td>3.130000</td>\n",
       "    </tr>\n",
       "    <tr>\n",
       "      <th>50%</th>\n",
       "      <td>580.000000</td>\n",
       "      <td>3.400000</td>\n",
       "    </tr>\n",
       "    <tr>\n",
       "      <th>75%</th>\n",
       "      <td>660.000000</td>\n",
       "      <td>3.670000</td>\n",
       "    </tr>\n",
       "    <tr>\n",
       "      <th>max</th>\n",
       "      <td>800.000000</td>\n",
       "      <td>4.000000</td>\n",
       "    </tr>\n",
       "  </tbody>\n",
       "</table>\n",
       "</div>"
      ],
      "text/plain": [
       "              gre         gpa\n",
       "count  397.000000  397.000000\n",
       "mean   587.858942    3.392242\n",
       "std    115.717787    0.380208\n",
       "min    220.000000    2.260000\n",
       "25%    520.000000    3.130000\n",
       "50%    580.000000    3.400000\n",
       "75%    660.000000    3.670000\n",
       "max    800.000000    4.000000"
      ]
     },
     "execution_count": 219,
     "metadata": {},
     "output_type": "execute_result"
    }
   ],
   "source": [
    "clean[[\"gre\",\"gpa\"]].describe()"
   ]
  },
  {
   "cell_type": "markdown",
   "metadata": {},
   "source": [
    "#### Analysis of GRE Scores"
   ]
  },
  {
   "cell_type": "code",
   "execution_count": 247,
   "metadata": {
    "collapsed": false
   },
   "outputs": [
    {
     "data": {
      "text/html": [
       "<div>\n",
       "<table border=\"1\" class=\"dataframe\">\n",
       "  <thead>\n",
       "    <tr style=\"text-align: right;\">\n",
       "      <th></th>\n",
       "      <th>25%</th>\n",
       "      <th>50%</th>\n",
       "      <th>75%</th>\n",
       "      <th>100%</th>\n",
       "    </tr>\n",
       "  </thead>\n",
       "  <tbody>\n",
       "    <tr>\n",
       "      <th>count</th>\n",
       "      <td>98.000000</td>\n",
       "      <td>51.000000</td>\n",
       "      <td>74.000000</td>\n",
       "      <td>99.000000</td>\n",
       "    </tr>\n",
       "    <tr>\n",
       "      <th>mean</th>\n",
       "      <td>437.346939</td>\n",
       "      <td>549.411765</td>\n",
       "      <td>619.459459</td>\n",
       "      <td>734.949495</td>\n",
       "    </tr>\n",
       "    <tr>\n",
       "      <th>std</th>\n",
       "      <td>58.124485</td>\n",
       "      <td>10.082017</td>\n",
       "      <td>15.517722</td>\n",
       "      <td>46.188914</td>\n",
       "    </tr>\n",
       "    <tr>\n",
       "      <th>min</th>\n",
       "      <td>220.000000</td>\n",
       "      <td>540.000000</td>\n",
       "      <td>600.000000</td>\n",
       "      <td>680.000000</td>\n",
       "    </tr>\n",
       "    <tr>\n",
       "      <th>25%</th>\n",
       "      <td>400.000000</td>\n",
       "      <td>540.000000</td>\n",
       "      <td>600.000000</td>\n",
       "      <td>700.000000</td>\n",
       "    </tr>\n",
       "    <tr>\n",
       "      <th>50%</th>\n",
       "      <td>460.000000</td>\n",
       "      <td>540.000000</td>\n",
       "      <td>620.000000</td>\n",
       "      <td>720.000000</td>\n",
       "    </tr>\n",
       "    <tr>\n",
       "      <th>75%</th>\n",
       "      <td>480.000000</td>\n",
       "      <td>560.000000</td>\n",
       "      <td>640.000000</td>\n",
       "      <td>790.000000</td>\n",
       "    </tr>\n",
       "    <tr>\n",
       "      <th>max</th>\n",
       "      <td>500.000000</td>\n",
       "      <td>560.000000</td>\n",
       "      <td>640.000000</td>\n",
       "      <td>800.000000</td>\n",
       "    </tr>\n",
       "  </tbody>\n",
       "</table>\n",
       "</div>"
      ],
      "text/plain": [
       "              25%         50%         75%        100%\n",
       "count   98.000000   51.000000   74.000000   99.000000\n",
       "mean   437.346939  549.411765  619.459459  734.949495\n",
       "std     58.124485   10.082017   15.517722   46.188914\n",
       "min    220.000000  540.000000  600.000000  680.000000\n",
       "25%    400.000000  540.000000  600.000000  700.000000\n",
       "50%    460.000000  540.000000  620.000000  720.000000\n",
       "75%    480.000000  560.000000  640.000000  790.000000\n",
       "max    500.000000  560.000000  640.000000  800.000000"
      ]
     },
     "execution_count": 247,
     "metadata": {},
     "output_type": "execute_result"
    }
   ],
   "source": [
    "gre25 = clean[\"gre\"][clean[\"gre\"]<520]\n",
    "gre50 = clean[\"gre\"][clean[\"gre\"]<580]\n",
    "gre50 = gre50[gre50>520]\n",
    "gre75 = clean[\"gre\"][clean[\"gre\"]<660]\n",
    "gre75 = gre75[gre75>580]\n",
    "gre100 = clean[\"gre\"][clean[\"gre\"]>660]\n",
    "grequart = pd.DataFrame(data=[gre25,gre50,gre75,gre100],index=[\"25%\",\"50%\",\"75%\",\"100%\"])\n",
    "grequart = grequart.T\n",
    "grequart.describe()"
   ]
  },
  {
   "cell_type": "code",
   "execution_count": 250,
   "metadata": {
    "collapsed": false
   },
   "outputs": [
    {
     "data": {
      "text/plain": [
       "<matplotlib.axes._subplots.AxesSubplot at 0x118fd1310>"
      ]
     },
     "execution_count": 250,
     "metadata": {},
     "output_type": "execute_result"
    },
    {
     "data": {
      "image/png": "[encoded data removed]",
      "text/plain": [
       "<matplotlib.figure.Figure at 0x118fd1ad0>"
      ]
     },
     "metadata": {},
     "output_type": "display_data"
    }
   ],
   "source": [
    "grequart.plot(kind=\"box\")"
   ]
  },
  {
   "cell_type": "code",
   "execution_count": null,
   "metadata": {
    "collapsed": true
   },
   "outputs": [],
   "source": []
  }
 ],
 "metadata": {
  "kernelspec": {
   "display_name": "Python 2",
   "language": "python",
   "name": "python2"
  }
 },
 "nbformat": 4,
 "nbformat_minor": 0
}
