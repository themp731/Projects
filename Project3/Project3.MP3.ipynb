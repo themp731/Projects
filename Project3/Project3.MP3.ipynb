{
 "cells": [
  {
   "cell_type": "markdown",
   "metadata": {},
   "source": [
    "# Project 3\n",
    "\n",
    "In this project, you will perform a logistic regression on the admissions data we've been working with in projects 1 and 2."
   ]
  },
  {
   "cell_type": "code",
   "execution_count": null,
   "metadata": {
    "collapsed": true
   },
   "outputs": [],
   "source": [
    "%matplotlib inline\n",
    "import matplotlib.pyplot as plt\n",
    "import pandas as pd\n",
    "import statsmodels.api as sm\n",
    "import pylab as pl\n",
    "import numpy as np\n"
   ]
  },
  {
   "cell_type": "code",
   "execution_count": null,
   "metadata": {
    "collapsed": false
   },
   "outputs": [],
   "source": [
    "df_raw = pd.read_csv(\"assets/admissions.csv\")\n",
    "df = df_raw.dropna() \n",
    "print df.head()"
   ]
  },
  {
   "cell_type": "markdown",
   "metadata": {},
   "source": [
    "## Part 1. Frequency Tables\n",
    "\n",
    "#### 1. Let's create a frequency table of our variables"
   ]
  },
  {
   "cell_type": "code",
   "execution_count": null,
   "metadata": {
    "collapsed": false
   },
   "outputs": [],
   "source": [
    "# frequency table for prestige and whether or not someone was admitted\n",
    "count = pd.Series(df[\"prestige\"])\n",
    "count = pd.DataFrame(count.value_counts())\n",
    "count.columns = [\"Frequency\"]\n",
    "count"
   ]
  },
  {
   "cell_type": "code",
   "execution_count": null,
   "metadata": {
    "collapsed": false
   },
   "outputs": [],
   "source": [
    "count.plot(kind=\"Bar\")\n",
    "plt.xlabel(\"Prestige\")"
   ]
  },
  {
   "cell_type": "markdown",
   "metadata": {},
   "source": [
    "## Part 2. Return of dummy variables"
   ]
  },
  {
   "cell_type": "markdown",
   "metadata": {},
   "source": [
    "#### 2.1 Create class or dummy variables for prestige "
   ]
  },
  {
   "cell_type": "code",
   "execution_count": null,
   "metadata": {
    "collapsed": false
   },
   "outputs": [],
   "source": [
    "prest_dummies = pd.get_dummies(df[\"prestige\"],prefix=\"prestige\",prefix_sep=\"_\")"
   ]
  },
  {
   "cell_type": "markdown",
   "metadata": {},
   "source": [
    "#### 2.2 When modeling our class variables, how many do we need? \n",
    "\n"
   ]
  },
  {
   "cell_type": "markdown",
   "metadata": {},
   "source": [
    "Answer: We only need three, we're going to use 4 as our reference variable. So we can drop the 4th dummy variable since if 1,2 and 3 = '0' then we know it ='s 4"
   ]
  },
  {
   "cell_type": "markdown",
   "metadata": {},
   "source": [
    "## Part 3. Hand calculating odds ratios\n",
    "\n",
    "Develop your intuition about expected outcomes by hand calculating odds ratios."
   ]
  },
  {
   "cell_type": "markdown",
   "metadata": {},
   "source": [
    "## Change Odds Ratio Calculation"
   ]
  },
  {
   "cell_type": "code",
   "execution_count": null,
   "metadata": {
    "collapsed": false
   },
   "outputs": [],
   "source": [
    "from __future__ import division\n",
    "cols_to_keep = ['admit', 'gre', 'gpa']\n",
    "handCalc = df[cols_to_keep].join(prest_dummies.ix[:, :\"prestige_3.0\"])\n",
    "outC = len(handCalc)\n",
    "#Could not think of a more efficient way to predict odds\n",
    "odd1 = len(handCalc[(handCalc[\"admit\"]==1) & (handCalc[\"prestige_1.0\"]==1)])\n",
    "no1 = len(handCalc[(handCalc[\"admit\"]==1) & (handCalc[\"prestige_1.0\"]==0)])\n",
    "odd2 = len(handCalc[(handCalc[\"admit\"]==1) & (handCalc[\"prestige_2.0\"]==1)])\n",
    "no2 = len(handCalc[(handCalc[\"admit\"]==1) & (handCalc[\"prestige_2.0\"]==0)])\n",
    "odd3 = len(handCalc[(handCalc[\"admit\"]==1) & (handCalc[\"prestige_3.0\"]==1)])\n",
    "no3 = len(handCalc[(handCalc[\"admit\"]==1) & (handCalc[\"prestige_3.0\"]==0)])\n",
    "odd4 = len(handCalc[(handCalc[\"admit\"]==1) & (handCalc[\"prestige_3.0\"]==0) & (handCalc[\"prestige_2.0\"]==0) &\\\n",
    "                    (handCalc[\"prestige_1.0\"]==0)])\n",
    "no4 = len(handCalc[(handCalc[\"admit\"]==1) & ((handCalc[\"prestige_3.0\"]==1) | (handCalc[\"prestige_2.0\"]==1) |\\\n",
    "                    (handCalc[\"prestige_1.0\"]==1))])\n",
    "\n",
    "#Tried using iteritems for making these lists but had troble. I know there is a more efficient way\n",
    "prest1 = len(handCalc[handCalc[\"prestige_1.0\"]==1])\n",
    "prest2 = len(handCalc[handCalc[\"prestige_2.0\"]==1])\n",
    "prest3 = len(handCalc[handCalc[\"prestige_3.0\"]==1])\n",
    "prest4 = len(handCalc[(handCalc[\"prestige_3.0\"]==0) & (handCalc[\"prestige_2.0\"]==0) &\\\n",
    "                    (handCalc[\"prestige_1.0\"]==0)])\n",
    "#Creating Lists\n",
    "oddlist = [odd1, odd2, odd3, odd4]\n",
    "nolist = [no1, no2, no3, no4]\n",
    "prest_list = [prest1,prest2,prest3,prest4]\n",
    "head_list = list(handCalc.columns[3:6])\n",
    "head_list.append(\"prestige_4.0\")\n",
    "#Odds for getting in based on each prestige\n",
    "for i in range(len(oddlist)):\n",
    "    print \"The odds of getting in to a school with %s are %f\" % (head_list[i], oddlist[i]/prest_list[i])\n",
    "\n",
    "                                                                               \n",
    "print \"\\nThe odds ratio for each prestige level is: \"\n",
    "# Calculating odds ratio, i.e. the odds of getting in with prestige N vs. odds getting with without prestige \"N\"\n",
    "print \"Prestige 1: %f\" % (odd1/no1)\n",
    "print \"Prestige 2: %f\" % (odd2/no2)\n",
    "print \"Prestige 3: %f\" % (odd3/no3)\n",
    "print \"Prestige 4: %f\" % (odd4/no4)\n",
    "#It appears I calculated the odds ratio against not getting in, is this not what was asked for?"
   ]
  },
  {
   "cell_type": "code",
   "execution_count": null,
   "metadata": {
    "collapsed": false
   },
   "outputs": [],
   "source": [
    "#crosstab prestige 1 admission \n",
    "pd.crosstab(handCalc[\"admit\"], handCalc[\"prestige_1.0\"], rownames=[\"admit\"], colnames=[\"prestige_1.0\"])"
   ]
  },
  {
   "cell_type": "markdown",
   "metadata": {},
   "source": [
    "#### 3.1 Use the cross tab above to calculate the odds of being admitted to grad school if you attended a #1 ranked college"
   ]
  },
  {
   "cell_type": "code",
   "execution_count": null,
   "metadata": {
    "collapsed": false
   },
   "outputs": [],
   "source": [
    "print \"odds of being admitted to grad school if you attended a #1 ranked college are 33/28\"\n",
    "prest1 = round(33/28,2)\n",
    "print prest1"
   ]
  },
  {
   "cell_type": "markdown",
   "metadata": {},
   "source": [
    "#### 3.2 Now calculate the odds of admission if you did not attend a #1 ranked college"
   ]
  },
  {
   "cell_type": "code",
   "execution_count": null,
   "metadata": {
    "collapsed": false
   },
   "outputs": [],
   "source": [
    "prest1null = 93/243\n",
    "print prest1null"
   ]
  },
  {
   "cell_type": "markdown",
   "metadata": {},
   "source": [
    "#### 3.3 Calculate the odds ratio"
   ]
  },
  {
   "cell_type": "code",
   "execution_count": null,
   "metadata": {
    "collapsed": false
   },
   "outputs": [],
   "source": [
    "print \"The odds ratio is: %f\" % (prest1/prest1null)"
   ]
  },
  {
   "cell_type": "markdown",
   "metadata": {},
   "source": [
    "#### 3.4 Write this finding in a sentenance: "
   ]
  },
  {
   "cell_type": "markdown",
   "metadata": {},
   "source": [
    "Answer: We have identified a relationship that one is more likely to have gained entry into graduate school if they went to a school with a prestige of 1 by a magnitude of 3 compared to if they had gone elsewhere."
   ]
  },
  {
   "cell_type": "markdown",
   "metadata": {},
   "source": [
    "#### 3.5 Print the cross tab for prestige_4"
   ]
  },
  {
   "cell_type": "code",
   "execution_count": null,
   "metadata": {
    "collapsed": false
   },
   "outputs": [],
   "source": [
    "pd.crosstab(handCalc[\"admit\"],[handCalc[\"prestige_1.0\"],handCalc[\"prestige_2.0\"],handCalc[\"prestige_3.0\"]],\\\n",
    "            rownames=[\"admit\"], colnames=[\"1\",\"2\",\"3\"])"
   ]
  },
  {
   "cell_type": "markdown",
   "metadata": {},
   "source": [
    "#### 3.6 Calculate the OR "
   ]
  },
  {
   "cell_type": "code",
   "execution_count": null,
   "metadata": {
    "collapsed": false
   },
   "outputs": [],
   "source": [
    "odd4=12/(55)\n",
    "no4=55/(12)\n",
    "OR4 = odd4/no4\n",
    "print \"%s x\" % (round(OR4,2))"
   ]
  },
  {
   "cell_type": "markdown",
   "metadata": {},
   "source": [
    "#### 3.7 Write this finding in a sentence"
   ]
  },
  {
   "cell_type": "markdown",
   "metadata": {},
   "source": [
    "Answer: The odds ratio indicates that you are much less likely to gain acceptance to graduate school if you went to a prestige 4 school. For example, the odds that you do not get in are substantially higher than the odds that you do get in since the odds ratio is less than 1."
   ]
  },
  {
   "cell_type": "markdown",
   "metadata": {},
   "source": [
    "## Part 4. Analysis"
   ]
  },
  {
   "cell_type": "code",
   "execution_count": null,
   "metadata": {
    "collapsed": false
   },
   "outputs": [],
   "source": [
    "# create a clean data frame for the regression\n",
    "#After finding prestige 3.0 was not significant, took away 3.0\n",
    "cols_to_keep = ['admit', 'gre', 'gpa']\n",
    "data = df[cols_to_keep].join(prest_dummies.ix[:, :\"prestige_3.0\"])\n",
    "data.head()"
   ]
  },
  {
   "cell_type": "markdown",
   "metadata": {},
   "source": [
    "We're going to add a constant term for our Logistic Regression. The statsmodels function we're going to be using requires that intercepts/constants are specified explicitly."
   ]
  },
  {
   "cell_type": "code",
   "execution_count": null,
   "metadata": {
    "collapsed": false
   },
   "outputs": [],
   "source": [
    "# manually add the intercept\n",
    "data['intercept'] = 1.0\n",
    "data.head()"
   ]
  },
  {
   "cell_type": "markdown",
   "metadata": {},
   "source": [
    "#### 4.1 Set the covariates to a variable called train_cols"
   ]
  },
  {
   "cell_type": "code",
   "execution_count": null,
   "metadata": {
    "collapsed": false
   },
   "outputs": [],
   "source": [
    "train_cols = sm.Logit(data[\"admit\"],data.ix[:,1:7])\n",
    "type(train_cols)"
   ]
  },
  {
   "cell_type": "markdown",
   "metadata": {},
   "source": [
    "#### 4.2 Fit the model"
   ]
  },
  {
   "cell_type": "code",
   "execution_count": null,
   "metadata": {
    "collapsed": false
   },
   "outputs": [],
   "source": [
    "logit_mod = train_cols.fit(disp=True)"
   ]
  },
  {
   "cell_type": "markdown",
   "metadata": {},
   "source": [
    "#### 4.3 Print the summary results"
   ]
  },
  {
   "cell_type": "code",
   "execution_count": null,
   "metadata": {
    "collapsed": false
   },
   "outputs": [],
   "source": [
    "logit_mod.summary()\n",
    "#Prestige 3.0 is not significant, so ran again without adding 3.0\n",
    "#I know that this degrades the possibility of saying anything about 4.0 prestiges,\n",
    "#but none of the questions below are worried about it and since its our reference variable \n",
    "#both Prestige 1.0 and 2.0 are referencing gaining acceptance vs. prestige 4. If I need to I can run again."
   ]
  },
  {
   "cell_type": "markdown",
   "metadata": {},
   "source": [
    "#### 4.4 Calculate the odds ratios of the coeffiencents and their 95% CI intervals\n",
    "\n",
    "hint 1: np.exp(X)\n",
    "<em>In this case, the coefficient is the log of the odds ratio for variable and its counterpart. So running the anti log or `np.exp`for each coefficient should provide the log ratio for each. <font color=\"red\">This also assumes we're using the 'e' as our base it looks like.</font></em>\n",
    "\n",
    "hint 2: conf['OR'] = params <em>Using params did not work for me, I needed to call confidence interval</em>\n",
    "        \n",
    "           conf.columns = ['2.5%', '97.5%', 'OR']\n",
    "\n",
    "\n",
    "I found this helpful <a href=http://www.ats.ucla.edu/stat/mult_pkg/faq/general/odds_ratio.htm>How to interpret odds ratio</a>"
   ]
  },
  {
   "cell_type": "code",
   "execution_count": null,
   "metadata": {
    "collapsed": false
   },
   "outputs": [],
   "source": [
    "model_coef = pd.DataFrame(logit_mod.params, columns=[\"Coefficient\"])\n",
    "model_coef[\"OR\"] = model_coef.apply(np.exp, axis = 1)\n",
    "model_coef.head()\n",
    "model_ci = pd.DataFrame(logit_mod.conf_int())\n",
    "model_coef = model_coef.join(model_ci)\n",
    "model_coef.columns = [\"Coefficient\", \"Odds_Ratio\", \"2.5%\",\"97.5%\"]\n",
    "model_coef.head()"
   ]
  },
  {
   "cell_type": "markdown",
   "metadata": {},
   "source": [
    "#### 4.5 Interpret the OR of Prestige_2"
   ]
  },
  {
   "cell_type": "markdown",
   "metadata": {},
   "source": [
    "Answer: Holding other variables constant, we can say that the odds for getting into a school while attending a prestige 2.0 institution are 2.4x higher than if attending a prestige 4 school."
   ]
  },
  {
   "cell_type": "markdown",
   "metadata": {},
   "source": [
    "#### 4.6 Interpret the OR of GPA"
   ]
  },
  {
   "cell_type": "markdown",
   "metadata": {},
   "source": [
    "Answer: Holding other variables constant, we can say that the odds for getting into a school increase 2.18x for each increase in unit of the natural log of the GPA. <font color=\"red\">This is because of an interesting properties with natural logs, and I believe logs in general where a unit increase in a natural log is the same as that percentage increase to the outcome.</font>\n"
   ]
  },
  {
   "cell_type": "code",
   "execution_count": null,
   "metadata": {
    "collapsed": false
   },
   "outputs": [],
   "source": [
    "#basic list of numbers\n",
    "unit_list = [1,5,10,25,100]\n",
    "unit_ln = np.log(unit_list)\n",
    "#Basic list of numbers increased 10%\n",
    "unit_list10 = []\n",
    "for i in unit_list:\n",
    "    unit_list10.append(i*1.1)\n",
    "unit10_ln = np.log(unit_list10)\n",
    "#Difference between the natural log of original numbers and numbers increased by 10%\n",
    "for i in range(len(unit_list)):\n",
    "    print unit10_ln[i]-unit_ln[i]\n",
    "print \"The difference between the natural log of one number and 10% more of that same number\""
   ]
  },
  {
   "cell_type": "markdown",
   "metadata": {},
   "source": [
    "## Part 5: Predicted probablities\n"
   ]
  },
  {
   "cell_type": "markdown",
   "metadata": {},
   "source": [
    "As a way of evaluating our classifier, we're going to recreate the dataset with every logical combination of input values. This will allow us to see how the predicted probability of admission increases/decreases across different variables. First we're going to generate the combinations using a helper function called cartesian (above).\n",
    "\n",
    "We're going to use np.linspace to create a range of values for \"gre\" and \"gpa\". This creates a range of linearly spaced values from a specified min and maximum value--in our case just the min/max observed values."
   ]
  },
  {
   "cell_type": "code",
   "execution_count": null,
   "metadata": {
    "collapsed": true
   },
   "outputs": [],
   "source": [
    "def cartesian(arrays, out=None):\n",
    "    \"\"\"\n",
    "    Generate a cartesian product of input arrays.\n",
    "    Parameters\n",
    "    ----------\n",
    "    arrays : list of array-like\n",
    "        1-D arrays to form the cartesian product of.\n",
    "    out : ndarray\n",
    "        Array to place the cartesian product in.\n",
    "    Returns\n",
    "    -------\n",
    "    out : ndarray\n",
    "        2-D array of shape (M, len(arrays)) containing cartesian products\n",
    "        formed of input arrays.\n",
    "    Examples\n",
    "    --------\n",
    "    >>> cartesian(([1, 2, 3], [4, 5], [6, 7]))\n",
    "    array([[1, 4, 6],\n",
    "           [1, 4, 7],\n",
    "           [1, 5, 6],\n",
    "           [1, 5, 7],\n",
    "           [2, 4, 6],\n",
    "           [2, 4, 7],\n",
    "           [2, 5, 6],\n",
    "           [2, 5, 7],\n",
    "           [3, 4, 6],\n",
    "           [3, 4, 7],\n",
    "           [3, 5, 6],\n",
    "           [3, 5, 7]])\n",
    "    \"\"\"\n",
    "\n",
    "    arrays = [np.asarray(x) for x in arrays]\n",
    "    dtype = arrays[0].dtype\n",
    "\n",
    "    n = np.prod([x.size for x in arrays])\n",
    "    if out is None:\n",
    "        out = np.zeros([n, len(arrays)], dtype=dtype)\n",
    "\n",
    "    m = n / arrays[0].size\n",
    "    out[:,0] = np.repeat(arrays[0], m)\n",
    "    if arrays[1:]:\n",
    "        cartesian(arrays[1:], out=out[0:m,1:])\n",
    "        for j in xrange(1, arrays[0].size):\n",
    "            out[j*m:(j+1)*m,1:] = out[0:m,1:]\n",
    "    return out"
   ]
  },
  {
   "cell_type": "code",
   "execution_count": null,
   "metadata": {
    "collapsed": false
   },
   "outputs": [],
   "source": [
    "# instead of generating all possible values of GRE and GPA, we're going\n",
    "# to use an evenly spaced range of 10 values from the min to the max \n",
    "gres = np.linspace(data['gre'].min(), data['gre'].max(), 10)\n",
    "print gres\n",
    "# array([ 220.        ,  284.44444444,  348.88888889,  413.33333333,\n",
    "#         477.77777778,  542.22222222,  606.66666667,  671.11111111,\n",
    "#         735.55555556,  800.        ])\n",
    "gpas = np.linspace(data['gpa'].min(), data['gpa'].max(), 10)\n",
    "print gpas\n",
    "# array([ 2.26      ,  2.45333333,  2.64666667,  2.84      ,  3.03333333,\n",
    "#         3.22666667,  3.42      ,  3.61333333,  3.80666667,  4.        ])\n",
    "\n",
    "\n",
    "# enumerate all possibilities\n",
    "combos = pd.DataFrame(cartesian([gres, gpas, [1, 2, 3, 4], [1.]]), columns=[\"GRE\",\"GPA\",\"prestige\",\"intercept\"])"
   ]
  },
  {
   "cell_type": "code",
   "execution_count": null,
   "metadata": {
    "collapsed": false
   },
   "outputs": [],
   "source": [
    "combos.head()"
   ]
  },
  {
   "cell_type": "markdown",
   "metadata": {},
   "source": [
    "#### 5.1 Recreate the dummy variables"
   ]
  },
  {
   "cell_type": "code",
   "execution_count": null,
   "metadata": {
    "collapsed": false
   },
   "outputs": [],
   "source": [
    "new_dummies = pd.get_dummies(combos[\"prestige\"],prefix=\"prestige\")\n",
    "new_dummies.head()\n",
    "#Keeping prestige 3.0 in this case. But still dropping prestige 4"
   ]
  },
  {
   "cell_type": "code",
   "execution_count": null,
   "metadata": {
    "collapsed": false
   },
   "outputs": [],
   "source": [
    "#Joining dummy variables\n",
    "combos = combos.join(new_dummies)\n",
    "combos.head()"
   ]
  },
  {
   "cell_type": "code",
   "execution_count": null,
   "metadata": {
    "collapsed": false
   },
   "outputs": [],
   "source": [
    "#dropping the duplicate \"prestige\" column and the reference variable column\n",
    "combos = combos.drop(\"prestige_4.0\", axis=1)\n",
    "combos = combos.drop(\"prestige\", axis=1)"
   ]
  },
  {
   "cell_type": "code",
   "execution_count": null,
   "metadata": {
    "collapsed": false
   },
   "outputs": [],
   "source": [
    "combos.describe()"
   ]
  },
  {
   "cell_type": "markdown",
   "metadata": {},
   "source": [
    "#### 5.2 Make predictions on the enumerated dataset"
   ]
  },
  {
   "cell_type": "code",
   "execution_count": null,
   "metadata": {
    "collapsed": false
   },
   "outputs": [],
   "source": [
    "#Reordering columns because its easier\n",
    "cols = ['GRE', 'GPA',  'prestige_1.0', 'prestige_2.0', 'prestige_3.0','intercept']\n",
    "#cols = ['GRE', 'GPA',  'prestige_1.0', 'prestige_2.0', 'prestige_3.0']\n",
    "combos = combos[cols]\n",
    "combos.head()"
   ]
  },
  {
   "cell_type": "code",
   "execution_count": null,
   "metadata": {
    "collapsed": false
   },
   "outputs": [],
   "source": [
    "#Predict the outcome based on all the values using the combos DF\n",
    "predictions_statsmodels = pd.DataFrame(logit_mod.predict(combos),columns=[\"Prediction Statsmodels\"])\n",
    "predictions_statsmodels.head()"
   ]
  },
  {
   "cell_type": "code",
   "execution_count": null,
   "metadata": {
    "collapsed": false
   },
   "outputs": [],
   "source": [
    "predictions_statsmodels.describe()"
   ]
  },
  {
   "cell_type": "markdown",
   "metadata": {},
   "source": [
    "#### 5.3 Interpret findings for the last 4 observations"
   ]
  },
  {
   "cell_type": "code",
   "execution_count": null,
   "metadata": {
    "collapsed": false
   },
   "outputs": [],
   "source": [
    "combos = combos.join(predictions_statsmodels)"
   ]
  },
  {
   "cell_type": "code",
   "execution_count": null,
   "metadata": {
    "collapsed": false
   },
   "outputs": [],
   "source": [
    "combos.head()"
   ]
  },
  {
   "cell_type": "code",
   "execution_count": null,
   "metadata": {
    "collapsed": false
   },
   "outputs": [],
   "source": [
    "combos[-4:]"
   ]
  },
  {
   "cell_type": "markdown",
   "metadata": {},
   "source": [
    "Answer: With a GRE of 400 and a GPA of 4 you are getting into grad school since we with a 37% probability, but holding other variables constant. However, we have a much better chance of getting in, over 70% if we had the same GRE scores and GPA but went to a more prestigious institution.\n",
    "However, it would be better to use \"predict_proba\" so we can find the range, so we need to use SciKitLearn because I like that better."
   ]
  },
  {
   "cell_type": "code",
   "execution_count": null,
   "metadata": {
    "collapsed": false
   },
   "outputs": [],
   "source": [
    "data.head()"
   ]
  },
  {
   "cell_type": "code",
   "execution_count": null,
   "metadata": {
    "collapsed": false
   },
   "outputs": [],
   "source": [
    "from sklearn.linear_model import LogisticRegression\n",
    "logprob = LogisticRegression()\n",
    "#Ignoring intercept since SKLearn can handle it\n",
    "log_model = logprob.fit(data.ix[:,1:6],data[\"admit\"])\n",
    "#Ignoring compos intercept\n",
    "print \"The score of the model is: \",log_model.score(data.ix[:,1:6], data[\"admit\"])\n",
    "prediction_sci = pd.DataFrame(log_model.predict_proba(combos.ix[:,0:5]),columns=[\"no admit\",\"Prediction SciKit\"])"
   ]
  },
  {
   "cell_type": "code",
   "execution_count": null,
   "metadata": {
    "collapsed": false
   },
   "outputs": [],
   "source": [
    "results = combos.join(prediction_sci[\"Prediction SciKit\"])\n",
    "results.head()"
   ]
  },
  {
   "cell_type": "markdown",
   "metadata": {},
   "source": [
    "## Bonus\n",
    "\n",
    "Plot the probability of being admitted into graduate school, stratified by GPA and GRE score.`"
   ]
  },
  {
   "cell_type": "markdown",
   "metadata": {},
   "source": [
    "<font color=red>Not sure exactly what I want to do here. I don't want to use a pivot table, I want to see if I can use a groupby\n",
    "with the DataFrame and then apply a function accross a GPA group. I stack overflowed it and I don't like the results and they \n",
    "look wrong</font>"
   ]
  },
  {
   "cell_type": "code",
   "execution_count": null,
   "metadata": {
    "collapsed": false
   },
   "outputs": [],
   "source": [
    "GPAG = results.pivot_table(values=[\"Prediction SciKit\"], index=[\"GPA\"], columns=['prestige_1.0','prestige_2.0','prestige_3.0'],\\\n",
    "                           aggfunc = np.mean)\n",
    "GPAG.head(10)"
   ]
  },
  {
   "cell_type": "code",
   "execution_count": null,
   "metadata": {
    "collapsed": false
   },
   "outputs": [],
   "source": [
    "GPAG.plot()\n",
    "plt.legend(['4','3','2','1'],title='school prestige')"
   ]
  },
  {
   "cell_type": "code",
   "execution_count": null,
   "metadata": {
    "collapsed": false
   },
   "outputs": [],
   "source": [
    "GREG = results.pivot_table(values=[\"Prediction SciKit\"], index=[\"GPA\"], columns=['prestige_1.0','prestige_2.0','prestige_3.0'], \\\n",
    "                           aggfunc = np.mean)\n",
    "GREG.head(10)"
   ]
  },
  {
   "cell_type": "code",
   "execution_count": null,
   "metadata": {
    "collapsed": false
   },
   "outputs": [],
   "source": [
    "GREG.plot()\n",
    "plt.legend(['4','3','2','1'],title='school prestige')"
   ]
  },
  {
   "cell_type": "code",
   "execution_count": null,
   "metadata": {
    "collapsed": true
   },
   "outputs": [],
   "source": []
  }
 ],
 "metadata": {
  "kernelspec": {
   "display_name": "Python 2",
   "language": "python",
   "name": "python2"
  },
  "language_info": {
   "codemirror_mode": {
    "name": "ipython",
    "version": 2
   },
   "file_extension": ".py",
   "mimetype": "text/x-python",
   "name": "python",
   "nbconvert_exporter": "python",
   "pygments_lexer": "ipython2",
   "version": "2.7.11"
  }
 },
 "nbformat": 4,
 "nbformat_minor": 0
}
