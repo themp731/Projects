{
 "cells": [
  {
   "cell_type": "markdown",
   "metadata": {},
   "source": [
    "# Project 4\n",
    "\n",
    "In this project, you will summarize and present your analysis from Projects 1-3."
   ]
  },
  {
   "cell_type": "markdown",
   "metadata": {},
   "source": [
    "### Intro: Write a problem Statement/ Specific Aim for this project"
   ]
  },
  {
   "cell_type": "markdown",
   "metadata": {},
   "source": [
    "Answer: Using data from the <a href=http://www.ats.ucla.edu/stat/sas/dae/logit.htm>UCLA Stats program</a> on graduate school admissions, we aim to determine the probability of admission to graduate school given specifc GRE and GPA scores as well as the prestige of an applicants undergraduate institution."
   ]
  },
  {
   "cell_type": "markdown",
   "metadata": {},
   "source": [
    "### Dataset:  Write up a description of your data and any cleaning that was completed"
   ]
  },
  {
   "cell_type": "markdown",
   "metadata": {},
   "source": [
    "Answer: We had 400 datapoints, however there were 3 total samples that were missing at least one part of the data. We removed the samples with missing data and did not take them into account <a href=https://render.githubusercontent.com/view/ipynb?commit=0d6dd5be2f79ffd9e5450c139a421a1a7376675e&enc_url=68747470733a2f2f7261772e67697468756275736572636f6e74656e742e636f6d2f7468656d703733312f50726f6a656374732f306436646435626532663739666664396535343530633133396134323161316137333736363735652f50726f6a656374312f4d505f50726f6a656374312e6970796e62&nwo=themp731%2FProjects&path=Project1%2FMP_Project1.ipynb&repository_id=50304225#Cleaning-of-cells-with-missing-data>Click here for cleaning process</a>.\n",
    "In addition, we treated both GRE and GPA as continuous variables on their specific scales. For GRE, scores were able to fall between 220-800 and for GPA scores were able to fall in the range of 2.26-4.0.\n",
    "Lastly, the score of prestige is an ordinal variable (ranked). However, in order to make a Logit regression we transformed prestige into a dummy variable with 1 for True and 0 for False. We used Prestige_4.0 as our reference variable. <a href=https://render.githubusercontent.com/view/ipynb?commit=0d6dd5be2f79ffd9e5450c139a421a1a7376675e&enc_url=68747470733a2f2f7261772e67697468756275736572636f6e74656e742e636f6d2f7468656d703733312f50726f6a656374732f306436646435626532663739666664396535343530633133396134323161316137333736363735652f50726f6a656374332f50726f6a656374332e4d50332e6970796e62&nwo=themp731%2FProjects&path=Project3%2FProject3.MP3.ipynb&repository_id=50304225#Part-2.-Return-of-dummy-variables>Click here for more information on creating the dummy variables</a>"
   ]
  },
  {
   "cell_type": "markdown",
   "metadata": {},
   "source": [
    "<div class=\"text_cell_render border-box-sizing rendered_html\">\n",
    "<table>\n",
    "<thead>\n",
    "<tr>\n",
    "<th style=\"text-align:left\">Variable</th>\n",
    "<th style=\"text-align:center\">Description</th>\n",
    "<th style=\"text-align:right\">Type of Variable</th>\n",
    "</tr>\n",
    "</thead>\n",
    "<tbody>\n",
    "<tr>\n",
    "<td style=\"text-align:left\">admit</td>\n",
    "<td style=\"text-align:center\">0 = Not admitted 1 = Admitted</td>\n",
    "<td style=\"text-align:right\">Categorical &amp; binary</td>\n",
    "</tr>\n",
    "<tr>\n",
    "<td style=\"text-align:left\">gre</td>\n",
    "<td style=\"text-align:center\">GRE Score</td>\n",
    "<td style=\"text-align:right\">continuous </td>\n",
    "</tr>\n",
    "<tr>\n",
    "<td style=\"text-align:left\">gpa</td>\n",
    "<td style=\"text-align:center\">Grade Point Average</td>\n",
    "<td style=\"text-align:right\">continuous </td>\n",
    "</tr>\n",
    "<tr>\n",
    "<td style=\"text-align:left\">pretige</td>\n",
    "<td style=\"text-align:center\">Pretiges of undergraduate institution</td>\n",
    "<td style=\"text-align:right\">Ordinal: [1,2,3,4] -> Binary [0,1]*N </td>\n",
    "</tr>\n",
    "</tbody>\n",
    "</table>\n",
    "\n",
    "</div>"
   ]
  },
  {
   "cell_type": "markdown",
   "metadata": {
    "collapsed": true
   },
   "source": [
    "### Demo: Provide a table that explains the data by admission status"
   ]
  },
  {
   "cell_type": "markdown",
   "metadata": {},
   "source": [
    "Mean (STD) or counts by admission status for each variable \n",
    "\n",
    "<table>\n",
    "    <tr>\n",
    "        <th><em>STATUS</em></th>\n",
    "        <th>| GRE (STD)|</th>\n",
    "        <th>| GPA (STD)|</th>\n",
    "        <th>| PRESTIGE 1 %|</th>\n",
    "        <th>| PRESTIGE 2 %|</th>\n",
    "        <th>| PRESTIGE 3 %|</th>\n",
    "        <th>| PRESTIGE 4 %|</th>\n",
    "    </tr>\n",
    "    <tr>\n",
    "        <td>Not Admitted</td>\n",
    "        <td>573.579336 (116.0)</td>\t\n",
    "        <td>3.347159 (0.376)</td>\n",
    "        <td>0.103321</td>\n",
    "        <td>0.350554</td>\n",
    "        <td>0.343173</td>\n",
    "        <td>0.202952</td>\n",
    "    <tr>\n",
    "        <td>Admitted</td>\n",
    "        <td>618.571429 (109.2)</td>\n",
    "        <td>3.489206 (0.371)</td>\n",
    "        <td>0.261905</td>\n",
    "        <td>0.420635</td>\n",
    "        <td>0.222222</td>\n",
    "        <td>0.095238</td>\n",
    "    </tr>\n",
    "</table>"
   ]
  },
  {
   "cell_type": "markdown",
   "metadata": {},
   "source": [
    "### Methods: Write up the methods used in your analysis"
   ]
  },
  {
   "cell_type": "markdown",
   "metadata": {},
   "source": [
    "&nbsp;&nbsp;&nbsp;&nbsp;&nbsp; Answer: We used Pandas in conjunction with its dependencies in Pandas to clean data and determine the quality of our data. After cleaning our data we used both matplotlib and seaborn to visually understand the distribution of our data and figure out if we could hold true some parametric assumptions necesarry for linear and logit regressions. In addition to a visual analysis in <a href=https://github.com/ga-students/DAT-NYC-31/blob/master/projects/unit-projects/project-4/solution-code/project4-solutions.ipynb>Project 1</a> we also looked at the data more in depth and decided whether or not we should transform the data in <a href=https://render.githubusercontent.com/view/ipynb?commit=0d6dd5be2f79ffd9e5450c139a421a1a7376675e&enc_url=68747470733a2f2f7261772e67697468756275736572636f6e74656e742e636f6d2f7468656d703733312f50726f6a656374732f306436646435626532663739666664396535343530633133396134323161316137333736363735652f50726f6a656374312f4d505f50726f6a656374312e6970796e62&nwo=themp731%2FProjects&path=Project1%2FMP_Project1.ipynb&repository_id=50304225#Cleaning-of-cells-with-missing-data>Project 2</a>.<br>\n",
    "\n",
    "&nbsp;&nbsp;&nbsp;&nbsp;&nbsp;&nbsp; Then using statistical modeling techniques learned in class we performed a logistic regression using SciKit and/or Statsmodels to determine the association of our variables (GRE, GPA and Prestige) on admission. See <a href=https://render.githubusercontent.com/view/ipynb?commit=0d6dd5be2f79ffd9e5450c139a421a1a7376675e&enc_url=68747470733a2f2f7261772e67697468756275736572636f6e74656e742e636f6d2f7468656d703733312f50726f6a656374732f306436646435626532663739666664396535343530633133396134323161316137333736363735652f50726f6a656374332f50726f6a656374332e4d50332e6970796e62&nwo=themp731%2FProjects&path=Project3%2FProject3.MP3.ipynb&repository_id=50304225#Part-2.-Return-of-dummy-variables>Project 3</a> for more details."
   ]
  },
  {
   "cell_type": "markdown",
   "metadata": {},
   "source": [
    "### Results: Write up your results"
   ]
  },
  {
   "cell_type": "markdown",
   "metadata": {},
   "source": [
    "<div class=\"output_html rendered_html output_subarea output_execute_result\">\n",
    "<div>\n",
    "<table border=\"1\" class=\"dataframe\">\n",
    "  <thead>\n",
    "    <tr style=\"text-align: right;\">\n",
    "      <th></th>\n",
    "      <th>Coefficient</th>\n",
    "      <th>Odds_Ratio</th>\n",
    "      <th>2.5%</th>\n",
    "      <th>97.5%</th>\n",
    "    </tr>\n",
    "  </thead>\n",
    "  <tbody>\n",
    "    <tr>\n",
    "      <th>gre</th>\n",
    "      <td>0.002218</td>\n",
    "      <td>1.002221</td>\n",
    "      <td>0.000074</td>\n",
    "      <td>0.004362</td>\n",
    "    </tr>\n",
    "    <tr>\n",
    "      <th>gpa</th>\n",
    "      <td>0.779337</td>\n",
    "      <td>2.180027</td>\n",
    "      <td>0.127619</td>\n",
    "      <td>1.431056</td>\n",
    "    </tr>\n",
    "    <tr>\n",
    "      <th>prestige_1.0</th>\n",
    "      <td>1.553411</td>\n",
    "      <td>4.727566</td>\n",
    "      <td>0.735197</td>\n",
    "      <td>2.371624</td>\n",
    "    </tr>\n",
    "    <tr>\n",
    "      <th>prestige_2.0</th>\n",
    "      <td>0.873274</td>\n",
    "      <td>2.394738</td>\n",
    "      <td>0.153432</td>\n",
    "      <td>1.593115</td>\n",
    "    </tr>\n",
    "    <tr>\n",
    "      <th>prestige_3.0</th>\n",
    "      <td>0.214733</td>\n",
    "      <td>1.239531</td>\n",
    "      <td>-0.554669</td>\n",
    "      <td>0.984135</td>\n",
    "    </tr>\n",
    "  </tbody>\n",
    "</table>\n",
    "</div>\n",
    "</div>"
   ]
  },
  {
   "cell_type": "markdown",
   "metadata": {},
   "source": [
    "We found that the odds for being admitted to graduate school were about twice as good if you attended at prestige 1 school compared to a prestige 2 school (vs. attending a presitge 4 school), holding the other variables constant. We cannot make a definite conclusion conclusion on prestige 3 because we do not have statistically significant results. We also note that an increase in GPA of 1-point has roughly the same impact on increasing odds to be admitted to graduate school as about a 350 point increase in one's GPA."
   ]
  },
  {
   "cell_type": "markdown",
   "metadata": {},
   "source": [
    "### Visuals: Provide a table or visualization of these results"
   ]
  },
  {
   "cell_type": "markdown",
   "metadata": {},
   "source": [
    "<img src='GRE.PNG' height= 75% width= 75%>"
   ]
  },
  {
   "cell_type": "markdown",
   "metadata": {},
   "source": [
    "<img src=\"GPA.PNG\" height= 75% width= 75%>"
   ]
  },
  {
   "cell_type": "markdown",
   "metadata": {},
   "source": [
    "### Discussion: Write up your discussion and future steps"
   ]
  },
  {
   "cell_type": "markdown",
   "metadata": {},
   "source": [
    "Answer: There are other regressions or modeling techniquest that we may be able to investigate. Further more we could try a classification technique using K-Nearest Neighbors based on prestige only that may help model the way in which prestige alone impacts graduation. In addition, it might be very informative to look at the distribution of GPA's at prestige 1 schools vs. 3 schools to see if there is grade inflation or if schools are unfairly penalizing people who go to less prestigious schools."
   ]
  }
 ],
 "metadata": {
  "kernelspec": {
   "display_name": "Python 2",
   "language": "python",
   "name": "python2"
  },
  "language_info": {
   "codemirror_mode": {
    "name": "ipython",
    "version": 2
   },
   "file_extension": ".py",
   "mimetype": "text/x-python",
   "name": "python",
   "nbconvert_exporter": "python",
   "pygments_lexer": "ipython2",
   "version": "2.7.11"
  }
 },
 "nbformat": 4,
 "nbformat_minor": 0
}
